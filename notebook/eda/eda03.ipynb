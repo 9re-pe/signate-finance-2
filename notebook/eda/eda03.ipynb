{
 "cells": [
  {
   "cell_type": "markdown",
   "source": [
    "# ゆうだいさんの特徴量と自分の特徴量の差分を見る"
   ],
   "metadata": {
    "collapsed": false
   },
   "id": "f038eeb5753154ca"
  },
  {
   "cell_type": "code",
   "outputs": [],
   "source": [
    "# ゆうだいさんの特徴量\n",
    "yudai = {'Term',\n",
    " 'NoEmp',\n",
    " 'NewExist',\n",
    " 'CreateJob',\n",
    " 'RetainedJob',\n",
    " 'FranchiseCode',\n",
    " 'RevLineCr',\n",
    " 'LowDoc',\n",
    " 'MIS_Status',\n",
    " 'Sector',\n",
    " 'ApprovalFY',\n",
    " 'State',\n",
    " 'BankState',\n",
    " 'DisbursementGross',\n",
    " 'GrAppv',\n",
    " 'SBA_Appv',\n",
    " 'UrbanRural',\n",
    " 'fold',\n",
    " 'State_lat',\n",
    " 'State_lng',\n",
    " 'BankState_lat',\n",
    " 'BankState_lng',\n",
    " 'City_lat',\n",
    " 'City_lng',\n",
    " 'distance',\n",
    " 'DisbursementDateMonth',\n",
    " 'DisbursementDateYear',\n",
    " 'DisbursementDateDay',\n",
    " 'ApprovalDateMonth',\n",
    " 'ApprovalDateYear',\n",
    " 'ApprovalDateDay',\n",
    " 'DisbursementGross_GrAppv_diff',\n",
    " 'DisbursementGross_SBA_Appv_diff',\n",
    " 'GrAppv_SBA_Appv_diff',\n",
    " 'GrAppv_Term_div',\n",
    " 'SBA_Appv_Term_div',\n",
    " 'NoEmp_Term_div',\n",
    " 'DisbursementGross_GrAppv_diff_Term_div',\n",
    " 'DisbursementGross_SBA_Appv_diff_Term_div',\n",
    " 'GrAppv_SBA_Appv_diff_Term_div',\n",
    " 'NewExist_SBA_Appv_std',\n",
    " 'RevLineCr_SBA_Appv_std',\n",
    " 'LowDoc_SBA_Appv_std',\n",
    " 'UrbanRural_SBA_Appv_std',\n",
    " 'CreateJob_SBA_Appv_std',\n",
    " 'SBA_Appv_NewExist_SBA_Appv_mean_diff',\n",
    " 'SBA_Appv_NewExist_SBA_Appv_median_diff',\n",
    " 'SBA_Appv_NewExist_SBA_Appv_max_diff',\n",
    " 'SBA_Appv_NewExist_SBA_Appv_min_diff',\n",
    " 'SBA_Appv_RevLineCr_SBA_Appv_mean_diff',\n",
    " 'SBA_Appv_RevLineCr_SBA_Appv_median_diff',\n",
    " 'SBA_Appv_RevLineCr_SBA_Appv_max_diff',\n",
    " 'SBA_Appv_RevLineCr_SBA_Appv_min_diff',\n",
    " 'SBA_Appv_LowDoc_SBA_Appv_mean_diff',\n",
    " 'SBA_Appv_LowDoc_SBA_Appv_median_diff',\n",
    " 'SBA_Appv_LowDoc_SBA_Appv_max_diff',\n",
    " 'SBA_Appv_LowDoc_SBA_Appv_min_diff',\n",
    " 'SBA_Appv_UrbanRural_SBA_Appv_mean_diff',\n",
    " 'SBA_Appv_UrbanRural_SBA_Appv_median_diff',\n",
    " 'SBA_Appv_UrbanRural_SBA_Appv_max_diff',\n",
    " 'SBA_Appv_UrbanRural_SBA_Appv_min_diff',\n",
    " 'SBA_Appv_CreateJob_SBA_Appv_mean_diff',\n",
    " 'SBA_Appv_CreateJob_SBA_Appv_median_diff',\n",
    " 'SBA_Appv_CreateJob_SBA_Appv_max_diff',\n",
    " 'SBA_Appv_CreateJob_SBA_Appv_min_diff',\n",
    " 'UrbanRural_MIS_Status_mean',\n",
    " 'RevLineCr_MIS_Status_mean',\n",
    " 'LowDoc_MIS_Status_mean',\n",
    " 'ApprovalFY_MIS_Status_mean',\n",
    " 'FranchiseCode_MIS_Status_mean',\n",
    " 'RetainedJob_MIS_Status_mean',\n",
    " 'CreateJob_MIS_Status_mean',\n",
    " 'NoEmp_MIS_Status_mean',\n",
    " 'Term_MIS_Status_mean',\n",
    " 'State_MIS_Status_mean',\n",
    " 'BankState_MIS_Status_mean',\n",
    " 'Sector_MIS_Status_mean',\n",
    " 'NewExist_MIS_Status_mean'}"
   ],
   "metadata": {
    "collapsed": false,
    "ExecuteTime": {
     "end_time": "2024-01-31T08:53:17.342976Z",
     "start_time": "2024-01-31T08:53:17.330095Z"
    }
   },
   "id": "47d12c86c2c285da",
   "execution_count": 14
  },
  {
   "cell_type": "code",
   "outputs": [],
   "source": [
    "# 自分の特徴量\n",
    "mine = {'Term',\n",
    " 'NoEmp',\n",
    " 'NewExist',\n",
    " 'CreateJob',\n",
    " 'RetainedJob',\n",
    " 'FranchiseCode',\n",
    " 'RevLineCr',\n",
    " 'LowDoc',\n",
    " 'MIS_Status',\n",
    " 'Sector',\n",
    " 'ApprovalFY',\n",
    " 'State',\n",
    " 'BankState',\n",
    " 'DisbursementGross',\n",
    " 'GrAppv',\n",
    " 'SBA_Appv',\n",
    " 'UrbanRural',\n",
    " 'fold',\n",
    " 'State_lat',\n",
    " 'State_lng',\n",
    " 'BankState_lat',\n",
    " 'BankState_lng',\n",
    " 'City_lat',\n",
    " 'City_lng',\n",
    " 'DisbursementDate_year',\n",
    " 'ApprovalDate_year',\n",
    " 'DisbursementDate_month',\n",
    " 'ApprovalDate_month',\n",
    " 'DisbursementDate_day',\n",
    " 'ApprovalDate_day',\n",
    " 'State_BankState_diff',\n",
    " 'NewExist_SBA_Appv_std',\n",
    " 'RevLineCr_SBA_Appv_std',\n",
    " 'LowDoc_SBA_Appv_std',\n",
    " 'UrbanRural_SBA_Appv_std',\n",
    " 'CreateJob_SBA_Appv_std',\n",
    " 'DisbursementGross_GrAppv_diff',\n",
    " 'DisbursementGross_SBA_Appv_diff',\n",
    " 'GrAppv_SBA_Appv_diff',\n",
    " 'SBA_Appv_NewExist_SBA_Appv_mean_diff',\n",
    " 'SBA_Appv_NewExist_SBA_Appv_median_diff',\n",
    " 'SBA_Appv_NewExist_SBA_Appv_max_diff',\n",
    " 'SBA_Appv_NewExist_SBA_Appv_min_diff',\n",
    " 'SBA_Appv_RevLineCr_SBA_Appv_mean_diff',\n",
    " 'SBA_Appv_RevLineCr_SBA_Appv_median_diff',\n",
    " 'SBA_Appv_RevLineCr_SBA_Appv_max_diff',\n",
    " 'SBA_Appv_RevLineCr_SBA_Appv_min_diff',\n",
    " 'SBA_Appv_LowDoc_SBA_Appv_mean_diff',\n",
    " 'SBA_Appv_LowDoc_SBA_Appv_median_diff',\n",
    " 'SBA_Appv_LowDoc_SBA_Appv_max_diff',\n",
    " 'SBA_Appv_LowDoc_SBA_Appv_min_diff',\n",
    " 'SBA_Appv_UrbanRural_SBA_Appv_mean_diff',\n",
    " 'SBA_Appv_UrbanRural_SBA_Appv_median_diff',\n",
    " 'SBA_Appv_UrbanRural_SBA_Appv_max_diff',\n",
    " 'SBA_Appv_UrbanRural_SBA_Appv_min_diff',\n",
    " 'SBA_Appv_CreateJob_SBA_Appv_mean_diff',\n",
    " 'SBA_Appv_CreateJob_SBA_Appv_median_diff',\n",
    " 'SBA_Appv_CreateJob_SBA_Appv_max_diff',\n",
    " 'SBA_Appv_CreateJob_SBA_Appv_min_diff',\n",
    " 'GrAppv_Term_div',\n",
    " 'SBA_Appv_Term_div',\n",
    " 'NoEmp_Term_div',\n",
    " 'DisbursementGross_GrAppv_diff_Term_div',\n",
    " 'DisbursementGross_SBA_Appv_diff_Term_div',\n",
    " 'GrAppv_SBA_Appv_diff_Term_div',\n",
    " 'UrbanRural_MIS_Status_mean',\n",
    " 'RevLineCr_MIS_Status_mean',\n",
    " 'LowDoc_MIS_Status_mean',\n",
    " 'ApprovalFY_MIS_Status_mean',\n",
    " 'FranchiseCode_MIS_Status_mean',\n",
    " 'RetainedJob_MIS_Status_mean',\n",
    " 'CreateJob_MIS_Status_mean',\n",
    " 'NoEmp_MIS_Status_mean',\n",
    " 'Term_MIS_Status_mean',\n",
    " 'State_MIS_Status_mean',\n",
    " 'BankState_MIS_Status_mean',\n",
    " 'Sector_MIS_Status_mean',\n",
    " 'NewExist_MIS_Status_mean'\n",
    "        }"
   ],
   "metadata": {
    "collapsed": false,
    "ExecuteTime": {
     "end_time": "2024-01-31T08:53:18.621955Z",
     "start_time": "2024-01-31T08:53:18.614291Z"
    }
   },
   "id": "bc814a7f4359e169",
   "execution_count": 15
  },
  {
   "cell_type": "code",
   "outputs": [
    {
     "data": {
      "text/plain": "{'ApprovalDateDay',\n 'ApprovalDateMonth',\n 'ApprovalDateYear',\n 'DisbursementDateDay',\n 'DisbursementDateMonth',\n 'DisbursementDateYear',\n 'distance'}"
     },
     "execution_count": 16,
     "metadata": {},
     "output_type": "execute_result"
    }
   ],
   "source": [
    "# ゆうだいさんの特徴量にしかないもの\n",
    "yudai - mine"
   ],
   "metadata": {
    "collapsed": false,
    "ExecuteTime": {
     "end_time": "2024-01-31T08:53:19.302675Z",
     "start_time": "2024-01-31T08:53:19.284523Z"
    }
   },
   "id": "1d661c801601b40e",
   "execution_count": 16
  },
  {
   "cell_type": "code",
   "outputs": [],
   "source": [
    "# 自分の特徴量にしかないもの"
   ],
   "metadata": {
    "collapsed": false,
    "ExecuteTime": {
     "end_time": "2024-01-31T08:53:19.744897Z",
     "start_time": "2024-01-31T08:53:19.737759Z"
    }
   },
   "id": "13a08148cc1ba525",
   "execution_count": 17
  },
  {
   "cell_type": "code",
   "outputs": [
    {
     "data": {
      "text/plain": "{'ApprovalDate_day',\n 'ApprovalDate_month',\n 'ApprovalDate_year',\n 'DisbursementDate_day',\n 'DisbursementDate_month',\n 'DisbursementDate_year',\n 'State_BankState_diff'}"
     },
     "execution_count": 13,
     "metadata": {},
     "output_type": "execute_result"
    }
   ],
   "source": [
    "mine - yudai"
   ],
   "metadata": {
    "collapsed": false,
    "ExecuteTime": {
     "end_time": "2024-01-31T08:34:47.268019Z",
     "start_time": "2024-01-31T08:34:47.234596Z"
    }
   },
   "id": "635767d61edbe79f",
   "execution_count": 13
  },
  {
   "cell_type": "code",
   "outputs": [],
   "source": [],
   "metadata": {
    "collapsed": false
   },
   "id": "9b63cf3e6f95678e"
  }
 ],
 "metadata": {
  "kernelspec": {
   "display_name": "Python 3",
   "language": "python",
   "name": "python3"
  },
  "language_info": {
   "codemirror_mode": {
    "name": "ipython",
    "version": 2
   },
   "file_extension": ".py",
   "mimetype": "text/x-python",
   "name": "python",
   "nbconvert_exporter": "python",
   "pygments_lexer": "ipython2",
   "version": "2.7.6"
  }
 },
 "nbformat": 4,
 "nbformat_minor": 5
}
