{
 "cells": [
  {
   "cell_type": "markdown",
   "source": [
    "# Import"
   ],
   "metadata": {
    "collapsed": false
   }
  },
  {
   "cell_type": "code",
   "execution_count": 1,
   "outputs": [],
   "source": [
    "import sys\n",
    "\n",
    "import pandas as pd\n",
    "\n",
    "root_dir = '../../'\n",
    "if root_dir not in sys.path:\n",
    "    sys.path.append(root_dir)\n",
    "import modules"
   ],
   "metadata": {
    "collapsed": false,
    "ExecuteTime": {
     "end_time": "2024-01-21T06:49:14.029568Z",
     "start_time": "2024-01-21T06:49:14.017915Z"
    }
   }
  },
  {
   "cell_type": "markdown",
   "source": [
    "# Read Data"
   ],
   "metadata": {
    "collapsed": false
   }
  },
  {
   "cell_type": "code",
   "execution_count": 2,
   "outputs": [],
   "source": [
    "train, test, submit = modules.utils.get_data(debug_mode=False)"
   ],
   "metadata": {
    "collapsed": false,
    "ExecuteTime": {
     "end_time": "2024-01-21T06:49:27.943765Z",
     "start_time": "2024-01-21T06:49:27.615201Z"
    }
   }
  },
  {
   "cell_type": "markdown",
   "source": [
    "# 目的変数の分布"
   ],
   "metadata": {
    "collapsed": false
   }
  },
  {
   "cell_type": "code",
   "execution_count": 7,
   "outputs": [
    {
     "data": {
      "text/plain": "   Term  NoEmp  NewExist  CreateJob  RetainedJob  FranchiseCode RevLineCr  \\\n0   163     21       1.0          0            0              1         N   \n1    84      6       1.0          4            0              0         0   \n2   242     45       1.0          4           90              0         N   \n3   237      4       1.0          0            0              0         N   \n4   184      0       1.0          0            0              0         N   \n5    60      7       1.0          4           10              0         Y   \n6    39      0       1.0         15            1              0         0   \n7    82      5       2.0          0            0              1         N   \n8    57      6       2.0          0            0              0         N   \n9    25      1       1.0          0            0              1         N   \n\n  LowDoc DisbursementDate  MIS_Status  Sector ApprovalDate  ApprovalFY  \\\n0      N        31-Jan-98           1       0    22-Sep-06        2006   \n1      N        31-Oct-93           1      62    30-Jun-92        1992   \n2      N        31-Aug-01           1      42    18-Apr-01        2001   \n3      N        31-Aug-07           1      33     6-Oct-03        2004   \n4      N         8-Jun-83           1       0    17-Dec-99        2000   \n5      N         1-Apr-12           0      44    26-Nov-93        1994   \n6      N         8-Nov-11           1      23     4-Jan-05        2005   \n7      C        31-Jan-95           1       0    21-Nov-01        2002   \n8      C        31-Jan-95           1      61    11-Jan-95        1995   \n9      N        30-Apr-07           1       0    23-Mar-04        2004   \n\n        City State BankState DisbursementGross        GrAppv      SBA_Appv  \\\n0    PHOENIX    AZ        SD       $80,000.00    $80,000.00    $68,000.00    \n1  MCALESTER    OK        OK      $287,000.00   $287,000.00   $229,600.00    \n2  HAWTHORNE    NJ        NJ       $31,983.00    $30,000.00    $15,000.00    \n3  NASHVILLE    TN        SD      $229,000.00   $229,000.00   $229,000.00    \n4     POMONA    CA        CA      $525,000.00   $525,000.00   $393,750.00    \n5  APLINGTON    IA        IA       $69,991.00    $70,000.00    $35,000.00    \n6     DALLAS    TX        CA       $50,000.00    $50,000.00    $25,000.00    \n7     HUDSON    NH        NH      $414,000.00   $414,000.00   $414,000.00    \n8  WILLISTON    ND        ND      $112,500.00   $112,500.00   $101,250.00    \n9       MESA    AZ        AZ       $50,000.00    $50,000.00    $25,000.00    \n\n   UrbanRural  \n0           0  \n1           0  \n2           1  \n3           0  \n4           0  \n5           0  \n6           0  \n7           0  \n8           0  \n9           2  ",
      "text/html": "<div>\n<style scoped>\n    .dataframe tbody tr th:only-of-type {\n        vertical-align: middle;\n    }\n\n    .dataframe tbody tr th {\n        vertical-align: top;\n    }\n\n    .dataframe thead th {\n        text-align: right;\n    }\n</style>\n<table border=\"1\" class=\"dataframe\">\n  <thead>\n    <tr style=\"text-align: right;\">\n      <th></th>\n      <th>Term</th>\n      <th>NoEmp</th>\n      <th>NewExist</th>\n      <th>CreateJob</th>\n      <th>RetainedJob</th>\n      <th>FranchiseCode</th>\n      <th>RevLineCr</th>\n      <th>LowDoc</th>\n      <th>DisbursementDate</th>\n      <th>MIS_Status</th>\n      <th>Sector</th>\n      <th>ApprovalDate</th>\n      <th>ApprovalFY</th>\n      <th>City</th>\n      <th>State</th>\n      <th>BankState</th>\n      <th>DisbursementGross</th>\n      <th>GrAppv</th>\n      <th>SBA_Appv</th>\n      <th>UrbanRural</th>\n    </tr>\n  </thead>\n  <tbody>\n    <tr>\n      <th>0</th>\n      <td>163</td>\n      <td>21</td>\n      <td>1.0</td>\n      <td>0</td>\n      <td>0</td>\n      <td>1</td>\n      <td>N</td>\n      <td>N</td>\n      <td>31-Jan-98</td>\n      <td>1</td>\n      <td>0</td>\n      <td>22-Sep-06</td>\n      <td>2006</td>\n      <td>PHOENIX</td>\n      <td>AZ</td>\n      <td>SD</td>\n      <td>$80,000.00</td>\n      <td>$80,000.00</td>\n      <td>$68,000.00</td>\n      <td>0</td>\n    </tr>\n    <tr>\n      <th>1</th>\n      <td>84</td>\n      <td>6</td>\n      <td>1.0</td>\n      <td>4</td>\n      <td>0</td>\n      <td>0</td>\n      <td>0</td>\n      <td>N</td>\n      <td>31-Oct-93</td>\n      <td>1</td>\n      <td>62</td>\n      <td>30-Jun-92</td>\n      <td>1992</td>\n      <td>MCALESTER</td>\n      <td>OK</td>\n      <td>OK</td>\n      <td>$287,000.00</td>\n      <td>$287,000.00</td>\n      <td>$229,600.00</td>\n      <td>0</td>\n    </tr>\n    <tr>\n      <th>2</th>\n      <td>242</td>\n      <td>45</td>\n      <td>1.0</td>\n      <td>4</td>\n      <td>90</td>\n      <td>0</td>\n      <td>N</td>\n      <td>N</td>\n      <td>31-Aug-01</td>\n      <td>1</td>\n      <td>42</td>\n      <td>18-Apr-01</td>\n      <td>2001</td>\n      <td>HAWTHORNE</td>\n      <td>NJ</td>\n      <td>NJ</td>\n      <td>$31,983.00</td>\n      <td>$30,000.00</td>\n      <td>$15,000.00</td>\n      <td>1</td>\n    </tr>\n    <tr>\n      <th>3</th>\n      <td>237</td>\n      <td>4</td>\n      <td>1.0</td>\n      <td>0</td>\n      <td>0</td>\n      <td>0</td>\n      <td>N</td>\n      <td>N</td>\n      <td>31-Aug-07</td>\n      <td>1</td>\n      <td>33</td>\n      <td>6-Oct-03</td>\n      <td>2004</td>\n      <td>NASHVILLE</td>\n      <td>TN</td>\n      <td>SD</td>\n      <td>$229,000.00</td>\n      <td>$229,000.00</td>\n      <td>$229,000.00</td>\n      <td>0</td>\n    </tr>\n    <tr>\n      <th>4</th>\n      <td>184</td>\n      <td>0</td>\n      <td>1.0</td>\n      <td>0</td>\n      <td>0</td>\n      <td>0</td>\n      <td>N</td>\n      <td>N</td>\n      <td>8-Jun-83</td>\n      <td>1</td>\n      <td>0</td>\n      <td>17-Dec-99</td>\n      <td>2000</td>\n      <td>POMONA</td>\n      <td>CA</td>\n      <td>CA</td>\n      <td>$525,000.00</td>\n      <td>$525,000.00</td>\n      <td>$393,750.00</td>\n      <td>0</td>\n    </tr>\n    <tr>\n      <th>5</th>\n      <td>60</td>\n      <td>7</td>\n      <td>1.0</td>\n      <td>4</td>\n      <td>10</td>\n      <td>0</td>\n      <td>Y</td>\n      <td>N</td>\n      <td>1-Apr-12</td>\n      <td>0</td>\n      <td>44</td>\n      <td>26-Nov-93</td>\n      <td>1994</td>\n      <td>APLINGTON</td>\n      <td>IA</td>\n      <td>IA</td>\n      <td>$69,991.00</td>\n      <td>$70,000.00</td>\n      <td>$35,000.00</td>\n      <td>0</td>\n    </tr>\n    <tr>\n      <th>6</th>\n      <td>39</td>\n      <td>0</td>\n      <td>1.0</td>\n      <td>15</td>\n      <td>1</td>\n      <td>0</td>\n      <td>0</td>\n      <td>N</td>\n      <td>8-Nov-11</td>\n      <td>1</td>\n      <td>23</td>\n      <td>4-Jan-05</td>\n      <td>2005</td>\n      <td>DALLAS</td>\n      <td>TX</td>\n      <td>CA</td>\n      <td>$50,000.00</td>\n      <td>$50,000.00</td>\n      <td>$25,000.00</td>\n      <td>0</td>\n    </tr>\n    <tr>\n      <th>7</th>\n      <td>82</td>\n      <td>5</td>\n      <td>2.0</td>\n      <td>0</td>\n      <td>0</td>\n      <td>1</td>\n      <td>N</td>\n      <td>C</td>\n      <td>31-Jan-95</td>\n      <td>1</td>\n      <td>0</td>\n      <td>21-Nov-01</td>\n      <td>2002</td>\n      <td>HUDSON</td>\n      <td>NH</td>\n      <td>NH</td>\n      <td>$414,000.00</td>\n      <td>$414,000.00</td>\n      <td>$414,000.00</td>\n      <td>0</td>\n    </tr>\n    <tr>\n      <th>8</th>\n      <td>57</td>\n      <td>6</td>\n      <td>2.0</td>\n      <td>0</td>\n      <td>0</td>\n      <td>0</td>\n      <td>N</td>\n      <td>C</td>\n      <td>31-Jan-95</td>\n      <td>1</td>\n      <td>61</td>\n      <td>11-Jan-95</td>\n      <td>1995</td>\n      <td>WILLISTON</td>\n      <td>ND</td>\n      <td>ND</td>\n      <td>$112,500.00</td>\n      <td>$112,500.00</td>\n      <td>$101,250.00</td>\n      <td>0</td>\n    </tr>\n    <tr>\n      <th>9</th>\n      <td>25</td>\n      <td>1</td>\n      <td>1.0</td>\n      <td>0</td>\n      <td>0</td>\n      <td>1</td>\n      <td>N</td>\n      <td>N</td>\n      <td>30-Apr-07</td>\n      <td>1</td>\n      <td>0</td>\n      <td>23-Mar-04</td>\n      <td>2004</td>\n      <td>MESA</td>\n      <td>AZ</td>\n      <td>AZ</td>\n      <td>$50,000.00</td>\n      <td>$50,000.00</td>\n      <td>$25,000.00</td>\n      <td>2</td>\n    </tr>\n  </tbody>\n</table>\n</div>"
     },
     "execution_count": 7,
     "metadata": {},
     "output_type": "execute_result"
    }
   ],
   "source": [
    "train.head(10)"
   ],
   "metadata": {
    "collapsed": false,
    "ExecuteTime": {
     "end_time": "2024-01-21T06:59:01.508168Z",
     "start_time": "2024-01-21T06:59:01.500920Z"
    }
   }
  },
  {
   "cell_type": "code",
   "execution_count": 6,
   "outputs": [
    {
     "name": "stdout",
     "output_type": "stream",
     "text": [
      "1の割合: 0.8926891530952324\n"
     ]
    }
   ],
   "source": [
    "total = train['MIS_Status'].value_counts().sum()\n",
    "ones = train['MIS_Status'].sum()\n",
    "\n",
    "# 1の割合を計算\n",
    "proportion = ones / total\n",
    "print(\"1の割合:\", proportion)"
   ],
   "metadata": {
    "collapsed": false,
    "ExecuteTime": {
     "end_time": "2024-01-21T06:58:42.751363Z",
     "start_time": "2024-01-21T06:58:42.734858Z"
    }
   }
  },
  {
   "cell_type": "code",
   "execution_count": null,
   "outputs": [],
   "source": [],
   "metadata": {
    "collapsed": false
   }
  }
 ],
 "metadata": {
  "kernelspec": {
   "display_name": "Python 3",
   "language": "python",
   "name": "python3"
  },
  "language_info": {
   "codemirror_mode": {
    "name": "ipython",
    "version": 2
   },
   "file_extension": ".py",
   "mimetype": "text/x-python",
   "name": "python",
   "nbconvert_exporter": "python",
   "pygments_lexer": "ipython2",
   "version": "2.7.6"
  }
 },
 "nbformat": 4,
 "nbformat_minor": 0
}
