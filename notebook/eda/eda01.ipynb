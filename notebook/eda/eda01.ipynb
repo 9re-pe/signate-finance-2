{
 "cells": [
  {
   "cell_type": "markdown",
   "source": [
    "# Import"
   ],
   "metadata": {
    "collapsed": false
   }
  },
  {
   "cell_type": "code",
   "execution_count": 7,
   "outputs": [],
   "source": [
    "import sys\n",
    "\n",
    "import pandas as pd\n",
    "\n",
    "root_dir = '../../'\n",
    "if root_dir not in sys.path:\n",
    "    sys.path.append(root_dir)\n",
    "import modules"
   ],
   "metadata": {
    "collapsed": false,
    "ExecuteTime": {
     "end_time": "2024-01-20T09:41:15.331064Z",
     "start_time": "2024-01-20T09:41:15.318317Z"
    }
   }
  },
  {
   "cell_type": "markdown",
   "source": [
    "# Read Data"
   ],
   "metadata": {
    "collapsed": false
   }
  },
  {
   "cell_type": "code",
   "execution_count": 10,
   "outputs": [],
   "source": [
    "train, test, submit = modules.utils.get_data(debug_mode=False)"
   ],
   "metadata": {
    "collapsed": false,
    "ExecuteTime": {
     "end_time": "2024-01-20T09:41:48.876042Z",
     "start_time": "2024-01-20T09:41:48.531747Z"
    }
   }
  },
  {
   "cell_type": "markdown",
   "source": [
    "# EDA"
   ],
   "metadata": {
    "collapsed": false
   }
  },
  {
   "cell_type": "code",
   "execution_count": 11,
   "outputs": [
    {
     "data": {
      "text/plain": "   Term  NoEmp  NewExist  CreateJob  RetainedJob  FranchiseCode RevLineCr  \\\n0   163     21       1.0          0            0              1         N   \n1    84      6       1.0          4            0              0         0   \n2   242     45       1.0          4           90              0         N   \n3   237      4       1.0          0            0              0         N   \n4   184      0       1.0          0            0              0         N   \n\n  LowDoc DisbursementDate  MIS_Status  Sector ApprovalDate  ApprovalFY  \\\n0      N        31-Jan-98           1       0    22-Sep-06        2006   \n1      N        31-Oct-93           1      62    30-Jun-92        1992   \n2      N        31-Aug-01           1      42    18-Apr-01        2001   \n3      N        31-Aug-07           1      33     6-Oct-03        2004   \n4      N         8-Jun-83           1       0    17-Dec-99        2000   \n\n        City State BankState DisbursementGross        GrAppv      SBA_Appv  \\\n0    PHOENIX    AZ        SD       $80,000.00    $80,000.00    $68,000.00    \n1  MCALESTER    OK        OK      $287,000.00   $287,000.00   $229,600.00    \n2  HAWTHORNE    NJ        NJ       $31,983.00    $30,000.00    $15,000.00    \n3  NASHVILLE    TN        SD      $229,000.00   $229,000.00   $229,000.00    \n4     POMONA    CA        CA      $525,000.00   $525,000.00   $393,750.00    \n\n   UrbanRural  \n0           0  \n1           0  \n2           1  \n3           0  \n4           0  ",
      "text/html": "<div>\n<style scoped>\n    .dataframe tbody tr th:only-of-type {\n        vertical-align: middle;\n    }\n\n    .dataframe tbody tr th {\n        vertical-align: top;\n    }\n\n    .dataframe thead th {\n        text-align: right;\n    }\n</style>\n<table border=\"1\" class=\"dataframe\">\n  <thead>\n    <tr style=\"text-align: right;\">\n      <th></th>\n      <th>Term</th>\n      <th>NoEmp</th>\n      <th>NewExist</th>\n      <th>CreateJob</th>\n      <th>RetainedJob</th>\n      <th>FranchiseCode</th>\n      <th>RevLineCr</th>\n      <th>LowDoc</th>\n      <th>DisbursementDate</th>\n      <th>MIS_Status</th>\n      <th>Sector</th>\n      <th>ApprovalDate</th>\n      <th>ApprovalFY</th>\n      <th>City</th>\n      <th>State</th>\n      <th>BankState</th>\n      <th>DisbursementGross</th>\n      <th>GrAppv</th>\n      <th>SBA_Appv</th>\n      <th>UrbanRural</th>\n    </tr>\n  </thead>\n  <tbody>\n    <tr>\n      <th>0</th>\n      <td>163</td>\n      <td>21</td>\n      <td>1.0</td>\n      <td>0</td>\n      <td>0</td>\n      <td>1</td>\n      <td>N</td>\n      <td>N</td>\n      <td>31-Jan-98</td>\n      <td>1</td>\n      <td>0</td>\n      <td>22-Sep-06</td>\n      <td>2006</td>\n      <td>PHOENIX</td>\n      <td>AZ</td>\n      <td>SD</td>\n      <td>$80,000.00</td>\n      <td>$80,000.00</td>\n      <td>$68,000.00</td>\n      <td>0</td>\n    </tr>\n    <tr>\n      <th>1</th>\n      <td>84</td>\n      <td>6</td>\n      <td>1.0</td>\n      <td>4</td>\n      <td>0</td>\n      <td>0</td>\n      <td>0</td>\n      <td>N</td>\n      <td>31-Oct-93</td>\n      <td>1</td>\n      <td>62</td>\n      <td>30-Jun-92</td>\n      <td>1992</td>\n      <td>MCALESTER</td>\n      <td>OK</td>\n      <td>OK</td>\n      <td>$287,000.00</td>\n      <td>$287,000.00</td>\n      <td>$229,600.00</td>\n      <td>0</td>\n    </tr>\n    <tr>\n      <th>2</th>\n      <td>242</td>\n      <td>45</td>\n      <td>1.0</td>\n      <td>4</td>\n      <td>90</td>\n      <td>0</td>\n      <td>N</td>\n      <td>N</td>\n      <td>31-Aug-01</td>\n      <td>1</td>\n      <td>42</td>\n      <td>18-Apr-01</td>\n      <td>2001</td>\n      <td>HAWTHORNE</td>\n      <td>NJ</td>\n      <td>NJ</td>\n      <td>$31,983.00</td>\n      <td>$30,000.00</td>\n      <td>$15,000.00</td>\n      <td>1</td>\n    </tr>\n    <tr>\n      <th>3</th>\n      <td>237</td>\n      <td>4</td>\n      <td>1.0</td>\n      <td>0</td>\n      <td>0</td>\n      <td>0</td>\n      <td>N</td>\n      <td>N</td>\n      <td>31-Aug-07</td>\n      <td>1</td>\n      <td>33</td>\n      <td>6-Oct-03</td>\n      <td>2004</td>\n      <td>NASHVILLE</td>\n      <td>TN</td>\n      <td>SD</td>\n      <td>$229,000.00</td>\n      <td>$229,000.00</td>\n      <td>$229,000.00</td>\n      <td>0</td>\n    </tr>\n    <tr>\n      <th>4</th>\n      <td>184</td>\n      <td>0</td>\n      <td>1.0</td>\n      <td>0</td>\n      <td>0</td>\n      <td>0</td>\n      <td>N</td>\n      <td>N</td>\n      <td>8-Jun-83</td>\n      <td>1</td>\n      <td>0</td>\n      <td>17-Dec-99</td>\n      <td>2000</td>\n      <td>POMONA</td>\n      <td>CA</td>\n      <td>CA</td>\n      <td>$525,000.00</td>\n      <td>$525,000.00</td>\n      <td>$393,750.00</td>\n      <td>0</td>\n    </tr>\n  </tbody>\n</table>\n</div>"
     },
     "execution_count": 11,
     "metadata": {},
     "output_type": "execute_result"
    }
   ],
   "source": [
    "train.head()"
   ],
   "metadata": {
    "collapsed": false,
    "ExecuteTime": {
     "end_time": "2024-01-20T09:41:52.143269Z",
     "start_time": "2024-01-20T09:41:52.126239Z"
    }
   }
  },
  {
   "cell_type": "code",
   "execution_count": 13,
   "outputs": [
    {
     "data": {
      "text/plain": "Term                    0\nNoEmp                   0\nNewExist                0\nCreateJob               0\nRetainedJob             0\nFranchiseCode           0\nRevLineCr            1079\nLowDoc                531\nDisbursementDate      150\nMIS_Status              0\nSector                  0\nApprovalDate            0\nApprovalFY              0\nCity                    0\nState                   0\nBankState              11\nDisbursementGross       0\nGrAppv                  0\nSBA_Appv                0\nUrbanRural              0\ndtype: int64"
     },
     "execution_count": 13,
     "metadata": {},
     "output_type": "execute_result"
    }
   ],
   "source": [
    "train.isnull().sum()"
   ],
   "metadata": {
    "collapsed": false,
    "ExecuteTime": {
     "end_time": "2024-01-20T09:51:05.475917Z",
     "start_time": "2024-01-20T09:51:05.437784Z"
    }
   }
  },
  {
   "cell_type": "code",
   "execution_count": null,
   "outputs": [],
   "source": [],
   "metadata": {
    "collapsed": false
   }
  }
 ],
 "metadata": {
  "kernelspec": {
   "display_name": "Python 3",
   "language": "python",
   "name": "python3"
  },
  "language_info": {
   "codemirror_mode": {
    "name": "ipython",
    "version": 2
   },
   "file_extension": ".py",
   "mimetype": "text/x-python",
   "name": "python",
   "nbconvert_exporter": "python",
   "pygments_lexer": "ipython2",
   "version": "2.7.6"
  }
 },
 "nbformat": 4,
 "nbformat_minor": 0
}
