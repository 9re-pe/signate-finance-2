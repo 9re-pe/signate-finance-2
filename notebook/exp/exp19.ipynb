{
 "cells": [
  {
   "cell_type": "markdown",
   "source": [
    "# TODO\n",
    "\n",
    "- lightGBMのloss weightをチューニング"
   ],
   "metadata": {
    "collapsed": false
   }
  },
  {
   "cell_type": "markdown",
   "source": [
    "# Setting"
   ],
   "metadata": {
    "collapsed": false
   }
  },
  {
   "cell_type": "code",
   "execution_count": 1,
   "outputs": [],
   "source": [
    "import sys\n",
    "\n",
    "import polars as pl\n",
    "import seaborn as sns\n",
    "import matplotlib.pyplot as plt\n",
    "\n",
    "root_dir = \"../../\"\n",
    "if root_dir not in sys.path:\n",
    "    sys.path.append(root_dir)\n",
    "from modules import config as cfg\n",
    "from modules import utils, preprosess, training, predict, metrics\n",
    "\n",
    "exp = \"exp19\"\n",
    "utils.set_seed(cfg.Params.seed)"
   ],
   "metadata": {
    "collapsed": false,
    "ExecuteTime": {
     "end_time": "2024-01-29T08:27:11.886935Z",
     "start_time": "2024-01-29T08:27:11.311068Z"
    }
   }
  },
  {
   "cell_type": "markdown",
   "metadata": {
    "collapsed": false,
    "ExecuteTime": {
     "end_time": "2024-01-21T07:23:00.806250Z",
     "start_time": "2024-01-21T07:22:58.502427Z"
    }
   },
   "source": [
    "# Read data"
   ]
  },
  {
   "cell_type": "code",
   "execution_count": 2,
   "metadata": {
    "collapsed": false,
    "ExecuteTime": {
     "end_time": "2024-01-29T08:27:13.394406Z",
     "start_time": "2024-01-29T08:27:13.340712Z"
    }
   },
   "outputs": [],
   "source": [
    "train, test, submit = utils.get_data(debug_mode=False)"
   ]
  },
  {
   "cell_type": "markdown",
   "metadata": {
    "collapsed": false
   },
   "source": [
    "# Preprocessing"
   ]
  },
  {
   "cell_type": "markdown",
   "source": [
    "## Split fold"
   ],
   "metadata": {
    "collapsed": false
   }
  },
  {
   "cell_type": "code",
   "execution_count": 3,
   "outputs": [],
   "source": [
    "train = preprosess.assign_stratified_k_fold(train)"
   ],
   "metadata": {
    "collapsed": false,
    "ExecuteTime": {
     "end_time": "2024-01-29T08:27:15.805604Z",
     "start_time": "2024-01-29T08:27:15.724259Z"
    }
   }
  },
  {
   "cell_type": "markdown",
   "source": [
    "## Convert"
   ],
   "metadata": {
    "collapsed": false
   }
  },
  {
   "cell_type": "code",
   "execution_count": 4,
   "metadata": {
    "collapsed": false,
    "ExecuteTime": {
     "end_time": "2024-01-29T08:27:17.558491Z",
     "start_time": "2024-01-29T08:27:17.309400Z"
    }
   },
   "outputs": [],
   "source": [
    "# Cityを座標に変換\n",
    "train = preprosess.convert_to_latlon(train)\n",
    "test  = preprosess.convert_to_latlon(test)\n",
    "\n",
    "# testのBankStateの\"PR\"はtrainにないため，一番多いCAに変換\n",
    "test = test.with_columns(pl.col(\"BankState\").str.replace(\"PR\", \"CA\"))\n",
    "\n",
    "# DisbursementDateとApprovalDateをYear(数値)に変換\n",
    "cols  = [\"DisbursementDate\", \"ApprovalDate\"]\n",
    "train = preprosess.convert_date_to_year(train, cols)\n",
    "test  = preprosess.convert_date_to_year(test, cols)\n",
    "\n",
    "# 金額データの数値化\n",
    "cols  = [\"DisbursementGross\",  \"GrAppv\", \"SBA_Appv\"]\n",
    "train = preprosess.convert_money_data(train, cols)\n",
    "test  = preprosess.convert_money_data(test, cols)\n",
    "\n",
    "# 一致しているか\n",
    "eqs = [\n",
    "    [\"State\", \"BankState\"],\n",
    "]\n",
    "train = preprosess.add_eq(train, eqs)\n",
    "test  = preprosess.add_eq(test, eqs)\n",
    "\n",
    "# 差の計算\n",
    "diffs = [\n",
    "    [\"DisbursementGross\", \"GrAppv\"],   # 支払われた額 vs 銀行承認額\n",
    "    [\"DisbursementGross\", \"SBA_Appv\"], # 支払われた額 vs SBA承認額\n",
    "    [\"GrAppv\", \"SBA_Appv\"],            # 銀行承認額 vs SBA承認額\n",
    "]\n",
    "train = preprosess.add_diff(train, diffs)\n",
    "test  = preprosess.add_diff(test, diffs)\n",
    "\n",
    "# DisbursementDateとApprovalDateの差を計算\n",
    "train = preprosess.add_diff_disbursement_with_approval(train)\n",
    "test  = preprosess.add_diff_disbursement_with_approval(test)\n",
    "\n",
    "# 割合の計算\n",
    "divs = [\n",
    "    # [\"DisbursementGross\", \"Term\"],\n",
    "    [\"GrAppv\", \"Term\"],\n",
    "    [\"SBA_Appv\", \"Term\"],\n",
    "    [\"NoEmp\", \"Term\"],\n",
    "    # [\"DisbursementGross\", \"NoEmp\"],\n",
    "    # [\"GrAppv\", \"NoEmp\"],\n",
    "    # [\"SBA_Appv\", \"NoEmp\"],\n",
    "    [\"DisbursementGross_GrAppv_diff\", \"Term\"],\n",
    "    [\"DisbursementGross_SBA_Appv_diff\", \"Term\"],\n",
    "    [\"GrAppv_SBA_Appv_diff\", \"Term\"],\n",
    "    # [\"DisbursementGross_GrAppv_diff\", \"NoEmp\"],\n",
    "    # [\"DisbursementGross_SBA_Appv_diff\", \"NoEmp\"],\n",
    "    # [\"GrAppv_SBA_Appv_diff\", \"NoEmp\"]\n",
    "]\n",
    "train = preprosess.add_div(train, divs)\n",
    "test  = preprosess.add_div(test, divs)\n",
    "\n",
    "# Sectorを職業別にする\n",
    "train = preprosess.unify_same_sector(train)\n",
    "test  = preprosess.unify_same_sector(test)"
   ]
  },
  {
   "cell_type": "markdown",
   "source": [
    "## Target encoding"
   ],
   "metadata": {
    "collapsed": false
   }
  },
  {
   "cell_type": "code",
   "execution_count": 5,
   "outputs": [],
   "source": [
    "cols = [\n",
    "    # \"Sector\",\n",
    "    \"UrbanRural\",\n",
    "    \"RevLineCr\",\n",
    "    \"LowDoc\",\n",
    "    \"FranchiseCode\",\n",
    "]\n",
    "target_col = \"MIS_Status\"\n",
    "train, test = preprosess.target_encoding(train, test, cols)"
   ],
   "metadata": {
    "collapsed": false,
    "ExecuteTime": {
     "end_time": "2024-01-29T08:27:18.954007Z",
     "start_time": "2024-01-29T08:27:18.859392Z"
    }
   }
  },
  {
   "cell_type": "markdown",
   "source": [
    "## Label encoding\n",
    "CVによるtarget encodingでは同じカテゴリカル変数に異なる値が割り当てられるのでlabel encodingを併用する"
   ],
   "metadata": {
    "collapsed": false
   }
  },
  {
   "cell_type": "code",
   "execution_count": 6,
   "outputs": [],
   "source": [
    "cols = [\"RevLineCr\", \"LowDoc\"]\n",
    "train, test = preprosess.label_encoding(train, test, cols)"
   ],
   "metadata": {
    "collapsed": false,
    "ExecuteTime": {
     "end_time": "2024-01-29T08:27:20.744066Z",
     "start_time": "2024-01-29T08:27:20.697510Z"
    }
   }
  },
  {
   "cell_type": "markdown",
   "source": [
    "# Drop columns"
   ],
   "metadata": {
    "collapsed": false
   }
  },
  {
   "cell_type": "code",
   "execution_count": 7,
   "outputs": [],
   "source": [
    "# 不要なカラムの削除\n",
    "del_cols = [\n",
    "    # 地名系\n",
    "    \"City\",\n",
    "    \"State\",\n",
    "    \"BankState\",\n",
    "    # d-b-y系\n",
    "    \"DisbursementDate\",\n",
    "    \"ApprovalDate\",\n",
    "    \"ApprovalFY\",\n",
    "    # ラベルエンコーディング済み\n",
    "    \"RevLineCr\",\n",
    "    \"LowDoc\",\n",
    "]\n",
    "train = train.drop(del_cols)\n",
    "test  = test.drop(del_cols)"
   ],
   "metadata": {
    "collapsed": false,
    "ExecuteTime": {
     "end_time": "2024-01-29T08:27:22.165071Z",
     "start_time": "2024-01-29T08:27:22.140183Z"
    }
   }
  },
  {
   "cell_type": "markdown",
   "metadata": {
    "collapsed": false
   },
   "source": [
    "# Training + Tuning"
   ]
  },
  {
   "cell_type": "code",
   "outputs": [],
   "source": [
    "utils.ignore_user_warning()"
   ],
   "metadata": {
    "collapsed": false,
    "ExecuteTime": {
     "end_time": "2024-01-29T08:28:57.256711Z",
     "start_time": "2024-01-29T08:28:57.251667Z"
    }
   },
   "execution_count": 9
  },
  {
   "cell_type": "code",
   "execution_count": 12,
   "outputs": [
    {
     "name": "stdout",
     "output_type": "stream",
     "text": [
      "--------------------------------------------------------------------------------\n",
      "START fold 1\n",
      "Training until validation scores don't improve for 200 rounds\n",
      "[100]\ttraining's macro_f1: 0.675977\tvalid_1's macro_f1: 0.680264\n",
      "Did not meet early stopping. Best iteration is:\n",
      "[100]\ttraining's macro_f1: 0.675977\tvalid_1's macro_f1: 0.680264\n",
      "Time:  5.626[s]\n",
      "--------------------------------------------------------------------------------\n",
      "START fold 2\n",
      "Training until validation scores don't improve for 200 rounds\n",
      "[100]\ttraining's macro_f1: 0.675815\tvalid_1's macro_f1: 0.671858\n",
      "Did not meet early stopping. Best iteration is:\n",
      "[100]\ttraining's macro_f1: 0.675815\tvalid_1's macro_f1: 0.671858\n",
      "Time:  6.779[s]\n",
      "--------------------------------------------------------------------------------\n",
      "START fold 3\n",
      "Training until validation scores don't improve for 200 rounds\n",
      "[100]\ttraining's macro_f1: 0.677323\tvalid_1's macro_f1: 0.653755\n",
      "Did not meet early stopping. Best iteration is:\n",
      "[100]\ttraining's macro_f1: 0.677323\tvalid_1's macro_f1: 0.653755\n",
      "Time:  7.673[s]\n",
      "--------------------------------------------------------------------------------\n",
      "START fold 4\n",
      "Training until validation scores don't improve for 200 rounds\n",
      "[100]\ttraining's macro_f1: 0.677671\tvalid_1's macro_f1: 0.66012\n",
      "Did not meet early stopping. Best iteration is:\n",
      "[100]\ttraining's macro_f1: 0.677671\tvalid_1's macro_f1: 0.66012\n",
      "Time:  8.084[s]\n",
      "--------------------------------------------------------------------------------\n",
      "START fold 5\n",
      "Training until validation scores don't improve for 200 rounds\n",
      "[100]\ttraining's macro_f1: 0.674384\tvalid_1's macro_f1: 0.671287\n",
      "Did not meet early stopping. Best iteration is:\n",
      "[100]\ttraining's macro_f1: 0.674384\tvalid_1's macro_f1: 0.671287\n",
      "Time:  7.973[s]\n",
      "================================================================================\n",
      "FINISH!\n",
      "--------------------------------------------------------------------------------\n",
      "START fold 1\n",
      "Training until validation scores don't improve for 200 rounds\n",
      "[100]\ttraining's macro_f1: 0.679175\tvalid_1's macro_f1: 0.682547\n",
      "Did not meet early stopping. Best iteration is:\n",
      "[100]\ttraining's macro_f1: 0.679175\tvalid_1's macro_f1: 0.682547\n",
      "Time:  7.359[s]\n",
      "--------------------------------------------------------------------------------\n",
      "START fold 2\n",
      "Training until validation scores don't improve for 200 rounds\n",
      "[100]\ttraining's macro_f1: 0.678897\tvalid_1's macro_f1: 0.672426\n",
      "Did not meet early stopping. Best iteration is:\n",
      "[100]\ttraining's macro_f1: 0.678897\tvalid_1's macro_f1: 0.672426\n",
      "Time:  6.766[s]\n",
      "--------------------------------------------------------------------------------\n",
      "START fold 3\n",
      "Training until validation scores don't improve for 200 rounds\n",
      "[100]\ttraining's macro_f1: 0.681825\tvalid_1's macro_f1: 0.654162\n",
      "Did not meet early stopping. Best iteration is:\n",
      "[100]\ttraining's macro_f1: 0.681825\tvalid_1's macro_f1: 0.654162\n",
      "Time:  6.743[s]\n",
      "--------------------------------------------------------------------------------\n",
      "START fold 4\n",
      "Training until validation scores don't improve for 200 rounds\n",
      "[100]\ttraining's macro_f1: 0.681306\tvalid_1's macro_f1: 0.666791\n",
      "Did not meet early stopping. Best iteration is:\n",
      "[100]\ttraining's macro_f1: 0.681306\tvalid_1's macro_f1: 0.666791\n",
      "Time:  5.940[s]\n",
      "--------------------------------------------------------------------------------\n",
      "START fold 5\n",
      "Training until validation scores don't improve for 200 rounds\n",
      "[100]\ttraining's macro_f1: 0.677147\tvalid_1's macro_f1: 0.671544\n",
      "Did not meet early stopping. Best iteration is:\n",
      "[100]\ttraining's macro_f1: 0.677147\tvalid_1's macro_f1: 0.671544\n",
      "Time:  6.459[s]\n",
      "================================================================================\n",
      "FINISH!\n",
      "--------------------------------------------------------------------------------\n",
      "START fold 1\n",
      "Training until validation scores don't improve for 200 rounds\n",
      "[100]\ttraining's macro_f1: 0.678921\tvalid_1's macro_f1: 0.684461\n",
      "Did not meet early stopping. Best iteration is:\n",
      "[100]\ttraining's macro_f1: 0.678921\tvalid_1's macro_f1: 0.684461\n",
      "Time:  7.035[s]\n",
      "--------------------------------------------------------------------------------\n",
      "START fold 2\n",
      "Training until validation scores don't improve for 200 rounds\n",
      "[100]\ttraining's macro_f1: 0.681262\tvalid_1's macro_f1: 0.67352\n",
      "Did not meet early stopping. Best iteration is:\n",
      "[100]\ttraining's macro_f1: 0.681262\tvalid_1's macro_f1: 0.67352\n",
      "Time:  9.182[s]\n",
      "--------------------------------------------------------------------------------\n",
      "START fold 3\n",
      "Training until validation scores don't improve for 200 rounds\n",
      "[100]\ttraining's macro_f1: 0.686827\tvalid_1's macro_f1: 0.657948\n",
      "Did not meet early stopping. Best iteration is:\n",
      "[99]\ttraining's macro_f1: 0.686893\tvalid_1's macro_f1: 0.657693\n",
      "Time:  8.831[s]\n",
      "--------------------------------------------------------------------------------\n",
      "START fold 4\n",
      "Training until validation scores don't improve for 200 rounds\n",
      "[100]\ttraining's macro_f1: 0.682867\tvalid_1's macro_f1: 0.666525\n",
      "Did not meet early stopping. Best iteration is:\n",
      "[100]\ttraining's macro_f1: 0.682867\tvalid_1's macro_f1: 0.666525\n",
      "Time:  8.146[s]\n",
      "--------------------------------------------------------------------------------\n",
      "START fold 5\n",
      "Training until validation scores don't improve for 200 rounds\n",
      "[100]\ttraining's macro_f1: 0.679722\tvalid_1's macro_f1: 0.675309\n",
      "Did not meet early stopping. Best iteration is:\n",
      "[100]\ttraining's macro_f1: 0.679722\tvalid_1's macro_f1: 0.675309\n",
      "Time:  7.100[s]\n",
      "================================================================================\n",
      "FINISH!\n",
      "--------------------------------------------------------------------------------\n",
      "START fold 1\n",
      "Training until validation scores don't improve for 200 rounds\n",
      "[100]\ttraining's macro_f1: 0.679562\tvalid_1's macro_f1: 0.681477\n",
      "Did not meet early stopping. Best iteration is:\n",
      "[97]\ttraining's macro_f1: 0.679875\tvalid_1's macro_f1: 0.681962\n",
      "Time:  6.696[s]\n",
      "--------------------------------------------------------------------------------\n",
      "START fold 2\n",
      "Training until validation scores don't improve for 200 rounds\n",
      "[100]\ttraining's macro_f1: 0.681412\tvalid_1's macro_f1: 0.671599\n",
      "Did not meet early stopping. Best iteration is:\n",
      "[96]\ttraining's macro_f1: 0.681661\tvalid_1's macro_f1: 0.67334\n",
      "Time:  6.645[s]\n",
      "--------------------------------------------------------------------------------\n",
      "START fold 3\n",
      "Training until validation scores don't improve for 200 rounds\n",
      "[100]\ttraining's macro_f1: 0.690387\tvalid_1's macro_f1: 0.655586\n",
      "Did not meet early stopping. Best iteration is:\n",
      "[99]\ttraining's macro_f1: 0.690733\tvalid_1's macro_f1: 0.656205\n",
      "Time:  6.198[s]\n",
      "--------------------------------------------------------------------------------\n",
      "START fold 4\n",
      "Training until validation scores don't improve for 200 rounds\n",
      "[100]\ttraining's macro_f1: 0.686001\tvalid_1's macro_f1: 0.66565\n",
      "Did not meet early stopping. Best iteration is:\n",
      "[100]\ttraining's macro_f1: 0.686001\tvalid_1's macro_f1: 0.66565\n",
      "Time:  6.786[s]\n",
      "--------------------------------------------------------------------------------\n",
      "START fold 5\n",
      "Training until validation scores don't improve for 200 rounds\n",
      "[100]\ttraining's macro_f1: 0.679762\tvalid_1's macro_f1: 0.677412\n",
      "Did not meet early stopping. Best iteration is:\n",
      "[96]\ttraining's macro_f1: 0.680567\tvalid_1's macro_f1: 0.677543\n",
      "Time:  6.677[s]\n",
      "================================================================================\n",
      "FINISH!\n",
      "--------------------------------------------------------------------------------\n",
      "START fold 1\n",
      "Training until validation scores don't improve for 200 rounds\n",
      "[100]\ttraining's macro_f1: 0.679822\tvalid_1's macro_f1: 0.681363\n",
      "Did not meet early stopping. Best iteration is:\n",
      "[99]\ttraining's macro_f1: 0.679863\tvalid_1's macro_f1: 0.681699\n",
      "Time:  7.048[s]\n",
      "--------------------------------------------------------------------------------\n",
      "START fold 2\n",
      "Training until validation scores don't improve for 200 rounds\n",
      "[100]\ttraining's macro_f1: 0.685104\tvalid_1's macro_f1: 0.670516\n",
      "Did not meet early stopping. Best iteration is:\n",
      "[100]\ttraining's macro_f1: 0.685104\tvalid_1's macro_f1: 0.670516\n",
      "Time:  6.571[s]\n",
      "--------------------------------------------------------------------------------\n",
      "START fold 3\n",
      "Training until validation scores don't improve for 200 rounds\n",
      "[100]\ttraining's macro_f1: 0.690837\tvalid_1's macro_f1: 0.658404\n",
      "Did not meet early stopping. Best iteration is:\n",
      "[99]\ttraining's macro_f1: 0.691305\tvalid_1's macro_f1: 0.657816\n",
      "Time:  6.503[s]\n",
      "--------------------------------------------------------------------------------\n",
      "START fold 4\n",
      "Training until validation scores don't improve for 200 rounds\n",
      "[100]\ttraining's macro_f1: 0.686365\tvalid_1's macro_f1: 0.665564\n",
      "Did not meet early stopping. Best iteration is:\n",
      "[96]\ttraining's macro_f1: 0.687014\tvalid_1's macro_f1: 0.667029\n",
      "Time:  6.366[s]\n",
      "--------------------------------------------------------------------------------\n",
      "START fold 5\n",
      "Training until validation scores don't improve for 200 rounds\n",
      "[100]\ttraining's macro_f1: 0.679705\tvalid_1's macro_f1: 0.675938\n",
      "Did not meet early stopping. Best iteration is:\n",
      "[96]\ttraining's macro_f1: 0.68025\tvalid_1's macro_f1: 0.67623\n",
      "Time:  6.647[s]\n",
      "================================================================================\n",
      "FINISH!\n",
      "--------------------------------------------------------------------------------\n",
      "START fold 1\n",
      "Training until validation scores don't improve for 200 rounds\n",
      "[100]\ttraining's macro_f1: 0.681389\tvalid_1's macro_f1: 0.682949\n",
      "Did not meet early stopping. Best iteration is:\n",
      "[100]\ttraining's macro_f1: 0.681389\tvalid_1's macro_f1: 0.682949\n",
      "Time:  6.502[s]\n",
      "--------------------------------------------------------------------------------\n",
      "START fold 2\n",
      "Training until validation scores don't improve for 200 rounds\n",
      "[100]\ttraining's macro_f1: 0.679631\tvalid_1's macro_f1: 0.667757\n",
      "Did not meet early stopping. Best iteration is:\n",
      "[84]\ttraining's macro_f1: 0.681086\tvalid_1's macro_f1: 0.667695\n",
      "Time:  6.967[s]\n",
      "--------------------------------------------------------------------------------\n",
      "START fold 3\n",
      "Training until validation scores don't improve for 200 rounds\n",
      "[100]\ttraining's macro_f1: 0.689418\tvalid_1's macro_f1: 0.65503\n",
      "Did not meet early stopping. Best iteration is:\n",
      "[95]\ttraining's macro_f1: 0.689504\tvalid_1's macro_f1: 0.656271\n",
      "Time:  6.437[s]\n",
      "--------------------------------------------------------------------------------\n",
      "START fold 4\n",
      "Training until validation scores don't improve for 200 rounds\n",
      "[100]\ttraining's macro_f1: 0.682694\tvalid_1's macro_f1: 0.664593\n",
      "Did not meet early stopping. Best iteration is:\n",
      "[89]\ttraining's macro_f1: 0.682869\tvalid_1's macro_f1: 0.663021\n",
      "Time:  6.835[s]\n",
      "--------------------------------------------------------------------------------\n",
      "START fold 5\n",
      "Training until validation scores don't improve for 200 rounds\n",
      "[100]\ttraining's macro_f1: 0.680205\tvalid_1's macro_f1: 0.67205\n",
      "Did not meet early stopping. Best iteration is:\n",
      "[96]\ttraining's macro_f1: 0.680603\tvalid_1's macro_f1: 0.673718\n",
      "Time:  7.172[s]\n",
      "================================================================================\n",
      "FINISH!\n",
      "--------------------------------------------------------------------------------\n",
      "START fold 1\n",
      "Training until validation scores don't improve for 200 rounds\n",
      "[100]\ttraining's macro_f1: 0.675528\tvalid_1's macro_f1: 0.670493\n",
      "Did not meet early stopping. Best iteration is:\n",
      "[91]\ttraining's macro_f1: 0.677912\tvalid_1's macro_f1: 0.676646\n",
      "Time:  6.878[s]\n",
      "--------------------------------------------------------------------------------\n",
      "START fold 2\n",
      "Training until validation scores don't improve for 200 rounds\n",
      "[100]\ttraining's macro_f1: 0.671721\tvalid_1's macro_f1: 0.662631\n",
      "Did not meet early stopping. Best iteration is:\n",
      "[52]\ttraining's macro_f1: 0.678294\tvalid_1's macro_f1: 0.66729\n",
      "Time:  6.398[s]\n",
      "--------------------------------------------------------------------------------\n",
      "START fold 3\n",
      "Training until validation scores don't improve for 200 rounds\n",
      "[100]\ttraining's macro_f1: 0.684821\tvalid_1's macro_f1: 0.647313\n",
      "Did not meet early stopping. Best iteration is:\n",
      "[76]\ttraining's macro_f1: 0.686482\tvalid_1's macro_f1: 0.653298\n",
      "Time:  6.472[s]\n",
      "--------------------------------------------------------------------------------\n",
      "START fold 4\n",
      "Training until validation scores don't improve for 200 rounds\n",
      "[100]\ttraining's macro_f1: 0.677346\tvalid_1's macro_f1: 0.655476\n",
      "Did not meet early stopping. Best iteration is:\n",
      "[47]\ttraining's macro_f1: 0.681224\tvalid_1's macro_f1: 0.664785\n",
      "Time:  6.645[s]\n",
      "--------------------------------------------------------------------------------\n",
      "START fold 5\n",
      "Training until validation scores don't improve for 200 rounds\n",
      "[100]\ttraining's macro_f1: 0.678284\tvalid_1's macro_f1: 0.668485\n",
      "Did not meet early stopping. Best iteration is:\n",
      "[57]\ttraining's macro_f1: 0.679395\tvalid_1's macro_f1: 0.671339\n",
      "Time:  7.183[s]\n",
      "================================================================================\n",
      "FINISH!\n",
      "--------------------------------------------------------------------------------\n",
      "START fold 1\n",
      "Training until validation scores don't improve for 200 rounds\n",
      "[100]\ttraining's macro_f1: 0.657426\tvalid_1's macro_f1: 0.656333\n",
      "Did not meet early stopping. Best iteration is:\n",
      "[32]\ttraining's macro_f1: 0.674043\tvalid_1's macro_f1: 0.680026\n",
      "Time:  6.854[s]\n",
      "--------------------------------------------------------------------------------\n",
      "START fold 2\n",
      "Training until validation scores don't improve for 200 rounds\n",
      "[100]\ttraining's macro_f1: 0.651472\tvalid_1's macro_f1: 0.635991\n",
      "Did not meet early stopping. Best iteration is:\n",
      "[36]\ttraining's macro_f1: 0.677989\tvalid_1's macro_f1: 0.668497\n",
      "Time:  6.645[s]\n",
      "--------------------------------------------------------------------------------\n",
      "START fold 3\n",
      "Training until validation scores don't improve for 200 rounds\n",
      "[100]\ttraining's macro_f1: 0.664299\tvalid_1's macro_f1: 0.632548\n",
      "Did not meet early stopping. Best iteration is:\n",
      "[51]\ttraining's macro_f1: 0.681547\tvalid_1's macro_f1: 0.651916\n",
      "Time:  6.502[s]\n",
      "--------------------------------------------------------------------------------\n",
      "START fold 4\n",
      "Training until validation scores don't improve for 200 rounds\n",
      "[100]\ttraining's macro_f1: 0.651229\tvalid_1's macro_f1: 0.626973\n",
      "Did not meet early stopping. Best iteration is:\n",
      "[34]\ttraining's macro_f1: 0.67974\tvalid_1's macro_f1: 0.664104\n",
      "Time:  6.745[s]\n",
      "--------------------------------------------------------------------------------\n",
      "START fold 5\n",
      "Training until validation scores don't improve for 200 rounds\n",
      "[100]\ttraining's macro_f1: 0.65265\tvalid_1's macro_f1: 0.64003\n",
      "Did not meet early stopping. Best iteration is:\n",
      "[42]\ttraining's macro_f1: 0.678221\tvalid_1's macro_f1: 0.671604\n",
      "Time:  6.804[s]\n",
      "================================================================================\n",
      "FINISH!\n",
      "--------------------------------------------------------------------------------\n",
      "START fold 1\n",
      "Training until validation scores don't improve for 200 rounds\n",
      "[100]\ttraining's macro_f1: 0.629583\tvalid_1's macro_f1: 0.628639\n",
      "Did not meet early stopping. Best iteration is:\n",
      "[20]\ttraining's macro_f1: 0.67018\tvalid_1's macro_f1: 0.673673\n",
      "Time:  6.503[s]\n",
      "--------------------------------------------------------------------------------\n",
      "START fold 2\n",
      "Training until validation scores don't improve for 200 rounds\n",
      "[100]\ttraining's macro_f1: 0.627171\tvalid_1's macro_f1: 0.61624\n",
      "Did not meet early stopping. Best iteration is:\n",
      "[19]\ttraining's macro_f1: 0.676118\tvalid_1's macro_f1: 0.665319\n",
      "Time:  6.732[s]\n",
      "--------------------------------------------------------------------------------\n",
      "START fold 3\n",
      "Training until validation scores don't improve for 200 rounds\n",
      "[100]\ttraining's macro_f1: 0.641356\tvalid_1's macro_f1: 0.616136\n",
      "Did not meet early stopping. Best iteration is:\n",
      "[25]\ttraining's macro_f1: 0.679012\tvalid_1's macro_f1: 0.651049\n",
      "Time:  6.602[s]\n",
      "--------------------------------------------------------------------------------\n",
      "START fold 4\n",
      "Training until validation scores don't improve for 200 rounds\n",
      "[100]\ttraining's macro_f1: 0.631451\tvalid_1's macro_f1: 0.614523\n",
      "Did not meet early stopping. Best iteration is:\n",
      "[19]\ttraining's macro_f1: 0.678236\tvalid_1's macro_f1: 0.66645\n",
      "Time:  6.767[s]\n",
      "--------------------------------------------------------------------------------\n",
      "START fold 5\n",
      "Training until validation scores don't improve for 200 rounds\n",
      "[100]\ttraining's macro_f1: 0.633152\tvalid_1's macro_f1: 0.623524\n",
      "Did not meet early stopping. Best iteration is:\n",
      "[24]\ttraining's macro_f1: 0.673434\tvalid_1's macro_f1: 0.666785\n",
      "Time:  6.813[s]\n",
      "================================================================================\n",
      "FINISH!\n",
      "--------------------------------------------------------------------------------\n",
      "START fold 1\n",
      "Training until validation scores don't improve for 200 rounds\n",
      "[100]\ttraining's macro_f1: 0.607824\tvalid_1's macro_f1: 0.60488\n",
      "Did not meet early stopping. Best iteration is:\n",
      "[6]\ttraining's macro_f1: 0.668367\tvalid_1's macro_f1: 0.672728\n",
      "Time:  7.298[s]\n",
      "--------------------------------------------------------------------------------\n",
      "START fold 2\n",
      "Training until validation scores don't improve for 200 rounds\n",
      "[100]\ttraining's macro_f1: 0.611471\tvalid_1's macro_f1: 0.593707\n",
      "Did not meet early stopping. Best iteration is:\n",
      "[4]\ttraining's macro_f1: 0.666027\tvalid_1's macro_f1: 0.654523\n",
      "Time:  6.857[s]\n",
      "--------------------------------------------------------------------------------\n",
      "START fold 3\n",
      "Training until validation scores don't improve for 200 rounds\n",
      "[100]\ttraining's macro_f1: 0.6191\tvalid_1's macro_f1: 0.596156\n",
      "Did not meet early stopping. Best iteration is:\n",
      "[5]\ttraining's macro_f1: 0.666902\tvalid_1's macro_f1: 0.646811\n",
      "Time:  6.802[s]\n",
      "--------------------------------------------------------------------------------\n",
      "START fold 4\n",
      "Training until validation scores don't improve for 200 rounds\n",
      "[100]\ttraining's macro_f1: 0.618032\tvalid_1's macro_f1: 0.600082\n",
      "Did not meet early stopping. Best iteration is:\n",
      "[6]\ttraining's macro_f1: 0.668939\tvalid_1's macro_f1: 0.658066\n",
      "Time:  6.399[s]\n",
      "--------------------------------------------------------------------------------\n",
      "START fold 5\n",
      "Training until validation scores don't improve for 200 rounds\n",
      "[100]\ttraining's macro_f1: 0.616095\tvalid_1's macro_f1: 0.608864\n",
      "Did not meet early stopping. Best iteration is:\n",
      "[4]\ttraining's macro_f1: 0.666939\tvalid_1's macro_f1: 0.664153\n",
      "Time:  6.655[s]\n",
      "================================================================================\n",
      "FINISH!\n",
      "--------------------------------------------------------------------------------\n",
      "START fold 1\n",
      "Training until validation scores don't improve for 200 rounds\n",
      "[100]\ttraining's macro_f1: 0.586647\tvalid_1's macro_f1: 0.582629\n",
      "Did not meet early stopping. Best iteration is:\n",
      "[100]\ttraining's macro_f1: 0.586647\tvalid_1's macro_f1: 0.582629\n",
      "Time:  7.106[s]\n",
      "--------------------------------------------------------------------------------\n",
      "START fold 2\n",
      "Training until validation scores don't improve for 200 rounds\n",
      "[100]\ttraining's macro_f1: 0.587185\tvalid_1's macro_f1: 0.57042\n",
      "Did not meet early stopping. Best iteration is:\n",
      "[100]\ttraining's macro_f1: 0.587185\tvalid_1's macro_f1: 0.57042\n",
      "Time:  6.875[s]\n",
      "--------------------------------------------------------------------------------\n",
      "START fold 3\n",
      "Training until validation scores don't improve for 200 rounds\n",
      "[100]\ttraining's macro_f1: 0.593181\tvalid_1's macro_f1: 0.574668\n",
      "Did not meet early stopping. Best iteration is:\n",
      "[100]\ttraining's macro_f1: 0.593181\tvalid_1's macro_f1: 0.574668\n",
      "Time:  6.682[s]\n",
      "--------------------------------------------------------------------------------\n",
      "START fold 4\n",
      "Training until validation scores don't improve for 200 rounds\n",
      "[100]\ttraining's macro_f1: 0.595976\tvalid_1's macro_f1: 0.580266\n",
      "Did not meet early stopping. Best iteration is:\n",
      "[100]\ttraining's macro_f1: 0.595976\tvalid_1's macro_f1: 0.580266\n",
      "Time:  6.910[s]\n",
      "--------------------------------------------------------------------------------\n",
      "START fold 5\n",
      "Training until validation scores don't improve for 200 rounds\n",
      "[100]\ttraining's macro_f1: 0.590111\tvalid_1's macro_f1: 0.582131\n",
      "Did not meet early stopping. Best iteration is:\n",
      "[100]\ttraining's macro_f1: 0.590111\tvalid_1's macro_f1: 0.582131\n",
      "Time:  6.934[s]\n",
      "================================================================================\n",
      "FINISH!\n"
     ]
    }
   ],
   "source": [
    "lgb_params = {\n",
    "    'verbose': -1,\n",
    "    'objective': 'binary',\n",
    "    'metric': 'custom',\n",
    "    'boosting_type': 'gbdt',\n",
    "    'seed': cfg.Params.seed,\n",
    "    'learning_rate': cfg.Params.learning_rate,\n",
    "}\n",
    "\n",
    "threshold = 0.5\n",
    "zero_weights = [0.80, 0.81, 0.82, 0.83, 0.84, 0.85, 0.86, 0.87, 0.88, 0.89, 0.90]\n",
    "results_df = pl.DataFrame([\n",
    "        pl.Series(\"zero_weight\", [], dtype=pl.Float64),\n",
    "        pl.Series(\"score\", [], dtype=pl.Float64)\n",
    "])\n",
    "for zero_weight in zero_weights:\n",
    "    weight = [zero_weight, 1.0 - zero_weight]\n",
    "    train = preprosess.add_loss_weight(train, weight)\n",
    "    oof, models = training.fit_lgbm(train, lgb_params=lgb_params)\n",
    "    oof_truth = train[cfg.Cols.target].to_numpy()\n",
    "    oof_hat = predict.predict_class(oof, threshold=threshold)\n",
    "    cv_score = metrics.macro_f1_score(oof_truth, oof_hat)\n",
    "    results_df = results_df.vstack(pl.DataFrame({\"zero_weight\": [zero_weight], \"score\": [cv_score]}))"
   ],
   "metadata": {
    "collapsed": false,
    "ExecuteTime": {
     "end_time": "2024-01-29T08:42:45.629307Z",
     "start_time": "2024-01-29T08:36:22.988553Z"
    }
   }
  },
  {
   "cell_type": "code",
   "outputs": [
    {
     "data": {
      "text/plain": "shape: (11, 2)\n┌─────────────┬──────────┐\n│ zero_weight ┆ score    │\n│ ---         ┆ ---      │\n│ f64         ┆ f64      │\n╞═════════════╪══════════╡\n│ 0.8         ┆ 0.667527 │\n│ 0.81        ┆ 0.669566 │\n│ 0.82        ┆ 0.671518 │\n│ 0.83        ┆ 0.670907 │\n│ …           ┆ …        │\n│ 0.87        ┆ 0.66701  │\n│ 0.88        ┆ 0.664543 │\n│ 0.89        ┆ 0.659127 │\n│ 0.9         ┆ 0.578024 │\n└─────────────┴──────────┘",
      "text/html": "<div><style>\n.dataframe > thead > tr,\n.dataframe > tbody > tr {\n  text-align: right;\n  white-space: pre-wrap;\n}\n</style>\n<small>shape: (11, 2)</small><table border=\"1\" class=\"dataframe\"><thead><tr><th>zero_weight</th><th>score</th></tr><tr><td>f64</td><td>f64</td></tr></thead><tbody><tr><td>0.8</td><td>0.667527</td></tr><tr><td>0.81</td><td>0.669566</td></tr><tr><td>0.82</td><td>0.671518</td></tr><tr><td>0.83</td><td>0.670907</td></tr><tr><td>0.84</td><td>0.670604</td></tr><tr><td>0.85</td><td>0.668665</td></tr><tr><td>0.86</td><td>0.666763</td></tr><tr><td>0.87</td><td>0.66701</td></tr><tr><td>0.88</td><td>0.664543</td></tr><tr><td>0.89</td><td>0.659127</td></tr><tr><td>0.9</td><td>0.578024</td></tr></tbody></table></div>"
     },
     "execution_count": 13,
     "metadata": {},
     "output_type": "execute_result"
    }
   ],
   "source": [
    "results_df"
   ],
   "metadata": {
    "collapsed": false,
    "ExecuteTime": {
     "end_time": "2024-01-29T08:43:34.553372Z",
     "start_time": "2024-01-29T08:43:34.170443Z"
    }
   },
   "execution_count": 13
  },
  {
   "cell_type": "markdown",
   "source": [
    "weight = [0.82, 0.18]"
   ],
   "metadata": {
    "collapsed": false
   }
  },
  {
   "cell_type": "code",
   "outputs": [
    {
     "name": "stdout",
     "output_type": "stream",
     "text": [
      "--------------------------------------------------------------------------------\n",
      "START fold 1\n",
      "Training until validation scores don't improve for 200 rounds\n",
      "[100]\ttraining's macro_f1: 0.678921\tvalid_1's macro_f1: 0.684461\n",
      "Did not meet early stopping. Best iteration is:\n",
      "[100]\ttraining's macro_f1: 0.678921\tvalid_1's macro_f1: 0.684461\n",
      "Time:  7.371[s]\n",
      "--------------------------------------------------------------------------------\n",
      "START fold 2\n",
      "Training until validation scores don't improve for 200 rounds\n",
      "[100]\ttraining's macro_f1: 0.681262\tvalid_1's macro_f1: 0.67352\n",
      "Did not meet early stopping. Best iteration is:\n",
      "[100]\ttraining's macro_f1: 0.681262\tvalid_1's macro_f1: 0.67352\n",
      "Time:  7.917[s]\n",
      "--------------------------------------------------------------------------------\n",
      "START fold 3\n",
      "Training until validation scores don't improve for 200 rounds\n",
      "[100]\ttraining's macro_f1: 0.686827\tvalid_1's macro_f1: 0.657948\n",
      "Did not meet early stopping. Best iteration is:\n",
      "[99]\ttraining's macro_f1: 0.686893\tvalid_1's macro_f1: 0.657693\n",
      "Time:  7.817[s]\n",
      "--------------------------------------------------------------------------------\n",
      "START fold 4\n",
      "Training until validation scores don't improve for 200 rounds\n",
      "[100]\ttraining's macro_f1: 0.682867\tvalid_1's macro_f1: 0.666525\n",
      "Did not meet early stopping. Best iteration is:\n",
      "[100]\ttraining's macro_f1: 0.682867\tvalid_1's macro_f1: 0.666525\n",
      "Time:  6.829[s]\n",
      "--------------------------------------------------------------------------------\n",
      "START fold 5\n",
      "Training until validation scores don't improve for 200 rounds\n",
      "[100]\ttraining's macro_f1: 0.679722\tvalid_1's macro_f1: 0.675309\n",
      "Did not meet early stopping. Best iteration is:\n",
      "[100]\ttraining's macro_f1: 0.679722\tvalid_1's macro_f1: 0.675309\n",
      "Time:  6.564[s]\n",
      "================================================================================\n",
      "FINISH!\n"
     ]
    }
   ],
   "source": [
    "weight = [0.82, 0.18]\n",
    "train = preprosess.add_loss_weight(train, weight)\n",
    "oof, models = training.fit_lgbm(train, lgb_params=lgb_params)"
   ],
   "metadata": {
    "collapsed": false,
    "ExecuteTime": {
     "end_time": "2024-01-29T08:46:28.366890Z",
     "start_time": "2024-01-29T08:45:51.330686Z"
    }
   },
   "execution_count": 14
  },
  {
   "cell_type": "markdown",
   "metadata": {},
   "source": [
    "# Predict"
   ]
  },
  {
   "cell_type": "code",
   "outputs": [],
   "source": [
    "threshold = 0.5"
   ],
   "metadata": {
    "collapsed": false,
    "ExecuteTime": {
     "end_time": "2024-01-29T08:46:38.272679Z",
     "start_time": "2024-01-29T08:46:38.268655Z"
    }
   },
   "execution_count": 15
  },
  {
   "cell_type": "code",
   "outputs": [],
   "source": [
    "pred_prob = predict.predict_probability(models, test)\n",
    "pred_class = predict.predict_class(pred_prob, threshold=threshold)"
   ],
   "metadata": {
    "collapsed": false,
    "ExecuteTime": {
     "end_time": "2024-01-29T08:46:40.461921Z",
     "start_time": "2024-01-29T08:46:39.686485Z"
    }
   },
   "execution_count": 16
  },
  {
   "cell_type": "markdown",
   "source": [
    "## CV score"
   ],
   "metadata": {
    "collapsed": false
   }
  },
  {
   "cell_type": "code",
   "outputs": [
    {
     "name": "stdout",
     "output_type": "stream",
     "text": [
      "0.6715182916909637\n"
     ]
    }
   ],
   "source": [
    "oof_truth = train[cfg.Cols.target].to_numpy()\n",
    "oof_hat = predict.predict_class(oof, threshold=threshold)\n",
    "cv_score = metrics.macro_f1_score(oof_truth, oof_hat)\n",
    "print(cv_score)"
   ],
   "metadata": {
    "collapsed": false,
    "ExecuteTime": {
     "end_time": "2024-01-29T08:46:41.797184Z",
     "start_time": "2024-01-29T08:46:41.774709Z"
    }
   },
   "execution_count": 17
  },
  {
   "cell_type": "markdown",
   "source": [
    "## Check result"
   ],
   "metadata": {
    "collapsed": false
   }
  },
  {
   "cell_type": "markdown",
   "source": [
    "### oofとtestの予測値分布を比較してバグを確認"
   ],
   "metadata": {
    "collapsed": false
   }
  },
  {
   "cell_type": "code",
   "outputs": [
    {
     "data": {
      "text/plain": "<Figure size 640x480 with 1 Axes>",
      "image/png": "[encoded data removed]"
     },
     "metadata": {},
     "output_type": "display_data"
    }
   ],
   "source": [
    "sns.histplot(pred_prob)\n",
    "plt.xlim(0.0, 1.0)\n",
    "plt.show()"
   ],
   "metadata": {
    "collapsed": false,
    "ExecuteTime": {
     "end_time": "2024-01-29T08:47:41.959657Z",
     "start_time": "2024-01-29T08:47:41.058157Z"
    }
   },
   "execution_count": 18
  },
  {
   "cell_type": "code",
   "outputs": [
    {
     "data": {
      "text/plain": "<Figure size 640x480 with 1 Axes>",
      "image/png": "[encoded data removed]"
     },
     "metadata": {},
     "output_type": "display_data"
    }
   ],
   "source": [
    "sns.histplot(pred_prob)\n",
    "plt.xlim(0.0, 1.0)\n",
    "plt.show()"
   ],
   "metadata": {
    "collapsed": false,
    "ExecuteTime": {
     "end_time": "2024-01-29T08:47:43.336968Z",
     "start_time": "2024-01-29T08:47:42.930084Z"
    }
   },
   "execution_count": 19
  },
  {
   "cell_type": "markdown",
   "source": [
    "### 予測値の1の割合を確認"
   ],
   "metadata": {
    "collapsed": false
   }
  },
  {
   "cell_type": "code",
   "outputs": [
    {
     "name": "stdout",
     "output_type": "stream",
     "text": [
      "0.9349059279568875\n"
     ]
    }
   ],
   "source": [
    "print(pred_class.sum() / len(pred_class))"
   ],
   "metadata": {
    "collapsed": false,
    "ExecuteTime": {
     "end_time": "2024-01-29T08:48:04.467205Z",
     "start_time": "2024-01-29T08:48:04.443619Z"
    }
   },
   "execution_count": 20
  },
  {
   "cell_type": "markdown",
   "source": [
    "### oofにおける混同行列を確認"
   ],
   "metadata": {
    "collapsed": false
   }
  },
  {
   "cell_type": "code",
   "outputs": [
    {
     "name": "stdout",
     "output_type": "stream",
     "text": [
      "True Negative Rate (0の正解率): 0.33\n",
      "True Positive Rate (1の正解率): 0.96\n"
     ]
    },
    {
     "data": {
      "text/plain": "<Figure size 640x480 with 2 Axes>",
      "image/png": "[encoded data removed]"
     },
     "metadata": {},
     "output_type": "display_data"
    }
   ],
   "source": [
    "metrics.show_confusion_matrix(oof_truth, oof_hat)"
   ],
   "metadata": {
    "collapsed": false,
    "ExecuteTime": {
     "end_time": "2024-01-29T08:48:06.793629Z",
     "start_time": "2024-01-29T08:48:06.357850Z"
    }
   },
   "execution_count": 21
  },
  {
   "cell_type": "markdown",
   "source": [
    "## Submit"
   ],
   "metadata": {
    "collapsed": false
   }
  },
  {
   "cell_type": "code",
   "execution_count": 23,
   "metadata": {
    "ExecuteTime": {
     "end_time": "2024-01-29T08:48:15.212228Z",
     "start_time": "2024-01-29T08:48:15.189274Z"
    }
   },
   "outputs": [],
   "source": [
    "submit = submit.with_columns([pl.Series(cfg.Cols.sub_pred, pred_class)])\n",
    "utils.make_submission(submit, exp, cv_score)"
   ]
  },
  {
   "cell_type": "code",
   "outputs": [],
   "source": [],
   "metadata": {
    "collapsed": false
   }
  }
 ],
 "metadata": {
  "kernelspec": {
   "display_name": "kaggle",
   "language": "python",
   "name": "kaggle"
  },
  "language_info": {
   "codemirror_mode": {
    "name": "ipython",
    "version": 3
   },
   "file_extension": ".py",
   "mimetype": "text/x-python",
   "name": "python",
   "nbconvert_exporter": "python",
   "pygments_lexer": "ipython3",
   "version": "3.9.18"
  }
 },
 "nbformat": 4,
 "nbformat_minor": 4
}
