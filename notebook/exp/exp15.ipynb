{
 "cells": [
  {
   "cell_type": "markdown",
   "source": [
    "# TODO\n",
    "\n",
    "- スタッキングでアンサンブルしてみる\n",
    "- ロジスティック回帰"
   ],
   "metadata": {
    "collapsed": false
   }
  },
  {
   "cell_type": "markdown",
   "source": [
    "# Setting"
   ],
   "metadata": {
    "collapsed": false
   }
  },
  {
   "cell_type": "code",
   "execution_count": 1,
   "outputs": [],
   "source": [
    "import sys\n",
    "\n",
    "import polars as pl\n",
    "import seaborn as sns\n",
    "import matplotlib.pyplot as plt\n",
    "\n",
    "root_dir = \"../../\"\n",
    "if root_dir not in sys.path:\n",
    "    sys.path.append(root_dir)\n",
    "from modules import config as cfg\n",
    "from modules import utils, preprosess, training, predict, metrics\n",
    "\n",
    "exp = \"exp15\"\n",
    "utils.set_seed(cfg.Params.seed)"
   ],
   "metadata": {
    "collapsed": false,
    "ExecuteTime": {
     "end_time": "2024-01-27T09:16:31.045266Z",
     "start_time": "2024-01-27T09:16:30.340289Z"
    }
   }
  },
  {
   "cell_type": "markdown",
   "metadata": {
    "collapsed": false,
    "ExecuteTime": {
     "end_time": "2024-01-21T07:23:00.806250Z",
     "start_time": "2024-01-21T07:22:58.502427Z"
    }
   },
   "source": [
    "# Read data"
   ]
  },
  {
   "cell_type": "code",
   "execution_count": 2,
   "metadata": {
    "collapsed": false,
    "ExecuteTime": {
     "end_time": "2024-01-27T09:16:31.112798Z",
     "start_time": "2024-01-27T09:16:31.050147Z"
    }
   },
   "outputs": [],
   "source": [
    "train, test, submit = utils.get_data(debug_mode=False)"
   ]
  },
  {
   "cell_type": "markdown",
   "metadata": {
    "collapsed": false
   },
   "source": [
    "# Preprocessing"
   ]
  },
  {
   "cell_type": "markdown",
   "source": [
    "## Split fold"
   ],
   "metadata": {
    "collapsed": false
   }
  },
  {
   "cell_type": "code",
   "execution_count": 3,
   "outputs": [],
   "source": [
    "train = preprosess.assign_stratified_k_fold(train, \"MIS_Status\")"
   ],
   "metadata": {
    "collapsed": false,
    "ExecuteTime": {
     "end_time": "2024-01-27T09:16:31.131128Z",
     "start_time": "2024-01-27T09:16:31.113559Z"
    }
   }
  },
  {
   "cell_type": "markdown",
   "source": [
    "## Convert"
   ],
   "metadata": {
    "collapsed": false
   }
  },
  {
   "cell_type": "code",
   "execution_count": 4,
   "metadata": {
    "collapsed": false,
    "ExecuteTime": {
     "end_time": "2024-01-27T09:16:31.391135Z",
     "start_time": "2024-01-27T09:16:31.148658Z"
    }
   },
   "outputs": [],
   "source": [
    "# 地名を座標に変換\n",
    "train = preprosess.convert_to_latlon(train)\n",
    "test  = preprosess.convert_to_latlon(test)\n",
    "\n",
    "# testのBankStateの\"PR\"はtrainにないため，一番多いCAに変換\n",
    "test = test.with_columns(pl.col(\"BankState\").str.replace(\"PR\", \"CA\"))\n",
    "\n",
    "# DisbursementDateとApprovalDateをYear(数値)に変換\n",
    "cols  = [\"DisbursementDate\", \"ApprovalDate\"]\n",
    "train = preprosess.convert_date_to_year(train, cols)\n",
    "test  = preprosess.convert_date_to_year(test, cols)\n",
    "\n",
    "# 金額データの数値化\n",
    "cols  = [\"DisbursementGross\",  \"GrAppv\", \"SBA_Appv\"]\n",
    "train = preprosess.convert_money_data(train, cols)\n",
    "test  = preprosess.convert_money_data(test, cols)\n",
    "\n",
    "# 一致しているか\n",
    "eqs = [\n",
    "    [\"State\", \"BankState\"],\n",
    "]\n",
    "train = preprosess.add_eq(train, eqs)\n",
    "test  = preprosess.add_eq(test, eqs)\n",
    "\n",
    "# 差の計算\n",
    "diffs = [\n",
    "    [\"DisbursementGross\", \"GrAppv\"],   # 支払われた額 vs 銀行承認額\n",
    "    [\"DisbursementGross\", \"SBA_Appv\"], # 支払われた額 vs SBA承認額\n",
    "    [\"GrAppv\", \"SBA_Appv\"],            # 銀行承認額 vs SBA承認額\n",
    "]\n",
    "train = preprosess.add_diff(train, diffs)\n",
    "test  = preprosess.add_diff(test, diffs)\n",
    "\n",
    "# DisbursementDateとApprovalDateの差を計算\n",
    "train = preprosess.add_diff_disbursement_with_approval(train)\n",
    "test  = preprosess.add_diff_disbursement_with_approval(test)\n",
    "\n",
    "# 割合の計算\n",
    "divs = [\n",
    "    # [\"DisbursementGross\", \"Term\"],\n",
    "    [\"GrAppv\", \"Term\"],\n",
    "    [\"SBA_Appv\", \"Term\"],\n",
    "    [\"NoEmp\", \"Term\"],\n",
    "    # [\"DisbursementGross\", \"NoEmp\"],\n",
    "    # [\"GrAppv\", \"NoEmp\"],\n",
    "    # [\"SBA_Appv\", \"NoEmp\"],\n",
    "    [\"DisbursementGross_GrAppv_diff\", \"Term\"],\n",
    "    [\"DisbursementGross_SBA_Appv_diff\", \"Term\"],\n",
    "    [\"GrAppv_SBA_Appv_diff\", \"Term\"],\n",
    "    # [\"DisbursementGross_GrAppv_diff\", \"NoEmp\"],\n",
    "    # [\"DisbursementGross_SBA_Appv_diff\", \"NoEmp\"],\n",
    "    # [\"GrAppv_SBA_Appv_diff\", \"NoEmp\"]\n",
    "]\n",
    "train = preprosess.add_div(train, divs)\n",
    "test  = preprosess.add_div(test, divs)\n",
    "\n",
    "# Sectorを職業別にする\n",
    "train = preprosess.unify_same_sector(train)\n",
    "test  = preprosess.unify_same_sector(test)"
   ]
  },
  {
   "cell_type": "markdown",
   "source": [
    "## Target encoding"
   ],
   "metadata": {
    "collapsed": false
   }
  },
  {
   "cell_type": "code",
   "execution_count": 5,
   "outputs": [],
   "source": [
    "cols = [\n",
    "    # \"Sector\",\n",
    "    \"UrbanRural\",\n",
    "    \"RevLineCr\",\n",
    "    \"LowDoc\",\n",
    "    \"FranchiseCode\",\n",
    "]\n",
    "target_col = \"MIS_Status\"\n",
    "train, test = preprosess.target_encoding(train, test, cols)"
   ],
   "metadata": {
    "collapsed": false,
    "ExecuteTime": {
     "end_time": "2024-01-27T09:16:31.496960Z",
     "start_time": "2024-01-27T09:16:31.395524Z"
    }
   }
  },
  {
   "cell_type": "markdown",
   "source": [
    "## Label encoding\n",
    "CVによるtarget encodingでは同じカテゴリカル変数に異なる値が割り当てられるのでlabel encodingを併用する"
   ],
   "metadata": {
    "collapsed": false
   }
  },
  {
   "cell_type": "code",
   "execution_count": 6,
   "outputs": [],
   "source": [
    "cols = [\"RevLineCr\", \"LowDoc\"]\n",
    "train, test = preprosess.label_encoding(train, test, cols)"
   ],
   "metadata": {
    "collapsed": false,
    "ExecuteTime": {
     "end_time": "2024-01-27T09:16:31.582482Z",
     "start_time": "2024-01-27T09:16:31.502583Z"
    }
   }
  },
  {
   "cell_type": "markdown",
   "source": [
    "# Drop columns"
   ],
   "metadata": {
    "collapsed": false
   }
  },
  {
   "cell_type": "code",
   "execution_count": 7,
   "outputs": [],
   "source": [
    "# 不要なカラムの削除\n",
    "del_cols = [\n",
    "    # 地名系\n",
    "    \"City\",\n",
    "    \"State\",\n",
    "    \"BankState\",\n",
    "    # d-b-y系\n",
    "    \"DisbursementDate\",\n",
    "    \"ApprovalDate\",\n",
    "    \"ApprovalFY\",\n",
    "    # ラベルエンコーディング済み\n",
    "    \"RevLineCr\",\n",
    "    \"LowDoc\",\n",
    "]\n",
    "train = train.drop(del_cols)\n",
    "test  = test.drop(del_cols)"
   ],
   "metadata": {
    "collapsed": false,
    "ExecuteTime": {
     "end_time": "2024-01-27T09:16:31.586001Z",
     "start_time": "2024-01-27T09:16:31.578388Z"
    }
   }
  },
  {
   "cell_type": "markdown",
   "metadata": {
    "collapsed": false
   },
   "source": [
    "# Training"
   ]
  },
  {
   "cell_type": "code",
   "outputs": [],
   "source": [
    "oof_li = []\n",
    "models_li = []"
   ],
   "metadata": {
    "collapsed": false,
    "ExecuteTime": {
     "end_time": "2024-01-27T09:16:31.605958Z",
     "start_time": "2024-01-27T09:16:31.587572Z"
    }
   },
   "execution_count": 8
  },
  {
   "cell_type": "markdown",
   "source": [
    "## Default"
   ],
   "metadata": {
    "collapsed": false
   }
  },
  {
   "cell_type": "code",
   "execution_count": 9,
   "outputs": [
    {
     "name": "stdout",
     "output_type": "stream",
     "text": [
      "--------------------------------------------------------------------------------\n",
      "START fold 1\n",
      "[LightGBM] [Info] Number of positive: 30213, number of negative: 3632\n",
      "[LightGBM] [Warning] Auto-choosing col-wise multi-threading, the overhead of testing was 0.008790 seconds.\n",
      "You can set `force_col_wise=true` to remove the overhead.\n",
      "[LightGBM] [Info] Total Bins 5177\n",
      "[LightGBM] [Info] Number of data points in the train set: 33845, number of used features: 35\n",
      "[LightGBM] [Info] [binary:BoostFromScore]: pavg=0.892687 -> initscore=2.118489\n",
      "[LightGBM] [Info] Start training from score 2.118489\n",
      "Training until validation scores don't improve for 100 rounds\n",
      "[100]\ttraining's auc: 0.950026\tvalid_1's auc: 0.771302\n",
      "Did not meet early stopping. Best iteration is:\n",
      "[100]\ttraining's auc: 0.950026\tvalid_1's auc: 0.771302\n",
      "Time:  3.019[s]\n",
      "--------------------------------------------------------------------------------\n",
      "START fold 2\n"
     ]
    },
    {
     "name": "stderr",
     "output_type": "stream",
     "text": [
      "/Users/taichi/anaconda3/envs/kaggle/lib/python3.9/site-packages/lightgbm/basic.py:859: UserWarning: Converting data to scipy sparse matrix.\n",
      "  _log_warning('Converting data to scipy sparse matrix.')\n"
     ]
    },
    {
     "name": "stdout",
     "output_type": "stream",
     "text": [
      "[LightGBM] [Info] Number of positive: 30213, number of negative: 3632\n",
      "[LightGBM] [Warning] Auto-choosing row-wise multi-threading, the overhead of testing was 0.005597 seconds.\n",
      "You can set `force_row_wise=true` to remove the overhead.\n",
      "And if memory is not enough, you can set `force_col_wise=true`.\n",
      "[LightGBM] [Info] Total Bins 5184\n",
      "[LightGBM] [Info] Number of data points in the train set: 33845, number of used features: 35\n",
      "[LightGBM] [Info] [binary:BoostFromScore]: pavg=0.892687 -> initscore=2.118489\n",
      "[LightGBM] [Info] Start training from score 2.118489\n",
      "Training until validation scores don't improve for 100 rounds\n",
      "[100]\ttraining's auc: 0.950878\tvalid_1's auc: 0.776559\n",
      "Did not meet early stopping. Best iteration is:\n",
      "[100]\ttraining's auc: 0.950878\tvalid_1's auc: 0.776559\n",
      "Time:  2.799[s]\n",
      "--------------------------------------------------------------------------------\n",
      "START fold 3\n",
      "[LightGBM] [Info] Number of positive: 30214, number of negative: 3632\n",
      "[LightGBM] [Warning] Auto-choosing col-wise multi-threading, the overhead of testing was 0.009766 seconds.\n",
      "You can set `force_col_wise=true` to remove the overhead.\n",
      "[LightGBM] [Info] Total Bins 5178\n",
      "[LightGBM] [Info] Number of data points in the train set: 33846, number of used features: 35\n",
      "[LightGBM] [Info] [binary:BoostFromScore]: pavg=0.892690 -> initscore=2.118522\n",
      "[LightGBM] [Info] Start training from score 2.118522\n",
      "Training until validation scores don't improve for 100 rounds\n",
      "[100]\ttraining's auc: 0.952267\tvalid_1's auc: 0.745042\n",
      "Did not meet early stopping. Best iteration is:\n",
      "[100]\ttraining's auc: 0.952267\tvalid_1's auc: 0.745042\n",
      "Time:  5.274[s]\n",
      "--------------------------------------------------------------------------------\n",
      "START fold 4\n",
      "[LightGBM] [Info] Number of positive: 30214, number of negative: 3632\n",
      "[LightGBM] [Warning] Auto-choosing col-wise multi-threading, the overhead of testing was 0.010235 seconds.\n",
      "You can set `force_col_wise=true` to remove the overhead.\n",
      "[LightGBM] [Info] Total Bins 5174\n",
      "[LightGBM] [Info] Number of data points in the train set: 33846, number of used features: 35\n",
      "[LightGBM] [Info] [binary:BoostFromScore]: pavg=0.892690 -> initscore=2.118522\n",
      "[LightGBM] [Info] Start training from score 2.118522\n",
      "Training until validation scores don't improve for 100 rounds\n",
      "[100]\ttraining's auc: 0.949902\tvalid_1's auc: 0.759957\n",
      "Did not meet early stopping. Best iteration is:\n",
      "[100]\ttraining's auc: 0.949902\tvalid_1's auc: 0.759957\n",
      "Time:  3.135[s]\n",
      "--------------------------------------------------------------------------------\n",
      "START fold 5\n",
      "[LightGBM] [Info] Number of positive: 30214, number of negative: 3632\n",
      "[LightGBM] [Warning] Auto-choosing col-wise multi-threading, the overhead of testing was 0.009588 seconds.\n",
      "You can set `force_col_wise=true` to remove the overhead.\n",
      "[LightGBM] [Info] Total Bins 5177\n",
      "[LightGBM] [Info] Number of data points in the train set: 33846, number of used features: 35\n",
      "[LightGBM] [Info] [binary:BoostFromScore]: pavg=0.892690 -> initscore=2.118522\n",
      "[LightGBM] [Info] Start training from score 2.118522\n",
      "Training until validation scores don't improve for 100 rounds\n",
      "[100]\ttraining's auc: 0.953052\tvalid_1's auc: 0.76149\n",
      "Did not meet early stopping. Best iteration is:\n",
      "[100]\ttraining's auc: 0.953052\tvalid_1's auc: 0.76149\n",
      "Time:  4.076[s]\n",
      "================================================================================\n",
      "FINISH!\n"
     ]
    }
   ],
   "source": [
    "lgb_params = {\n",
    "    'objective': 'binary',\n",
    "    'metric': 'auc',\n",
    "    'boosting_type': 'gbdt',\n",
    "    'seed': cfg.Params.seed,\n",
    "    'learning_rate': cfg.Params.learning_rate,\n",
    "}\n",
    "oof, models = training.fit_lgbm(train, lgb_params=lgb_params)\n",
    "oof_li.append(oof)\n",
    "models_li.append(models)"
   ],
   "metadata": {
    "collapsed": false,
    "ExecuteTime": {
     "end_time": "2024-01-27T09:16:50.225204Z",
     "start_time": "2024-01-27T09:16:31.597543Z"
    }
   }
  },
  {
   "cell_type": "markdown",
   "source": [
    "## Focal Loss"
   ],
   "metadata": {
    "collapsed": false
   }
  },
  {
   "cell_type": "code",
   "outputs": [
    {
     "name": "stdout",
     "output_type": "stream",
     "text": [
      "--------------------------------------------------------------------------------\n",
      "START fold 1\n",
      "[LightGBM] [Warning] Using self-defined objective function\n",
      "[LightGBM] [Warning] Auto-choosing col-wise multi-threading, the overhead of testing was 0.011139 seconds.\n",
      "You can set `force_col_wise=true` to remove the overhead.\n",
      "[LightGBM] [Info] Total Bins 5177\n",
      "[LightGBM] [Info] Number of data points in the train set: 33845, number of used features: 35\n",
      "[LightGBM] [Warning] Using self-defined objective function\n",
      "Training until validation scores don't improve for 100 rounds\n"
     ]
    },
    {
     "name": "stderr",
     "output_type": "stream",
     "text": [
      "/Users/taichi/anaconda3/envs/kaggle/lib/python3.9/site-packages/bokbokbok/utils/functions.py:16: RuntimeWarning: overflow encountered in exp\n",
      "  yhat = 1. / (1. + np.exp(-yhat))\n"
     ]
    },
    {
     "name": "stdout",
     "output_type": "stream",
     "text": [
      "[100]\ttraining's Focal_alpha0.2_gamma2.0: 1.60143\tvalid_1's Focal_alpha0.2_gamma2.0: 1.73868\n",
      "Did not meet early stopping. Best iteration is:\n",
      "[6]\ttraining's Focal_alpha0.2_gamma2.0: 0.0448094\tvalid_1's Focal_alpha0.2_gamma2.0: 0.139674\n",
      "Time:  3.353[s]\n",
      "--------------------------------------------------------------------------------\n",
      "START fold 2\n",
      "[LightGBM] [Warning] Using self-defined objective function\n",
      "[LightGBM] [Warning] Auto-choosing col-wise multi-threading, the overhead of testing was 0.009079 seconds.\n",
      "You can set `force_col_wise=true` to remove the overhead.\n",
      "[LightGBM] [Info] Total Bins 5184\n",
      "[LightGBM] [Info] Number of data points in the train set: 33845, number of used features: 35\n",
      "[LightGBM] [Warning] Using self-defined objective function\n",
      "Training until validation scores don't improve for 100 rounds\n",
      "[100]\ttraining's Focal_alpha0.2_gamma2.0: 1.83143\tvalid_1's Focal_alpha0.2_gamma2.0: 1.7892\n",
      "Did not meet early stopping. Best iteration is:\n",
      "[22]\ttraining's Focal_alpha0.2_gamma2.0: 0.0457543\tvalid_1's Focal_alpha0.2_gamma2.0: 0.185867\n",
      "Time:  3.791[s]\n",
      "--------------------------------------------------------------------------------\n",
      "START fold 3\n",
      "[LightGBM] [Warning] Using self-defined objective function\n",
      "[LightGBM] [Warning] Auto-choosing col-wise multi-threading, the overhead of testing was 0.008437 seconds.\n",
      "You can set `force_col_wise=true` to remove the overhead.\n",
      "[LightGBM] [Info] Total Bins 5178\n",
      "[LightGBM] [Info] Number of data points in the train set: 33846, number of used features: 35\n",
      "[LightGBM] [Warning] Using self-defined objective function\n",
      "Training until validation scores don't improve for 100 rounds\n",
      "[100]\ttraining's Focal_alpha0.2_gamma2.0: 1.10057\tvalid_1's Focal_alpha0.2_gamma2.0: 1.30991\n",
      "Did not meet early stopping. Best iteration is:\n",
      "[22]\ttraining's Focal_alpha0.2_gamma2.0: 0.0443517\tvalid_1's Focal_alpha0.2_gamma2.0: 0.241077\n",
      "Time:  3.256[s]\n",
      "--------------------------------------------------------------------------------\n",
      "START fold 4\n",
      "[LightGBM] [Warning] Using self-defined objective function\n",
      "[LightGBM] [Warning] Auto-choosing col-wise multi-threading, the overhead of testing was 0.010847 seconds.\n",
      "You can set `force_col_wise=true` to remove the overhead.\n",
      "[LightGBM] [Info] Total Bins 5174\n",
      "[LightGBM] [Info] Number of data points in the train set: 33846, number of used features: 35\n",
      "[LightGBM] [Warning] Using self-defined objective function\n",
      "Training until validation scores don't improve for 100 rounds\n",
      "[100]\ttraining's Focal_alpha0.2_gamma2.0: 3.03725\tvalid_1's Focal_alpha0.2_gamma2.0: 2.58239\n",
      "Did not meet early stopping. Best iteration is:\n",
      "[4]\ttraining's Focal_alpha0.2_gamma2.0: 0.0445657\tvalid_1's Focal_alpha0.2_gamma2.0: 0.0983678\n",
      "Time:  4.159[s]\n",
      "--------------------------------------------------------------------------------\n",
      "START fold 5\n",
      "[LightGBM] [Warning] Using self-defined objective function\n",
      "[LightGBM] [Warning] Auto-choosing row-wise multi-threading, the overhead of testing was 0.009382 seconds.\n",
      "You can set `force_row_wise=true` to remove the overhead.\n",
      "And if memory is not enough, you can set `force_col_wise=true`.\n",
      "[LightGBM] [Info] Total Bins 5177\n",
      "[LightGBM] [Info] Number of data points in the train set: 33846, number of used features: 35\n",
      "[LightGBM] [Warning] Using self-defined objective function\n",
      "Training until validation scores don't improve for 100 rounds\n",
      "[100]\ttraining's Focal_alpha0.2_gamma2.0: 2.51085\tvalid_1's Focal_alpha0.2_gamma2.0: 2.90461\n",
      "Did not meet early stopping. Best iteration is:\n",
      "[5]\ttraining's Focal_alpha0.2_gamma2.0: 0.0447159\tvalid_1's Focal_alpha0.2_gamma2.0: 0.141217\n",
      "Time:  4.658[s]\n",
      "================================================================================\n",
      "FINISH!\n"
     ]
    }
   ],
   "source": [
    "# Focal loss\n",
    "lgb_params = {\n",
    "    'objective': 'binary',\n",
    "    'metric': 'custom',\n",
    "    'boosting_type': 'gbdt',\n",
    "    'seed': cfg.Params.seed,\n",
    "    'learning_rate': cfg.Params.learning_rate,\n",
    "}\n",
    "oof, models = training.fit_lgbm_fl(train, lgb_params=lgb_params, alpha=0.2, gamma=2.0)\n",
    "oof_li.append(oof)\n",
    "models_li.append(models)"
   ],
   "metadata": {
    "collapsed": false,
    "ExecuteTime": {
     "end_time": "2024-01-27T09:17:09.662224Z",
     "start_time": "2024-01-27T09:16:50.228342Z"
    }
   },
   "execution_count": 10
  },
  {
   "cell_type": "markdown",
   "source": [
    "## Weighted Cross Entropy Loss"
   ],
   "metadata": {
    "collapsed": false
   }
  },
  {
   "cell_type": "code",
   "outputs": [
    {
     "name": "stdout",
     "output_type": "stream",
     "text": [
      "--------------------------------------------------------------------------------\n",
      "START fold 1\n",
      "[LightGBM] [Warning] Using self-defined objective function\n",
      "[LightGBM] [Warning] Auto-choosing col-wise multi-threading, the overhead of testing was 0.010156 seconds.\n",
      "You can set `force_col_wise=true` to remove the overhead.\n",
      "[LightGBM] [Info] Total Bins 5177\n",
      "[LightGBM] [Info] Number of data points in the train set: 33845, number of used features: 35\n",
      "[LightGBM] [Warning] Using self-defined objective function\n",
      "Training until validation scores don't improve for 100 rounds\n",
      "[100]\ttraining's WCE_alpha0.35: 0.125952\tvalid_1's WCE_alpha0.35: 0.195645\n",
      "Did not meet early stopping. Best iteration is:\n",
      "[100]\ttraining's WCE_alpha0.35: 0.125952\tvalid_1's WCE_alpha0.35: 0.195645\n",
      "Time:  3.149[s]\n",
      "--------------------------------------------------------------------------------\n",
      "START fold 2\n",
      "[LightGBM] [Warning] Using self-defined objective function\n",
      "[LightGBM] [Warning] Auto-choosing col-wise multi-threading, the overhead of testing was 0.010991 seconds.\n",
      "You can set `force_col_wise=true` to remove the overhead.\n",
      "[LightGBM] [Info] Total Bins 5184\n",
      "[LightGBM] [Info] Number of data points in the train set: 33845, number of used features: 35\n",
      "[LightGBM] [Warning] Using self-defined objective function\n",
      "Training until validation scores don't improve for 100 rounds\n",
      "[100]\ttraining's WCE_alpha0.35: 0.124803\tvalid_1's WCE_alpha0.35: 0.194734\n",
      "Did not meet early stopping. Best iteration is:\n",
      "[100]\ttraining's WCE_alpha0.35: 0.124803\tvalid_1's WCE_alpha0.35: 0.194734\n",
      "Time:  4.143[s]\n",
      "--------------------------------------------------------------------------------\n",
      "START fold 3\n",
      "[LightGBM] [Warning] Using self-defined objective function\n",
      "[LightGBM] [Warning] Auto-choosing col-wise multi-threading, the overhead of testing was 0.011832 seconds.\n",
      "You can set `force_col_wise=true` to remove the overhead.\n",
      "[LightGBM] [Info] Total Bins 5178\n",
      "[LightGBM] [Info] Number of data points in the train set: 33846, number of used features: 35\n",
      "[LightGBM] [Warning] Using self-defined objective function\n",
      "Training until validation scores don't improve for 100 rounds\n",
      "[100]\ttraining's WCE_alpha0.35: 0.12195\tvalid_1's WCE_alpha0.35: 0.208533\n",
      "Did not meet early stopping. Best iteration is:\n",
      "[100]\ttraining's WCE_alpha0.35: 0.12195\tvalid_1's WCE_alpha0.35: 0.208533\n",
      "Time:  2.652[s]\n",
      "--------------------------------------------------------------------------------\n",
      "START fold 4\n",
      "[LightGBM] [Warning] Using self-defined objective function\n",
      "[LightGBM] [Warning] Auto-choosing col-wise multi-threading, the overhead of testing was 0.009880 seconds.\n",
      "You can set `force_col_wise=true` to remove the overhead.\n",
      "[LightGBM] [Info] Total Bins 5174\n",
      "[LightGBM] [Info] Number of data points in the train set: 33846, number of used features: 35\n",
      "[LightGBM] [Warning] Using self-defined objective function\n",
      "Training until validation scores don't improve for 100 rounds\n",
      "[100]\ttraining's WCE_alpha0.35: 0.124512\tvalid_1's WCE_alpha0.35: 0.201776\n",
      "Did not meet early stopping. Best iteration is:\n",
      "[100]\ttraining's WCE_alpha0.35: 0.124512\tvalid_1's WCE_alpha0.35: 0.201776\n",
      "Time:  2.524[s]\n",
      "--------------------------------------------------------------------------------\n",
      "START fold 5\n",
      "[LightGBM] [Warning] Using self-defined objective function\n",
      "[LightGBM] [Warning] Auto-choosing col-wise multi-threading, the overhead of testing was 0.010936 seconds.\n",
      "You can set `force_col_wise=true` to remove the overhead.\n",
      "[LightGBM] [Info] Total Bins 5177\n",
      "[LightGBM] [Info] Number of data points in the train set: 33846, number of used features: 35\n",
      "[LightGBM] [Warning] Using self-defined objective function\n",
      "Training until validation scores don't improve for 100 rounds\n",
      "[100]\ttraining's WCE_alpha0.35: 0.123649\tvalid_1's WCE_alpha0.35: 0.207038\n",
      "Did not meet early stopping. Best iteration is:\n",
      "[100]\ttraining's WCE_alpha0.35: 0.123649\tvalid_1's WCE_alpha0.35: 0.207038\n",
      "Time:  2.563[s]\n",
      "================================================================================\n",
      "FINISH!\n"
     ]
    }
   ],
   "source": [
    "# Cross entropy loss\n",
    "lgb_params = {\n",
    "    'objective': 'binary',\n",
    "    'metric': 'custom',\n",
    "    'boosting_type': 'gbdt',\n",
    "    'seed': cfg.Params.seed,\n",
    "    'learning_rate': cfg.Params.learning_rate,\n",
    "}\n",
    "oof, models = training.fit_lgbm_wcel(train, lgb_params=lgb_params, alpha=0.35)\n",
    "oof_li.append(oof)\n",
    "models_li.append(models)"
   ],
   "metadata": {
    "collapsed": false,
    "ExecuteTime": {
     "end_time": "2024-01-27T09:17:24.999481Z",
     "start_time": "2024-01-27T09:17:09.653627Z"
    }
   },
   "execution_count": 11
  },
  {
   "cell_type": "markdown",
   "source": [
    "## Stacking"
   ],
   "metadata": {
    "collapsed": false
   }
  },
  {
   "cell_type": "code",
   "outputs": [
    {
     "name": "stdout",
     "output_type": "stream",
     "text": [
      "--------------------------------------------------------------------------------\n",
      "START fold 1\n",
      "Time:  0.043[s]\n",
      "--------------------------------------------------------------------------------\n",
      "START fold 2\n",
      "Time:  0.034[s]\n",
      "--------------------------------------------------------------------------------\n",
      "START fold 3\n",
      "Time:  0.042[s]\n",
      "--------------------------------------------------------------------------------\n",
      "START fold 4\n",
      "Time:  0.035[s]\n",
      "--------------------------------------------------------------------------------\n",
      "START fold 5\n",
      "Time:  0.043[s]\n",
      "================================================================================\n",
      "FINISH!\n"
     ]
    }
   ],
   "source": [
    "logistic_regression_params = {\n",
    "    'penalty': 'l2',\n",
    "    'C': 1.0,\n",
    "    'max_iter': 100,\n",
    "    'solver': 'lbfgs',\n",
    "    'random_state': cfg.Params.seed,\n",
    "    'class_weight': \"balanced\",\n",
    "}\n",
    "oof, meta_models = training.fit_stacking(train, oof_li)"
   ],
   "metadata": {
    "collapsed": false,
    "ExecuteTime": {
     "end_time": "2024-01-27T09:17:25.292576Z",
     "start_time": "2024-01-27T09:17:24.991150Z"
    }
   },
   "execution_count": 12
  },
  {
   "cell_type": "markdown",
   "metadata": {},
   "source": [
    "# Predict"
   ]
  },
  {
   "cell_type": "code",
   "outputs": [],
   "source": [
    "threshold = 0.75"
   ],
   "metadata": {
    "collapsed": false,
    "ExecuteTime": {
     "end_time": "2024-01-27T09:25:13.685500Z",
     "start_time": "2024-01-27T09:25:13.639500Z"
    }
   },
   "execution_count": 58
  },
  {
   "cell_type": "code",
   "outputs": [],
   "source": [
    "pred_probs = []\n",
    "for i, models in enumerate(models_li):\n",
    "    if i == 0:\n",
    "        # default\n",
    "        pred_probs.append(predict.predict_probability(models, test))\n",
    "    else:\n",
    "        # Focal loss or Cross entropy loss\n",
    "        pred_probs.append(predict.predict_probability_sigmoid(models, test))\n",
    "pred_prob = predict.predict_probability_stacking(meta_models, pred_probs)\n",
    "pred_class = predict.predict_class(pred_prob, threshold=threshold)"
   ],
   "metadata": {
    "collapsed": false,
    "ExecuteTime": {
     "end_time": "2024-01-27T09:25:15.848755Z",
     "start_time": "2024-01-27T09:25:14.240939Z"
    }
   },
   "execution_count": 59
  },
  {
   "cell_type": "markdown",
   "source": [
    "## CV score"
   ],
   "metadata": {
    "collapsed": false
   }
  },
  {
   "cell_type": "code",
   "outputs": [
    {
     "name": "stdout",
     "output_type": "stream",
     "text": [
      "0.6716277579030789\n"
     ]
    }
   ],
   "source": [
    "oof_truth = train[cfg.Cols.target].to_numpy()\n",
    "oof_hat = predict.predict_class(oof, threshold=threshold)\n",
    "cv_score = metrics.macro_f1_score(oof_truth, oof_hat)\n",
    "print(cv_score)"
   ],
   "metadata": {
    "collapsed": false,
    "ExecuteTime": {
     "end_time": "2024-01-27T09:20:20.262546Z",
     "start_time": "2024-01-27T09:20:20.231616Z"
    }
   },
   "execution_count": 50
  },
  {
   "cell_type": "markdown",
   "source": [
    "## Check result"
   ],
   "metadata": {
    "collapsed": false
   }
  },
  {
   "cell_type": "markdown",
   "source": [
    "### oofとtestの予測値分布を比較してバグを確認"
   ],
   "metadata": {
    "collapsed": false
   }
  },
  {
   "cell_type": "code",
   "outputs": [
    {
     "data": {
      "text/plain": "<Figure size 640x480 with 1 Axes>",
      "image/png": "[encoded data removed]"
     },
     "metadata": {},
     "output_type": "display_data"
    }
   ],
   "source": [
    "sns.histplot(oof)\n",
    "plt.xlim(0.0, 1.0)\n",
    "plt.show()"
   ],
   "metadata": {
    "collapsed": false,
    "ExecuteTime": {
     "end_time": "2024-01-27T09:20:24.732823Z",
     "start_time": "2024-01-27T09:20:23.808028Z"
    }
   },
   "execution_count": 51
  },
  {
   "cell_type": "code",
   "outputs": [
    {
     "data": {
      "text/plain": "<Figure size 640x480 with 1 Axes>",
      "image/png": "[encoded data removed]"
     },
     "metadata": {},
     "output_type": "display_data"
    }
   ],
   "source": [
    "sns.histplot(pred_prob)\n",
    "plt.xlim(0.0, 1.0)\n",
    "plt.show()"
   ],
   "metadata": {
    "collapsed": false,
    "ExecuteTime": {
     "end_time": "2024-01-27T09:20:26.767732Z",
     "start_time": "2024-01-27T09:20:25.799398Z"
    }
   },
   "execution_count": 52
  },
  {
   "cell_type": "markdown",
   "source": [
    "### 予測値の1の割合を確認"
   ],
   "metadata": {
    "collapsed": false
   }
  },
  {
   "cell_type": "code",
   "outputs": [
    {
     "name": "stdout",
     "output_type": "stream",
     "text": [
      "0.9493712772998014\n"
     ]
    }
   ],
   "source": [
    "print(pred_class.sum() / len(pred_class))"
   ],
   "metadata": {
    "collapsed": false,
    "ExecuteTime": {
     "end_time": "2024-01-27T09:20:29.479071Z",
     "start_time": "2024-01-27T09:20:29.457128Z"
    }
   },
   "execution_count": 53
  },
  {
   "cell_type": "markdown",
   "source": [
    "### oofにおける混同行列を確認"
   ],
   "metadata": {
    "collapsed": false
   }
  },
  {
   "cell_type": "code",
   "outputs": [
    {
     "name": "stdout",
     "output_type": "stream",
     "text": [
      "True Negative Rate (0の正解率): 0.33\n",
      "True Positive Rate (1の正解率): 0.96\n"
     ]
    },
    {
     "data": {
      "text/plain": "<Figure size 640x480 with 2 Axes>",
      "image/png": "[encoded data removed]"
     },
     "metadata": {},
     "output_type": "display_data"
    }
   ],
   "source": [
    "metrics.show_confusion_matrix(oof_truth, oof_hat)"
   ],
   "metadata": {
    "collapsed": false,
    "ExecuteTime": {
     "end_time": "2024-01-27T09:20:32.466387Z",
     "start_time": "2024-01-27T09:20:32.069321Z"
    }
   },
   "execution_count": 54
  },
  {
   "cell_type": "markdown",
   "source": [
    "## Submit"
   ],
   "metadata": {
    "collapsed": false
   }
  },
  {
   "cell_type": "code",
   "execution_count": 55,
   "metadata": {
    "ExecuteTime": {
     "end_time": "2024-01-27T09:20:39.753110Z",
     "start_time": "2024-01-27T09:20:39.724315Z"
    }
   },
   "outputs": [],
   "source": [
    "submit = submit.with_columns([pl.Series(cfg.Cols.sub_pred, pred_class)])\n",
    "utils.make_submission(submit, exp, cv_score)"
   ]
  },
  {
   "cell_type": "code",
   "outputs": [],
   "source": [],
   "metadata": {
    "collapsed": false,
    "ExecuteTime": {
     "end_time": "2024-01-27T09:17:29.441862Z",
     "start_time": "2024-01-27T09:17:29.437687Z"
    }
   },
   "execution_count": 20
  }
 ],
 "metadata": {
  "kernelspec": {
   "display_name": "kaggle",
   "language": "python",
   "name": "kaggle"
  },
  "language_info": {
   "codemirror_mode": {
    "name": "ipython",
    "version": 3
   },
   "file_extension": ".py",
   "mimetype": "text/x-python",
   "name": "python",
   "nbconvert_exporter": "python",
   "pygments_lexer": "ipython3",
   "version": "3.9.18"
  }
 },
 "nbformat": 4,
 "nbformat_minor": 4
}
