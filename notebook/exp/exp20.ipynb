{
 "cells": [
  {
   "cell_type": "markdown",
   "source": [
    "# TODO\n",
    "\n",
    "- Staking\n",
    "- Log loss(weighted) + Focal loss + Weighted cross entropy loss"
   ],
   "metadata": {
    "collapsed": false
   }
  },
  {
   "cell_type": "markdown",
   "source": [
    "# Setting"
   ],
   "metadata": {
    "collapsed": false
   }
  },
  {
   "cell_type": "code",
   "execution_count": 83,
   "outputs": [],
   "source": [
    "import sys\n",
    "\n",
    "import polars as pl\n",
    "import seaborn as sns\n",
    "import matplotlib.pyplot as plt\n",
    "\n",
    "root_dir = \"../../\"\n",
    "if root_dir not in sys.path:\n",
    "    sys.path.append(root_dir)\n",
    "from modules import config as cfg\n",
    "from modules import utils, preprosess, training, predict, metrics\n",
    "\n",
    "exp = \"exp20\"\n",
    "utils.set_seed(cfg.Params.seed)"
   ],
   "metadata": {
    "collapsed": false,
    "ExecuteTime": {
     "end_time": "2024-01-29T09:25:58.073361Z",
     "start_time": "2024-01-29T09:25:57.918822Z"
    }
   }
  },
  {
   "cell_type": "markdown",
   "metadata": {
    "collapsed": false,
    "ExecuteTime": {
     "end_time": "2024-01-21T07:23:00.806250Z",
     "start_time": "2024-01-21T07:22:58.502427Z"
    }
   },
   "source": [
    "# Read data"
   ]
  },
  {
   "cell_type": "code",
   "execution_count": 84,
   "metadata": {
    "collapsed": false,
    "ExecuteTime": {
     "end_time": "2024-01-29T09:25:58.427675Z",
     "start_time": "2024-01-29T09:25:58.078780Z"
    }
   },
   "outputs": [],
   "source": [
    "train, test, submit = utils.get_data(debug_mode=False)"
   ]
  },
  {
   "cell_type": "markdown",
   "metadata": {
    "collapsed": false
   },
   "source": [
    "# Preprocessing"
   ]
  },
  {
   "cell_type": "markdown",
   "source": [
    "## Split fold"
   ],
   "metadata": {
    "collapsed": false
   }
  },
  {
   "cell_type": "code",
   "execution_count": 85,
   "outputs": [],
   "source": [
    "train = preprosess.assign_stratified_k_fold(train)"
   ],
   "metadata": {
    "collapsed": false,
    "ExecuteTime": {
     "end_time": "2024-01-29T09:25:58.622481Z",
     "start_time": "2024-01-29T09:25:58.381574Z"
    }
   }
  },
  {
   "cell_type": "markdown",
   "source": [
    "## Convert"
   ],
   "metadata": {
    "collapsed": false
   }
  },
  {
   "cell_type": "code",
   "execution_count": 86,
   "metadata": {
    "collapsed": false,
    "ExecuteTime": {
     "end_time": "2024-01-29T09:25:59.021406Z",
     "start_time": "2024-01-29T09:25:58.523994Z"
    }
   },
   "outputs": [],
   "source": [
    "# 地名を座標に変換\n",
    "train = preprosess.convert_to_latlon(train)\n",
    "test  = preprosess.convert_to_latlon(test)\n",
    "\n",
    "# testのBankStateの\"PR\"はtrainにないため，一番多いCAに変換\n",
    "test = test.with_columns(pl.col(\"BankState\").str.replace(\"PR\", \"CA\"))\n",
    "\n",
    "# DisbursementDateとApprovalDateをYear(数値)に変換\n",
    "cols  = [\"DisbursementDate\", \"ApprovalDate\"]\n",
    "train = preprosess.convert_date_to_year(train, cols)\n",
    "test  = preprosess.convert_date_to_year(test, cols)\n",
    "\n",
    "# 金額データの数値化\n",
    "cols  = [\"DisbursementGross\",  \"GrAppv\", \"SBA_Appv\"]\n",
    "train = preprosess.convert_money_data(train, cols)\n",
    "test  = preprosess.convert_money_data(test, cols)\n",
    "\n",
    "# 一致しているか\n",
    "eqs = [\n",
    "    [\"State\", \"BankState\"],\n",
    "]\n",
    "train = preprosess.add_eq(train, eqs)\n",
    "test  = preprosess.add_eq(test, eqs)\n",
    "\n",
    "# 差の計算\n",
    "diffs = [\n",
    "    [\"DisbursementGross\", \"GrAppv\"],   # 支払われた額 vs 銀行承認額\n",
    "    [\"DisbursementGross\", \"SBA_Appv\"], # 支払われた額 vs SBA承認額\n",
    "    [\"GrAppv\", \"SBA_Appv\"],            # 銀行承認額 vs SBA承認額\n",
    "]\n",
    "train = preprosess.add_diff(train, diffs)\n",
    "test  = preprosess.add_diff(test, diffs)\n",
    "\n",
    "# DisbursementDateとApprovalDateの差を計算\n",
    "train = preprosess.add_diff_disbursement_with_approval(train)\n",
    "test  = preprosess.add_diff_disbursement_with_approval(test)\n",
    "\n",
    "# 割合の計算\n",
    "divs = [\n",
    "    # [\"DisbursementGross\", \"Term\"],\n",
    "    [\"GrAppv\", \"Term\"],\n",
    "    [\"SBA_Appv\", \"Term\"],\n",
    "    [\"NoEmp\", \"Term\"],\n",
    "    # [\"DisbursementGross\", \"NoEmp\"],\n",
    "    # [\"GrAppv\", \"NoEmp\"],\n",
    "    # [\"SBA_Appv\", \"NoEmp\"],\n",
    "    [\"DisbursementGross_GrAppv_diff\", \"Term\"],\n",
    "    [\"DisbursementGross_SBA_Appv_diff\", \"Term\"],\n",
    "    [\"GrAppv_SBA_Appv_diff\", \"Term\"],\n",
    "    # [\"DisbursementGross_GrAppv_diff\", \"NoEmp\"],\n",
    "    # [\"DisbursementGross_SBA_Appv_diff\", \"NoEmp\"],\n",
    "    # [\"GrAppv_SBA_Appv_diff\", \"NoEmp\"]\n",
    "]\n",
    "train = preprosess.add_div(train, divs)\n",
    "test  = preprosess.add_div(test, divs)\n",
    "\n",
    "# Sectorを職業別にする\n",
    "train = preprosess.unify_same_sector(train)\n",
    "test  = preprosess.unify_same_sector(test)"
   ]
  },
  {
   "cell_type": "markdown",
   "source": [
    "## Target encoding"
   ],
   "metadata": {
    "collapsed": false
   }
  },
  {
   "cell_type": "code",
   "execution_count": 87,
   "outputs": [],
   "source": [
    "cols = [\n",
    "    # \"Sector\",\n",
    "    \"UrbanRural\",\n",
    "    \"RevLineCr\",\n",
    "    \"LowDoc\",\n",
    "    \"FranchiseCode\",\n",
    "]\n",
    "target_col = \"MIS_Status\"\n",
    "train, test = preprosess.target_encoding(train, test, cols)"
   ],
   "metadata": {
    "collapsed": false,
    "ExecuteTime": {
     "end_time": "2024-01-29T09:25:59.229493Z",
     "start_time": "2024-01-29T09:25:59.026552Z"
    }
   }
  },
  {
   "cell_type": "markdown",
   "source": [
    "## Label encoding\n",
    "CVによるtarget encodingでは同じカテゴリカル変数に異なる値が割り当てられるのでlabel encodingを併用する"
   ],
   "metadata": {
    "collapsed": false
   }
  },
  {
   "cell_type": "code",
   "execution_count": 88,
   "outputs": [],
   "source": [
    "cols = [\"RevLineCr\", \"LowDoc\"]\n",
    "train, test = preprosess.label_encoding(train, test, cols)"
   ],
   "metadata": {
    "collapsed": false,
    "ExecuteTime": {
     "end_time": "2024-01-29T09:25:59.321042Z",
     "start_time": "2024-01-29T09:25:59.171377Z"
    }
   }
  },
  {
   "cell_type": "markdown",
   "source": [
    "## Loss Weight"
   ],
   "metadata": {
    "collapsed": false
   }
  },
  {
   "cell_type": "code",
   "outputs": [],
   "source": [
    "weight = [0.82, 0.18]\n",
    "train = preprosess.add_loss_weight(train, weight)"
   ],
   "metadata": {
    "collapsed": false,
    "ExecuteTime": {
     "end_time": "2024-01-29T09:25:59.381010Z",
     "start_time": "2024-01-29T09:25:59.262423Z"
    }
   },
   "execution_count": 89
  },
  {
   "cell_type": "markdown",
   "source": [
    "# Drop columns"
   ],
   "metadata": {
    "collapsed": false
   }
  },
  {
   "cell_type": "code",
   "execution_count": 90,
   "outputs": [],
   "source": [
    "# 不要なカラムの削除\n",
    "del_cols = [\n",
    "    # 地名系\n",
    "    \"City\",\n",
    "    \"State\",\n",
    "    \"BankState\",\n",
    "    # d-b-y系\n",
    "    \"DisbursementDate\",\n",
    "    \"ApprovalDate\",\n",
    "    \"ApprovalFY\",\n",
    "    # ラベルエンコーディング済み\n",
    "    \"RevLineCr\",\n",
    "    \"LowDoc\",\n",
    "]\n",
    "train = train.drop(del_cols)\n",
    "test  = test.drop(del_cols)"
   ],
   "metadata": {
    "collapsed": false,
    "ExecuteTime": {
     "end_time": "2024-01-29T09:25:59.384003Z",
     "start_time": "2024-01-29T09:25:59.272180Z"
    }
   }
  },
  {
   "cell_type": "markdown",
   "metadata": {
    "collapsed": false
   },
   "source": [
    "# Training"
   ]
  },
  {
   "cell_type": "code",
   "outputs": [],
   "source": [
    "oof_li = []\n",
    "models_li = []"
   ],
   "metadata": {
    "collapsed": false,
    "ExecuteTime": {
     "end_time": "2024-01-29T09:25:59.498513Z",
     "start_time": "2024-01-29T09:25:59.285079Z"
    }
   },
   "execution_count": 91
  },
  {
   "cell_type": "markdown",
   "source": [
    "## Default"
   ],
   "metadata": {
    "collapsed": false
   }
  },
  {
   "cell_type": "code",
   "execution_count": 92,
   "outputs": [
    {
     "name": "stdout",
     "output_type": "stream",
     "text": [
      "--------------------------------------------------------------------------------\n",
      "START fold 1\n",
      "[LightGBM] [Info] Number of positive: 30213, number of negative: 3632\n",
      "[LightGBM] [Warning] Auto-choosing col-wise multi-threading, the overhead of testing was 0.021867 seconds.\n",
      "You can set `force_col_wise=true` to remove the overhead.\n",
      "[LightGBM] [Info] Total Bins 5177\n",
      "[LightGBM] [Info] Number of data points in the train set: 33845, number of used features: 35\n",
      "[LightGBM] [Info] [binary:BoostFromScore]: pavg=0.646146 -> initscore=0.602141\n",
      "[LightGBM] [Info] Start training from score 0.602141\n",
      "Training until validation scores don't improve for 200 rounds\n",
      "[100]\ttraining's auc: 0.794832\ttraining's macro_f1: 0.678921\tvalid_1's auc: 0.772302\tvalid_1's macro_f1: 0.684461\n",
      "Did not meet early stopping. Best iteration is:\n",
      "[100]\ttraining's auc: 0.794832\ttraining's macro_f1: 0.678921\tvalid_1's auc: 0.772302\tvalid_1's macro_f1: 0.684461\n",
      "Time:  13.235[s]\n",
      "--------------------------------------------------------------------------------\n",
      "START fold 2\n"
     ]
    },
    {
     "name": "stderr",
     "output_type": "stream",
     "text": [
      "/Users/taichi/anaconda3/envs/kaggle/lib/python3.9/site-packages/lightgbm/basic.py:859: UserWarning: Converting data to scipy sparse matrix.\n",
      "  _log_warning('Converting data to scipy sparse matrix.')\n"
     ]
    },
    {
     "name": "stdout",
     "output_type": "stream",
     "text": [
      "[LightGBM] [Info] Number of positive: 30213, number of negative: 3632\n",
      "[LightGBM] [Warning] Auto-choosing col-wise multi-threading, the overhead of testing was 0.011358 seconds.\n",
      "You can set `force_col_wise=true` to remove the overhead.\n",
      "[LightGBM] [Info] Total Bins 5184\n",
      "[LightGBM] [Info] Number of data points in the train set: 33845, number of used features: 35\n",
      "[LightGBM] [Info] [binary:BoostFromScore]: pavg=0.646146 -> initscore=0.602141\n",
      "[LightGBM] [Info] Start training from score 0.602141\n",
      "Training until validation scores don't improve for 200 rounds\n",
      "[100]\ttraining's auc: 0.79475\ttraining's macro_f1: 0.681262\tvalid_1's auc: 0.770944\tvalid_1's macro_f1: 0.67352\n",
      "Did not meet early stopping. Best iteration is:\n",
      "[100]\ttraining's auc: 0.79475\ttraining's macro_f1: 0.681262\tvalid_1's auc: 0.770944\tvalid_1's macro_f1: 0.67352\n",
      "Time:  9.187[s]\n",
      "--------------------------------------------------------------------------------\n",
      "START fold 3\n"
     ]
    },
    {
     "name": "stderr",
     "output_type": "stream",
     "text": [
      "/Users/taichi/anaconda3/envs/kaggle/lib/python3.9/site-packages/lightgbm/basic.py:859: UserWarning: Converting data to scipy sparse matrix.\n",
      "  _log_warning('Converting data to scipy sparse matrix.')\n"
     ]
    },
    {
     "name": "stdout",
     "output_type": "stream",
     "text": [
      "[LightGBM] [Info] Number of positive: 30214, number of negative: 3632\n",
      "[LightGBM] [Warning] Auto-choosing row-wise multi-threading, the overhead of testing was 0.014634 seconds.\n",
      "You can set `force_row_wise=true` to remove the overhead.\n",
      "And if memory is not enough, you can set `force_col_wise=true`.\n",
      "[LightGBM] [Info] Total Bins 5178\n",
      "[LightGBM] [Info] Number of data points in the train set: 33846, number of used features: 35\n",
      "[LightGBM] [Info] [binary:BoostFromScore]: pavg=0.646154 -> initscore=0.602174\n",
      "[LightGBM] [Info] Start training from score 0.602174\n",
      "Training until validation scores don't improve for 200 rounds\n",
      "[100]\ttraining's auc: 0.799253\ttraining's macro_f1: 0.686827\tvalid_1's auc: 0.754556\tvalid_1's macro_f1: 0.657948\n",
      "Did not meet early stopping. Best iteration is:\n",
      "[100]\ttraining's auc: 0.799253\ttraining's macro_f1: 0.686827\tvalid_1's auc: 0.754556\tvalid_1's macro_f1: 0.657948\n",
      "Time:  8.038[s]\n",
      "--------------------------------------------------------------------------------\n",
      "START fold 4\n"
     ]
    },
    {
     "name": "stderr",
     "output_type": "stream",
     "text": [
      "/Users/taichi/anaconda3/envs/kaggle/lib/python3.9/site-packages/lightgbm/basic.py:859: UserWarning: Converting data to scipy sparse matrix.\n",
      "  _log_warning('Converting data to scipy sparse matrix.')\n"
     ]
    },
    {
     "name": "stdout",
     "output_type": "stream",
     "text": [
      "[LightGBM] [Info] Number of positive: 30214, number of negative: 3632\n",
      "[LightGBM] [Warning] Auto-choosing row-wise multi-threading, the overhead of testing was 0.009839 seconds.\n",
      "You can set `force_row_wise=true` to remove the overhead.\n",
      "And if memory is not enough, you can set `force_col_wise=true`.\n",
      "[LightGBM] [Info] Total Bins 5174\n",
      "[LightGBM] [Info] Number of data points in the train set: 33846, number of used features: 35\n",
      "[LightGBM] [Info] [binary:BoostFromScore]: pavg=0.646154 -> initscore=0.602174\n",
      "[LightGBM] [Info] Start training from score 0.602174\n",
      "Training until validation scores don't improve for 200 rounds\n",
      "[100]\ttraining's auc: 0.795917\ttraining's macro_f1: 0.682867\tvalid_1's auc: 0.764371\tvalid_1's macro_f1: 0.666525\n",
      "Did not meet early stopping. Best iteration is:\n",
      "[100]\ttraining's auc: 0.795917\ttraining's macro_f1: 0.682867\tvalid_1's auc: 0.764371\tvalid_1's macro_f1: 0.666525\n",
      "Time:  7.613[s]\n",
      "--------------------------------------------------------------------------------\n",
      "START fold 5\n"
     ]
    },
    {
     "name": "stderr",
     "output_type": "stream",
     "text": [
      "/Users/taichi/anaconda3/envs/kaggle/lib/python3.9/site-packages/lightgbm/basic.py:859: UserWarning: Converting data to scipy sparse matrix.\n",
      "  _log_warning('Converting data to scipy sparse matrix.')\n"
     ]
    },
    {
     "name": "stdout",
     "output_type": "stream",
     "text": [
      "[LightGBM] [Info] Number of positive: 30214, number of negative: 3632\n",
      "[LightGBM] [Warning] Auto-choosing col-wise multi-threading, the overhead of testing was 0.008324 seconds.\n",
      "You can set `force_col_wise=true` to remove the overhead.\n",
      "[LightGBM] [Info] Total Bins 5177\n",
      "[LightGBM] [Info] Number of data points in the train set: 33846, number of used features: 35\n",
      "[LightGBM] [Info] [binary:BoostFromScore]: pavg=0.646154 -> initscore=0.602174\n",
      "[LightGBM] [Info] Start training from score 0.602174\n",
      "Training until validation scores don't improve for 200 rounds\n",
      "[100]\ttraining's auc: 0.79625\ttraining's macro_f1: 0.679722\tvalid_1's auc: 0.767476\tvalid_1's macro_f1: 0.675309\n",
      "Did not meet early stopping. Best iteration is:\n",
      "[100]\ttraining's auc: 0.79625\ttraining's macro_f1: 0.679722\tvalid_1's auc: 0.767476\tvalid_1's macro_f1: 0.675309\n",
      "Time:  8.011[s]\n",
      "================================================================================\n",
      "FINISH!\n"
     ]
    },
    {
     "name": "stderr",
     "output_type": "stream",
     "text": [
      "/Users/taichi/anaconda3/envs/kaggle/lib/python3.9/site-packages/lightgbm/basic.py:859: UserWarning: Converting data to scipy sparse matrix.\n",
      "  _log_warning('Converting data to scipy sparse matrix.')\n"
     ]
    }
   ],
   "source": [
    "lgb_params = {\n",
    "    'objective': 'binary',\n",
    "    'metric': 'auc',\n",
    "    'boosting_type': 'gbdt',\n",
    "    'seed': cfg.Params.seed,\n",
    "    'learning_rate': cfg.Params.learning_rate,\n",
    "}\n",
    "oof, models = training.fit_lgbm(train, lgb_params=lgb_params)\n",
    "oof_li.append(oof)\n",
    "models_li.append(models)"
   ],
   "metadata": {
    "collapsed": false,
    "ExecuteTime": {
     "end_time": "2024-01-29T09:26:45.912859Z",
     "start_time": "2024-01-29T09:25:59.357257Z"
    }
   }
  },
  {
   "cell_type": "markdown",
   "source": [
    "## Focal Loss"
   ],
   "metadata": {
    "collapsed": false
   }
  },
  {
   "cell_type": "code",
   "outputs": [
    {
     "name": "stdout",
     "output_type": "stream",
     "text": [
      "--------------------------------------------------------------------------------\n",
      "START fold 1\n",
      "[LightGBM] [Warning] Using self-defined objective function\n",
      "[LightGBM] [Warning] Auto-choosing row-wise multi-threading, the overhead of testing was 0.007956 seconds.\n",
      "You can set `force_row_wise=true` to remove the overhead.\n",
      "And if memory is not enough, you can set `force_col_wise=true`.\n",
      "[LightGBM] [Info] Total Bins 5177\n",
      "[LightGBM] [Info] Number of data points in the train set: 33845, number of used features: 35\n",
      "[LightGBM] [Warning] Using self-defined objective function\n",
      "Training until validation scores don't improve for 200 rounds\n",
      "[100]\ttraining's Focal_alpha0.2_gamma2.0: 0.0277958\tvalid_1's Focal_alpha0.2_gamma2.0: 0.046064\n",
      "Did not meet early stopping. Best iteration is:\n",
      "[100]\ttraining's Focal_alpha0.2_gamma2.0: 0.0277958\tvalid_1's Focal_alpha0.2_gamma2.0: 0.046064\n",
      "Time:  4.956[s]\n",
      "--------------------------------------------------------------------------------\n",
      "START fold 2\n",
      "[LightGBM] [Warning] Using self-defined objective function\n",
      "[LightGBM] [Warning] Auto-choosing col-wise multi-threading, the overhead of testing was 0.011206 seconds.\n",
      "You can set `force_col_wise=true` to remove the overhead.\n",
      "[LightGBM] [Info] Total Bins 5184\n",
      "[LightGBM] [Info] Number of data points in the train set: 33845, number of used features: 35\n",
      "[LightGBM] [Warning] Using self-defined objective function\n",
      "Training until validation scores don't improve for 200 rounds\n",
      "[100]\ttraining's Focal_alpha0.2_gamma2.0: 0.0282225\tvalid_1's Focal_alpha0.2_gamma2.0: 0.0436644\n",
      "Did not meet early stopping. Best iteration is:\n",
      "[100]\ttraining's Focal_alpha0.2_gamma2.0: 0.0282225\tvalid_1's Focal_alpha0.2_gamma2.0: 0.0436644\n",
      "Time:  4.862[s]\n",
      "--------------------------------------------------------------------------------\n",
      "START fold 3\n",
      "[LightGBM] [Warning] Using self-defined objective function\n",
      "[LightGBM] [Warning] Auto-choosing col-wise multi-threading, the overhead of testing was 0.008839 seconds.\n",
      "You can set `force_col_wise=true` to remove the overhead.\n",
      "[LightGBM] [Info] Total Bins 5178\n",
      "[LightGBM] [Info] Number of data points in the train set: 33846, number of used features: 35\n",
      "[LightGBM] [Warning] Using self-defined objective function\n",
      "Training until validation scores don't improve for 200 rounds\n",
      "[100]\ttraining's Focal_alpha0.2_gamma2.0: 0.0281858\tvalid_1's Focal_alpha0.2_gamma2.0: 0.0467575\n",
      "Did not meet early stopping. Best iteration is:\n",
      "[100]\ttraining's Focal_alpha0.2_gamma2.0: 0.0281858\tvalid_1's Focal_alpha0.2_gamma2.0: 0.0467575\n",
      "Time:  3.774[s]\n",
      "--------------------------------------------------------------------------------\n",
      "START fold 4\n",
      "[LightGBM] [Warning] Using self-defined objective function\n",
      "[LightGBM] [Warning] Auto-choosing col-wise multi-threading, the overhead of testing was 0.008422 seconds.\n",
      "You can set `force_col_wise=true` to remove the overhead.\n",
      "[LightGBM] [Info] Total Bins 5174\n",
      "[LightGBM] [Info] Number of data points in the train set: 33846, number of used features: 35\n",
      "[LightGBM] [Warning] Using self-defined objective function\n",
      "Training until validation scores don't improve for 200 rounds\n",
      "[100]\ttraining's Focal_alpha0.2_gamma2.0: 0.0276877\tvalid_1's Focal_alpha0.2_gamma2.0: 0.0463667\n",
      "Did not meet early stopping. Best iteration is:\n",
      "[100]\ttraining's Focal_alpha0.2_gamma2.0: 0.0276877\tvalid_1's Focal_alpha0.2_gamma2.0: 0.0463667\n",
      "Time:  3.805[s]\n",
      "--------------------------------------------------------------------------------\n",
      "START fold 5\n",
      "[LightGBM] [Warning] Using self-defined objective function\n",
      "[LightGBM] [Warning] Auto-choosing col-wise multi-threading, the overhead of testing was 0.009560 seconds.\n",
      "You can set `force_col_wise=true` to remove the overhead.\n",
      "[LightGBM] [Info] Total Bins 5177\n",
      "[LightGBM] [Info] Number of data points in the train set: 33846, number of used features: 35\n",
      "[LightGBM] [Warning] Using self-defined objective function\n",
      "Training until validation scores don't improve for 200 rounds\n",
      "[100]\ttraining's Focal_alpha0.2_gamma2.0: 0.0277033\tvalid_1's Focal_alpha0.2_gamma2.0: 0.0460526\n",
      "Did not meet early stopping. Best iteration is:\n",
      "[100]\ttraining's Focal_alpha0.2_gamma2.0: 0.0277033\tvalid_1's Focal_alpha0.2_gamma2.0: 0.0460526\n",
      "Time:  3.506[s]\n",
      "================================================================================\n",
      "FINISH!\n"
     ]
    }
   ],
   "source": [
    "# Focal loss\n",
    "lgb_params = {\n",
    "    'objective': 'binary',\n",
    "    'metric': 'custom',\n",
    "    'boosting_type': 'gbdt',\n",
    "    'seed': cfg.Params.seed,\n",
    "    'learning_rate': cfg.Params.learning_rate,\n",
    "}\n",
    "drop_cols = [cfg.Cols.weight]\n",
    "oof, models = training.fit_lgbm_fl(train, drop_cols=drop_cols, lgb_params=lgb_params, alpha=0.2, gamma=2.0)\n",
    "oof_li.append(oof)\n",
    "models_li.append(models)"
   ],
   "metadata": {
    "collapsed": false,
    "ExecuteTime": {
     "end_time": "2024-01-29T09:27:07.166222Z",
     "start_time": "2024-01-29T09:26:45.924352Z"
    }
   },
   "execution_count": 93
  },
  {
   "cell_type": "markdown",
   "source": [
    "## Weighted Cross Entropy Loss"
   ],
   "metadata": {
    "collapsed": false
   }
  },
  {
   "cell_type": "code",
   "outputs": [
    {
     "name": "stdout",
     "output_type": "stream",
     "text": [
      "--------------------------------------------------------------------------------\n",
      "START fold 1\n",
      "[LightGBM] [Warning] Using self-defined objective function\n",
      "[LightGBM] [Warning] Auto-choosing col-wise multi-threading, the overhead of testing was 0.009910 seconds.\n",
      "You can set `force_col_wise=true` to remove the overhead.\n",
      "[LightGBM] [Info] Total Bins 5177\n",
      "[LightGBM] [Info] Number of data points in the train set: 33845, number of used features: 35\n",
      "[LightGBM] [Warning] Using self-defined objective function\n",
      "Training until validation scores don't improve for 200 rounds\n",
      "[100]\ttraining's WCE_alpha0.35: 0.210405\tvalid_1's WCE_alpha0.35: 0.211012\n",
      "Did not meet early stopping. Best iteration is:\n",
      "[100]\ttraining's WCE_alpha0.35: 0.210405\tvalid_1's WCE_alpha0.35: 0.211012\n",
      "Time:  2.883[s]\n",
      "--------------------------------------------------------------------------------\n",
      "START fold 2\n",
      "[LightGBM] [Warning] Using self-defined objective function\n",
      "[LightGBM] [Warning] Auto-choosing row-wise multi-threading, the overhead of testing was 0.004734 seconds.\n",
      "You can set `force_row_wise=true` to remove the overhead.\n",
      "And if memory is not enough, you can set `force_col_wise=true`.\n",
      "[LightGBM] [Info] Total Bins 5184\n",
      "[LightGBM] [Info] Number of data points in the train set: 33845, number of used features: 35\n",
      "[LightGBM] [Warning] Using self-defined objective function\n",
      "Training until validation scores don't improve for 200 rounds\n",
      "[100]\ttraining's WCE_alpha0.35: 0.210119\tvalid_1's WCE_alpha0.35: 0.21258\n",
      "Did not meet early stopping. Best iteration is:\n",
      "[100]\ttraining's WCE_alpha0.35: 0.210119\tvalid_1's WCE_alpha0.35: 0.21258\n",
      "Time:  2.343[s]\n",
      "--------------------------------------------------------------------------------\n",
      "START fold 3\n",
      "[LightGBM] [Warning] Using self-defined objective function\n",
      "[LightGBM] [Warning] Auto-choosing col-wise multi-threading, the overhead of testing was 0.009429 seconds.\n",
      "You can set `force_col_wise=true` to remove the overhead.\n",
      "[LightGBM] [Info] Total Bins 5178\n",
      "[LightGBM] [Info] Number of data points in the train set: 33846, number of used features: 35\n",
      "[LightGBM] [Warning] Using self-defined objective function\n",
      "Training until validation scores don't improve for 200 rounds\n",
      "[100]\ttraining's WCE_alpha0.35: 0.208935\tvalid_1's WCE_alpha0.35: 0.215374\n",
      "Did not meet early stopping. Best iteration is:\n",
      "[100]\ttraining's WCE_alpha0.35: 0.208935\tvalid_1's WCE_alpha0.35: 0.215374\n",
      "Time:  2.642[s]\n",
      "--------------------------------------------------------------------------------\n",
      "START fold 4\n",
      "[LightGBM] [Warning] Using self-defined objective function\n",
      "[LightGBM] [Warning] Auto-choosing col-wise multi-threading, the overhead of testing was 0.009005 seconds.\n",
      "You can set `force_col_wise=true` to remove the overhead.\n",
      "[LightGBM] [Info] Total Bins 5174\n",
      "[LightGBM] [Info] Number of data points in the train set: 33846, number of used features: 35\n",
      "[LightGBM] [Warning] Using self-defined objective function\n",
      "Training until validation scores don't improve for 200 rounds\n",
      "[100]\ttraining's WCE_alpha0.35: 0.209711\tvalid_1's WCE_alpha0.35: 0.214243\n",
      "Did not meet early stopping. Best iteration is:\n",
      "[100]\ttraining's WCE_alpha0.35: 0.209711\tvalid_1's WCE_alpha0.35: 0.214243\n",
      "Time:  3.312[s]\n",
      "--------------------------------------------------------------------------------\n",
      "START fold 5\n",
      "[LightGBM] [Warning] Using self-defined objective function\n",
      "[LightGBM] [Warning] Auto-choosing row-wise multi-threading, the overhead of testing was 0.006066 seconds.\n",
      "You can set `force_row_wise=true` to remove the overhead.\n",
      "And if memory is not enough, you can set `force_col_wise=true`.\n",
      "[LightGBM] [Info] Total Bins 5177\n",
      "[LightGBM] [Info] Number of data points in the train set: 33846, number of used features: 35\n",
      "[LightGBM] [Warning] Using self-defined objective function\n",
      "Training until validation scores don't improve for 200 rounds\n",
      "[100]\ttraining's WCE_alpha0.35: 0.210292\tvalid_1's WCE_alpha0.35: 0.212142\n",
      "Did not meet early stopping. Best iteration is:\n",
      "[100]\ttraining's WCE_alpha0.35: 0.210292\tvalid_1's WCE_alpha0.35: 0.212142\n",
      "Time:  2.790[s]\n",
      "================================================================================\n",
      "FINISH!\n"
     ]
    }
   ],
   "source": [
    "# Cross entropy loss\n",
    "lgb_params = {\n",
    "    'objective': 'binary',\n",
    "    'metric': 'custom',\n",
    "    'boosting_type': 'gbdt',\n",
    "    'seed': cfg.Params.seed,\n",
    "    'learning_rate': cfg.Params.learning_rate,\n",
    "}\n",
    "drop_cols = [cfg.Cols.weight]\n",
    "oof, models = training.fit_lgbm_wcel(train, drop_cols=drop_cols, lgb_params=lgb_params, alpha=0.35)\n",
    "oof_li.append(oof)\n",
    "models_li.append(models)"
   ],
   "metadata": {
    "collapsed": false,
    "ExecuteTime": {
     "end_time": "2024-01-29T09:27:21.464861Z",
     "start_time": "2024-01-29T09:27:07.172737Z"
    }
   },
   "execution_count": 94
  },
  {
   "cell_type": "markdown",
   "source": [
    "## Stacking"
   ],
   "metadata": {
    "collapsed": false
   }
  },
  {
   "cell_type": "code",
   "outputs": [
    {
     "name": "stdout",
     "output_type": "stream",
     "text": [
      "--------------------------------------------------------------------------------\n",
      "START fold 1\n",
      "Time:  0.146[s]\n",
      "--------------------------------------------------------------------------------\n",
      "START fold 2\n",
      "Time:  0.027[s]\n",
      "--------------------------------------------------------------------------------\n",
      "START fold 3\n",
      "Time:  0.029[s]\n",
      "--------------------------------------------------------------------------------\n",
      "START fold 4\n",
      "Time:  0.029[s]\n",
      "--------------------------------------------------------------------------------\n",
      "START fold 5\n",
      "Time:  0.029[s]\n",
      "================================================================================\n",
      "FINISH!\n"
     ]
    }
   ],
   "source": [
    "logistic_regression_params = {\n",
    "    'penalty': 'l2',\n",
    "    'C': 1.0,\n",
    "    'max_iter': 100,\n",
    "    'solver': 'lbfgs',\n",
    "    'random_state': cfg.Params.seed,\n",
    "    'class_weight': \"balanced\",\n",
    "}\n",
    "oof, meta_models = training.fit_stacking(train, oof_li)"
   ],
   "metadata": {
    "collapsed": false,
    "ExecuteTime": {
     "end_time": "2024-01-29T09:27:21.787033Z",
     "start_time": "2024-01-29T09:27:21.467612Z"
    }
   },
   "execution_count": 95
  },
  {
   "cell_type": "markdown",
   "metadata": {},
   "source": [
    "# Predict"
   ]
  },
  {
   "cell_type": "code",
   "outputs": [],
   "source": [
    "threshold = 0.75"
   ],
   "metadata": {
    "collapsed": false,
    "ExecuteTime": {
     "end_time": "2024-01-29T09:28:22.314378Z",
     "start_time": "2024-01-29T09:28:22.264104Z"
    }
   },
   "execution_count": 114
  },
  {
   "cell_type": "markdown",
   "source": [
    "## CV score"
   ],
   "metadata": {
    "collapsed": false
   }
  },
  {
   "cell_type": "code",
   "outputs": [
    {
     "name": "stdout",
     "output_type": "stream",
     "text": [
      "0.6761099375960129\n"
     ]
    }
   ],
   "source": [
    "oof_truth = train[cfg.Cols.target].to_numpy()\n",
    "oof_hat = predict.predict_class(oof, threshold=threshold)\n",
    "cv_score = metrics.macro_f1_score(oof_truth, oof_hat)\n",
    "print(cv_score)"
   ],
   "metadata": {
    "collapsed": false,
    "ExecuteTime": {
     "end_time": "2024-01-29T09:28:23.563561Z",
     "start_time": "2024-01-29T09:28:23.528530Z"
    }
   },
   "execution_count": 115
  },
  {
   "cell_type": "code",
   "outputs": [],
   "source": [
    "pred_probs = []\n",
    "for i, models in enumerate(models_li):\n",
    "    if i == 0:\n",
    "        # default\n",
    "        pred_probs.append(predict.predict_probability(models, test))\n",
    "    else:\n",
    "        # Focal loss or Cross entropy loss\n",
    "        pred_probs.append(predict.predict_probability_sigmoid(models, test))\n",
    "pred_prob = predict.predict_probability_stacking(meta_models, pred_probs)\n",
    "pred_class = predict.predict_class(pred_prob, threshold=threshold)"
   ],
   "metadata": {
    "collapsed": false,
    "ExecuteTime": {
     "end_time": "2024-01-29T09:28:38.441681Z",
     "start_time": "2024-01-29T09:28:35.260653Z"
    }
   },
   "execution_count": 116
  },
  {
   "cell_type": "markdown",
   "source": [
    "## Check result"
   ],
   "metadata": {
    "collapsed": false
   }
  },
  {
   "cell_type": "markdown",
   "source": [
    "### oofとtestの予測値分布を比較してバグを確認"
   ],
   "metadata": {
    "collapsed": false
   }
  },
  {
   "cell_type": "code",
   "outputs": [
    {
     "data": {
      "text/plain": "<Figure size 640x480 with 1 Axes>",
      "image/png": "[encoded data removed]"
     },
     "metadata": {},
     "output_type": "display_data"
    }
   ],
   "source": [
    "sns.histplot(oof)\n",
    "plt.xlim(0.0, 1.0)\n",
    "plt.show()"
   ],
   "metadata": {
    "collapsed": false,
    "ExecuteTime": {
     "end_time": "2024-01-29T09:28:41.022874Z",
     "start_time": "2024-01-29T09:28:40.266707Z"
    }
   },
   "execution_count": 117
  },
  {
   "cell_type": "code",
   "outputs": [
    {
     "data": {
      "text/plain": "<Figure size 640x480 with 1 Axes>",
      "image/png": "[encoded data removed]"
     },
     "metadata": {},
     "output_type": "display_data"
    }
   ],
   "source": [
    "sns.histplot(pred_prob)\n",
    "plt.xlim(0.0, 1.0)\n",
    "plt.show()"
   ],
   "metadata": {
    "collapsed": false,
    "ExecuteTime": {
     "end_time": "2024-01-29T09:28:43.722047Z",
     "start_time": "2024-01-29T09:28:42.773536Z"
    }
   },
   "execution_count": 118
  },
  {
   "cell_type": "markdown",
   "source": [
    "### 予測値の1の割合を確認"
   ],
   "metadata": {
    "collapsed": false
   }
  },
  {
   "cell_type": "code",
   "outputs": [
    {
     "name": "stdout",
     "output_type": "stream",
     "text": [
      "0.935756830859412\n"
     ]
    }
   ],
   "source": [
    "print(pred_class.sum() / len(pred_class))"
   ],
   "metadata": {
    "collapsed": false,
    "ExecuteTime": {
     "end_time": "2024-01-29T09:28:58.009404Z",
     "start_time": "2024-01-29T09:28:57.975687Z"
    }
   },
   "execution_count": 119
  },
  {
   "cell_type": "markdown",
   "source": [
    "### oofにおける混同行列を確認"
   ],
   "metadata": {
    "collapsed": false
   }
  },
  {
   "cell_type": "code",
   "outputs": [
    {
     "name": "stdout",
     "output_type": "stream",
     "text": [
      "True Negative Rate (0の正解率): 0.35\n",
      "True Positive Rate (1の正解率): 0.96\n"
     ]
    },
    {
     "data": {
      "text/plain": "<Figure size 640x480 with 2 Axes>",
      "image/png": "[encoded data removed]"
     },
     "metadata": {},
     "output_type": "display_data"
    }
   ],
   "source": [
    "metrics.show_confusion_matrix(oof_truth, oof_hat)"
   ],
   "metadata": {
    "collapsed": false,
    "ExecuteTime": {
     "end_time": "2024-01-29T09:29:02.240088Z",
     "start_time": "2024-01-29T09:29:01.797434Z"
    }
   },
   "execution_count": 120
  },
  {
   "cell_type": "markdown",
   "source": [
    "## Submit"
   ],
   "metadata": {
    "collapsed": false
   }
  },
  {
   "cell_type": "code",
   "execution_count": 121,
   "metadata": {
    "ExecuteTime": {
     "end_time": "2024-01-29T09:29:05.113817Z",
     "start_time": "2024-01-29T09:29:05.092235Z"
    }
   },
   "outputs": [],
   "source": [
    "submit = submit.with_columns([pl.Series(cfg.Cols.sub_pred, pred_class)])\n",
    "utils.make_submission(submit, exp, cv_score)"
   ]
  },
  {
   "cell_type": "code",
   "outputs": [],
   "source": [],
   "metadata": {
    "collapsed": false,
    "ExecuteTime": {
     "end_time": "2024-01-29T09:27:28.276365Z",
     "start_time": "2024-01-29T09:27:27.890425Z"
    }
   },
   "execution_count": 103
  }
 ],
 "metadata": {
  "kernelspec": {
   "display_name": "kaggle",
   "language": "python",
   "name": "kaggle"
  },
  "language_info": {
   "codemirror_mode": {
    "name": "ipython",
    "version": 3
   },
   "file_extension": ".py",
   "mimetype": "text/x-python",
   "name": "python",
   "nbconvert_exporter": "python",
   "pygments_lexer": "ipython3",
   "version": "3.9.18"
  }
 },
 "nbformat": 4,
 "nbformat_minor": 4
}
