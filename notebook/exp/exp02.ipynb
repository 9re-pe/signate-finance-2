{
 "cells": [
  {
   "cell_type": "markdown",
   "source": [
    "# TODO\n",
    "\n",
    "- 全部1で提出してtest(public)の分布を確かめる"
   ],
   "metadata": {
    "collapsed": false
   }
  },
  {
   "cell_type": "markdown",
   "source": [
    "# Import"
   ],
   "metadata": {
    "collapsed": false
   }
  },
  {
   "cell_type": "code",
   "execution_count": 1,
   "outputs": [],
   "source": [
    "import sys\n",
    "\n",
    "import numpy as np\n",
    "import lightgbm as lgb\n",
    "from sklearn.model_selection import StratifiedKFold, cross_val_score\n",
    "\n",
    "root_dir = '../../'\n",
    "if root_dir not in sys.path:\n",
    "    sys.path.append(root_dir)\n",
    "import modules"
   ],
   "metadata": {
    "collapsed": false,
    "ExecuteTime": {
     "end_time": "2024-01-21T05:51:33.029329Z",
     "start_time": "2024-01-21T05:51:32.402526Z"
    }
   }
  },
  {
   "cell_type": "markdown",
   "metadata": {
    "collapsed": false,
    "jupyter": {
     "outputs_hidden": false
    }
   },
   "source": [
    "# Read data"
   ]
  },
  {
   "cell_type": "code",
   "execution_count": 2,
   "metadata": {
    "collapsed": false,
    "jupyter": {
     "outputs_hidden": false
    },
    "ExecuteTime": {
     "end_time": "2024-01-21T05:51:38.215328Z",
     "start_time": "2024-01-21T05:51:37.610850Z"
    }
   },
   "outputs": [],
   "source": [
    "train, test, submit = modules.utils.get_data(debug_mode=False)"
   ]
  },
  {
   "cell_type": "markdown",
   "metadata": {
    "collapsed": false,
    "jupyter": {
     "outputs_hidden": false
    }
   },
   "source": [
    "# test(public)の分布を確かめる"
   ]
  },
  {
   "cell_type": "code",
   "execution_count": 9,
   "outputs": [
    {
     "data": {
      "text/plain": "       1\n0       \n42307  1\n42308  1\n42309  1\n42310  1\n42311  1\n42312  1\n42313  1\n42314  1\n42315  1\n42316  1",
      "text/html": "<div>\n<style scoped>\n    .dataframe tbody tr th:only-of-type {\n        vertical-align: middle;\n    }\n\n    .dataframe tbody tr th {\n        vertical-align: top;\n    }\n\n    .dataframe thead th {\n        text-align: right;\n    }\n</style>\n<table border=\"1\" class=\"dataframe\">\n  <thead>\n    <tr style=\"text-align: right;\">\n      <th></th>\n      <th>1</th>\n    </tr>\n    <tr>\n      <th>0</th>\n      <th></th>\n    </tr>\n  </thead>\n  <tbody>\n    <tr>\n      <th>42307</th>\n      <td>1</td>\n    </tr>\n    <tr>\n      <th>42308</th>\n      <td>1</td>\n    </tr>\n    <tr>\n      <th>42309</th>\n      <td>1</td>\n    </tr>\n    <tr>\n      <th>42310</th>\n      <td>1</td>\n    </tr>\n    <tr>\n      <th>42311</th>\n      <td>1</td>\n    </tr>\n    <tr>\n      <th>42312</th>\n      <td>1</td>\n    </tr>\n    <tr>\n      <th>42313</th>\n      <td>1</td>\n    </tr>\n    <tr>\n      <th>42314</th>\n      <td>1</td>\n    </tr>\n    <tr>\n      <th>42315</th>\n      <td>1</td>\n    </tr>\n    <tr>\n      <th>42316</th>\n      <td>1</td>\n    </tr>\n  </tbody>\n</table>\n</div>"
     },
     "execution_count": 9,
     "metadata": {},
     "output_type": "execute_result"
    }
   ],
   "source": [
    "# 全部1で提出してみる\n",
    "submit[1] = [1] * submit.size\n",
    "submit.head(10)"
   ],
   "metadata": {
    "collapsed": false,
    "ExecuteTime": {
     "end_time": "2024-01-21T05:52:47.916256Z",
     "start_time": "2024-01-21T05:52:47.904848Z"
    }
   }
  },
  {
   "cell_type": "code",
   "execution_count": 10,
   "metadata": {
    "collapsed": false,
    "jupyter": {
     "outputs_hidden": false
    },
    "ExecuteTime": {
     "end_time": "2024-01-21T05:54:04.719073Z",
     "start_time": "2024-01-21T05:54:04.566096Z"
    }
   },
   "outputs": [],
   "source": [
    "modules.utils.make_submission(submit, \"exp02\", \"all1\")"
   ]
  },
  {
   "cell_type": "code",
   "execution_count": 11,
   "outputs": [],
   "source": [
    "# LB : 0.4712544"
   ],
   "metadata": {
    "collapsed": false,
    "ExecuteTime": {
     "end_time": "2024-01-21T06:01:04.482675Z",
     "start_time": "2024-01-21T06:01:04.469584Z"
    }
   }
  },
  {
   "cell_type": "code",
   "execution_count": 13,
   "outputs": [
    {
     "name": "stdout",
     "output_type": "stream",
     "text": [
      "0.8912686932997648\n"
     ]
    }
   ],
   "source": [
    "X = 0.4712544\n",
    "print(X /(1-X))"
   ],
   "metadata": {
    "collapsed": false,
    "ExecuteTime": {
     "end_time": "2024-01-21T07:10:01.417558Z",
     "start_time": "2024-01-21T07:10:01.401940Z"
    }
   }
  },
  {
   "cell_type": "code",
   "execution_count": null,
   "outputs": [],
   "source": [],
   "metadata": {
    "collapsed": false
   }
  }
 ],
 "metadata": {
  "kernelspec": {
   "display_name": "kaggle",
   "language": "python",
   "name": "kaggle"
  },
  "language_info": {
   "codemirror_mode": {
    "name": "ipython",
    "version": 3
   },
   "file_extension": ".py",
   "mimetype": "text/x-python",
   "name": "python",
   "nbconvert_exporter": "python",
   "pygments_lexer": "ipython3",
   "version": "3.9.18"
  }
 },
 "nbformat": 4,
 "nbformat_minor": 4
}
