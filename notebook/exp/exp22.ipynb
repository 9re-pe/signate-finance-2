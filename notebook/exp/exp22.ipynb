{
 "cells": [
  {
   "cell_type": "markdown",
   "source": [
    "# TODO\n",
    "\n",
    "- ゆうだいさんのスコアの再現確保\n",
    "- 0.6840183034914059(シード変える前)"
   ],
   "metadata": {
    "collapsed": false
   }
  },
  {
   "cell_type": "markdown",
   "source": [
    "# Setting"
   ],
   "metadata": {
    "collapsed": false
   }
  },
  {
   "cell_type": "code",
   "execution_count": 1,
   "outputs": [],
   "source": [
    "import sys\n",
    "\n",
    "import numpy as np\n",
    "import polars as pl\n",
    "from typing import Final\n",
    "\n",
    "root_dir = \"../../\"\n",
    "if root_dir not in sys.path:\n",
    "    sys.path.append(root_dir)\n",
    "from modules import config as cfg\n",
    "from modules import utils, preprosess, training, predict, metrics, workflow\n",
    "\n",
    "exp = \"exp22\"\n",
    "utils.set_seed(cfg.Params.seed)"
   ],
   "metadata": {
    "collapsed": false,
    "ExecuteTime": {
     "end_time": "2024-01-31T11:17:56.983661Z",
     "start_time": "2024-01-31T11:17:56.337138Z"
    }
   }
  },
  {
   "cell_type": "markdown",
   "metadata": {
    "collapsed": false,
    "ExecuteTime": {
     "end_time": "2024-01-21T07:23:00.806250Z",
     "start_time": "2024-01-21T07:22:58.502427Z"
    }
   },
   "source": [
    "# Read data"
   ]
  },
  {
   "cell_type": "code",
   "execution_count": 2,
   "metadata": {
    "collapsed": false,
    "ExecuteTime": {
     "end_time": "2024-01-31T11:17:57.078969Z",
     "start_time": "2024-01-31T11:17:56.986615Z"
    }
   },
   "outputs": [],
   "source": [
    "train, test, submit = utils.get_data(debug_mode=False)"
   ]
  },
  {
   "cell_type": "markdown",
   "metadata": {
    "collapsed": false
   },
   "source": [
    "# Preprocessing"
   ]
  },
  {
   "cell_type": "code",
   "outputs": [],
   "source": [
    "train = preprosess.drop_null_columns(train)\n",
    "test  = preprosess.drop_null_columns(test)"
   ],
   "metadata": {
    "collapsed": false,
    "ExecuteTime": {
     "end_time": "2024-01-31T11:17:57.086677Z",
     "start_time": "2024-01-31T11:17:57.082083Z"
    }
   },
   "execution_count": 3
  },
  {
   "cell_type": "markdown",
   "source": [
    "## Split fold"
   ],
   "metadata": {
    "collapsed": false
   }
  },
  {
   "cell_type": "code",
   "execution_count": 4,
   "outputs": [],
   "source": [
    "train = preprosess.assign_stratified_k_fold(train)"
   ],
   "metadata": {
    "collapsed": false,
    "ExecuteTime": {
     "end_time": "2024-01-31T11:17:57.119798Z",
     "start_time": "2024-01-31T11:17:57.091970Z"
    }
   }
  },
  {
   "cell_type": "markdown",
   "source": [
    "## Convert"
   ],
   "metadata": {
    "collapsed": false
   }
  },
  {
   "cell_type": "code",
   "execution_count": 5,
   "metadata": {
    "collapsed": false,
    "ExecuteTime": {
     "end_time": "2024-01-31T11:17:57.332629Z",
     "start_time": "2024-01-31T11:17:57.107901Z"
    }
   },
   "outputs": [],
   "source": [
    "# testのBankStateの\"PR\"はtrainにないため，一番多いCAに変換\n",
    "test = test.with_columns(pl.col(\"BankState\").str.replace(\"PR\", \"CA\"))\n",
    "\n",
    "# 地名を座標に変換\n",
    "train = preprosess.convert_to_latlng(train)\n",
    "test  = preprosess.convert_to_latlng(test)\n",
    "\n",
    "# DisbursementDateとApprovalDateを数値に変換\n",
    "cols  = [\"DisbursementDate\", \"ApprovalDate\"]\n",
    "train = preprosess.convert_date_to_year(train, cols)\n",
    "test  = preprosess.convert_date_to_year(test, cols)\n",
    "train = preprosess.convert_date_to_month(train, cols)\n",
    "test  = preprosess.convert_date_to_month(test, cols)\n",
    "train = preprosess.convert_date_to_day(train, cols)\n",
    "test  = preprosess.convert_date_to_day(test, cols)\n",
    "\n",
    "# 金額データの数値化\n",
    "cols  = [\"DisbursementGross\",  \"GrAppv\", \"SBA_Appv\"]\n",
    "train = preprosess.convert_money_data(train, cols)\n",
    "test  = preprosess.convert_money_data(test, cols)\n",
    "\n",
    "# 一致しているか\n",
    "eqs = [\n",
    "    [\"State\", \"BankState\"],\n",
    "]\n",
    "train = preprosess.add_eq(train, eqs)\n",
    "test  = preprosess.add_eq(test, eqs)\n",
    "\n",
    "# DisbursementDateとApprovalDateの差を計算\n",
    "# train = preprosess.add_diff_disbursement_with_approval(train)\n",
    "# test  = preprosess.add_diff_disbursement_with_approval(test)\n",
    "\n",
    "# Sectorを職業別にする\n",
    "train = preprosess.unify_same_sector(train)\n",
    "test  = preprosess.unify_same_sector(test)\n",
    "\n",
    "# ラベルデータをSBA_Appvの統計量で置き換える\n",
    "AGG_NAME: Final[list] = [\"mean\", \"median\", \"max\", \"min\"]\n",
    "AGG_COL: Final[str] = \"SBA_Appv\"\n",
    "VS_AGG_COLS: Final[list] = [\n",
    "    'NewExist', \n",
    "    'RevLineCr', \n",
    "    'LowDoc', \n",
    "    'UrbanRural', \n",
    "    'CreateJob'\n",
    "]\n",
    "train, test = preprosess.convert_aggregation_data(train, test, AGG_COL, VS_AGG_COLS)\n",
    "\n",
    "# 差の計算\n",
    "diffs = [\n",
    "    [\"DisbursementGross\", \"GrAppv\"],   # 支払われた額 vs 銀行承認額\n",
    "    [\"DisbursementGross\", \"SBA_Appv\"], # 支払われた額 vs SBA承認額\n",
    "    [\"GrAppv\", \"SBA_Appv\"],            # 銀行承認額 vs SBA承認額\n",
    "]\n",
    "\n",
    "# ラベルデータをSBA_Appvの統計量で置き換えたもの vs SBA_Appv\n",
    "for col_name in VS_AGG_COLS:\n",
    "    for name in AGG_NAME:\n",
    "        diff = [AGG_COL, f\"{col_name}_{AGG_COL}_{name}\"]\n",
    "        diffs.append(diff)\n",
    "\n",
    "train = preprosess.add_diff(train, diffs)\n",
    "test  = preprosess.add_diff(test, diffs)\n",
    "\n",
    "# 割合の計算\n",
    "divs = [\n",
    "    # [\"DisbursementGross\", \"Term\"], \n",
    "    [\"GrAppv\", \"Term\"], \n",
    "    [\"SBA_Appv\", \"Term\"], \n",
    "    [\"NoEmp\", \"Term\"], \n",
    "    # [\"DisbursementGross\", \"NoEmp\"], \n",
    "    # [\"GrAppv\", \"NoEmp\"], \n",
    "    # [\"SBA_Appv\", \"NoEmp\"], \n",
    "    [\"DisbursementGross_GrAppv_diff\", \"Term\"], \n",
    "    [\"DisbursementGross_SBA_Appv_diff\", \"Term\"], \n",
    "    [\"GrAppv_SBA_Appv_diff\", \"Term\"], \n",
    "    # [\"DisbursementGross_GrAppv_diff\", \"NoEmp\"], \n",
    "    # [\"DisbursementGross_SBA_Appv_diff\", \"NoEmp\"], \n",
    "    # [\"GrAppv_SBA_Appv_diff\", \"NoEmp\"]\n",
    "]\n",
    "train = preprosess.add_div(train, divs)\n",
    "test  = preprosess.add_div(test, divs)"
   ]
  },
  {
   "cell_type": "markdown",
   "source": [
    "## Target encoding"
   ],
   "metadata": {
    "collapsed": false
   }
  },
  {
   "cell_type": "code",
   "execution_count": 6,
   "outputs": [],
   "source": [
    "cols = [\n",
    "    # \"Sector\",\n",
    "    \"UrbanRural\", \n",
    "    \"RevLineCr\", \n",
    "    \"LowDoc\", \n",
    "    \"ApprovalFY\", \n",
    "    \"FranchiseCode\",\n",
    "    \"RetainedJob\",\n",
    "    \"CreateJob\",\n",
    "    \"NoEmp\",\n",
    "    \"Term\",\n",
    "    \"State\",\n",
    "    \"BankState\",\n",
    "    \"Sector\",\n",
    "    \"NewExist\",\n",
    "]\n",
    "train, test = preprosess.target_encoding(train, test, cols)"
   ],
   "metadata": {
    "collapsed": false,
    "ExecuteTime": {
     "end_time": "2024-01-31T11:17:57.512368Z",
     "start_time": "2024-01-31T11:17:57.336006Z"
    }
   }
  },
  {
   "cell_type": "markdown",
   "source": [
    "## Label encoding\n",
    "CVによるtarget encodingでは同じカテゴリカル変数に異なる値が割り当てられるのでlabel encodingを併用する"
   ],
   "metadata": {
    "collapsed": false
   }
  },
  {
   "cell_type": "code",
   "execution_count": 7,
   "outputs": [],
   "source": [
    "cols = ['RevLineCr', 'LowDoc', 'State', 'BankState']\n",
    "train, test = preprosess.label_encoding(train, test, cols)"
   ],
   "metadata": {
    "collapsed": false,
    "ExecuteTime": {
     "end_time": "2024-01-31T11:17:57.597407Z",
     "start_time": "2024-01-31T11:17:57.516562Z"
    }
   }
  },
  {
   "cell_type": "markdown",
   "source": [
    "# Drop columns"
   ],
   "metadata": {
    "collapsed": false
   }
  },
  {
   "cell_type": "code",
   "execution_count": 8,
   "outputs": [],
   "source": [
    "# 不要なカラムの削除\n",
    "del_cols = [\n",
    "    # 地名系\n",
    "    \"City\",\n",
    "    # \"State\",\n",
    "    # \"BankState\",\n",
    "    # d-b-y系\n",
    "    \"DisbursementDate\",\n",
    "    \"ApprovalDate\",\n",
    "    # \"ApprovalFY\",\n",
    "    # ラベルエンコーディング済み\n",
    "    # \"RevLineCr\",\n",
    "    # \"LowDoc\",\n",
    "]\n",
    "\n",
    "for col_name in VS_AGG_COLS:\n",
    "    for name in AGG_NAME:\n",
    "        del_cols.append(f\"{col_name}_{AGG_COL}_{name}\")\n",
    "\n",
    "train = train.drop(del_cols)\n",
    "test  = test.drop(del_cols)"
   ],
   "metadata": {
    "collapsed": false,
    "ExecuteTime": {
     "end_time": "2024-01-31T11:17:57.607939Z",
     "start_time": "2024-01-31T11:17:57.601258Z"
    }
   }
  },
  {
   "cell_type": "markdown",
   "source": [
    "# Training"
   ],
   "metadata": {
    "collapsed": false
   }
  },
  {
   "cell_type": "code",
   "outputs": [
    {
     "name": "stdout",
     "output_type": "stream",
     "text": [
      "--------------------------------------------------------------------------------\n",
      "START fold 1\n",
      "Training until validation scores don't improve for 200 rounds\n",
      "Early stopping, best iteration is:\n",
      "[188]\tvalid_0's macroF1: 0.692998\n",
      "Time:  13.157[s]\n",
      "--------------------------------------------------------------------------------\n",
      "START fold 2\n",
      "Training until validation scores don't improve for 200 rounds\n",
      "Early stopping, best iteration is:\n",
      "[418]\tvalid_0's macroF1: 0.685313\n",
      "Time:  23.271[s]\n",
      "--------------------------------------------------------------------------------\n",
      "START fold 3\n",
      "Training until validation scores don't improve for 200 rounds\n",
      "Early stopping, best iteration is:\n",
      "[338]\tvalid_0's macroF1: 0.662823\n",
      "Time:  15.673[s]\n",
      "--------------------------------------------------------------------------------\n",
      "START fold 4\n",
      "Training until validation scores don't improve for 200 rounds\n",
      "Early stopping, best iteration is:\n",
      "[203]\tvalid_0's macroF1: 0.680522\n",
      "Time:  10.773[s]\n",
      "--------------------------------------------------------------------------------\n",
      "START fold 5\n",
      "Training until validation scores don't improve for 200 rounds\n",
      "Did not meet early stopping. Best iteration is:\n",
      "[817]\tvalid_0's macroF1: 0.687563\n",
      "Time:  24.447[s]\n",
      "================================================================================\n",
      "FINISH!\n"
     ]
    }
   ],
   "source": [
    "zero_weight = 0.81\n",
    "lgb_params = {\n",
    "    \"objective\": \"binary\",\n",
    "    \"metric\": \"None\",\n",
    "    \"learning_rate\": 0.01,\n",
    "    \"max_depth\": 6,\n",
    "    \"n_estimators\": 1000,\n",
    "    \"colsample_bytree\": 0.7,\n",
    "    \"importance_type\": \"gain\",\n",
    "    \"verbose\": -1,\n",
    "    \"seed\": cfg.Params.seed,\n",
    "}\n",
    "oof, models = training.fit_lgbm(train, zero_weight=zero_weight, lgb_params=lgb_params)"
   ],
   "metadata": {
    "collapsed": false,
    "ExecuteTime": {
     "end_time": "2024-01-31T11:19:26.001497Z",
     "start_time": "2024-01-31T11:17:57.615899Z"
    }
   },
   "execution_count": 10
  },
  {
   "cell_type": "code",
   "outputs": [
    {
     "name": "stdout",
     "output_type": "stream",
     "text": [
      "0.6816977915267421\n"
     ]
    }
   ],
   "source": [
    "threshold = 0.5\n",
    "oof_truth = train[cfg.Cols.target].to_numpy()\n",
    "oof_hat = predict.predict_class(oof, threshold=threshold)\n",
    "cv_score = metrics.macro_f1_score(oof_truth, oof_hat)\n",
    "print(cv_score)"
   ],
   "metadata": {
    "collapsed": false,
    "ExecuteTime": {
     "end_time": "2024-01-31T11:19:26.039394Z",
     "start_time": "2024-01-31T11:19:26.000571Z"
    }
   },
   "execution_count": 11
  }
 ],
 "metadata": {
  "kernelspec": {
   "display_name": "kaggle",
   "language": "python",
   "name": "kaggle"
  },
  "language_info": {
   "codemirror_mode": {
    "name": "ipython",
    "version": 3
   },
   "file_extension": ".py",
   "mimetype": "text/x-python",
   "name": "python",
   "nbconvert_exporter": "python",
   "pygments_lexer": "ipython3",
   "version": "3.9.18"
  }
 },
 "nbformat": 4,
 "nbformat_minor": 4
}
