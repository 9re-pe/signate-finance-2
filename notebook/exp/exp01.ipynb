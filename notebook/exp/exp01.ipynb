{
 "cells": [
  {
   "cell_type": "markdown",
   "source": [
    "# Import"
   ],
   "metadata": {
    "collapsed": false
   }
  },
  {
   "cell_type": "code",
   "execution_count": null,
   "outputs": [],
   "source": [
    "import sys\n",
    "\n",
    "import numpy as np\n",
    "import lightgbm as lgb\n",
    "from sklearn.model_selection import StratifiedKFold, cross_val_score\n",
    "\n",
    "root_dir = '../../'\n",
    "if root_dir not in sys.path:\n",
    "    sys.path.append(root_dir)\n",
    "import modules"
   ],
   "metadata": {
    "collapsed": false,
    "ExecuteTime": {
     "end_time": "2024-01-21T07:22:12.541393Z",
     "start_time": "2024-01-21T07:22:12.537218Z"
    }
   }
  },
  {
   "cell_type": "markdown",
   "metadata": {
    "collapsed": false,
    "jupyter": {
     "outputs_hidden": false
    },
    "ExecuteTime": {
     "end_time": "2024-01-21T07:23:00.806250Z",
     "start_time": "2024-01-21T07:22:58.502427Z"
    }
   },
   "source": [
    "# Read data"
   ],
   "outputs": [],
   "execution_count": 1
  },
  {
   "cell_type": "code",
   "execution_count": 2,
   "metadata": {
    "collapsed": false,
    "jupyter": {
     "outputs_hidden": false
    },
    "ExecuteTime": {
     "end_time": "2024-01-20T08:24:43.037670Z",
     "start_time": "2024-01-20T08:24:43.012350Z"
    }
   },
   "outputs": [],
   "source": [
    "train, test, submit = modules.utils.get_data(debug_mode=True)"
   ]
  },
  {
   "cell_type": "markdown",
   "metadata": {
    "collapsed": false,
    "jupyter": {
     "outputs_hidden": false
    }
   },
   "source": [
    "# Preprocessing"
   ],
   "outputs": [],
   "execution_count": 2
  },
  {
   "cell_type": "code",
   "execution_count": 3,
   "metadata": {
    "collapsed": false,
    "jupyter": {
     "outputs_hidden": false
    },
    "ExecuteTime": {
     "end_time": "2024-01-20T08:24:45.913891Z",
     "start_time": "2024-01-20T08:24:45.899254Z"
    }
   },
   "outputs": [
    {
     "data": {
      "text/plain": "    DisbursementGross        GrAppv      SBA_Appv\n0         $80,000.00    $80,000.00    $68,000.00 \n1        $287,000.00   $287,000.00   $229,600.00 \n2         $31,983.00    $30,000.00    $15,000.00 \n3        $229,000.00   $229,000.00   $229,000.00 \n4        $525,000.00   $525,000.00   $393,750.00 \n..                ...           ...           ...\n995      $196,000.00   $196,000.00   $196,000.00 \n996       $25,000.00    $25,000.00    $21,250.00 \n997      $169,910.00    $51,500.00    $25,750.00 \n998      $275,000.00   $275,000.00   $206,250.00 \n999      $146,200.00   $146,200.00   $109,650.00 \n\n[1000 rows x 3 columns]",
      "text/html": "<div>\n<style scoped>\n    .dataframe tbody tr th:only-of-type {\n        vertical-align: middle;\n    }\n\n    .dataframe tbody tr th {\n        vertical-align: top;\n    }\n\n    .dataframe thead th {\n        text-align: right;\n    }\n</style>\n<table border=\"1\" class=\"dataframe\">\n  <thead>\n    <tr style=\"text-align: right;\">\n      <th></th>\n      <th>DisbursementGross</th>\n      <th>GrAppv</th>\n      <th>SBA_Appv</th>\n    </tr>\n  </thead>\n  <tbody>\n    <tr>\n      <th>0</th>\n      <td>$80,000.00</td>\n      <td>$80,000.00</td>\n      <td>$68,000.00</td>\n    </tr>\n    <tr>\n      <th>1</th>\n      <td>$287,000.00</td>\n      <td>$287,000.00</td>\n      <td>$229,600.00</td>\n    </tr>\n    <tr>\n      <th>2</th>\n      <td>$31,983.00</td>\n      <td>$30,000.00</td>\n      <td>$15,000.00</td>\n    </tr>\n    <tr>\n      <th>3</th>\n      <td>$229,000.00</td>\n      <td>$229,000.00</td>\n      <td>$229,000.00</td>\n    </tr>\n    <tr>\n      <th>4</th>\n      <td>$525,000.00</td>\n      <td>$525,000.00</td>\n      <td>$393,750.00</td>\n    </tr>\n    <tr>\n      <th>...</th>\n      <td>...</td>\n      <td>...</td>\n      <td>...</td>\n    </tr>\n    <tr>\n      <th>995</th>\n      <td>$196,000.00</td>\n      <td>$196,000.00</td>\n      <td>$196,000.00</td>\n    </tr>\n    <tr>\n      <th>996</th>\n      <td>$25,000.00</td>\n      <td>$25,000.00</td>\n      <td>$21,250.00</td>\n    </tr>\n    <tr>\n      <th>997</th>\n      <td>$169,910.00</td>\n      <td>$51,500.00</td>\n      <td>$25,750.00</td>\n    </tr>\n    <tr>\n      <th>998</th>\n      <td>$275,000.00</td>\n      <td>$275,000.00</td>\n      <td>$206,250.00</td>\n    </tr>\n    <tr>\n      <th>999</th>\n      <td>$146,200.00</td>\n      <td>$146,200.00</td>\n      <td>$109,650.00</td>\n    </tr>\n  </tbody>\n</table>\n<p>1000 rows × 3 columns</p>\n</div>"
     },
     "execution_count": 3,
     "metadata": {},
     "output_type": "execute_result"
    }
   ],
   "source": [
    "train[['DisbursementGross',  'GrAppv', 'SBA_Appv']]"
   ]
  },
  {
   "cell_type": "code",
   "execution_count": 3,
   "metadata": {
    "collapsed": false,
    "jupyter": {
     "outputs_hidden": false
    }
   },
   "outputs": [
    {
     "data": {
      "text/plain": "    DisbursementGross        GrAppv      SBA_Appv\n0         $80,000.00    $80,000.00    $68,000.00 \n1        $287,000.00   $287,000.00   $229,600.00 \n2         $31,983.00    $30,000.00    $15,000.00 \n3        $229,000.00   $229,000.00   $229,000.00 \n4        $525,000.00   $525,000.00   $393,750.00 \n..                ...           ...           ...\n995      $196,000.00   $196,000.00   $196,000.00 \n996       $25,000.00    $25,000.00    $21,250.00 \n997      $169,910.00    $51,500.00    $25,750.00 \n998      $275,000.00   $275,000.00   $206,250.00 \n999      $146,200.00   $146,200.00   $109,650.00 \n\n[1000 rows x 3 columns]",
      "text/html": "<div>\n<style scoped>\n    .dataframe tbody tr th:only-of-type {\n        vertical-align: middle;\n    }\n\n    .dataframe tbody tr th {\n        vertical-align: top;\n    }\n\n    .dataframe thead th {\n        text-align: right;\n    }\n</style>\n<table border=\"1\" class=\"dataframe\">\n  <thead>\n    <tr style=\"text-align: right;\">\n      <th></th>\n      <th>DisbursementGross</th>\n      <th>GrAppv</th>\n      <th>SBA_Appv</th>\n    </tr>\n  </thead>\n  <tbody>\n    <tr>\n      <th>0</th>\n      <td>$80,000.00</td>\n      <td>$80,000.00</td>\n      <td>$68,000.00</td>\n    </tr>\n    <tr>\n      <th>1</th>\n      <td>$287,000.00</td>\n      <td>$287,000.00</td>\n      <td>$229,600.00</td>\n    </tr>\n    <tr>\n      <th>2</th>\n      <td>$31,983.00</td>\n      <td>$30,000.00</td>\n      <td>$15,000.00</td>\n    </tr>\n    <tr>\n      <th>3</th>\n      <td>$229,000.00</td>\n      <td>$229,000.00</td>\n      <td>$229,000.00</td>\n    </tr>\n    <tr>\n      <th>4</th>\n      <td>$525,000.00</td>\n      <td>$525,000.00</td>\n      <td>$393,750.00</td>\n    </tr>\n    <tr>\n      <th>...</th>\n      <td>...</td>\n      <td>...</td>\n      <td>...</td>\n    </tr>\n    <tr>\n      <th>995</th>\n      <td>$196,000.00</td>\n      <td>$196,000.00</td>\n      <td>$196,000.00</td>\n    </tr>\n    <tr>\n      <th>996</th>\n      <td>$25,000.00</td>\n      <td>$25,000.00</td>\n      <td>$21,250.00</td>\n    </tr>\n    <tr>\n      <th>997</th>\n      <td>$169,910.00</td>\n      <td>$51,500.00</td>\n      <td>$25,750.00</td>\n    </tr>\n    <tr>\n      <th>998</th>\n      <td>$275,000.00</td>\n      <td>$275,000.00</td>\n      <td>$206,250.00</td>\n    </tr>\n    <tr>\n      <th>999</th>\n      <td>$146,200.00</td>\n      <td>$146,200.00</td>\n      <td>$109,650.00</td>\n    </tr>\n  </tbody>\n</table>\n<p>1000 rows × 3 columns</p>\n</div>"
     },
     "execution_count": 3,
     "metadata": {},
     "output_type": "execute_result"
    }
   ],
   "source": [
    "# ドルマークの削除\n",
    "train[['DisbursementGross',  'GrAppv', 'SBA_Appv']] = train[['DisbursementGross',  'GrAppv', 'SBA_Appv']].applymap(lambda x: x.strip().replace('$', '').replace(',', ''))\n",
    "test[['DisbursementGross',  'GrAppv', 'SBA_Appv']] = test[['DisbursementGross',  'GrAppv', 'SBA_Appv']].applymap(lambda x: x.strip().replace('$', '').replace(',', ''))"
   ]
  },
  {
   "cell_type": "code",
   "execution_count": 4,
   "metadata": {
    "collapsed": false,
    "jupyter": {
     "outputs_hidden": false
    }
   },
   "outputs": [
    {
     "name": "stderr",
     "output_type": "stream",
     "text": [
      "/var/folders/0d/ffqs_st90mb3g3xts8zdwqr00000gn/T/ipykernel_42707/318988329.py:2: FutureWarning: DataFrame.applymap has been deprecated. Use DataFrame.map instead.\n",
      "  train[['DisbursementGross',  'GrAppv', 'SBA_Appv']] = train[['DisbursementGross',  'GrAppv', 'SBA_Appv']].applymap(lambda x: x.strip().replace('$', '').replace(',', ''))\n",
      "/var/folders/0d/ffqs_st90mb3g3xts8zdwqr00000gn/T/ipykernel_42707/318988329.py:3: FutureWarning: DataFrame.applymap has been deprecated. Use DataFrame.map instead.\n",
      "  test[['DisbursementGross',  'GrAppv', 'SBA_Appv']] = test[['DisbursementGross',  'GrAppv', 'SBA_Appv']].applymap(lambda x: x.strip().replace('$', '').replace(',', ''))\n"
     ]
    }
   ],
   "source": [
    "train[['DisbursementGross', 'GrAppv', 'SBA_Appv']].head()"
   ]
  },
  {
   "cell_type": "code",
   "execution_count": 5,
   "metadata": {
    "collapsed": false,
    "jupyter": {
     "outputs_hidden": false
    }
   },
   "outputs": [
    {
     "data": {
      "text/plain": "  DisbursementGross     GrAppv   SBA_Appv\n0          80000.00   80000.00   68000.00\n1         287000.00  287000.00  229600.00\n2          31983.00   30000.00   15000.00\n3         229000.00  229000.00  229000.00\n4         525000.00  525000.00  393750.00",
      "text/html": "<div>\n<style scoped>\n    .dataframe tbody tr th:only-of-type {\n        vertical-align: middle;\n    }\n\n    .dataframe tbody tr th {\n        vertical-align: top;\n    }\n\n    .dataframe thead th {\n        text-align: right;\n    }\n</style>\n<table border=\"1\" class=\"dataframe\">\n  <thead>\n    <tr style=\"text-align: right;\">\n      <th></th>\n      <th>DisbursementGross</th>\n      <th>GrAppv</th>\n      <th>SBA_Appv</th>\n    </tr>\n  </thead>\n  <tbody>\n    <tr>\n      <th>0</th>\n      <td>80000.00</td>\n      <td>80000.00</td>\n      <td>68000.00</td>\n    </tr>\n    <tr>\n      <th>1</th>\n      <td>287000.00</td>\n      <td>287000.00</td>\n      <td>229600.00</td>\n    </tr>\n    <tr>\n      <th>2</th>\n      <td>31983.00</td>\n      <td>30000.00</td>\n      <td>15000.00</td>\n    </tr>\n    <tr>\n      <th>3</th>\n      <td>229000.00</td>\n      <td>229000.00</td>\n      <td>229000.00</td>\n    </tr>\n    <tr>\n      <th>4</th>\n      <td>525000.00</td>\n      <td>525000.00</td>\n      <td>393750.00</td>\n    </tr>\n  </tbody>\n</table>\n</div>"
     },
     "execution_count": 5,
     "metadata": {},
     "output_type": "execute_result"
    }
   ],
   "source": [
    "train.isnull().sum()"
   ]
  },
  {
   "cell_type": "code",
   "execution_count": 6,
   "metadata": {
    "collapsed": false,
    "jupyter": {
     "outputs_hidden": false
    }
   },
   "outputs": [
    {
     "data": {
      "text/plain": "Term                  0\nNoEmp                 0\nNewExist              0\nCreateJob             0\nRetainedJob           0\nFranchiseCode         0\nRevLineCr            24\nLowDoc               11\nDisbursementDate      3\nMIS_Status            0\nSector                0\nApprovalDate          0\nApprovalFY            0\nCity                  0\nState                 0\nBankState             0\nDisbursementGross     0\nGrAppv                0\nSBA_Appv              0\nUrbanRural            0\ndtype: int64"
     },
     "execution_count": 6,
     "metadata": {},
     "output_type": "execute_result"
    }
   ],
   "source": [
    "train.fillna('NULL', inplace=True)"
   ]
  },
  {
   "cell_type": "markdown",
   "metadata": {
    "collapsed": false,
    "jupyter": {
     "outputs_hidden": false
    }
   },
   "source": [
    "# Training"
   ],
   "outputs": [],
   "execution_count": 7
  },
  {
   "cell_type": "code",
   "execution_count": 8,
   "outputs": [],
   "source": [
    "numeric_columns = train.select_dtypes(include=['number']).columns\n",
    "train_numeric = train[numeric_columns]\n",
    "X = train_numeric.drop('MIS_Status', axis=1)\n",
    "y = train_numeric['MIS_Status']"
   ],
   "metadata": {
    "collapsed": false,
    "ExecuteTime": {
     "end_time": "2024-01-20T08:24:51.634884Z",
     "start_time": "2024-01-20T08:24:51.614621Z"
    }
   }
  },
  {
   "cell_type": "code",
   "execution_count": 8,
   "metadata": {
    "collapsed": false,
    "jupyter": {
     "outputs_hidden": false
    }
   },
   "outputs": [],
   "source": [
    "lgbm = lgb.LGBMClassifier()\n",
    "kf = StratifiedKFold(n_splits=5, shuffle=True, random_state=42)\n",
    "cv_scores = cross_val_score(lgbm, X, y, cv=kf, scoring='f1_macro')"
   ]
  },
  {
   "cell_type": "code",
   "execution_count": 9,
   "outputs": [
    {
     "name": "stdout",
     "output_type": "stream",
     "text": [
      "[LightGBM] [Info] Number of positive: 716, number of negative: 84\n",
      "[LightGBM] [Info] Auto-choosing row-wise multi-threading, the overhead of testing was 0.000905 seconds.\n",
      "You can set `force_row_wise=true` to remove the overhead.\n",
      "And if memory is not enough, you can set `force_col_wise=true`.\n",
      "[LightGBM] [Info] Total Bins 258\n",
      "[LightGBM] [Info] Number of data points in the train set: 800, number of used features: 9\n",
      "[LightGBM] [Info] [binary:BoostFromScore]: pavg=0.895000 -> initscore=2.142863\n",
      "[LightGBM] [Info] Start training from score 2.142863\n",
      "[LightGBM] [Warning] No further splits with positive gain, best gain: -inf\n",
      "[LightGBM] [Warning] No further splits with positive gain, best gain: -inf\n",
      "[LightGBM] [Warning] No further splits with positive gain, best gain: -inf\n",
      "[LightGBM] [Warning] No further splits with positive gain, best gain: -inf\n",
      "[LightGBM] [Warning] No further splits with positive gain, best gain: -inf\n",
      "[LightGBM] [Warning] No further splits with positive gain, best gain: -inf\n",
      "[LightGBM] [Warning] No further splits with positive gain, best gain: -inf\n",
      "[LightGBM] [Warning] No further splits with positive gain, best gain: -inf\n",
      "[LightGBM] [Warning] No further splits with positive gain, best gain: -inf\n",
      "[LightGBM] [Info] Number of positive: 716, number of negative: 84\n",
      "[LightGBM] [Info] Auto-choosing row-wise multi-threading, the overhead of testing was 0.000137 seconds.\n",
      "You can set `force_row_wise=true` to remove the overhead.\n",
      "And if memory is not enough, you can set `force_col_wise=true`.\n",
      "[LightGBM] [Info] Total Bins 254\n",
      "[LightGBM] [Info] Number of data points in the train set: 800, number of used features: 9\n",
      "[LightGBM] [Info] [binary:BoostFromScore]: pavg=0.895000 -> initscore=2.142863\n",
      "[LightGBM] [Info] Start training from score 2.142863\n",
      "[LightGBM] [Warning] No further splits with positive gain, best gain: -inf\n",
      "[LightGBM] [Warning] No further splits with positive gain, best gain: -inf\n",
      "[LightGBM] [Warning] No further splits with positive gain, best gain: -inf\n",
      "[LightGBM] [Warning] No further splits with positive gain, best gain: -inf\n",
      "[LightGBM] [Warning] No further splits with positive gain, best gain: -inf\n",
      "[LightGBM] [Warning] No further splits with positive gain, best gain: -inf\n",
      "[LightGBM] [Warning] No further splits with positive gain, best gain: -inf\n",
      "[LightGBM] [Warning] No further splits with positive gain, best gain: -inf\n",
      "[LightGBM] [Warning] No further splits with positive gain, best gain: -inf\n",
      "[LightGBM] [Warning] No further splits with positive gain, best gain: -inf\n",
      "[LightGBM] [Warning] No further splits with positive gain, best gain: -inf\n",
      "[LightGBM] [Warning] No further splits with positive gain, best gain: -inf\n",
      "[LightGBM] [Warning] No further splits with positive gain, best gain: -inf\n",
      "[LightGBM] [Info] Number of positive: 716, number of negative: 84\n",
      "[LightGBM] [Info] Auto-choosing row-wise multi-threading, the overhead of testing was 0.000098 seconds.\n",
      "You can set `force_row_wise=true` to remove the overhead.\n",
      "And if memory is not enough, you can set `force_col_wise=true`.\n",
      "[LightGBM] [Info] Total Bins 260\n",
      "[LightGBM] [Info] Number of data points in the train set: 800, number of used features: 9\n",
      "[LightGBM] [Info] [binary:BoostFromScore]: pavg=0.895000 -> initscore=2.142863\n",
      "[LightGBM] [Info] Start training from score 2.142863\n",
      "[LightGBM] [Warning] No further splits with positive gain, best gain: -inf\n",
      "[LightGBM] [Warning] No further splits with positive gain, best gain: -inf\n",
      "[LightGBM] [Warning] No further splits with positive gain, best gain: -inf\n",
      "[LightGBM] [Warning] No further splits with positive gain, best gain: -inf\n",
      "[LightGBM] [Warning] No further splits with positive gain, best gain: -inf\n",
      "[LightGBM] [Warning] No further splits with positive gain, best gain: -inf\n",
      "[LightGBM] [Warning] No further splits with positive gain, best gain: -inf\n",
      "[LightGBM] [Warning] No further splits with positive gain, best gain: -inf\n",
      "[LightGBM] [Warning] No further splits with positive gain, best gain: -inf\n",
      "[LightGBM] [Info] Number of positive: 716, number of negative: 84\n",
      "[LightGBM] [Info] Auto-choosing row-wise multi-threading, the overhead of testing was 0.000135 seconds.\n",
      "You can set `force_row_wise=true` to remove the overhead.\n",
      "And if memory is not enough, you can set `force_col_wise=true`.\n",
      "[LightGBM] [Info] Total Bins 258\n",
      "[LightGBM] [Info] Number of data points in the train set: 800, number of used features: 9\n",
      "[LightGBM] [Info] [binary:BoostFromScore]: pavg=0.895000 -> initscore=2.142863\n",
      "[LightGBM] [Info] Start training from score 2.142863\n",
      "[LightGBM] [Warning] No further splits with positive gain, best gain: -inf\n",
      "[LightGBM] [Warning] No further splits with positive gain, best gain: -inf\n",
      "[LightGBM] [Warning] No further splits with positive gain, best gain: -inf\n",
      "[LightGBM] [Warning] No further splits with positive gain, best gain: -inf\n",
      "[LightGBM] [Info] Number of positive: 716, number of negative: 84\n",
      "[LightGBM] [Info] Auto-choosing col-wise multi-threading, the overhead of testing was 0.000187 seconds.\n",
      "You can set `force_col_wise=true` to remove the overhead.\n",
      "[LightGBM] [Info] Total Bins 261\n",
      "[LightGBM] [Info] Number of data points in the train set: 800, number of used features: 9\n",
      "[LightGBM] [Info] [binary:BoostFromScore]: pavg=0.895000 -> initscore=2.142863\n",
      "[LightGBM] [Info] Start training from score 2.142863\n",
      "[LightGBM] [Warning] No further splits with positive gain, best gain: -inf\n",
      "[LightGBM] [Warning] No further splits with positive gain, best gain: -inf\n",
      "[LightGBM] [Warning] No further splits with positive gain, best gain: -inf\n",
      "[LightGBM] [Warning] No further splits with positive gain, best gain: -inf\n",
      "[LightGBM] [Warning] No further splits with positive gain, best gain: -inf\n",
      "[LightGBM] [Warning] No further splits with positive gain, best gain: -inf\n",
      "[LightGBM] [Warning] No further splits with positive gain, best gain: -inf\n",
      "[LightGBM] [Warning] No further splits with positive gain, best gain: -inf\n",
      "[LightGBM] [Warning] No further splits with positive gain, best gain: -inf\n",
      "[LightGBM] [Warning] No further splits with positive gain, best gain: -inf\n"
     ]
    }
   ],
   "source": [
    "mean_cv_f1 = np.mean(cv_scores)\n",
    "print(f'Mean CV F1 Score: {mean_cv_f1}')"
   ],
   "metadata": {
    "collapsed": false
   }
  },
  {
   "cell_type": "markdown",
   "metadata": {},
   "source": [
    "# Predict"
   ],
   "outputs": [
    {
     "name": "stdout",
     "output_type": "stream",
     "text": [
      "Mean CV F1 Score: 0.5623215375229944\n"
     ]
    }
   ],
   "execution_count": 10
  },
  {
   "cell_type": "code",
   "execution_count": 13,
   "metadata": {
    "ExecuteTime": {
     "end_time": "2024-01-20T09:11:06.173085Z",
     "start_time": "2024-01-20T09:11:05.994774Z"
    }
   },
   "outputs": [
    {
     "name": "stdout",
     "output_type": "stream",
     "text": [
      "[LightGBM] [Info] Number of positive: 895, number of negative: 105\n",
      "[LightGBM] [Info] Auto-choosing row-wise multi-threading, the overhead of testing was 0.001408 seconds.\n",
      "You can set `force_row_wise=true` to remove the overhead.\n",
      "And if memory is not enough, you can set `force_col_wise=true`.\n",
      "[LightGBM] [Info] Total Bins 280\n",
      "[LightGBM] [Info] Number of data points in the train set: 1000, number of used features: 9\n",
      "[LightGBM] [Info] [binary:BoostFromScore]: pavg=0.895000 -> initscore=2.142863\n",
      "[LightGBM] [Info] Start training from score 2.142863\n"
     ]
    }
   ],
   "source": [
    "lgbm.fit(X, y)\n",
    "submit[1] = lgbm.predict(test[numeric_columns.drop('MIS_Status')])\n",
    "modules.utils.make_submission(submit, \"exp01\", mean_cv_f1)"
   ]
  },
  {
   "cell_type": "code",
   "execution_count": 11,
   "metadata": {},
   "outputs": [
    {
     "name": "stdout",
     "output_type": "stream",
     "text": [
      "[LightGBM] [Info] Number of positive: 895, number of negative: 105\n",
      "[LightGBM] [Info] Auto-choosing row-wise multi-threading, the overhead of testing was 0.000516 seconds.\n",
      "You can set `force_row_wise=true` to remove the overhead.\n",
      "And if memory is not enough, you can set `force_col_wise=true`.\n",
      "[LightGBM] [Info] Total Bins 280\n",
      "[LightGBM] [Info] Number of data points in the train set: 1000, number of used features: 9\n",
      "[LightGBM] [Info] [binary:BoostFromScore]: pavg=0.895000 -> initscore=2.142863\n",
      "[LightGBM] [Info] Start training from score 2.142863\n"
     ]
    }
   ],
   "source": [
    "submit.head()"
   ]
  },
  {
   "cell_type": "code",
   "execution_count": 12,
   "metadata": {},
   "outputs": [
    {
     "data": {
      "text/plain": "       1\n0       \n42307  1\n42308  1\n42309  1\n42310  1\n42311  1",
      "text/html": "<div>\n<style scoped>\n    .dataframe tbody tr th:only-of-type {\n        vertical-align: middle;\n    }\n\n    .dataframe tbody tr th {\n        vertical-align: top;\n    }\n\n    .dataframe thead th {\n        text-align: right;\n    }\n</style>\n<table border=\"1\" class=\"dataframe\">\n  <thead>\n    <tr style=\"text-align: right;\">\n      <th></th>\n      <th>1</th>\n    </tr>\n    <tr>\n      <th>0</th>\n      <th></th>\n    </tr>\n  </thead>\n  <tbody>\n    <tr>\n      <th>42307</th>\n      <td>1</td>\n    </tr>\n    <tr>\n      <th>42308</th>\n      <td>1</td>\n    </tr>\n    <tr>\n      <th>42309</th>\n      <td>1</td>\n    </tr>\n    <tr>\n      <th>42310</th>\n      <td>1</td>\n    </tr>\n    <tr>\n      <th>42311</th>\n      <td>1</td>\n    </tr>\n  </tbody>\n</table>\n</div>"
     },
     "execution_count": 12,
     "metadata": {},
     "output_type": "execute_result"
    }
   ],
   "source": []
  }
 ],
 "metadata": {
  "kernelspec": {
   "display_name": "kaggle",
   "language": "python",
   "name": "kaggle"
  },
  "language_info": {
   "codemirror_mode": {
    "name": "ipython",
    "version": 3
   },
   "file_extension": ".py",
   "mimetype": "text/x-python",
   "name": "python",
   "nbconvert_exporter": "python",
   "pygments_lexer": "ipython3",
   "version": "3.9.18"
  }
 },
 "nbformat": 4,
 "nbformat_minor": 4
}
