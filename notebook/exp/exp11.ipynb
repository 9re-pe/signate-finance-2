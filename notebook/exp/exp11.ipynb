{
 "cells": [
  {
   "cell_type": "markdown",
   "source": [
    "# TODO\n",
    "\n",
    "- 損失関数をアンサンブル\n",
    "- 単純にCVスコアで重み付け"
   ],
   "metadata": {
    "collapsed": false
   }
  },
  {
   "cell_type": "markdown",
   "source": [
    "# Setting"
   ],
   "metadata": {
    "collapsed": false
   }
  },
  {
   "cell_type": "code",
   "execution_count": 1,
   "outputs": [],
   "source": [
    "import sys\n",
    "\n",
    "import polars as pl\n",
    "import seaborn as sns\n",
    "import matplotlib.pyplot as plt\n",
    "\n",
    "root_dir = \"../../\"\n",
    "if root_dir not in sys.path:\n",
    "    sys.path.append(root_dir)\n",
    "from modules import config as cfg\n",
    "from modules import utils, preprosess, training, predict, metrics\n",
    "\n",
    "exp = \"exp11\"\n",
    "utils.set_seed(cfg.Params.seed)"
   ],
   "metadata": {
    "collapsed": false,
    "ExecuteTime": {
     "end_time": "2024-01-25T07:41:35.343159Z",
     "start_time": "2024-01-25T07:41:34.872049Z"
    }
   }
  },
  {
   "cell_type": "markdown",
   "metadata": {
    "collapsed": false,
    "ExecuteTime": {
     "end_time": "2024-01-21T07:23:00.806250Z",
     "start_time": "2024-01-21T07:22:58.502427Z"
    }
   },
   "source": [
    "# Read data"
   ]
  },
  {
   "cell_type": "code",
   "execution_count": 2,
   "metadata": {
    "collapsed": false,
    "ExecuteTime": {
     "end_time": "2024-01-25T07:41:35.407930Z",
     "start_time": "2024-01-25T07:41:35.368593Z"
    }
   },
   "outputs": [],
   "source": [
    "train, test, submit = utils.get_data(debug_mode=False)"
   ]
  },
  {
   "cell_type": "markdown",
   "metadata": {
    "collapsed": false
   },
   "source": [
    "# Preprocessing"
   ]
  },
  {
   "cell_type": "markdown",
   "source": [
    "## Split fold"
   ],
   "metadata": {
    "collapsed": false
   }
  },
  {
   "cell_type": "code",
   "execution_count": 3,
   "outputs": [],
   "source": [
    "train = preprosess.assign_stratified_k_fold(train, \"MIS_Status\")"
   ],
   "metadata": {
    "collapsed": false,
    "ExecuteTime": {
     "end_time": "2024-01-25T07:41:35.452423Z",
     "start_time": "2024-01-25T07:41:35.405199Z"
    }
   }
  },
  {
   "cell_type": "markdown",
   "source": [
    "## Convert"
   ],
   "metadata": {
    "collapsed": false
   }
  },
  {
   "cell_type": "code",
   "execution_count": 4,
   "metadata": {
    "collapsed": false,
    "ExecuteTime": {
     "end_time": "2024-01-25T07:41:35.620981Z",
     "start_time": "2024-01-25T07:41:35.438376Z"
    }
   },
   "outputs": [],
   "source": [
    "# Cityを座標に変換\n",
    "train = preprosess.convert_city_to_latlon(train)\n",
    "test  = preprosess.convert_city_to_latlon(test)\n",
    "\n",
    "# testのBankStateの\"PR\"はtrainにないため，一番多いCAに変換\n",
    "test = test.with_columns(pl.col(\"BankState\").str.replace(\"PR\", \"CA\"))\n",
    "\n",
    "# DisbursementDateとApprovalDateをYear(数値)に変換\n",
    "cols  = [\"DisbursementDate\", \"ApprovalDate\"]\n",
    "train = preprosess.convert_date_to_year(train, cols)\n",
    "test  = preprosess.convert_date_to_year(test, cols)\n",
    "\n",
    "# 金額データの数値化\n",
    "cols  = [\"DisbursementGross\",  \"GrAppv\", \"SBA_Appv\"]\n",
    "train = preprosess.convert_money_data(train, cols)\n",
    "test  = preprosess.convert_money_data(test, cols)\n",
    "\n",
    "# 一致しているか\n",
    "eqs = [\n",
    "    [\"State\", \"BankState\"],\n",
    "]\n",
    "train = preprosess.add_eq(train, eqs)\n",
    "test  = preprosess.add_eq(test, eqs)\n",
    "\n",
    "# 差の計算\n",
    "diffs = [\n",
    "    [\"DisbursementGross\", \"GrAppv\"],   # 支払われた額 vs 銀行承認額\n",
    "    [\"DisbursementGross\", \"SBA_Appv\"], # 支払われた額 vs SBA承認額\n",
    "    [\"GrAppv\", \"SBA_Appv\"],            # 銀行承認額 vs SBA承認額\n",
    "]\n",
    "train = preprosess.add_diff(train, diffs)\n",
    "test  = preprosess.add_diff(test, diffs)\n",
    "\n",
    "# DisbursementDateとApprovalDateの差を計算\n",
    "train = preprosess.add_diff_disbursement_with_approval(train)\n",
    "test  = preprosess.add_diff_disbursement_with_approval(test)\n",
    "\n",
    "# 割合の計算\n",
    "divs = [\n",
    "    # [\"DisbursementGross\", \"Term\"],\n",
    "    [\"GrAppv\", \"Term\"],\n",
    "    [\"SBA_Appv\", \"Term\"],\n",
    "    [\"NoEmp\", \"Term\"],\n",
    "    # [\"DisbursementGross\", \"NoEmp\"],\n",
    "    # [\"GrAppv\", \"NoEmp\"],\n",
    "    # [\"SBA_Appv\", \"NoEmp\"],\n",
    "    [\"DisbursementGross_GrAppv_diff\", \"Term\"],\n",
    "    [\"DisbursementGross_SBA_Appv_diff\", \"Term\"],\n",
    "    [\"GrAppv_SBA_Appv_diff\", \"Term\"],\n",
    "    # [\"DisbursementGross_GrAppv_diff\", \"NoEmp\"],\n",
    "    # [\"DisbursementGross_SBA_Appv_diff\", \"NoEmp\"],\n",
    "    # [\"GrAppv_SBA_Appv_diff\", \"NoEmp\"]\n",
    "]\n",
    "train = preprosess.add_div(train, divs)\n",
    "test  = preprosess.add_div(test, divs)\n",
    "\n",
    "# Sectorを職業別にする\n",
    "train = preprosess.unify_same_sector(train)\n",
    "test  = preprosess.unify_same_sector(test)"
   ]
  },
  {
   "cell_type": "markdown",
   "source": [
    "## Target encoding"
   ],
   "metadata": {
    "collapsed": false
   }
  },
  {
   "cell_type": "code",
   "execution_count": 5,
   "outputs": [],
   "source": [
    "cols = [\n",
    "    # \"Sector\",\n",
    "    \"UrbanRural\",\n",
    "    \"RevLineCr\",\n",
    "    \"LowDoc\",\n",
    "    \"FranchiseCode\",\n",
    "]\n",
    "target_col = \"MIS_Status\"\n",
    "train, test = preprosess.target_encoding(train, test, cols)"
   ],
   "metadata": {
    "collapsed": false,
    "ExecuteTime": {
     "end_time": "2024-01-25T07:41:35.696065Z",
     "start_time": "2024-01-25T07:41:35.625539Z"
    }
   }
  },
  {
   "cell_type": "markdown",
   "source": [
    "## Label encoding\n",
    "CVによるtarget encodingでは同じカテゴリカル変数に異なる値が割り当てられるのでlabel encodingを併用する"
   ],
   "metadata": {
    "collapsed": false
   }
  },
  {
   "cell_type": "code",
   "execution_count": 6,
   "outputs": [],
   "source": [
    "cols = [\"RevLineCr\", \"LowDoc\"]\n",
    "train, test = preprosess.label_encoding(train, test, cols)"
   ],
   "metadata": {
    "collapsed": false,
    "ExecuteTime": {
     "end_time": "2024-01-25T07:41:35.737806Z",
     "start_time": "2024-01-25T07:41:35.697594Z"
    }
   }
  },
  {
   "cell_type": "markdown",
   "source": [
    "# Drop columns"
   ],
   "metadata": {
    "collapsed": false
   }
  },
  {
   "cell_type": "code",
   "execution_count": 7,
   "outputs": [],
   "source": [
    "# 不要なカラムの削除\n",
    "del_cols = [\n",
    "    # 地名系\n",
    "    \"City\",\n",
    "    \"State\",\n",
    "    \"BankState\",\n",
    "    # d-b-y系\n",
    "    \"DisbursementDate\",\n",
    "    \"ApprovalDate\",\n",
    "    \"ApprovalFY\",\n",
    "    # ラベルエンコーディング済み\n",
    "    \"RevLineCr\",\n",
    "    \"LowDoc\",\n",
    "]\n",
    "train = train.drop(del_cols)\n",
    "test  = test.drop(del_cols)"
   ],
   "metadata": {
    "collapsed": false,
    "ExecuteTime": {
     "end_time": "2024-01-25T07:41:35.749389Z",
     "start_time": "2024-01-25T07:41:35.739877Z"
    }
   }
  },
  {
   "cell_type": "markdown",
   "metadata": {
    "collapsed": false
   },
   "source": [
    "# Training"
   ]
  },
  {
   "cell_type": "code",
   "outputs": [],
   "source": [
    "results = []"
   ],
   "metadata": {
    "collapsed": false,
    "ExecuteTime": {
     "end_time": "2024-01-25T07:41:35.769948Z",
     "start_time": "2024-01-25T07:41:35.748247Z"
    }
   },
   "execution_count": 8
  },
  {
   "cell_type": "code",
   "execution_count": 9,
   "outputs": [
    {
     "name": "stdout",
     "output_type": "stream",
     "text": [
      "--------------------------------------------------------------------------------\n",
      "START fold 1\n",
      "[LightGBM] [Info] Number of positive: 30213, number of negative: 3632\n",
      "[LightGBM] [Warning] Auto-choosing col-wise multi-threading, the overhead of testing was 0.007223 seconds.\n",
      "You can set `force_col_wise=true` to remove the overhead.\n",
      "[LightGBM] [Info] Total Bins 4971\n",
      "[LightGBM] [Info] Number of data points in the train set: 33845, number of used features: 31\n",
      "[LightGBM] [Info] [binary:BoostFromScore]: pavg=0.892687 -> initscore=2.118489\n",
      "[LightGBM] [Info] Start training from score 2.118489\n",
      "Training until validation scores don't improve for 100 rounds\n",
      "[100]\ttraining's auc: 0.949211\tvalid_1's auc: 0.773659\n",
      "Did not meet early stopping. Best iteration is:\n",
      "[100]\ttraining's auc: 0.949211\tvalid_1's auc: 0.773659\n",
      "Time:  5.509[s]\n",
      "--------------------------------------------------------------------------------\n",
      "START fold 2\n"
     ]
    },
    {
     "name": "stderr",
     "output_type": "stream",
     "text": [
      "/Users/taichi/anaconda3/envs/kaggle/lib/python3.9/site-packages/lightgbm/basic.py:859: UserWarning: Converting data to scipy sparse matrix.\n",
      "  _log_warning('Converting data to scipy sparse matrix.')\n"
     ]
    },
    {
     "name": "stdout",
     "output_type": "stream",
     "text": [
      "[LightGBM] [Info] Number of positive: 30213, number of negative: 3632\n",
      "[LightGBM] [Warning] Auto-choosing row-wise multi-threading, the overhead of testing was 0.005210 seconds.\n",
      "You can set `force_row_wise=true` to remove the overhead.\n",
      "And if memory is not enough, you can set `force_col_wise=true`.\n",
      "[LightGBM] [Info] Total Bins 4979\n",
      "[LightGBM] [Info] Number of data points in the train set: 33845, number of used features: 31\n",
      "[LightGBM] [Info] [binary:BoostFromScore]: pavg=0.892687 -> initscore=2.118489\n",
      "[LightGBM] [Info] Start training from score 2.118489\n",
      "Training until validation scores don't improve for 100 rounds\n",
      "[100]\ttraining's auc: 0.94959\tvalid_1's auc: 0.777805\n",
      "Did not meet early stopping. Best iteration is:\n",
      "[100]\ttraining's auc: 0.94959\tvalid_1's auc: 0.777805\n",
      "Time:  3.164[s]\n",
      "--------------------------------------------------------------------------------\n",
      "START fold 3\n",
      "[LightGBM] [Info] Number of positive: 30214, number of negative: 3632\n",
      "[LightGBM] [Warning] Auto-choosing col-wise multi-threading, the overhead of testing was 0.010802 seconds.\n",
      "You can set `force_col_wise=true` to remove the overhead.\n",
      "[LightGBM] [Info] Total Bins 4972\n",
      "[LightGBM] [Info] Number of data points in the train set: 33846, number of used features: 31\n",
      "[LightGBM] [Info] [binary:BoostFromScore]: pavg=0.892690 -> initscore=2.118522\n",
      "[LightGBM] [Info] Start training from score 2.118522\n",
      "Training until validation scores don't improve for 100 rounds\n",
      "[100]\ttraining's auc: 0.951705\tvalid_1's auc: 0.736326\n",
      "Did not meet early stopping. Best iteration is:\n",
      "[100]\ttraining's auc: 0.951705\tvalid_1's auc: 0.736326\n",
      "Time:  3.205[s]\n",
      "--------------------------------------------------------------------------------\n",
      "START fold 4\n",
      "[LightGBM] [Info] Number of positive: 30214, number of negative: 3632\n",
      "[LightGBM] [Warning] Auto-choosing col-wise multi-threading, the overhead of testing was 0.007841 seconds.\n",
      "You can set `force_col_wise=true` to remove the overhead.\n",
      "[LightGBM] [Info] Total Bins 4969\n",
      "[LightGBM] [Info] Number of data points in the train set: 33846, number of used features: 31\n",
      "[LightGBM] [Info] [binary:BoostFromScore]: pavg=0.892690 -> initscore=2.118522\n",
      "[LightGBM] [Info] Start training from score 2.118522\n",
      "Training until validation scores don't improve for 100 rounds\n",
      "[100]\ttraining's auc: 0.948681\tvalid_1's auc: 0.764161\n",
      "Did not meet early stopping. Best iteration is:\n",
      "[100]\ttraining's auc: 0.948681\tvalid_1's auc: 0.764161\n",
      "Time:  3.506[s]\n",
      "--------------------------------------------------------------------------------\n",
      "START fold 5\n",
      "[LightGBM] [Info] Number of positive: 30214, number of negative: 3632\n",
      "[LightGBM] [Warning] Auto-choosing col-wise multi-threading, the overhead of testing was 0.010143 seconds.\n",
      "You can set `force_col_wise=true` to remove the overhead.\n",
      "[LightGBM] [Info] Total Bins 4971\n",
      "[LightGBM] [Info] Number of data points in the train set: 33846, number of used features: 31\n",
      "[LightGBM] [Info] [binary:BoostFromScore]: pavg=0.892690 -> initscore=2.118522\n",
      "[LightGBM] [Info] Start training from score 2.118522\n",
      "Training until validation scores don't improve for 100 rounds\n",
      "[100]\ttraining's auc: 0.950361\tvalid_1's auc: 0.754791\n",
      "Did not meet early stopping. Best iteration is:\n",
      "[100]\ttraining's auc: 0.950361\tvalid_1's auc: 0.754791\n",
      "Time:  4.468[s]\n",
      "================================================================================\n",
      "FINISH!\n"
     ]
    }
   ],
   "source": [
    "# default\n",
    "lgb_params = {\n",
    "    'objective': 'binary',\n",
    "    'metric': 'auc',\n",
    "    'boosting_type': 'gbdt',\n",
    "    'seed': cfg.Params.seed,\n",
    "    'learning_rate': cfg.Params.learning_rate,\n",
    "}\n",
    "oof, models = training.fit_lgbm(train, lgb_params=lgb_params)\n",
    "results.append((oof, models))"
   ],
   "metadata": {
    "collapsed": false,
    "ExecuteTime": {
     "end_time": "2024-01-25T07:41:55.920554Z",
     "start_time": "2024-01-25T07:41:35.756758Z"
    }
   }
  },
  {
   "cell_type": "code",
   "outputs": [
    {
     "name": "stdout",
     "output_type": "stream",
     "text": [
      "--------------------------------------------------------------------------------\n",
      "START fold 1\n",
      "[LightGBM] [Warning] Using self-defined objective function\n",
      "[LightGBM] [Warning] Auto-choosing row-wise multi-threading, the overhead of testing was 0.005065 seconds.\n",
      "You can set `force_row_wise=true` to remove the overhead.\n",
      "And if memory is not enough, you can set `force_col_wise=true`.\n",
      "[LightGBM] [Info] Total Bins 4971\n",
      "[LightGBM] [Info] Number of data points in the train set: 33845, number of used features: 31\n",
      "[LightGBM] [Warning] Using self-defined objective function\n",
      "Training until validation scores don't improve for 100 rounds\n",
      "[100]\ttraining's Focal_alpha0.2_gamma1.0: 0.154552\tvalid_1's Focal_alpha0.2_gamma1.0: 0.723264\n",
      "Did not meet early stopping. Best iteration is:\n",
      "[65]\ttraining's Focal_alpha0.2_gamma1.0: 0.0580832\tvalid_1's Focal_alpha0.2_gamma1.0: 0.489355\n",
      "Time:  3.890[s]\n",
      "--------------------------------------------------------------------------------\n",
      "START fold 2\n",
      "[LightGBM] [Warning] Using self-defined objective function\n",
      "[LightGBM] [Warning] Auto-choosing col-wise multi-threading, the overhead of testing was 0.008311 seconds.\n",
      "You can set `force_col_wise=true` to remove the overhead.\n",
      "[LightGBM] [Info] Total Bins 4979\n",
      "[LightGBM] [Info] Number of data points in the train set: 33845, number of used features: 31\n",
      "[LightGBM] [Warning] Using self-defined objective function\n",
      "Training until validation scores don't improve for 100 rounds\n",
      "[100]\ttraining's Focal_alpha0.2_gamma1.0: 0.0779388\tvalid_1's Focal_alpha0.2_gamma1.0: 0.618776\n",
      "Did not meet early stopping. Best iteration is:\n",
      "[65]\ttraining's Focal_alpha0.2_gamma1.0: 0.0590084\tvalid_1's Focal_alpha0.2_gamma1.0: 0.464849\n",
      "Time:  4.518[s]\n",
      "--------------------------------------------------------------------------------\n",
      "START fold 3\n",
      "[LightGBM] [Warning] Using self-defined objective function\n",
      "[LightGBM] [Warning] Auto-choosing col-wise multi-threading, the overhead of testing was 0.009335 seconds.\n",
      "You can set `force_col_wise=true` to remove the overhead.\n",
      "[LightGBM] [Info] Total Bins 4972\n",
      "[LightGBM] [Info] Number of data points in the train set: 33846, number of used features: 31\n",
      "[LightGBM] [Warning] Using self-defined objective function\n",
      "Training until validation scores don't improve for 100 rounds\n"
     ]
    },
    {
     "name": "stderr",
     "output_type": "stream",
     "text": [
      "/Users/taichi/anaconda3/envs/kaggle/lib/python3.9/site-packages/bokbokbok/utils/functions.py:16: RuntimeWarning: overflow encountered in exp\n",
      "  yhat = 1. / (1. + np.exp(-yhat))\n"
     ]
    },
    {
     "name": "stdout",
     "output_type": "stream",
     "text": [
      "[100]\ttraining's Focal_alpha0.2_gamma1.0: 0.208628\tvalid_1's Focal_alpha0.2_gamma1.0: 0.817903\n",
      "Did not meet early stopping. Best iteration is:\n",
      "[57]\ttraining's Focal_alpha0.2_gamma1.0: 0.0769153\tvalid_1's Focal_alpha0.2_gamma1.0: 0.537591\n",
      "Time:  3.458[s]\n",
      "--------------------------------------------------------------------------------\n",
      "START fold 4\n",
      "[LightGBM] [Warning] Using self-defined objective function\n",
      "[LightGBM] [Warning] Auto-choosing row-wise multi-threading, the overhead of testing was 0.005769 seconds.\n",
      "You can set `force_row_wise=true` to remove the overhead.\n",
      "And if memory is not enough, you can set `force_col_wise=true`.\n",
      "[LightGBM] [Info] Total Bins 4969\n",
      "[LightGBM] [Info] Number of data points in the train set: 33846, number of used features: 31\n",
      "[LightGBM] [Warning] Using self-defined objective function\n",
      "Training until validation scores don't improve for 100 rounds\n",
      "[100]\ttraining's Focal_alpha0.2_gamma1.0: 0.984523\tvalid_1's Focal_alpha0.2_gamma1.0: 1.30742\n",
      "Did not meet early stopping. Best iteration is:\n",
      "[51]\ttraining's Focal_alpha0.2_gamma1.0: 0.0625716\tvalid_1's Focal_alpha0.2_gamma1.0: 0.366423\n",
      "Time:  3.444[s]\n",
      "--------------------------------------------------------------------------------\n",
      "START fold 5\n",
      "[LightGBM] [Warning] Using self-defined objective function\n",
      "[LightGBM] [Warning] Auto-choosing row-wise multi-threading, the overhead of testing was 0.011257 seconds.\n",
      "You can set `force_row_wise=true` to remove the overhead.\n",
      "And if memory is not enough, you can set `force_col_wise=true`.\n",
      "[LightGBM] [Info] Total Bins 4971\n",
      "[LightGBM] [Info] Number of data points in the train set: 33846, number of used features: 31\n",
      "[LightGBM] [Warning] Using self-defined objective function\n",
      "Training until validation scores don't improve for 100 rounds\n",
      "[100]\ttraining's Focal_alpha0.2_gamma1.0: 0.864049\tvalid_1's Focal_alpha0.2_gamma1.0: 1.42153\n",
      "Did not meet early stopping. Best iteration is:\n",
      "[64]\ttraining's Focal_alpha0.2_gamma1.0: 0.0624865\tvalid_1's Focal_alpha0.2_gamma1.0: 0.50428\n",
      "Time:  4.585[s]\n",
      "================================================================================\n",
      "FINISH!\n"
     ]
    }
   ],
   "source": [
    "# Focal loss\n",
    "lgb_params = {\n",
    "    'objective': 'binary',\n",
    "    'metric': 'custom',\n",
    "    'boosting_type': 'gbdt',\n",
    "    'seed': cfg.Params.seed,\n",
    "    'learning_rate': cfg.Params.learning_rate,\n",
    "}\n",
    "oof, models = training.fit_lgbm_fl(train, lgb_params=lgb_params, alpha=0.2, gamma=1.0)\n",
    "results.append((oof, models))"
   ],
   "metadata": {
    "collapsed": false,
    "ExecuteTime": {
     "end_time": "2024-01-25T07:42:16.078517Z",
     "start_time": "2024-01-25T07:41:55.935326Z"
    }
   },
   "execution_count": 10
  },
  {
   "cell_type": "code",
   "outputs": [
    {
     "name": "stdout",
     "output_type": "stream",
     "text": [
      "--------------------------------------------------------------------------------\n",
      "START fold 1\n",
      "[LightGBM] [Warning] Using self-defined objective function\n",
      "[LightGBM] [Warning] Auto-choosing col-wise multi-threading, the overhead of testing was 0.009608 seconds.\n",
      "You can set `force_col_wise=true` to remove the overhead.\n",
      "[LightGBM] [Info] Total Bins 4971\n",
      "[LightGBM] [Info] Number of data points in the train set: 33845, number of used features: 31\n",
      "[LightGBM] [Warning] Using self-defined objective function\n",
      "Training until validation scores don't improve for 100 rounds\n",
      "[100]\ttraining's WCE_alpha0.2: 0.0986272\tvalid_1's WCE_alpha0.2: 0.155726\n",
      "Did not meet early stopping. Best iteration is:\n",
      "[100]\ttraining's WCE_alpha0.2: 0.0986272\tvalid_1's WCE_alpha0.2: 0.155726\n",
      "Time:  2.611[s]\n",
      "--------------------------------------------------------------------------------\n",
      "START fold 2\n",
      "[LightGBM] [Warning] Using self-defined objective function\n",
      "[LightGBM] [Warning] Auto-choosing col-wise multi-threading, the overhead of testing was 0.007441 seconds.\n",
      "You can set `force_col_wise=true` to remove the overhead.\n",
      "[LightGBM] [Info] Total Bins 4979\n",
      "[LightGBM] [Info] Number of data points in the train set: 33845, number of used features: 31\n",
      "[LightGBM] [Warning] Using self-defined objective function\n",
      "Training until validation scores don't improve for 100 rounds\n",
      "[100]\ttraining's WCE_alpha0.2: 0.0992584\tvalid_1's WCE_alpha0.2: 0.156948\n",
      "Did not meet early stopping. Best iteration is:\n",
      "[100]\ttraining's WCE_alpha0.2: 0.0992584\tvalid_1's WCE_alpha0.2: 0.156948\n",
      "Time:  2.553[s]\n",
      "--------------------------------------------------------------------------------\n",
      "START fold 3\n",
      "[LightGBM] [Warning] Using self-defined objective function\n",
      "[LightGBM] [Warning] Auto-choosing col-wise multi-threading, the overhead of testing was 0.014442 seconds.\n",
      "You can set `force_col_wise=true` to remove the overhead.\n",
      "[LightGBM] [Info] Total Bins 4972\n",
      "[LightGBM] [Info] Number of data points in the train set: 33846, number of used features: 31\n",
      "[LightGBM] [Warning] Using self-defined objective function\n",
      "Training until validation scores don't improve for 100 rounds\n",
      "[100]\ttraining's WCE_alpha0.2: 0.0962929\tvalid_1's WCE_alpha0.2: 0.169405\n",
      "Did not meet early stopping. Best iteration is:\n",
      "[100]\ttraining's WCE_alpha0.2: 0.0962929\tvalid_1's WCE_alpha0.2: 0.169405\n",
      "Time:  2.603[s]\n",
      "--------------------------------------------------------------------------------\n",
      "START fold 4\n",
      "[LightGBM] [Warning] Using self-defined objective function\n",
      "[LightGBM] [Warning] Auto-choosing col-wise multi-threading, the overhead of testing was 0.011605 seconds.\n",
      "You can set `force_col_wise=true` to remove the overhead.\n",
      "[LightGBM] [Info] Total Bins 4969\n",
      "[LightGBM] [Info] Number of data points in the train set: 33846, number of used features: 31\n",
      "[LightGBM] [Warning] Using self-defined objective function\n",
      "Training until validation scores don't improve for 100 rounds\n",
      "[100]\ttraining's WCE_alpha0.2: 0.0981841\tvalid_1's WCE_alpha0.2: 0.160362\n",
      "Did not meet early stopping. Best iteration is:\n",
      "[100]\ttraining's WCE_alpha0.2: 0.0981841\tvalid_1's WCE_alpha0.2: 0.160362\n",
      "Time:  2.715[s]\n",
      "--------------------------------------------------------------------------------\n",
      "START fold 5\n",
      "[LightGBM] [Warning] Using self-defined objective function\n",
      "[LightGBM] [Warning] Auto-choosing col-wise multi-threading, the overhead of testing was 0.009747 seconds.\n",
      "You can set `force_col_wise=true` to remove the overhead.\n",
      "[LightGBM] [Info] Total Bins 4971\n",
      "[LightGBM] [Info] Number of data points in the train set: 33846, number of used features: 31\n",
      "[LightGBM] [Warning] Using self-defined objective function\n",
      "Training until validation scores don't improve for 100 rounds\n",
      "[100]\ttraining's WCE_alpha0.2: 0.0964122\tvalid_1's WCE_alpha0.2: 0.171825\n",
      "Did not meet early stopping. Best iteration is:\n",
      "[100]\ttraining's WCE_alpha0.2: 0.0964122\tvalid_1's WCE_alpha0.2: 0.171825\n",
      "Time:  2.506[s]\n",
      "================================================================================\n",
      "FINISH!\n"
     ]
    }
   ],
   "source": [
    "# Cross entropy loss\n",
    "lgb_params = {\n",
    "    'objective': 'binary',\n",
    "    'metric': 'custom',\n",
    "    'boosting_type': 'gbdt',\n",
    "    'seed': cfg.Params.seed,\n",
    "    'learning_rate': cfg.Params.learning_rate,\n",
    "}\n",
    "oof, models = training.fit_lgbm_wcel(train, lgb_params=lgb_params, alpha=0.2)\n",
    "results.append((oof, models))"
   ],
   "metadata": {
    "collapsed": false,
    "ExecuteTime": {
     "end_time": "2024-01-25T07:42:29.345995Z",
     "start_time": "2024-01-25T07:42:16.075999Z"
    }
   },
   "execution_count": 11
  },
  {
   "cell_type": "markdown",
   "source": [
    "## アンサンブルの重みを計算"
   ],
   "metadata": {
    "collapsed": false
   }
  },
  {
   "cell_type": "code",
   "outputs": [
    {
     "name": "stdout",
     "output_type": "stream",
     "text": [
      "cv_scores: [0.638269748302189, 0.5850112336565383, 0.6639523624985488]\n"
     ]
    }
   ],
   "source": [
    "threshold = 0.5\n",
    "oof_truth = train[cfg.Cols.target].to_numpy()\n",
    "cv_scores = []\n",
    "for result in results:\n",
    "    oof = result[0]\n",
    "    oof_hat = predict.predict_class(oof, threshold=threshold)\n",
    "    cv_score = metrics.macro_f1_score(oof_truth, oof_hat)\n",
    "    cv_scores.append(cv_score)\n",
    "\n",
    "print(f\"cv_scores: {cv_scores}\")\n",
    "ensemble_weights = [cv_score / sum(cv_scores) for cv_score in cv_scores]"
   ],
   "metadata": {
    "collapsed": false,
    "ExecuteTime": {
     "end_time": "2024-01-25T07:42:29.477788Z",
     "start_time": "2024-01-25T07:42:29.351858Z"
    }
   },
   "execution_count": 12
  },
  {
   "cell_type": "markdown",
   "metadata": {},
   "source": [
    "# Predict"
   ]
  },
  {
   "cell_type": "code",
   "outputs": [],
   "source": [
    "threshold = 0.6"
   ],
   "metadata": {
    "collapsed": false,
    "ExecuteTime": {
     "end_time": "2024-01-25T07:47:29.419687Z",
     "start_time": "2024-01-25T07:47:29.402802Z"
    }
   },
   "execution_count": 54
  },
  {
   "cell_type": "code",
   "outputs": [],
   "source": [
    "pred_probs = []\n",
    "for i, result in enumerate(results):\n",
    "    models = result[1]\n",
    "    if i == 0:\n",
    "        # default\n",
    "        pred_probs.append(predict.predict_probability(models, test))\n",
    "    else:\n",
    "        # Focal loss or Cross entropy loss\n",
    "        pred_probs.append(predict.predict_probability_sigmoid(models, test))\n",
    "\n",
    "pred_prob = sum([pred_prob * ensemble_weight for pred_prob, ensemble_weight in zip(pred_probs, ensemble_weights)])\n",
    "pred_class = predict.predict_class(pred_prob, threshold=threshold)"
   ],
   "metadata": {
    "collapsed": false,
    "ExecuteTime": {
     "end_time": "2024-01-25T07:47:32.140922Z",
     "start_time": "2024-01-25T07:47:30.131983Z"
    }
   },
   "execution_count": 55
  },
  {
   "cell_type": "markdown",
   "source": [
    "## CV score"
   ],
   "metadata": {
    "collapsed": false
   }
  },
  {
   "cell_type": "code",
   "outputs": [
    {
     "name": "stdout",
     "output_type": "stream",
     "text": [
      "0.6611126829582988\n"
     ]
    }
   ],
   "source": [
    "oof_truth = train[cfg.Cols.target].to_numpy()\n",
    "oof_prob = sum([result[0] * ensemble_weight for result, ensemble_weight in zip(results, ensemble_weights)])\n",
    "oof_hat = predict.predict_class(oof_prob, threshold=threshold)\n",
    "cv_score = metrics.macro_f1_score(oof_truth, oof_hat)\n",
    "print(cv_score)"
   ],
   "metadata": {
    "collapsed": false,
    "ExecuteTime": {
     "end_time": "2024-01-25T07:47:33.841733Z",
     "start_time": "2024-01-25T07:47:33.802624Z"
    }
   },
   "execution_count": 56
  },
  {
   "cell_type": "markdown",
   "source": [
    "## Check result"
   ],
   "metadata": {
    "collapsed": false
   }
  },
  {
   "cell_type": "markdown",
   "source": [
    "### oofとtestの予測値分布を比較してバグを確認"
   ],
   "metadata": {
    "collapsed": false
   }
  },
  {
   "cell_type": "code",
   "outputs": [
    {
     "data": {
      "text/plain": "<Figure size 640x480 with 1 Axes>",
      "image/png": "[encoded data removed]"
     },
     "metadata": {},
     "output_type": "display_data"
    }
   ],
   "source": [
    "sns.histplot(oof_prob)\n",
    "plt.xlim(0.0, 1.0)\n",
    "plt.show()"
   ],
   "metadata": {
    "collapsed": false,
    "ExecuteTime": {
     "end_time": "2024-01-25T07:47:38.185106Z",
     "start_time": "2024-01-25T07:47:37.661699Z"
    }
   },
   "execution_count": 57
  },
  {
   "cell_type": "code",
   "outputs": [
    {
     "data": {
      "text/plain": "<Figure size 640x480 with 1 Axes>",
      "image/png": "[encoded data removed]"
     },
     "metadata": {},
     "output_type": "display_data"
    }
   ],
   "source": [
    "sns.histplot(pred_prob)\n",
    "plt.xlim(0.0, 1.0)\n",
    "plt.show()"
   ],
   "metadata": {
    "collapsed": false,
    "ExecuteTime": {
     "end_time": "2024-01-25T07:47:39.809623Z",
     "start_time": "2024-01-25T07:47:39.003792Z"
    }
   },
   "execution_count": 58
  },
  {
   "cell_type": "markdown",
   "source": [
    "### 予測値の1の割合を確認"
   ],
   "metadata": {
    "collapsed": false
   }
  },
  {
   "cell_type": "code",
   "outputs": [
    {
     "name": "stdout",
     "output_type": "stream",
     "text": [
      "0.9519003498156378\n"
     ]
    }
   ],
   "source": [
    "print(pred_class.sum() / len(pred_class))"
   ],
   "metadata": {
    "collapsed": false,
    "ExecuteTime": {
     "end_time": "2024-01-25T07:47:42.562011Z",
     "start_time": "2024-01-25T07:47:42.540894Z"
    }
   },
   "execution_count": 59
  },
  {
   "cell_type": "markdown",
   "source": [
    "### oofにおける混同行列を確認"
   ],
   "metadata": {
    "collapsed": false
   }
  },
  {
   "cell_type": "code",
   "outputs": [
    {
     "name": "stdout",
     "output_type": "stream",
     "text": [
      "True Negative Rate (0の正解率): 0.41\n",
      "True Positive Rate (1の正解率): 0.92\n"
     ]
    },
    {
     "data": {
      "text/plain": "<Figure size 640x480 with 2 Axes>",
      "image/png": "[encoded data removed]"
     },
     "metadata": {},
     "output_type": "display_data"
    }
   ],
   "source": [
    "metrics.show_confusion_matrix(oof_truth, oof_hat)"
   ],
   "metadata": {
    "collapsed": false,
    "ExecuteTime": {
     "end_time": "2024-01-25T07:47:45.106708Z",
     "start_time": "2024-01-25T07:47:44.607506Z"
    }
   },
   "execution_count": 60
  },
  {
   "cell_type": "markdown",
   "source": [
    "## Submit"
   ],
   "metadata": {
    "collapsed": false
   }
  },
  {
   "cell_type": "code",
   "execution_count": 61,
   "metadata": {
    "ExecuteTime": {
     "end_time": "2024-01-25T07:48:05.222692Z",
     "start_time": "2024-01-25T07:48:05.187577Z"
    }
   },
   "outputs": [],
   "source": [
    "submit = submit.with_columns([pl.Series(cfg.Cols.sub_pred, pred_class)])\n",
    "utils.make_submission(submit, exp, cv_score)"
   ]
  },
  {
   "cell_type": "code",
   "outputs": [],
   "source": [],
   "metadata": {
    "collapsed": false,
    "ExecuteTime": {
     "end_time": "2024-01-25T07:42:32.987931Z",
     "start_time": "2024-01-25T07:42:32.924381Z"
    }
   },
   "execution_count": 20
  }
 ],
 "metadata": {
  "kernelspec": {
   "display_name": "kaggle",
   "language": "python",
   "name": "kaggle"
  },
  "language_info": {
   "codemirror_mode": {
    "name": "ipython",
    "version": 3
   },
   "file_extension": ".py",
   "mimetype": "text/x-python",
   "name": "python",
   "nbconvert_exporter": "python",
   "pygments_lexer": "ipython3",
   "version": "3.9.18"
  }
 },
 "nbformat": 4,
 "nbformat_minor": 4
}
