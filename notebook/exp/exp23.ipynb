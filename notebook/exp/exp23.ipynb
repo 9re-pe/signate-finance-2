{
 "cells": [
  {
   "cell_type": "markdown",
   "source": [
    "# TODO\n",
    "\n",
    "- Latest Baseline\n",
    "- ワークフロー確保"
   ],
   "metadata": {
    "collapsed": false
   }
  },
  {
   "cell_type": "markdown",
   "source": [
    "# Setting"
   ],
   "metadata": {
    "collapsed": false
   }
  },
  {
   "cell_type": "code",
   "execution_count": 1,
   "outputs": [],
   "source": [
    "import sys\n",
    "\n",
    "import numpy as np\n",
    "import polars as pl\n",
    "from typing import Final\n",
    "import seaborn as sns\n",
    "import matplotlib.pyplot as plt\n",
    "\n",
    "root_dir = \"../../\"\n",
    "if root_dir not in sys.path:\n",
    "    sys.path.append(root_dir)\n",
    "from modules import config as cfg\n",
    "from modules import utils, preprosess, training, predict, metrics, workflow\n",
    "\n",
    "exp = \"exp23\"\n",
    "utils.set_seed(cfg.Params.seed)"
   ],
   "metadata": {
    "collapsed": false,
    "ExecuteTime": {
     "end_time": "2024-01-31T12:04:25.628221Z",
     "start_time": "2024-01-31T12:04:25.011985Z"
    }
   }
  },
  {
   "cell_type": "markdown",
   "metadata": {
    "collapsed": false,
    "ExecuteTime": {
     "end_time": "2024-01-21T07:23:00.806250Z",
     "start_time": "2024-01-21T07:22:58.502427Z"
    }
   },
   "source": [
    "# Read data"
   ]
  },
  {
   "cell_type": "code",
   "execution_count": 2,
   "metadata": {
    "collapsed": false,
    "ExecuteTime": {
     "end_time": "2024-01-31T12:04:25.683051Z",
     "start_time": "2024-01-31T12:04:25.631215Z"
    }
   },
   "outputs": [],
   "source": [
    "train, test, submit = utils.get_data(debug_mode=False)"
   ]
  },
  {
   "cell_type": "markdown",
   "metadata": {
    "collapsed": false
   },
   "source": [
    "# Preprocessing"
   ]
  },
  {
   "cell_type": "code",
   "outputs": [],
   "source": [
    "train = preprosess.drop_null_columns(train)\n",
    "test  = preprosess.drop_null_columns(test)"
   ],
   "metadata": {
    "collapsed": false,
    "ExecuteTime": {
     "end_time": "2024-01-31T12:04:25.693175Z",
     "start_time": "2024-01-31T12:04:25.686374Z"
    }
   },
   "execution_count": 3
  },
  {
   "cell_type": "markdown",
   "source": [
    "## Split fold"
   ],
   "metadata": {
    "collapsed": false
   }
  },
  {
   "cell_type": "code",
   "execution_count": 4,
   "outputs": [],
   "source": [
    "train = preprosess.assign_stratified_k_fold(train)"
   ],
   "metadata": {
    "collapsed": false,
    "ExecuteTime": {
     "end_time": "2024-01-31T12:04:25.727992Z",
     "start_time": "2024-01-31T12:04:25.697703Z"
    }
   }
  },
  {
   "cell_type": "markdown",
   "source": [
    "## Convert"
   ],
   "metadata": {
    "collapsed": false
   }
  },
  {
   "cell_type": "code",
   "execution_count": 5,
   "metadata": {
    "collapsed": false,
    "ExecuteTime": {
     "end_time": "2024-01-31T12:04:25.941093Z",
     "start_time": "2024-01-31T12:04:25.722693Z"
    }
   },
   "outputs": [],
   "source": [
    "# testのBankStateの\"PR\"はtrainにないため，一番多いCAに変換\n",
    "test = test.with_columns(pl.col(\"BankState\").str.replace(\"PR\", \"CA\"))\n",
    "\n",
    "# 地名を座標に変換\n",
    "train = preprosess.convert_to_latlng(train)\n",
    "test  = preprosess.convert_to_latlng(test)\n",
    "\n",
    "# DisbursementDateとApprovalDateを数値に変換\n",
    "cols  = [\"DisbursementDate\", \"ApprovalDate\"]\n",
    "train = preprosess.convert_date_to_year(train, cols)\n",
    "test  = preprosess.convert_date_to_year(test, cols)\n",
    "train = preprosess.convert_date_to_month(train, cols)\n",
    "test  = preprosess.convert_date_to_month(test, cols)\n",
    "train = preprosess.convert_date_to_day(train, cols)\n",
    "test  = preprosess.convert_date_to_day(test, cols)\n",
    "\n",
    "# 金額データの数値化\n",
    "cols  = [\"DisbursementGross\",  \"GrAppv\", \"SBA_Appv\"]\n",
    "train = preprosess.convert_money_data(train, cols)\n",
    "test  = preprosess.convert_money_data(test, cols)\n",
    "\n",
    "# 一致しているか\n",
    "eqs = [\n",
    "    [\"State\", \"BankState\"],\n",
    "]\n",
    "train = preprosess.add_eq(train, eqs)\n",
    "test  = preprosess.add_eq(test, eqs)\n",
    "\n",
    "# DisbursementDateとApprovalDateの差を計算\n",
    "train = preprosess.add_diff_disbursement_with_approval(train)\n",
    "test  = preprosess.add_diff_disbursement_with_approval(test)\n",
    "\n",
    "# Sectorを職業別にする\n",
    "train = preprosess.unify_same_sector(train)\n",
    "test  = preprosess.unify_same_sector(test)\n",
    "\n",
    "# ラベルデータをSBA_Appvの統計量で置き換える\n",
    "AGG_NAME: Final[list] = [\"mean\", \"median\", \"max\", \"min\"]\n",
    "AGG_COL: Final[str] = \"SBA_Appv\"\n",
    "VS_AGG_COLS: Final[list] = [\n",
    "    'NewExist', \n",
    "    'RevLineCr', \n",
    "    'LowDoc', \n",
    "    'UrbanRural', \n",
    "    'CreateJob'\n",
    "]\n",
    "train, test = preprosess.convert_aggregation_data(train, test, AGG_COL, VS_AGG_COLS)\n",
    "\n",
    "# 差の計算\n",
    "diffs = [\n",
    "    [\"DisbursementGross\", \"GrAppv\"],   # 支払われた額 vs 銀行承認額\n",
    "    [\"DisbursementGross\", \"SBA_Appv\"], # 支払われた額 vs SBA承認額\n",
    "    [\"GrAppv\", \"SBA_Appv\"],            # 銀行承認額 vs SBA承認額\n",
    "]\n",
    "\n",
    "# ラベルデータをSBA_Appvの統計量で置き換えたもの vs SBA_Appv\n",
    "for col_name in VS_AGG_COLS:\n",
    "    for name in AGG_NAME:\n",
    "        diff = [AGG_COL, f\"{col_name}_{AGG_COL}_{name}\"]\n",
    "        diffs.append(diff)\n",
    "\n",
    "train = preprosess.add_diff(train, diffs)\n",
    "test  = preprosess.add_diff(test, diffs)\n",
    "\n",
    "# 割合の計算\n",
    "divs = [\n",
    "    [\"DisbursementGross\", \"Term\"], \n",
    "    [\"GrAppv\", \"Term\"], \n",
    "    [\"SBA_Appv\", \"Term\"], \n",
    "    [\"NoEmp\", \"Term\"], \n",
    "    [\"DisbursementGross\", \"NoEmp\"], \n",
    "    [\"GrAppv\", \"NoEmp\"], \n",
    "    [\"SBA_Appv\", \"NoEmp\"], \n",
    "    [\"DisbursementGross_GrAppv_diff\", \"Term\"], \n",
    "    [\"DisbursementGross_SBA_Appv_diff\", \"Term\"], \n",
    "    [\"GrAppv_SBA_Appv_diff\", \"Term\"], \n",
    "    [\"DisbursementGross_GrAppv_diff\", \"NoEmp\"], \n",
    "    [\"DisbursementGross_SBA_Appv_diff\", \"NoEmp\"], \n",
    "    [\"GrAppv_SBA_Appv_diff\", \"NoEmp\"]\n",
    "]\n",
    "train = preprosess.add_div(train, divs)\n",
    "test  = preprosess.add_div(test, divs)"
   ]
  },
  {
   "cell_type": "markdown",
   "source": [
    "## Target encoding"
   ],
   "metadata": {
    "collapsed": false
   }
  },
  {
   "cell_type": "code",
   "execution_count": 6,
   "outputs": [],
   "source": [
    "cols = [\n",
    "    # \"Sector\",\n",
    "    \"UrbanRural\", \n",
    "    \"RevLineCr\", \n",
    "    \"LowDoc\", \n",
    "    \"ApprovalFY\", \n",
    "    \"FranchiseCode\",\n",
    "    \"RetainedJob\",\n",
    "    \"CreateJob\",\n",
    "    \"NoEmp\",\n",
    "    \"Term\",\n",
    "    \"State\",\n",
    "    \"BankState\",\n",
    "    \"Sector\",\n",
    "    \"NewExist\",\n",
    "]\n",
    "train, test = preprosess.target_encoding(train, test, cols)"
   ],
   "metadata": {
    "collapsed": false,
    "ExecuteTime": {
     "end_time": "2024-01-31T12:04:26.117669Z",
     "start_time": "2024-01-31T12:04:25.943993Z"
    }
   }
  },
  {
   "cell_type": "markdown",
   "source": [
    "## Label encoding\n",
    "CVによるtarget encodingでは同じカテゴリカル変数に異なる値が割り当てられるのでlabel encodingを併用する"
   ],
   "metadata": {
    "collapsed": false
   }
  },
  {
   "cell_type": "code",
   "execution_count": 7,
   "outputs": [],
   "source": [
    "cols = ['RevLineCr', 'LowDoc', 'State', 'BankState']\n",
    "train, test = preprosess.label_encoding(train, test, cols)"
   ],
   "metadata": {
    "collapsed": false,
    "ExecuteTime": {
     "end_time": "2024-01-31T12:04:26.199525Z",
     "start_time": "2024-01-31T12:04:26.120119Z"
    }
   }
  },
  {
   "cell_type": "markdown",
   "source": [
    "# Drop columns"
   ],
   "metadata": {
    "collapsed": false
   }
  },
  {
   "cell_type": "code",
   "execution_count": 8,
   "outputs": [],
   "source": [
    "# 不要なカラムの削除\n",
    "del_cols = [\n",
    "    # 地名系\n",
    "    \"City\",\n",
    "    # \"State\",\n",
    "    # \"BankState\",\n",
    "    # d-b-y系\n",
    "    \"DisbursementDate\",\n",
    "    \"ApprovalDate\",\n",
    "    # \"ApprovalFY\",\n",
    "    # ラベルエンコーディング済み\n",
    "    # \"RevLineCr\",\n",
    "    # \"LowDoc\",\n",
    "]\n",
    "\n",
    "for col_name in VS_AGG_COLS:\n",
    "    for name in AGG_NAME:\n",
    "        del_cols.append(f\"{col_name}_{AGG_COL}_{name}\")\n",
    "\n",
    "train = train.drop(del_cols)\n",
    "test  = test.drop(del_cols)"
   ],
   "metadata": {
    "collapsed": false,
    "ExecuteTime": {
     "end_time": "2024-01-31T12:04:26.207138Z",
     "start_time": "2024-01-31T12:04:26.200021Z"
    }
   }
  },
  {
   "cell_type": "markdown",
   "source": [
    "# Training"
   ],
   "metadata": {
    "collapsed": false
   }
  },
  {
   "cell_type": "code",
   "outputs": [],
   "source": [
    "lgb_params = {\n",
    "    \"objective\": \"binary\",\n",
    "    \"metric\": \"None\",\n",
    "    \"learning_rate\": cfg.Params.lgb_learning_rate,\n",
    "    \"max_depth\": cfg.Params.lgb_max_depth,\n",
    "    \"n_estimators\": cfg.Params.lgb_n_estimators,\n",
    "    \"colsample_bytree\": cfg.Params.lgb_colsample_bytree,\n",
    "    \"importance_type\": \"gain\",\n",
    "    \"verbose\": -1,\n",
    "    \"seed\": cfg.Params.seed,\n",
    "}"
   ],
   "metadata": {
    "collapsed": false,
    "ExecuteTime": {
     "end_time": "2024-01-31T12:04:26.214607Z",
     "start_time": "2024-01-31T12:04:26.209628Z"
    }
   },
   "execution_count": 9
  },
  {
   "cell_type": "code",
   "outputs": [
    {
     "name": "stdout",
     "output_type": "stream",
     "text": [
      "--------------------------------------------------------------------------------\n",
      "START fold 1\n",
      "Training until validation scores don't improve for 200 rounds\n",
      "Did not meet early stopping. Best iteration is:\n",
      "[953]\tvalid_0's macroF1: 0.692153\n",
      "Time:  30.178[s]\n",
      "--------------------------------------------------------------------------------\n",
      "START fold 2\n",
      "Training until validation scores don't improve for 200 rounds\n",
      "Did not meet early stopping. Best iteration is:\n",
      "[984]\tvalid_0's macroF1: 0.683561\n",
      "Time:  26.449[s]\n",
      "--------------------------------------------------------------------------------\n",
      "START fold 3\n",
      "Training until validation scores don't improve for 200 rounds\n",
      "Did not meet early stopping. Best iteration is:\n",
      "[838]\tvalid_0's macroF1: 0.668159\n",
      "Time:  24.769[s]\n",
      "--------------------------------------------------------------------------------\n",
      "START fold 4\n",
      "Training until validation scores don't improve for 200 rounds\n",
      "Early stopping, best iteration is:\n",
      "[322]\tvalid_0's macroF1: 0.673615\n",
      "Time:  15.490[s]\n",
      "--------------------------------------------------------------------------------\n",
      "START fold 5\n",
      "Training until validation scores don't improve for 200 rounds\n",
      "Early stopping, best iteration is:\n",
      "[292]\tvalid_0's macroF1: 0.68169\n",
      "Time:  13.308[s]\n",
      "================================================================================\n",
      "FINISH!\n",
      "--------------------------------------------------------------------------------\n",
      "START fold 1\n",
      "Training until validation scores don't improve for 200 rounds\n",
      "Early stopping, best iteration is:\n",
      "[645]\tvalid_0's macroF1: 0.691837\n",
      "Time:  22.858[s]\n",
      "--------------------------------------------------------------------------------\n",
      "START fold 2\n",
      "Training until validation scores don't improve for 200 rounds\n",
      "Did not meet early stopping. Best iteration is:\n",
      "[976]\tvalid_0's macroF1: 0.684899\n",
      "Time:  39.054[s]\n",
      "--------------------------------------------------------------------------------\n",
      "START fold 3\n",
      "Training until validation scores don't improve for 200 rounds\n",
      "Early stopping, best iteration is:\n",
      "[589]\tvalid_0's macroF1: 0.665426\n",
      "Time:  21.392[s]\n",
      "--------------------------------------------------------------------------------\n",
      "START fold 4\n",
      "Training until validation scores don't improve for 200 rounds\n",
      "Early stopping, best iteration is:\n",
      "[388]\tvalid_0's macroF1: 0.675793\n",
      "Time:  17.258[s]\n",
      "--------------------------------------------------------------------------------\n",
      "START fold 5\n",
      "Training until validation scores don't improve for 200 rounds\n",
      "Early stopping, best iteration is:\n",
      "[337]\tvalid_0's macroF1: 0.682863\n",
      "Time:  18.606[s]\n",
      "================================================================================\n",
      "FINISH!\n",
      "--------------------------------------------------------------------------------\n",
      "START fold 1\n",
      "Training until validation scores don't improve for 200 rounds\n",
      "Early stopping, best iteration is:\n",
      "[548]\tvalid_0's macroF1: 0.691886\n",
      "Time:  23.225[s]\n",
      "--------------------------------------------------------------------------------\n",
      "START fold 2\n",
      "Training until validation scores don't improve for 200 rounds\n",
      "Early stopping, best iteration is:\n",
      "[476]\tvalid_0's macroF1: 0.684628\n",
      "Time:  18.360[s]\n",
      "--------------------------------------------------------------------------------\n",
      "START fold 3\n",
      "Training until validation scores don't improve for 200 rounds\n",
      "Early stopping, best iteration is:\n",
      "[545]\tvalid_0's macroF1: 0.664664\n",
      "Time:  20.201[s]\n",
      "--------------------------------------------------------------------------------\n",
      "START fold 4\n",
      "Training until validation scores don't improve for 200 rounds\n",
      "Early stopping, best iteration is:\n",
      "[383]\tvalid_0's macroF1: 0.67613\n",
      "Time:  22.885[s]\n",
      "--------------------------------------------------------------------------------\n",
      "START fold 5\n",
      "Training until validation scores don't improve for 200 rounds\n",
      "Early stopping, best iteration is:\n",
      "[268]\tvalid_0's macroF1: 0.684313\n",
      "Time:  17.942[s]\n",
      "================================================================================\n",
      "FINISH!\n",
      "--------------------------------------------------------------------------------\n",
      "START fold 1\n",
      "Training until validation scores don't improve for 200 rounds\n",
      "Early stopping, best iteration is:\n",
      "[365]\tvalid_0's macroF1: 0.692209\n",
      "Time:  25.352[s]\n",
      "--------------------------------------------------------------------------------\n",
      "START fold 2\n",
      "Training until validation scores don't improve for 200 rounds\n",
      "Early stopping, best iteration is:\n",
      "[369]\tvalid_0's macroF1: 0.683902\n",
      "Time:  18.680[s]\n",
      "--------------------------------------------------------------------------------\n",
      "START fold 3\n",
      "Training until validation scores don't improve for 200 rounds\n",
      "Early stopping, best iteration is:\n",
      "[603]\tvalid_0's macroF1: 0.663453\n",
      "Time:  26.730[s]\n",
      "--------------------------------------------------------------------------------\n",
      "START fold 4\n",
      "Training until validation scores don't improve for 200 rounds\n",
      "Early stopping, best iteration is:\n",
      "[384]\tvalid_0's macroF1: 0.67568\n",
      "Time:  20.069[s]\n",
      "--------------------------------------------------------------------------------\n",
      "START fold 5\n",
      "Training until validation scores don't improve for 200 rounds\n",
      "Early stopping, best iteration is:\n",
      "[571]\tvalid_0's macroF1: 0.689613\n",
      "Time:  19.809[s]\n",
      "================================================================================\n",
      "FINISH!\n",
      "--------------------------------------------------------------------------------\n",
      "START fold 1\n",
      "Training until validation scores don't improve for 200 rounds\n",
      "Early stopping, best iteration is:\n",
      "[371]\tvalid_0's macroF1: 0.692637\n",
      "Time:  15.184[s]\n",
      "--------------------------------------------------------------------------------\n",
      "START fold 2\n",
      "Training until validation scores don't improve for 200 rounds\n",
      "Early stopping, best iteration is:\n",
      "[424]\tvalid_0's macroF1: 0.686658\n",
      "Time:  16.110[s]\n",
      "--------------------------------------------------------------------------------\n",
      "START fold 3\n",
      "Training until validation scores don't improve for 200 rounds\n",
      "Early stopping, best iteration is:\n",
      "[552]\tvalid_0's macroF1: 0.664867\n",
      "Time:  19.396[s]\n",
      "--------------------------------------------------------------------------------\n",
      "START fold 4\n",
      "Training until validation scores don't improve for 200 rounds\n",
      "Early stopping, best iteration is:\n",
      "[363]\tvalid_0's macroF1: 0.678044\n",
      "Time:  14.956[s]\n",
      "--------------------------------------------------------------------------------\n",
      "START fold 5\n",
      "Training until validation scores don't improve for 200 rounds\n",
      "Early stopping, best iteration is:\n",
      "[681]\tvalid_0's macroF1: 0.691336\n",
      "Time:  22.570[s]\n",
      "================================================================================\n",
      "FINISH!\n",
      "--------------------------------------------------------------------------------\n",
      "START fold 1\n",
      "Training until validation scores don't improve for 200 rounds\n",
      "Early stopping, best iteration is:\n",
      "[403]\tvalid_0's macroF1: 0.693014\n",
      "Time:  15.811[s]\n",
      "--------------------------------------------------------------------------------\n",
      "START fold 2\n",
      "Training until validation scores don't improve for 200 rounds\n",
      "Early stopping, best iteration is:\n",
      "[359]\tvalid_0's macroF1: 0.686758\n",
      "Time:  14.630[s]\n",
      "--------------------------------------------------------------------------------\n",
      "START fold 3\n",
      "Training until validation scores don't improve for 200 rounds\n",
      "Early stopping, best iteration is:\n",
      "[370]\tvalid_0's macroF1: 0.663841\n",
      "Time:  15.210[s]\n",
      "--------------------------------------------------------------------------------\n",
      "START fold 4\n",
      "Training until validation scores don't improve for 200 rounds\n",
      "Early stopping, best iteration is:\n",
      "[268]\tvalid_0's macroF1: 0.680664\n",
      "Time:  12.379[s]\n",
      "--------------------------------------------------------------------------------\n",
      "START fold 5\n",
      "Training until validation scores don't improve for 200 rounds\n",
      "Early stopping, best iteration is:\n",
      "[475]\tvalid_0's macroF1: 0.692833\n",
      "Time:  14.918[s]\n",
      "================================================================================\n",
      "FINISH!\n",
      "--------------------------------------------------------------------------------\n",
      "START fold 1\n",
      "Training until validation scores don't improve for 200 rounds\n",
      "Early stopping, best iteration is:\n",
      "[333]\tvalid_0's macroF1: 0.692479\n",
      "Time:  13.050[s]\n",
      "--------------------------------------------------------------------------------\n",
      "START fold 2\n",
      "Training until validation scores don't improve for 200 rounds\n",
      "Early stopping, best iteration is:\n",
      "[344]\tvalid_0's macroF1: 0.686707\n",
      "Time:  12.798[s]\n",
      "--------------------------------------------------------------------------------\n",
      "START fold 3\n",
      "Training until validation scores don't improve for 200 rounds\n",
      "Early stopping, best iteration is:\n",
      "[359]\tvalid_0's macroF1: 0.660595\n",
      "Time:  11.391[s]\n",
      "--------------------------------------------------------------------------------\n",
      "START fold 4\n",
      "Training until validation scores don't improve for 200 rounds\n",
      "Early stopping, best iteration is:\n",
      "[278]\tvalid_0's macroF1: 0.68015\n",
      "Time:  6.604[s]\n",
      "--------------------------------------------------------------------------------\n",
      "START fold 5\n",
      "Training until validation scores don't improve for 200 rounds\n",
      "Early stopping, best iteration is:\n",
      "[435]\tvalid_0's macroF1: 0.689032\n",
      "Time:  8.989[s]\n",
      "================================================================================\n",
      "FINISH!\n",
      "--------------------------------------------------------------------------------\n",
      "START fold 1\n",
      "Training until validation scores don't improve for 200 rounds\n",
      "Early stopping, best iteration is:\n",
      "[256]\tvalid_0's macroF1: 0.691799\n",
      "Time:  6.427[s]\n",
      "--------------------------------------------------------------------------------\n",
      "START fold 2\n",
      "Training until validation scores don't improve for 200 rounds\n",
      "Early stopping, best iteration is:\n",
      "[345]\tvalid_0's macroF1: 0.684962\n",
      "Time:  7.497[s]\n",
      "--------------------------------------------------------------------------------\n",
      "START fold 3\n",
      "Training until validation scores don't improve for 200 rounds\n",
      "Early stopping, best iteration is:\n",
      "[548]\tvalid_0's macroF1: 0.659895\n",
      "Time:  9.940[s]\n",
      "--------------------------------------------------------------------------------\n",
      "START fold 4\n",
      "Training until validation scores don't improve for 200 rounds\n",
      "Early stopping, best iteration is:\n",
      "[182]\tvalid_0's macroF1: 0.678547\n",
      "Time:  5.510[s]\n",
      "--------------------------------------------------------------------------------\n",
      "START fold 5\n",
      "Training until validation scores don't improve for 200 rounds\n",
      "Early stopping, best iteration is:\n",
      "[144]\tvalid_0's macroF1: 0.684624\n",
      "Time:  5.114[s]\n",
      "================================================================================\n",
      "FINISH!\n",
      "--------------------------------------------------------------------------------\n",
      "START fold 1\n",
      "Training until validation scores don't improve for 200 rounds\n",
      "Early stopping, best iteration is:\n",
      "[156]\tvalid_0's macroF1: 0.691576\n",
      "Time:  5.196[s]\n",
      "--------------------------------------------------------------------------------\n",
      "START fold 2\n",
      "Training until validation scores don't improve for 200 rounds\n",
      "Early stopping, best iteration is:\n",
      "[172]\tvalid_0's macroF1: 0.684858\n",
      "Time:  5.329[s]\n",
      "--------------------------------------------------------------------------------\n",
      "START fold 3\n",
      "Training until validation scores don't improve for 200 rounds\n",
      "Early stopping, best iteration is:\n",
      "[299]\tvalid_0's macroF1: 0.661875\n",
      "Time:  7.007[s]\n",
      "--------------------------------------------------------------------------------\n",
      "START fold 4\n",
      "Training until validation scores don't improve for 200 rounds\n",
      "Early stopping, best iteration is:\n",
      "[184]\tvalid_0's macroF1: 0.679844\n",
      "Time:  5.431[s]\n",
      "--------------------------------------------------------------------------------\n",
      "START fold 5\n",
      "Training until validation scores don't improve for 200 rounds\n",
      "Early stopping, best iteration is:\n",
      "[116]\tvalid_0's macroF1: 0.684782\n",
      "Time:  5.356[s]\n",
      "================================================================================\n",
      "FINISH!\n",
      "--------------------------------------------------------------------------------\n",
      "START fold 1\n",
      "Training until validation scores don't improve for 200 rounds\n",
      "Early stopping, best iteration is:\n",
      "[157]\tvalid_0's macroF1: 0.688882\n",
      "Time:  5.215[s]\n",
      "--------------------------------------------------------------------------------\n",
      "START fold 2\n",
      "Training until validation scores don't improve for 200 rounds\n",
      "Early stopping, best iteration is:\n",
      "[140]\tvalid_0's macroF1: 0.686645\n",
      "Time:  4.802[s]\n",
      "--------------------------------------------------------------------------------\n",
      "START fold 3\n",
      "Training until validation scores don't improve for 200 rounds\n",
      "Early stopping, best iteration is:\n",
      "[209]\tvalid_0's macroF1: 0.660686\n",
      "Time:  5.599[s]\n",
      "--------------------------------------------------------------------------------\n",
      "START fold 4\n",
      "Training until validation scores don't improve for 200 rounds\n",
      "Early stopping, best iteration is:\n",
      "[155]\tvalid_0's macroF1: 0.675996\n",
      "Time:  5.169[s]\n",
      "--------------------------------------------------------------------------------\n",
      "START fold 5\n",
      "Training until validation scores don't improve for 200 rounds\n",
      "Early stopping, best iteration is:\n",
      "[109]\tvalid_0's macroF1: 0.6876\n",
      "Time:  4.546[s]\n",
      "================================================================================\n",
      "FINISH!\n",
      "--------------------------------------------------------------------------------\n",
      "START fold 1\n",
      "Training until validation scores don't improve for 200 rounds\n",
      "Early stopping, best iteration is:\n",
      "[123]\tvalid_0's macroF1: 0.687695\n",
      "Time:  4.747[s]\n",
      "--------------------------------------------------------------------------------\n",
      "START fold 2\n",
      "Training until validation scores don't improve for 200 rounds\n",
      "Early stopping, best iteration is:\n",
      "[109]\tvalid_0's macroF1: 0.686824\n",
      "Time:  4.352[s]\n",
      "--------------------------------------------------------------------------------\n",
      "START fold 3\n",
      "Training until validation scores don't improve for 200 rounds\n",
      "Early stopping, best iteration is:\n",
      "[165]\tvalid_0's macroF1: 0.659713\n",
      "Time:  5.137[s]\n",
      "--------------------------------------------------------------------------------\n",
      "START fold 4\n",
      "Training until validation scores don't improve for 200 rounds\n",
      "Early stopping, best iteration is:\n",
      "[114]\tvalid_0's macroF1: 0.671736\n",
      "Time:  6.667[s]\n",
      "--------------------------------------------------------------------------------\n",
      "START fold 5\n",
      "Training until validation scores don't improve for 200 rounds\n",
      "Early stopping, best iteration is:\n",
      "[119]\tvalid_0's macroF1: 0.684606\n",
      "Time:  4.639[s]\n",
      "================================================================================\n",
      "FINISH!\n",
      "--------------------------------------------------------------------------------\n",
      "START fold 1\n",
      "Training until validation scores don't improve for 200 rounds\n",
      "Early stopping, best iteration is:\n",
      "[91]\tvalid_0's macroF1: 0.685789\n",
      "Time:  4.277[s]\n",
      "--------------------------------------------------------------------------------\n",
      "START fold 2\n",
      "Training until validation scores don't improve for 200 rounds\n",
      "Early stopping, best iteration is:\n",
      "[98]\tvalid_0's macroF1: 0.680605\n",
      "Time:  4.429[s]\n",
      "--------------------------------------------------------------------------------\n",
      "START fold 3\n",
      "Training until validation scores don't improve for 200 rounds\n",
      "Early stopping, best iteration is:\n",
      "[56]\tvalid_0's macroF1: 0.655545\n",
      "Time:  3.882[s]\n",
      "--------------------------------------------------------------------------------\n",
      "START fold 4\n",
      "Training until validation scores don't improve for 200 rounds\n",
      "Early stopping, best iteration is:\n",
      "[73]\tvalid_0's macroF1: 0.671506\n",
      "Time:  3.925[s]\n",
      "--------------------------------------------------------------------------------\n",
      "START fold 5\n",
      "Training until validation scores don't improve for 200 rounds\n",
      "Early stopping, best iteration is:\n",
      "[77]\tvalid_0's macroF1: 0.68416\n",
      "Time:  3.950[s]\n",
      "================================================================================\n",
      "FINISH!\n",
      "--------------------------------------------------------------------------------\n",
      "START fold 1\n",
      "Training until validation scores don't improve for 200 rounds\n",
      "Early stopping, best iteration is:\n",
      "[48]\tvalid_0's macroF1: 0.68664\n",
      "Time:  3.569[s]\n",
      "--------------------------------------------------------------------------------\n",
      "START fold 2\n",
      "Training until validation scores don't improve for 200 rounds\n",
      "Early stopping, best iteration is:\n",
      "[65]\tvalid_0's macroF1: 0.6808\n",
      "Time:  4.176[s]\n",
      "--------------------------------------------------------------------------------\n",
      "START fold 3\n",
      "Training until validation scores don't improve for 200 rounds\n",
      "Early stopping, best iteration is:\n",
      "[84]\tvalid_0's macroF1: 0.655407\n",
      "Time:  4.239[s]\n",
      "--------------------------------------------------------------------------------\n",
      "START fold 4\n",
      "Training until validation scores don't improve for 200 rounds\n",
      "Early stopping, best iteration is:\n",
      "[56]\tvalid_0's macroF1: 0.667842\n",
      "Time:  3.811[s]\n",
      "--------------------------------------------------------------------------------\n",
      "START fold 5\n",
      "Training until validation scores don't improve for 200 rounds\n",
      "Early stopping, best iteration is:\n",
      "[67]\tvalid_0's macroF1: 0.683175\n",
      "Time:  3.945[s]\n",
      "================================================================================\n",
      "FINISH!\n",
      "--------------------------------------------------------------------------------\n",
      "START fold 1\n",
      "Training until validation scores don't improve for 200 rounds\n",
      "Early stopping, best iteration is:\n",
      "[33]\tvalid_0's macroF1: 0.685231\n",
      "Time:  3.379[s]\n",
      "--------------------------------------------------------------------------------\n",
      "START fold 2\n",
      "Training until validation scores don't improve for 200 rounds\n",
      "Early stopping, best iteration is:\n",
      "[48]\tvalid_0's macroF1: 0.677045\n",
      "Time:  3.652[s]\n",
      "--------------------------------------------------------------------------------\n",
      "START fold 3\n",
      "Training until validation scores don't improve for 200 rounds\n",
      "Early stopping, best iteration is:\n",
      "[33]\tvalid_0's macroF1: 0.655309\n",
      "Time:  3.459[s]\n",
      "--------------------------------------------------------------------------------\n",
      "START fold 4\n",
      "Training until validation scores don't improve for 200 rounds\n",
      "Early stopping, best iteration is:\n",
      "[51]\tvalid_0's macroF1: 0.662648\n",
      "Time:  3.866[s]\n",
      "--------------------------------------------------------------------------------\n",
      "START fold 5\n",
      "Training until validation scores don't improve for 200 rounds\n",
      "Early stopping, best iteration is:\n",
      "[39]\tvalid_0's macroF1: 0.679252\n",
      "Time:  3.553[s]\n",
      "================================================================================\n",
      "FINISH!\n",
      "--------------------------------------------------------------------------------\n",
      "START fold 1\n",
      "Training until validation scores don't improve for 200 rounds\n",
      "Early stopping, best iteration is:\n",
      "[19]\tvalid_0's macroF1: 0.683341\n",
      "Time:  3.355[s]\n",
      "--------------------------------------------------------------------------------\n",
      "START fold 2\n",
      "Training until validation scores don't improve for 200 rounds\n",
      "Early stopping, best iteration is:\n",
      "[26]\tvalid_0's macroF1: 0.67407\n",
      "Time:  3.474[s]\n",
      "--------------------------------------------------------------------------------\n",
      "START fold 3\n",
      "Training until validation scores don't improve for 200 rounds\n",
      "Early stopping, best iteration is:\n",
      "[17]\tvalid_0's macroF1: 0.655119\n",
      "Time:  3.310[s]\n",
      "--------------------------------------------------------------------------------\n",
      "START fold 4\n",
      "Training until validation scores don't improve for 200 rounds\n",
      "Early stopping, best iteration is:\n",
      "[18]\tvalid_0's macroF1: 0.660359\n",
      "Time:  3.368[s]\n",
      "--------------------------------------------------------------------------------\n",
      "START fold 5\n",
      "Training until validation scores don't improve for 200 rounds\n",
      "Early stopping, best iteration is:\n",
      "[16]\tvalid_0's macroF1: 0.675364\n",
      "Time:  3.308[s]\n",
      "================================================================================\n",
      "FINISH!\n",
      "best zero weight: 0.79\n"
     ]
    }
   ],
   "source": [
    "# weightのチューニング\n",
    "zero_weights = np.arange(0.74, 0.88, 0.01)\n",
    "_, best_zero_weight = workflow.tuning_loss_weight(train, lgb_params, zero_weights)\n",
    "print(f\"best zero weight: {best_zero_weight}\")"
   ],
   "metadata": {
    "collapsed": false,
    "ExecuteTime": {
     "end_time": "2024-01-31T12:18:44.072565Z",
     "start_time": "2024-01-31T12:04:26.219562Z"
    }
   },
   "execution_count": 10
  },
  {
   "cell_type": "code",
   "outputs": [
    {
     "name": "stdout",
     "output_type": "stream",
     "text": [
      "--------------------------------------------------------------------------------\n",
      "START fold 1\n",
      "Training until validation scores don't improve for 200 rounds\n",
      "Early stopping, best iteration is:\n",
      "[403]\tvalid_0's macroF1: 0.693014\n",
      "Time:  8.057[s]\n",
      "--------------------------------------------------------------------------------\n",
      "START fold 2\n",
      "Training until validation scores don't improve for 200 rounds\n",
      "Early stopping, best iteration is:\n",
      "[359]\tvalid_0's macroF1: 0.686758\n",
      "Time:  7.705[s]\n",
      "--------------------------------------------------------------------------------\n",
      "START fold 3\n",
      "Training until validation scores don't improve for 200 rounds\n",
      "Early stopping, best iteration is:\n",
      "[370]\tvalid_0's macroF1: 0.663841\n",
      "Time:  7.926[s]\n",
      "--------------------------------------------------------------------------------\n",
      "START fold 4\n",
      "Training until validation scores don't improve for 200 rounds\n",
      "Early stopping, best iteration is:\n",
      "[268]\tvalid_0's macroF1: 0.680664\n",
      "Time:  6.379[s]\n",
      "--------------------------------------------------------------------------------\n",
      "START fold 5\n",
      "Training until validation scores don't improve for 200 rounds\n",
      "Early stopping, best iteration is:\n",
      "[475]\tvalid_0's macroF1: 0.692833\n",
      "Time:  9.078[s]\n",
      "================================================================================\n",
      "FINISH!\n"
     ]
    }
   ],
   "source": [
    "oof, models = training.fit_lgbm(train, lgb_params=lgb_params, zero_weight=best_zero_weight)"
   ],
   "metadata": {
    "collapsed": false,
    "ExecuteTime": {
     "end_time": "2024-01-31T12:19:23.976291Z",
     "start_time": "2024-01-31T12:18:44.092675Z"
    }
   },
   "execution_count": 11
  },
  {
   "cell_type": "markdown",
   "source": [
    "# Prediction"
   ],
   "metadata": {
    "collapsed": false
   }
  },
  {
   "cell_type": "code",
   "outputs": [],
   "source": [
    "threshold = 0.5"
   ],
   "metadata": {
    "collapsed": false,
    "ExecuteTime": {
     "end_time": "2024-01-31T12:19:23.978319Z",
     "start_time": "2024-01-31T12:19:23.940883Z"
    }
   },
   "execution_count": 12
  },
  {
   "cell_type": "markdown",
   "source": [
    "## CV score"
   ],
   "metadata": {
    "collapsed": false
   }
  },
  {
   "cell_type": "code",
   "outputs": [
    {
     "name": "stdout",
     "output_type": "stream",
     "text": [
      "0.683372469916163\n"
     ]
    }
   ],
   "source": [
    "oof_truth = train[cfg.Cols.target].to_numpy()\n",
    "oof_hat = predict.predict_class(oof, threshold=threshold)\n",
    "cv_score = metrics.macro_f1_score(oof_truth, oof_hat)\n",
    "print(cv_score)"
   ],
   "metadata": {
    "collapsed": false,
    "ExecuteTime": {
     "end_time": "2024-01-31T12:19:24.110149Z",
     "start_time": "2024-01-31T12:19:23.950254Z"
    }
   },
   "execution_count": 13
  },
  {
   "cell_type": "markdown",
   "source": [
    "## Test prediction"
   ],
   "metadata": {
    "collapsed": false
   }
  },
  {
   "cell_type": "code",
   "outputs": [],
   "source": [
    "pred_prob = predict.predict_probability(models, test)\n",
    "pred_class = predict.predict_class(pred_prob, threshold=threshold)"
   ],
   "metadata": {
    "collapsed": false,
    "ExecuteTime": {
     "end_time": "2024-01-31T12:19:25.690675Z",
     "start_time": "2024-01-31T12:19:23.994376Z"
    }
   },
   "execution_count": 14
  },
  {
   "cell_type": "markdown",
   "source": [
    "## Check result"
   ],
   "metadata": {
    "collapsed": false
   }
  },
  {
   "cell_type": "markdown",
   "source": [
    "### oofとtestの予測値分布を比較してバグを確認"
   ],
   "metadata": {
    "collapsed": false
   }
  },
  {
   "cell_type": "code",
   "outputs": [
    {
     "data": {
      "text/plain": "<Figure size 640x480 with 1 Axes>",
      "image/png": "[encoded data removed]"
     },
     "metadata": {},
     "output_type": "display_data"
    }
   ],
   "source": [
    "sns.histplot(pred_prob)\n",
    "plt.xlim(0.0, 1.0)\n",
    "plt.show()"
   ],
   "metadata": {
    "collapsed": false,
    "ExecuteTime": {
     "end_time": "2024-01-31T12:19:26.274877Z",
     "start_time": "2024-01-31T12:19:25.691122Z"
    }
   },
   "execution_count": 15
  },
  {
   "cell_type": "code",
   "outputs": [
    {
     "data": {
      "text/plain": "<Figure size 640x480 with 1 Axes>",
      "image/png": "[encoded data removed]"
     },
     "metadata": {},
     "output_type": "display_data"
    }
   ],
   "source": [
    "sns.histplot(pred_prob)\n",
    "plt.xlim(0.0, 1.0)\n",
    "plt.show()"
   ],
   "metadata": {
    "collapsed": false,
    "ExecuteTime": {
     "end_time": "2024-01-31T12:19:26.653964Z",
     "start_time": "2024-01-31T12:19:26.289966Z"
    }
   },
   "execution_count": 16
  },
  {
   "cell_type": "markdown",
   "source": [
    "### 予測値の1の割合を確認"
   ],
   "metadata": {
    "collapsed": false
   }
  },
  {
   "cell_type": "code",
   "outputs": [
    {
     "name": "stdout",
     "output_type": "stream",
     "text": [
      "0.9200387633544483\n"
     ]
    }
   ],
   "source": [
    "print(pred_class.sum() / len(pred_class))"
   ],
   "metadata": {
    "collapsed": false,
    "ExecuteTime": {
     "end_time": "2024-01-31T12:19:26.657411Z",
     "start_time": "2024-01-31T12:19:26.654115Z"
    }
   },
   "execution_count": 17
  },
  {
   "cell_type": "markdown",
   "source": [
    "### oofにおける混同行列を確認"
   ],
   "metadata": {
    "collapsed": false
   }
  },
  {
   "cell_type": "code",
   "outputs": [
    {
     "name": "stdout",
     "output_type": "stream",
     "text": [
      "True Negative Rate (0の正解率): 0.37\n",
      "True Positive Rate (1の正解率): 0.96\n"
     ]
    },
    {
     "data": {
      "text/plain": "<Figure size 640x480 with 2 Axes>",
      "image/png": "[encoded data removed]"
     },
     "metadata": {},
     "output_type": "display_data"
    }
   ],
   "source": [
    "metrics.show_confusion_matrix(oof_truth, oof_hat)"
   ],
   "metadata": {
    "collapsed": false,
    "ExecuteTime": {
     "end_time": "2024-01-31T12:19:27.315025Z",
     "start_time": "2024-01-31T12:19:26.660255Z"
    }
   },
   "execution_count": 18
  },
  {
   "cell_type": "markdown",
   "source": [
    "## Submit"
   ],
   "metadata": {
    "collapsed": false
   }
  },
  {
   "cell_type": "code",
   "outputs": [],
   "source": [
    "submit = submit.with_columns([pl.Series(cfg.Cols.sub_pred, pred_class)])\n",
    "utils.make_submission(submit, exp, cv_score)"
   ],
   "metadata": {
    "collapsed": false,
    "ExecuteTime": {
     "end_time": "2024-01-31T12:21:12.158147Z",
     "start_time": "2024-01-31T12:21:12.135994Z"
    }
   },
   "execution_count": 20
  },
  {
   "cell_type": "code",
   "outputs": [],
   "source": [],
   "metadata": {
    "collapsed": false,
    "ExecuteTime": {
     "end_time": "2024-01-31T12:19:27.328837Z",
     "start_time": "2024-01-31T12:19:27.321262Z"
    }
   },
   "execution_count": 19
  }
 ],
 "metadata": {
  "kernelspec": {
   "display_name": "kaggle",
   "language": "python",
   "name": "kaggle"
  },
  "language_info": {
   "codemirror_mode": {
    "name": "ipython",
    "version": 3
   },
   "file_extension": ".py",
   "mimetype": "text/x-python",
   "name": "python",
   "nbconvert_exporter": "python",
   "pygments_lexer": "ipython3",
   "version": "3.9.18"
  }
 },
 "nbformat": 4,
 "nbformat_minor": 4
}
