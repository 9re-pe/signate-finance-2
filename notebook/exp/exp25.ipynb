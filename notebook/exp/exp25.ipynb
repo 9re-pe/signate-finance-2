{
 "cells": [
  {
   "cell_type": "markdown",
   "source": [
    "# TODO\n",
    "\n",
    "- exp24でcvが下がった特徴量を削除してみる"
   ],
   "metadata": {
    "collapsed": false
   }
  },
  {
   "cell_type": "markdown",
   "source": [
    "# Setting"
   ],
   "metadata": {
    "collapsed": false
   }
  },
  {
   "cell_type": "code",
   "execution_count": 6,
   "outputs": [],
   "source": [
    "import sys\n",
    "\n",
    "import numpy as np\n",
    "import polars as pl\n",
    "from typing import Final\n",
    "import seaborn as sns\n",
    "import matplotlib.pyplot as plt\n",
    "\n",
    "root_dir = \"../../\"\n",
    "if root_dir not in sys.path:\n",
    "    sys.path.append(root_dir)\n",
    "from modules import config as cfg\n",
    "from modules import utils, preprosess, training, predict, metrics, workflow\n",
    "\n",
    "exp = \"exp25\"\n",
    "utils.set_seed(cfg.Params.seed)"
   ],
   "metadata": {
    "collapsed": false,
    "ExecuteTime": {
     "end_time": "2024-02-04T07:28:05.612886Z",
     "start_time": "2024-02-04T07:28:05.497027Z"
    }
   }
  },
  {
   "cell_type": "markdown",
   "metadata": {
    "collapsed": false,
    "ExecuteTime": {
     "end_time": "2024-01-21T07:23:00.806250Z",
     "start_time": "2024-01-21T07:22:58.502427Z"
    }
   },
   "source": [
    "# Read data"
   ]
  },
  {
   "cell_type": "code",
   "execution_count": 7,
   "metadata": {
    "collapsed": false,
    "ExecuteTime": {
     "end_time": "2024-02-04T07:28:05.811337Z",
     "start_time": "2024-02-04T07:28:05.608176Z"
    }
   },
   "outputs": [],
   "source": [
    "train, test, submit = utils.get_data(debug_mode=False)"
   ]
  },
  {
   "cell_type": "markdown",
   "metadata": {
    "collapsed": false
   },
   "source": [
    "# Preprocessing"
   ]
  },
  {
   "cell_type": "code",
   "outputs": [],
   "source": [
    "train = preprosess.drop_null_columns(train)\n",
    "test  = preprosess.drop_null_columns(test)"
   ],
   "metadata": {
    "collapsed": false,
    "ExecuteTime": {
     "end_time": "2024-02-04T07:28:05.821529Z",
     "start_time": "2024-02-04T07:28:05.745082Z"
    }
   },
   "execution_count": 8
  },
  {
   "cell_type": "markdown",
   "source": [
    "## Split fold"
   ],
   "metadata": {
    "collapsed": false
   }
  },
  {
   "cell_type": "code",
   "execution_count": 9,
   "outputs": [],
   "source": [
    "train = preprosess.assign_stratified_k_fold(train)"
   ],
   "metadata": {
    "collapsed": false,
    "ExecuteTime": {
     "end_time": "2024-02-04T07:28:05.907991Z",
     "start_time": "2024-02-04T07:28:05.816075Z"
    }
   }
  },
  {
   "cell_type": "markdown",
   "source": [
    "## Convert"
   ],
   "metadata": {
    "collapsed": false
   }
  },
  {
   "cell_type": "code",
   "execution_count": 10,
   "metadata": {
    "collapsed": false,
    "ExecuteTime": {
     "end_time": "2024-02-04T07:28:06.355879Z",
     "start_time": "2024-02-04T07:28:05.922727Z"
    }
   },
   "outputs": [],
   "source": [
    "# testのBankStateの\"PR\"はtrainにないため，一番多いCAに変換\n",
    "test = test.with_columns(pl.col(\"BankState\").str.replace(\"PR\", \"CA\"))\n",
    "\n",
    "# 地名を座標に変換\n",
    "train = preprosess.convert_to_latlng(train)\n",
    "test  = preprosess.convert_to_latlng(test)\n",
    "\n",
    "# DisbursementDateとApprovalDateを数値に変換\n",
    "cols  = [\"DisbursementDate\", \"ApprovalDate\"]\n",
    "train = preprosess.convert_date_to_year(train, cols)\n",
    "test  = preprosess.convert_date_to_year(test, cols)\n",
    "train = preprosess.convert_date_to_month(train, cols)\n",
    "test  = preprosess.convert_date_to_month(test, cols)\n",
    "train = preprosess.convert_date_to_day(train, cols)\n",
    "test  = preprosess.convert_date_to_day(test, cols)\n",
    "\n",
    "# 金額データの数値化\n",
    "cols  = [\"DisbursementGross\",  \"GrAppv\", \"SBA_Appv\"]\n",
    "train = preprosess.convert_money_data(train, cols)\n",
    "test  = preprosess.convert_money_data(test, cols)\n",
    "\n",
    "# 一致しているか\n",
    "# eqs = [\n",
    "#     [\"State\", \"BankState\"],\n",
    "# ]\n",
    "# train = preprosess.add_eq(train, eqs)\n",
    "# test  = preprosess.add_eq(test, eqs)\n",
    "\n",
    "# DisbursementDateとApprovalDateの差を計算\n",
    "# train = preprosess.add_diff_disbursement_with_approval(train)\n",
    "# test  = preprosess.add_diff_disbursement_with_approval(test)\n",
    "\n",
    "# Sectorを職業別にする\n",
    "train = preprosess.unify_same_sector(train)\n",
    "test  = preprosess.unify_same_sector(test)\n",
    "\n",
    "# ラベルデータをSBA_Appvの統計量で置き換える\n",
    "AGG_NAME: Final[list] = [\"mean\", \"median\", \"max\", \"min\"]\n",
    "AGG_COL: Final[str] = \"SBA_Appv\"\n",
    "VS_AGG_COLS: Final[list] = [\n",
    "    'NewExist', \n",
    "    'RevLineCr', \n",
    "    'LowDoc', \n",
    "    'UrbanRural', \n",
    "    'CreateJob'\n",
    "]\n",
    "train, test = preprosess.convert_aggregation_data(train, test, AGG_COL, VS_AGG_COLS)\n",
    "\n",
    "# 差の計算\n",
    "diffs = [\n",
    "    [\"DisbursementGross\", \"GrAppv\"],   # 支払われた額 vs 銀行承認額\n",
    "    [\"DisbursementGross\", \"SBA_Appv\"], # 支払われた額 vs SBA承認額\n",
    "    [\"GrAppv\", \"SBA_Appv\"],            # 銀行承認額 vs SBA承認額\n",
    "]\n",
    "\n",
    "# ラベルデータをSBA_Appvの統計量で置き換えたもの vs SBA_Appv\n",
    "for col_name in VS_AGG_COLS:\n",
    "    for name in AGG_NAME:\n",
    "        diff = [AGG_COL, f\"{col_name}_{AGG_COL}_{name}\"]\n",
    "        diffs.append(diff)\n",
    "\n",
    "train = preprosess.add_diff(train, diffs)\n",
    "test  = preprosess.add_diff(test, diffs)\n",
    "\n",
    "# 割合の計算\n",
    "divs = [\n",
    "    [\"DisbursementGross\", \"Term\"], \n",
    "    [\"GrAppv\", \"Term\"], \n",
    "    [\"SBA_Appv\", \"Term\"], \n",
    "    [\"NoEmp\", \"Term\"], \n",
    "    [\"DisbursementGross\", \"NoEmp\"], \n",
    "    [\"GrAppv\", \"NoEmp\"], \n",
    "    # [\"SBA_Appv\", \"NoEmp\"], \n",
    "    [\"DisbursementGross_GrAppv_diff\", \"Term\"], \n",
    "    [\"DisbursementGross_SBA_Appv_diff\", \"Term\"], \n",
    "    # [\"GrAppv_SBA_Appv_diff\", \"Term\"], \n",
    "    [\"DisbursementGross_GrAppv_diff\", \"NoEmp\"], \n",
    "    [\"DisbursementGross_SBA_Appv_diff\", \"NoEmp\"], \n",
    "    [\"GrAppv_SBA_Appv_diff\", \"NoEmp\"]\n",
    "]\n",
    "train = preprosess.add_div(train, divs)\n",
    "test  = preprosess.add_div(test, divs)"
   ]
  },
  {
   "cell_type": "markdown",
   "source": [
    "## Target encoding"
   ],
   "metadata": {
    "collapsed": false
   }
  },
  {
   "cell_type": "code",
   "execution_count": 11,
   "outputs": [],
   "source": [
    "cols = [\n",
    "    # \"Sector\",\n",
    "    \"UrbanRural\", \n",
    "    \"RevLineCr\", \n",
    "    \"LowDoc\", \n",
    "    \"ApprovalFY\", \n",
    "    \"FranchiseCode\",\n",
    "    \"RetainedJob\",\n",
    "    \"CreateJob\",\n",
    "    \"NoEmp\",\n",
    "    \"Term\",\n",
    "    \"State\",\n",
    "    \"BankState\",\n",
    "    \"Sector\",\n",
    "    \"NewExist\",\n",
    "]\n",
    "train, test = preprosess.target_encoding(train, test, cols)"
   ],
   "metadata": {
    "collapsed": false,
    "ExecuteTime": {
     "end_time": "2024-02-04T07:28:06.629635Z",
     "start_time": "2024-02-04T07:28:06.331533Z"
    }
   }
  },
  {
   "cell_type": "markdown",
   "source": [
    "## Label encoding\n",
    "CVによるtarget encodingでは同じカテゴリカル変数に異なる値が割り当てられるのでlabel encodingを併用する"
   ],
   "metadata": {
    "collapsed": false
   }
  },
  {
   "cell_type": "code",
   "execution_count": 12,
   "outputs": [],
   "source": [
    "cols = ['RevLineCr', 'LowDoc', 'State', 'BankState']\n",
    "train, test = preprosess.label_encoding(train, test, cols)"
   ],
   "metadata": {
    "collapsed": false,
    "ExecuteTime": {
     "end_time": "2024-02-04T07:28:06.777999Z",
     "start_time": "2024-02-04T07:28:06.634985Z"
    }
   }
  },
  {
   "cell_type": "markdown",
   "source": [
    "# Drop columns"
   ],
   "metadata": {
    "collapsed": false
   }
  },
  {
   "cell_type": "code",
   "execution_count": 13,
   "outputs": [],
   "source": [
    "# 不要なカラムの削除\n",
    "del_cols = [\n",
    "    # 地名系\n",
    "    \"City\",\n",
    "    \"State\",\n",
    "    \"BankState\",\n",
    "    # d-b-y系\n",
    "    \"DisbursementDate\",\n",
    "    \"ApprovalDate\",\n",
    "    \"ApprovalFY\",\n",
    "    # ラベルエンコーディング済み\n",
    "    \"RevLineCr\",\n",
    "    \"LowDoc\",\n",
    "    # cvが下がる特徴量\n",
    "    \"NewExist\",\n",
    "    \"CreateJob\",\n",
    "    \"RetainedJob\",\n",
    "    \"FranchiseCode\",\n",
    "    \"DisbursementGross\",\n",
    "    \"GrAppv\",\n",
    "    \"SBA_Appv\",\n",
    "    \"BankState_lng\",\n",
    "    \"City_lat\",\n",
    "    \"City_lng\",\n",
    "    \"DisbursementDateMonth\",\n",
    "    \"CreateJob_SBA_Appv_std\",\n",
    "    \"SBA_Appv_NewExist_SBA_Appv_mean_diff\",\n",
    "    \"SBA_Appv_NewExist_SBA_Appv_max_diff\",\n",
    "    \"SBA_Appv_RevLineCr_SBA_Appv_max_diff\",\n",
    "    \"SBA_Appv_LowDoc_SBA_Appv_median_diff\",\n",
    "    \"SBA_Appv_UrbanRural_SBA_Appv_max_diff\",\n",
    "    \"DisbursementGross_GrAppv_diff\",\n",
    "    \"GrAppv_SBA_Appv_diff\", \n",
    "]\n",
    "\n",
    "for col_name in VS_AGG_COLS:\n",
    "    for name in AGG_NAME:\n",
    "        del_cols.append(f\"{col_name}_{AGG_COL}_{name}\")\n",
    "\n",
    "train = train.drop(del_cols)\n",
    "test  = test.drop(del_cols)"
   ],
   "metadata": {
    "collapsed": false,
    "ExecuteTime": {
     "end_time": "2024-02-04T07:28:06.789701Z",
     "start_time": "2024-02-04T07:28:06.780146Z"
    }
   }
  },
  {
   "cell_type": "markdown",
   "source": [
    "# Training"
   ],
   "metadata": {
    "collapsed": false
   }
  },
  {
   "cell_type": "code",
   "outputs": [],
   "source": [
    "lgb_params = {\n",
    "    \"objective\": \"binary\",\n",
    "    \"metric\": \"None\",\n",
    "    \"learning_rate\": cfg.Params.lgb_learning_rate,\n",
    "    \"max_depth\": cfg.Params.lgb_max_depth,\n",
    "    \"n_estimators\": cfg.Params.lgb_n_estimators,\n",
    "    \"colsample_bytree\": cfg.Params.lgb_colsample_bytree,\n",
    "    \"importance_type\": \"gain\",\n",
    "    \"verbose\": -1,\n",
    "    \"seed\": cfg.Params.seed,\n",
    "}"
   ],
   "metadata": {
    "collapsed": false,
    "ExecuteTime": {
     "end_time": "2024-02-04T07:28:06.802495Z",
     "start_time": "2024-02-04T07:28:06.791184Z"
    }
   },
   "execution_count": 14
  },
  {
   "cell_type": "code",
   "outputs": [
    {
     "name": "stdout",
     "output_type": "stream",
     "text": [
      "--------------------------------------------------------------------------------\n",
      "START fold 1\n",
      "Training until validation scores don't improve for 200 rounds\n",
      "Early stopping, best iteration is:\n",
      "[461]\tvalid_0's macroF1: 0.690358\n",
      "Time:  20.213[s]\n",
      "--------------------------------------------------------------------------------\n",
      "START fold 2\n",
      "Training until validation scores don't improve for 200 rounds\n",
      "Did not meet early stopping. Best iteration is:\n",
      "[846]\tvalid_0's macroF1: 0.68154\n",
      "Time:  24.311[s]\n",
      "--------------------------------------------------------------------------------\n",
      "START fold 3\n",
      "Training until validation scores don't improve for 200 rounds\n",
      "Early stopping, best iteration is:\n",
      "[384]\tvalid_0's macroF1: 0.662137\n",
      "Time:  14.540[s]\n",
      "--------------------------------------------------------------------------------\n",
      "START fold 4\n",
      "Training until validation scores don't improve for 200 rounds\n",
      "Early stopping, best iteration is:\n",
      "[686]\tvalid_0's macroF1: 0.678998\n",
      "Time:  19.956[s]\n",
      "--------------------------------------------------------------------------------\n",
      "START fold 5\n",
      "Training until validation scores don't improve for 200 rounds\n",
      "Early stopping, best iteration is:\n",
      "[532]\tvalid_0's macroF1: 0.683703\n",
      "Time:  17.656[s]\n",
      "================================================================================\n",
      "FINISH!\n",
      "--------------------------------------------------------------------------------\n",
      "START fold 1\n",
      "Training until validation scores don't improve for 200 rounds\n",
      "Early stopping, best iteration is:\n",
      "[452]\tvalid_0's macroF1: 0.691213\n",
      "Time:  14.888[s]\n",
      "--------------------------------------------------------------------------------\n",
      "START fold 2\n",
      "Training until validation scores don't improve for 200 rounds\n",
      "Early stopping, best iteration is:\n",
      "[471]\tvalid_0's macroF1: 0.681148\n",
      "Time:  13.979[s]\n",
      "--------------------------------------------------------------------------------\n",
      "START fold 3\n",
      "Training until validation scores don't improve for 200 rounds\n",
      "Early stopping, best iteration is:\n",
      "[756]\tvalid_0's macroF1: 0.662771\n",
      "Time:  19.601[s]\n",
      "--------------------------------------------------------------------------------\n",
      "START fold 4\n",
      "Training until validation scores don't improve for 200 rounds\n",
      "Early stopping, best iteration is:\n",
      "[570]\tvalid_0's macroF1: 0.678263\n",
      "Time:  12.256[s]\n",
      "--------------------------------------------------------------------------------\n",
      "START fold 5\n",
      "Training until validation scores don't improve for 200 rounds\n",
      "Early stopping, best iteration is:\n",
      "[298]\tvalid_0's macroF1: 0.68324\n",
      "Time:  7.964[s]\n",
      "================================================================================\n",
      "FINISH!\n",
      "--------------------------------------------------------------------------------\n",
      "START fold 1\n",
      "Training until validation scores don't improve for 200 rounds\n",
      "Early stopping, best iteration is:\n",
      "[421]\tvalid_0's macroF1: 0.691475\n",
      "Time:  10.688[s]\n",
      "--------------------------------------------------------------------------------\n",
      "START fold 2\n",
      "Training until validation scores don't improve for 200 rounds\n",
      "Early stopping, best iteration is:\n",
      "[707]\tvalid_0's macroF1: 0.683756\n",
      "Time:  11.643[s]\n",
      "--------------------------------------------------------------------------------\n",
      "START fold 3\n",
      "Training until validation scores don't improve for 200 rounds\n",
      "Early stopping, best iteration is:\n",
      "[201]\tvalid_0's macroF1: 0.661055\n",
      "Time:  5.209[s]\n",
      "--------------------------------------------------------------------------------\n",
      "START fold 4\n",
      "Training until validation scores don't improve for 200 rounds\n",
      "Early stopping, best iteration is:\n",
      "[446]\tvalid_0's macroF1: 0.67775\n",
      "Time:  7.999[s]\n",
      "--------------------------------------------------------------------------------\n",
      "START fold 5\n",
      "Training until validation scores don't improve for 200 rounds\n",
      "Early stopping, best iteration is:\n",
      "[310]\tvalid_0's macroF1: 0.684024\n",
      "Time:  6.790[s]\n",
      "================================================================================\n",
      "FINISH!\n",
      "--------------------------------------------------------------------------------\n",
      "START fold 1\n",
      "Training until validation scores don't improve for 200 rounds\n",
      "Early stopping, best iteration is:\n",
      "[287]\tvalid_0's macroF1: 0.690599\n",
      "Time:  6.681[s]\n",
      "--------------------------------------------------------------------------------\n",
      "START fold 2\n",
      "Training until validation scores don't improve for 200 rounds\n",
      "Early stopping, best iteration is:\n",
      "[709]\tvalid_0's macroF1: 0.684819\n",
      "Time:  12.263[s]\n",
      "--------------------------------------------------------------------------------\n",
      "START fold 3\n",
      "Training until validation scores don't improve for 200 rounds\n",
      "Early stopping, best iteration is:\n",
      "[190]\tvalid_0's macroF1: 0.661261\n",
      "Time:  6.134[s]\n",
      "--------------------------------------------------------------------------------\n",
      "START fold 4\n",
      "Training until validation scores don't improve for 200 rounds\n",
      "Early stopping, best iteration is:\n",
      "[355]\tvalid_0's macroF1: 0.676265\n",
      "Time:  13.735[s]\n",
      "--------------------------------------------------------------------------------\n",
      "START fold 5\n",
      "Training until validation scores don't improve for 200 rounds\n",
      "Early stopping, best iteration is:\n",
      "[773]\tvalid_0's macroF1: 0.686153\n",
      "Time:  26.560[s]\n",
      "================================================================================\n",
      "FINISH!\n",
      "--------------------------------------------------------------------------------\n",
      "START fold 1\n",
      "Training until validation scores don't improve for 200 rounds\n",
      "Early stopping, best iteration is:\n",
      "[392]\tvalid_0's macroF1: 0.692119\n",
      "Time:  14.951[s]\n",
      "--------------------------------------------------------------------------------\n",
      "START fold 2\n",
      "Training until validation scores don't improve for 200 rounds\n",
      "Early stopping, best iteration is:\n",
      "[669]\tvalid_0's macroF1: 0.686745\n",
      "Time:  20.959[s]\n",
      "--------------------------------------------------------------------------------\n",
      "START fold 3\n",
      "Training until validation scores don't improve for 200 rounds\n",
      "Early stopping, best iteration is:\n",
      "[158]\tvalid_0's macroF1: 0.660103\n",
      "Time:  8.256[s]\n",
      "--------------------------------------------------------------------------------\n",
      "START fold 4\n",
      "Training until validation scores don't improve for 200 rounds\n",
      "Early stopping, best iteration is:\n",
      "[369]\tvalid_0's macroF1: 0.678949\n",
      "Time:  12.074[s]\n",
      "--------------------------------------------------------------------------------\n",
      "START fold 5\n",
      "Training until validation scores don't improve for 200 rounds\n",
      "Early stopping, best iteration is:\n",
      "[358]\tvalid_0's macroF1: 0.685931\n",
      "Time:  11.827[s]\n",
      "================================================================================\n",
      "FINISH!\n",
      "--------------------------------------------------------------------------------\n",
      "START fold 1\n",
      "Training until validation scores don't improve for 200 rounds\n",
      "Early stopping, best iteration is:\n",
      "[263]\tvalid_0's macroF1: 0.690422\n",
      "Time:  6.532[s]\n",
      "--------------------------------------------------------------------------------\n",
      "START fold 2\n",
      "Training until validation scores don't improve for 200 rounds\n",
      "Early stopping, best iteration is:\n",
      "[260]\tvalid_0's macroF1: 0.687637\n",
      "Time:  6.032[s]\n",
      "--------------------------------------------------------------------------------\n",
      "START fold 3\n",
      "Training until validation scores don't improve for 200 rounds\n",
      "Early stopping, best iteration is:\n",
      "[336]\tvalid_0's macroF1: 0.662822\n",
      "Time:  7.057[s]\n",
      "--------------------------------------------------------------------------------\n",
      "START fold 4\n",
      "Training until validation scores don't improve for 200 rounds\n",
      "Early stopping, best iteration is:\n",
      "[322]\tvalid_0's macroF1: 0.680022\n",
      "Time:  7.125[s]\n",
      "--------------------------------------------------------------------------------\n",
      "START fold 5\n",
      "Training until validation scores don't improve for 200 rounds\n",
      "Early stopping, best iteration is:\n",
      "[378]\tvalid_0's macroF1: 0.68924\n",
      "Time:  7.868[s]\n",
      "================================================================================\n",
      "FINISH!\n",
      "--------------------------------------------------------------------------------\n",
      "START fold 1\n",
      "Training until validation scores don't improve for 200 rounds\n",
      "Early stopping, best iteration is:\n",
      "[208]\tvalid_0's macroF1: 0.691115\n",
      "Time:  5.414[s]\n",
      "--------------------------------------------------------------------------------\n",
      "START fold 2\n",
      "Training until validation scores don't improve for 200 rounds\n",
      "Early stopping, best iteration is:\n",
      "[608]\tvalid_0's macroF1: 0.68825\n",
      "Time:  10.037[s]\n",
      "--------------------------------------------------------------------------------\n",
      "START fold 3\n",
      "Training until validation scores don't improve for 200 rounds\n",
      "Early stopping, best iteration is:\n",
      "[335]\tvalid_0's macroF1: 0.662376\n",
      "Time:  6.903[s]\n",
      "--------------------------------------------------------------------------------\n",
      "START fold 4\n",
      "Training until validation scores don't improve for 200 rounds\n",
      "Early stopping, best iteration is:\n",
      "[248]\tvalid_0's macroF1: 0.679939\n",
      "Time:  6.109[s]\n",
      "--------------------------------------------------------------------------------\n",
      "START fold 5\n",
      "Training until validation scores don't improve for 200 rounds\n",
      "Early stopping, best iteration is:\n",
      "[450]\tvalid_0's macroF1: 0.68765\n",
      "Time:  9.531[s]\n",
      "================================================================================\n",
      "FINISH!\n",
      "--------------------------------------------------------------------------------\n",
      "START fold 1\n",
      "Training until validation scores don't improve for 200 rounds\n",
      "Early stopping, best iteration is:\n",
      "[205]\tvalid_0's macroF1: 0.690693\n",
      "Time:  5.880[s]\n",
      "--------------------------------------------------------------------------------\n",
      "START fold 2\n",
      "Training until validation scores don't improve for 200 rounds\n",
      "Early stopping, best iteration is:\n",
      "[342]\tvalid_0's macroF1: 0.68759\n",
      "Time:  6.886[s]\n",
      "--------------------------------------------------------------------------------\n",
      "START fold 3\n",
      "Training until validation scores don't improve for 200 rounds\n",
      "Early stopping, best iteration is:\n",
      "[250]\tvalid_0's macroF1: 0.662995\n",
      "Time:  5.832[s]\n",
      "--------------------------------------------------------------------------------\n",
      "START fold 4\n",
      "Training until validation scores don't improve for 200 rounds\n",
      "Early stopping, best iteration is:\n",
      "[254]\tvalid_0's macroF1: 0.680873\n",
      "Time:  6.506[s]\n",
      "--------------------------------------------------------------------------------\n",
      "START fold 5\n",
      "Training until validation scores don't improve for 200 rounds\n",
      "Early stopping, best iteration is:\n",
      "[170]\tvalid_0's macroF1: 0.6869\n",
      "Time:  11.958[s]\n",
      "================================================================================\n",
      "FINISH!\n",
      "--------------------------------------------------------------------------------\n",
      "START fold 1\n",
      "Training until validation scores don't improve for 200 rounds\n",
      "Early stopping, best iteration is:\n",
      "[163]\tvalid_0's macroF1: 0.692473\n",
      "Time:  12.346[s]\n",
      "--------------------------------------------------------------------------------\n",
      "START fold 2\n",
      "Training until validation scores don't improve for 200 rounds\n",
      "Early stopping, best iteration is:\n",
      "[283]\tvalid_0's macroF1: 0.687412\n",
      "Time:  15.782[s]\n",
      "--------------------------------------------------------------------------------\n",
      "START fold 3\n",
      "Training until validation scores don't improve for 200 rounds\n",
      "Early stopping, best iteration is:\n",
      "[232]\tvalid_0's macroF1: 0.665765\n",
      "Time:  10.915[s]\n",
      "--------------------------------------------------------------------------------\n",
      "START fold 4\n",
      "Training until validation scores don't improve for 200 rounds\n",
      "Early stopping, best iteration is:\n",
      "[282]\tvalid_0's macroF1: 0.677988\n",
      "Time:  11.769[s]\n",
      "--------------------------------------------------------------------------------\n",
      "START fold 5\n",
      "Training until validation scores don't improve for 200 rounds\n",
      "Early stopping, best iteration is:\n",
      "[135]\tvalid_0's macroF1: 0.687056\n",
      "Time:  8.276[s]\n",
      "================================================================================\n",
      "FINISH!\n",
      "--------------------------------------------------------------------------------\n",
      "START fold 1\n",
      "Training until validation scores don't improve for 200 rounds\n",
      "Early stopping, best iteration is:\n",
      "[135]\tvalid_0's macroF1: 0.690891\n",
      "Time:  8.514[s]\n",
      "--------------------------------------------------------------------------------\n",
      "START fold 2\n",
      "Training until validation scores don't improve for 200 rounds\n",
      "Early stopping, best iteration is:\n",
      "[238]\tvalid_0's macroF1: 0.685453\n",
      "Time:  11.881[s]\n",
      "--------------------------------------------------------------------------------\n",
      "START fold 3\n",
      "Training until validation scores don't improve for 200 rounds\n",
      "Early stopping, best iteration is:\n",
      "[228]\tvalid_0's macroF1: 0.663357\n",
      "Time:  11.290[s]\n",
      "--------------------------------------------------------------------------------\n",
      "START fold 4\n",
      "Training until validation scores don't improve for 200 rounds\n",
      "Early stopping, best iteration is:\n",
      "[131]\tvalid_0's macroF1: 0.675995\n",
      "Time:  7.867[s]\n",
      "--------------------------------------------------------------------------------\n",
      "START fold 5\n",
      "Training until validation scores don't improve for 200 rounds\n",
      "Early stopping, best iteration is:\n",
      "[107]\tvalid_0's macroF1: 0.686537\n",
      "Time:  5.896[s]\n",
      "================================================================================\n",
      "FINISH!\n",
      "--------------------------------------------------------------------------------\n",
      "START fold 1\n",
      "Training until validation scores don't improve for 200 rounds\n",
      "Early stopping, best iteration is:\n",
      "[113]\tvalid_0's macroF1: 0.687977\n",
      "Time:  4.023[s]\n",
      "--------------------------------------------------------------------------------\n",
      "START fold 2\n",
      "Training until validation scores don't improve for 200 rounds\n",
      "Early stopping, best iteration is:\n",
      "[116]\tvalid_0's macroF1: 0.683202\n",
      "Time:  4.928[s]\n",
      "--------------------------------------------------------------------------------\n",
      "START fold 3\n",
      "Training until validation scores don't improve for 200 rounds\n",
      "Early stopping, best iteration is:\n",
      "[162]\tvalid_0's macroF1: 0.662535\n",
      "Time:  8.809[s]\n",
      "--------------------------------------------------------------------------------\n",
      "START fold 4\n",
      "Training until validation scores don't improve for 200 rounds\n",
      "Early stopping, best iteration is:\n",
      "[92]\tvalid_0's macroF1: 0.675838\n",
      "Time:  4.496[s]\n",
      "--------------------------------------------------------------------------------\n",
      "START fold 5\n",
      "Training until validation scores don't improve for 200 rounds\n",
      "Early stopping, best iteration is:\n",
      "[90]\tvalid_0's macroF1: 0.686337\n",
      "Time:  3.673[s]\n",
      "================================================================================\n",
      "FINISH!\n",
      "--------------------------------------------------------------------------------\n",
      "START fold 1\n",
      "Training until validation scores don't improve for 200 rounds\n",
      "Early stopping, best iteration is:\n",
      "[75]\tvalid_0's macroF1: 0.686453\n",
      "Time:  3.593[s]\n",
      "--------------------------------------------------------------------------------\n",
      "START fold 2\n",
      "Training until validation scores don't improve for 200 rounds\n",
      "Early stopping, best iteration is:\n",
      "[81]\tvalid_0's macroF1: 0.680577\n",
      "Time:  3.980[s]\n",
      "--------------------------------------------------------------------------------\n",
      "START fold 3\n",
      "Training until validation scores don't improve for 200 rounds\n",
      "Early stopping, best iteration is:\n",
      "[83]\tvalid_0's macroF1: 0.659142\n",
      "Time:  4.811[s]\n",
      "--------------------------------------------------------------------------------\n",
      "START fold 4\n",
      "Training until validation scores don't improve for 200 rounds\n",
      "Early stopping, best iteration is:\n",
      "[74]\tvalid_0's macroF1: 0.674706\n",
      "Time:  4.699[s]\n",
      "--------------------------------------------------------------------------------\n",
      "START fold 5\n",
      "Training until validation scores don't improve for 200 rounds\n",
      "Early stopping, best iteration is:\n",
      "[72]\tvalid_0's macroF1: 0.686935\n",
      "Time:  4.544[s]\n",
      "================================================================================\n",
      "FINISH!\n",
      "--------------------------------------------------------------------------------\n",
      "START fold 1\n",
      "Training until validation scores don't improve for 200 rounds\n",
      "Early stopping, best iteration is:\n",
      "[53]\tvalid_0's macroF1: 0.685128\n",
      "Time:  4.116[s]\n",
      "--------------------------------------------------------------------------------\n",
      "START fold 2\n",
      "Training until validation scores don't improve for 200 rounds\n",
      "Early stopping, best iteration is:\n",
      "[59]\tvalid_0's macroF1: 0.679885\n",
      "Time:  4.632[s]\n",
      "--------------------------------------------------------------------------------\n",
      "START fold 3\n",
      "Training until validation scores don't improve for 200 rounds\n",
      "Early stopping, best iteration is:\n",
      "[71]\tvalid_0's macroF1: 0.659842\n",
      "Time:  3.710[s]\n",
      "--------------------------------------------------------------------------------\n",
      "START fold 4\n",
      "Training until validation scores don't improve for 200 rounds\n",
      "Early stopping, best iteration is:\n",
      "[50]\tvalid_0's macroF1: 0.671014\n",
      "Time:  3.599[s]\n",
      "--------------------------------------------------------------------------------\n",
      "START fold 5\n",
      "Training until validation scores don't improve for 200 rounds\n",
      "Early stopping, best iteration is:\n",
      "[61]\tvalid_0's macroF1: 0.684674\n",
      "Time:  4.560[s]\n",
      "================================================================================\n",
      "FINISH!\n",
      "--------------------------------------------------------------------------------\n",
      "START fold 1\n",
      "Training until validation scores don't improve for 200 rounds\n",
      "Early stopping, best iteration is:\n",
      "[35]\tvalid_0's macroF1: 0.684104\n",
      "Time:  4.118[s]\n",
      "--------------------------------------------------------------------------------\n",
      "START fold 2\n",
      "Training until validation scores don't improve for 200 rounds\n",
      "Early stopping, best iteration is:\n",
      "[33]\tvalid_0's macroF1: 0.67943\n",
      "Time:  3.499[s]\n",
      "--------------------------------------------------------------------------------\n",
      "START fold 3\n",
      "Training until validation scores don't improve for 200 rounds\n",
      "Early stopping, best iteration is:\n",
      "[50]\tvalid_0's macroF1: 0.65686\n",
      "Time:  3.282[s]\n",
      "--------------------------------------------------------------------------------\n",
      "START fold 4\n",
      "Training until validation scores don't improve for 200 rounds\n",
      "Early stopping, best iteration is:\n",
      "[38]\tvalid_0's macroF1: 0.670116\n",
      "Time:  3.709[s]\n",
      "--------------------------------------------------------------------------------\n",
      "START fold 5\n",
      "Training until validation scores don't improve for 200 rounds\n",
      "Early stopping, best iteration is:\n",
      "[33]\tvalid_0's macroF1: 0.68387\n",
      "Time:  3.976[s]\n",
      "================================================================================\n",
      "FINISH!\n",
      "--------------------------------------------------------------------------------\n",
      "START fold 1\n",
      "Training until validation scores don't improve for 200 rounds\n",
      "Early stopping, best iteration is:\n",
      "[19]\tvalid_0's macroF1: 0.67956\n",
      "Time:  3.350[s]\n",
      "--------------------------------------------------------------------------------\n",
      "START fold 2\n",
      "Training until validation scores don't improve for 200 rounds\n",
      "Early stopping, best iteration is:\n",
      "[18]\tvalid_0's macroF1: 0.678912\n",
      "Time:  4.904[s]\n",
      "--------------------------------------------------------------------------------\n",
      "START fold 3\n",
      "Training until validation scores don't improve for 200 rounds\n",
      "Early stopping, best iteration is:\n",
      "[16]\tvalid_0's macroF1: 0.657302\n",
      "Time:  3.366[s]\n",
      "--------------------------------------------------------------------------------\n",
      "START fold 4\n",
      "Training until validation scores don't improve for 200 rounds\n",
      "Early stopping, best iteration is:\n",
      "[23]\tvalid_0's macroF1: 0.666562\n",
      "Time:  3.559[s]\n",
      "--------------------------------------------------------------------------------\n",
      "START fold 5\n",
      "Training until validation scores don't improve for 200 rounds\n",
      "Early stopping, best iteration is:\n",
      "[20]\tvalid_0's macroF1: 0.684353\n",
      "Time:  4.002[s]\n",
      "================================================================================\n",
      "FINISH!\n",
      "best zero weight: 0.8200000000000001\n"
     ]
    }
   ],
   "source": [
    "# weightのチューニング\n",
    "zero_weights = np.arange(0.74, 0.88, 0.01)\n",
    "_, best_zero_weight = workflow.tuning_loss_weight(train, lgb_params, zero_weights)\n",
    "print(f\"best zero weight: {best_zero_weight}\")"
   ],
   "metadata": {
    "collapsed": false,
    "ExecuteTime": {
     "end_time": "2024-02-04T07:39:17.219027Z",
     "start_time": "2024-02-04T07:28:06.802661Z"
    }
   },
   "execution_count": 15
  },
  {
   "cell_type": "code",
   "outputs": [
    {
     "name": "stdout",
     "output_type": "stream",
     "text": [
      "--------------------------------------------------------------------------------\n",
      "START fold 1\n",
      "Training until validation scores don't improve for 200 rounds\n",
      "Early stopping, best iteration is:\n",
      "[163]\tvalid_0's macroF1: 0.692473\n",
      "Time:  4.561[s]\n",
      "--------------------------------------------------------------------------------\n",
      "START fold 2\n",
      "Training until validation scores don't improve for 200 rounds\n",
      "Early stopping, best iteration is:\n",
      "[283]\tvalid_0's macroF1: 0.687412\n",
      "Time:  5.576[s]\n",
      "--------------------------------------------------------------------------------\n",
      "START fold 3\n",
      "Training until validation scores don't improve for 200 rounds\n",
      "Early stopping, best iteration is:\n",
      "[232]\tvalid_0's macroF1: 0.665765\n",
      "Time:  6.010[s]\n",
      "--------------------------------------------------------------------------------\n",
      "START fold 4\n",
      "Training until validation scores don't improve for 200 rounds\n",
      "Early stopping, best iteration is:\n",
      "[282]\tvalid_0's macroF1: 0.677988\n",
      "Time:  5.266[s]\n",
      "--------------------------------------------------------------------------------\n",
      "START fold 5\n",
      "Training until validation scores don't improve for 200 rounds\n",
      "Early stopping, best iteration is:\n",
      "[135]\tvalid_0's macroF1: 0.687056\n",
      "Time:  3.999[s]\n",
      "================================================================================\n",
      "FINISH!\n"
     ]
    }
   ],
   "source": [
    "oof, models = training.fit_lgbm(train, lgb_params=lgb_params, zero_weight=best_zero_weight)"
   ],
   "metadata": {
    "collapsed": false,
    "ExecuteTime": {
     "end_time": "2024-02-04T07:39:43.040655Z",
     "start_time": "2024-02-04T07:39:17.230956Z"
    }
   },
   "execution_count": 16
  },
  {
   "cell_type": "markdown",
   "source": [
    "# Prediction"
   ],
   "metadata": {
    "collapsed": false
   }
  },
  {
   "cell_type": "code",
   "outputs": [],
   "source": [
    "threshold = 0.5"
   ],
   "metadata": {
    "collapsed": false,
    "ExecuteTime": {
     "end_time": "2024-02-04T07:39:43.048503Z",
     "start_time": "2024-02-04T07:39:43.043582Z"
    }
   },
   "execution_count": 17
  },
  {
   "cell_type": "markdown",
   "source": [
    "## CV score"
   ],
   "metadata": {
    "collapsed": false
   }
  },
  {
   "cell_type": "code",
   "outputs": [
    {
     "name": "stdout",
     "output_type": "stream",
     "text": [
      "0.6820095568905267\n"
     ]
    }
   ],
   "source": [
    "oof_truth = train[cfg.Cols.target].to_numpy()\n",
    "oof_hat = predict.predict_class(oof, threshold=threshold)\n",
    "cv_score = metrics.macro_f1_score(oof_truth, oof_hat)\n",
    "print(cv_score)"
   ],
   "metadata": {
    "collapsed": false,
    "ExecuteTime": {
     "end_time": "2024-02-04T07:39:43.077698Z",
     "start_time": "2024-02-04T07:39:43.049738Z"
    }
   },
   "execution_count": 18
  },
  {
   "cell_type": "markdown",
   "source": [
    "## Test prediction"
   ],
   "metadata": {
    "collapsed": false
   }
  },
  {
   "cell_type": "code",
   "outputs": [],
   "source": [
    "pred_prob = predict.predict_probability(models, test)\n",
    "pred_class = predict.predict_class(pred_prob, threshold=threshold)"
   ],
   "metadata": {
    "collapsed": false,
    "ExecuteTime": {
     "end_time": "2024-02-04T07:39:43.914032Z",
     "start_time": "2024-02-04T07:39:43.093048Z"
    }
   },
   "execution_count": 19
  },
  {
   "cell_type": "markdown",
   "source": [
    "## Check result"
   ],
   "metadata": {
    "collapsed": false
   }
  },
  {
   "cell_type": "markdown",
   "source": [
    "### oofとtestの予測値分布を比較してバグを確認"
   ],
   "metadata": {
    "collapsed": false
   }
  },
  {
   "cell_type": "code",
   "outputs": [
    {
     "data": {
      "text/plain": "<Figure size 640x480 with 1 Axes>",
      "image/png": "[encoded data removed]"
     },
     "metadata": {},
     "output_type": "display_data"
    }
   ],
   "source": [
    "sns.histplot(pred_prob)\n",
    "plt.xlim(0.0, 1.0)\n",
    "plt.show()"
   ],
   "metadata": {
    "collapsed": false,
    "ExecuteTime": {
     "end_time": "2024-02-04T07:39:45.103620Z",
     "start_time": "2024-02-04T07:39:43.961983Z"
    }
   },
   "execution_count": 20
  },
  {
   "cell_type": "code",
   "outputs": [
    {
     "data": {
      "text/plain": "<Figure size 640x480 with 1 Axes>",
      "image/png": "[encoded data removed]"
     },
     "metadata": {},
     "output_type": "display_data"
    }
   ],
   "source": [
    "sns.histplot(pred_prob)\n",
    "plt.xlim(0.0, 1.0)\n",
    "plt.show()"
   ],
   "metadata": {
    "collapsed": false,
    "ExecuteTime": {
     "end_time": "2024-02-04T07:39:45.405013Z",
     "start_time": "2024-02-04T07:39:45.114545Z"
    }
   },
   "execution_count": 21
  },
  {
   "cell_type": "markdown",
   "source": [
    "### 予測値の1の割合を確認"
   ],
   "metadata": {
    "collapsed": false
   }
  },
  {
   "cell_type": "code",
   "outputs": [
    {
     "name": "stdout",
     "output_type": "stream",
     "text": [
      "0.9145788030632505\n"
     ]
    }
   ],
   "source": [
    "print(pred_class.sum() / len(pred_class))"
   ],
   "metadata": {
    "collapsed": false,
    "ExecuteTime": {
     "end_time": "2024-02-04T07:39:45.410635Z",
     "start_time": "2024-02-04T07:39:45.406207Z"
    }
   },
   "execution_count": 22
  },
  {
   "cell_type": "markdown",
   "source": [
    "### oofにおける混同行列を確認"
   ],
   "metadata": {
    "collapsed": false
   }
  },
  {
   "cell_type": "code",
   "outputs": [
    {
     "name": "stdout",
     "output_type": "stream",
     "text": [
      "True Negative Rate (0の正解率): 0.39\n",
      "True Positive Rate (1の正解率): 0.95\n"
     ]
    },
    {
     "data": {
      "text/plain": "<Figure size 640x480 with 2 Axes>",
      "image/png": "[encoded data removed]"
     },
     "metadata": {},
     "output_type": "display_data"
    }
   ],
   "source": [
    "metrics.show_confusion_matrix(oof_truth, oof_hat)"
   ],
   "metadata": {
    "collapsed": false,
    "ExecuteTime": {
     "end_time": "2024-02-04T07:39:45.636630Z",
     "start_time": "2024-02-04T07:39:45.411572Z"
    }
   },
   "execution_count": 23
  },
  {
   "cell_type": "markdown",
   "source": [
    "## Submit"
   ],
   "metadata": {
    "collapsed": false
   }
  },
  {
   "cell_type": "code",
   "outputs": [],
   "source": [
    "submit = submit.with_columns([pl.Series(cfg.Cols.sub_pred, pred_class)])\n",
    "# utils.make_submission(submit, exp, cv_score)"
   ],
   "metadata": {
    "collapsed": false,
    "ExecuteTime": {
     "end_time": "2024-02-04T07:39:45.637788Z",
     "start_time": "2024-02-04T07:39:45.632967Z"
    }
   },
   "execution_count": 24
  },
  {
   "cell_type": "code",
   "outputs": [],
   "source": [],
   "metadata": {
    "collapsed": false,
    "ExecuteTime": {
     "end_time": "2024-02-04T07:39:45.640239Z",
     "start_time": "2024-02-04T07:39:45.636879Z"
    }
   },
   "execution_count": 24
  }
 ],
 "metadata": {
  "kernelspec": {
   "display_name": "kaggle",
   "language": "python",
   "name": "kaggle"
  },
  "language_info": {
   "codemirror_mode": {
    "name": "ipython",
    "version": 3
   },
   "file_extension": ".py",
   "mimetype": "text/x-python",
   "name": "python",
   "nbconvert_exporter": "python",
   "pygments_lexer": "ipython3",
   "version": "3.9.18"
  }
 },
 "nbformat": 4,
 "nbformat_minor": 4
}
