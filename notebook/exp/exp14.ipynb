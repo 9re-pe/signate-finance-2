{
 "cells": [
  {
   "cell_type": "markdown",
   "source": [
    "# TODO\n",
    "\n",
    "- Weighted Cross Entropy Lossのチューニング"
   ],
   "metadata": {
    "collapsed": false
   }
  },
  {
   "cell_type": "markdown",
   "source": [
    "# Setting"
   ],
   "metadata": {
    "collapsed": false
   }
  },
  {
   "cell_type": "code",
   "execution_count": 1,
   "outputs": [],
   "source": [
    "import sys\n",
    "\n",
    "import polars as pl\n",
    "import seaborn as sns\n",
    "import matplotlib.pyplot as plt\n",
    "\n",
    "root_dir = \"../../\"\n",
    "if root_dir not in sys.path:\n",
    "    sys.path.append(root_dir)\n",
    "from modules import config as cfg\n",
    "from modules import utils, preprosess, training, predict, metrics\n",
    "\n",
    "exp = \"exp14\"\n",
    "utils.set_seed(cfg.Params.seed)"
   ],
   "metadata": {
    "collapsed": false,
    "ExecuteTime": {
     "end_time": "2024-01-27T06:12:27.071977Z",
     "start_time": "2024-01-27T06:12:26.292439Z"
    }
   }
  },
  {
   "cell_type": "markdown",
   "metadata": {
    "collapsed": false,
    "ExecuteTime": {
     "end_time": "2024-01-21T07:23:00.806250Z",
     "start_time": "2024-01-21T07:22:58.502427Z"
    }
   },
   "source": [
    "# Read data"
   ]
  },
  {
   "cell_type": "code",
   "execution_count": 2,
   "metadata": {
    "collapsed": false,
    "ExecuteTime": {
     "end_time": "2024-01-27T06:12:32.291796Z",
     "start_time": "2024-01-27T06:12:32.045358Z"
    }
   },
   "outputs": [],
   "source": [
    "train, test, submit = utils.get_data(debug_mode=False)"
   ]
  },
  {
   "cell_type": "markdown",
   "metadata": {
    "collapsed": false
   },
   "source": [
    "# Preprocessing"
   ]
  },
  {
   "cell_type": "markdown",
   "source": [
    "## Split fold"
   ],
   "metadata": {
    "collapsed": false
   }
  },
  {
   "cell_type": "code",
   "execution_count": 3,
   "outputs": [],
   "source": [
    "train = preprosess.assign_stratified_k_fold(train, \"MIS_Status\")"
   ],
   "metadata": {
    "collapsed": false,
    "ExecuteTime": {
     "end_time": "2024-01-27T06:12:34.232758Z",
     "start_time": "2024-01-27T06:12:34.144524Z"
    }
   }
  },
  {
   "cell_type": "markdown",
   "source": [
    "## Convert"
   ],
   "metadata": {
    "collapsed": false
   }
  },
  {
   "cell_type": "code",
   "execution_count": 4,
   "metadata": {
    "collapsed": false,
    "ExecuteTime": {
     "end_time": "2024-01-27T06:12:36.223233Z",
     "start_time": "2024-01-27T06:12:35.568984Z"
    }
   },
   "outputs": [],
   "source": [
    "# 地名を座標に変換\n",
    "train = preprosess.convert_to_latlon(train)\n",
    "test  = preprosess.convert_to_latlon(test)\n",
    "\n",
    "# testのBankStateの\"PR\"はtrainにないため，一番多いCAに変換\n",
    "test = test.with_columns(pl.col(\"BankState\").str.replace(\"PR\", \"CA\"))\n",
    "\n",
    "# DisbursementDateとApprovalDateをYear(数値)に変換\n",
    "cols  = [\"DisbursementDate\", \"ApprovalDate\"]\n",
    "train = preprosess.convert_date_to_year(train, cols)\n",
    "test  = preprosess.convert_date_to_year(test, cols)\n",
    "\n",
    "# 金額データの数値化\n",
    "cols  = [\"DisbursementGross\",  \"GrAppv\", \"SBA_Appv\"]\n",
    "train = preprosess.convert_money_data(train, cols)\n",
    "test  = preprosess.convert_money_data(test, cols)\n",
    "\n",
    "# 一致しているか\n",
    "eqs = [\n",
    "    [\"State\", \"BankState\"],\n",
    "]\n",
    "train = preprosess.add_eq(train, eqs)\n",
    "test  = preprosess.add_eq(test, eqs)\n",
    "\n",
    "# 差の計算\n",
    "diffs = [\n",
    "    [\"DisbursementGross\", \"GrAppv\"],   # 支払われた額 vs 銀行承認額\n",
    "    [\"DisbursementGross\", \"SBA_Appv\"], # 支払われた額 vs SBA承認額\n",
    "    [\"GrAppv\", \"SBA_Appv\"],            # 銀行承認額 vs SBA承認額\n",
    "]\n",
    "train = preprosess.add_diff(train, diffs)\n",
    "test  = preprosess.add_diff(test, diffs)\n",
    "\n",
    "# DisbursementDateとApprovalDateの差を計算\n",
    "train = preprosess.add_diff_disbursement_with_approval(train)\n",
    "test  = preprosess.add_diff_disbursement_with_approval(test)\n",
    "\n",
    "# 割合の計算\n",
    "divs = [\n",
    "    # [\"DisbursementGross\", \"Term\"],\n",
    "    [\"GrAppv\", \"Term\"],\n",
    "    [\"SBA_Appv\", \"Term\"],\n",
    "    [\"NoEmp\", \"Term\"],\n",
    "    # [\"DisbursementGross\", \"NoEmp\"],\n",
    "    # [\"GrAppv\", \"NoEmp\"],\n",
    "    # [\"SBA_Appv\", \"NoEmp\"],\n",
    "    [\"DisbursementGross_GrAppv_diff\", \"Term\"],\n",
    "    [\"DisbursementGross_SBA_Appv_diff\", \"Term\"],\n",
    "    [\"GrAppv_SBA_Appv_diff\", \"Term\"],\n",
    "    # [\"DisbursementGross_GrAppv_diff\", \"NoEmp\"],\n",
    "    # [\"DisbursementGross_SBA_Appv_diff\", \"NoEmp\"],\n",
    "    # [\"GrAppv_SBA_Appv_diff\", \"NoEmp\"]\n",
    "]\n",
    "train = preprosess.add_div(train, divs)\n",
    "test  = preprosess.add_div(test, divs)\n",
    "\n",
    "# Sectorを職業別にする\n",
    "train = preprosess.unify_same_sector(train)\n",
    "test  = preprosess.unify_same_sector(test)"
   ]
  },
  {
   "cell_type": "markdown",
   "source": [
    "## Target encoding"
   ],
   "metadata": {
    "collapsed": false
   }
  },
  {
   "cell_type": "code",
   "execution_count": 5,
   "outputs": [],
   "source": [
    "cols = [\n",
    "    # \"Sector\",\n",
    "    \"UrbanRural\",\n",
    "    \"RevLineCr\",\n",
    "    \"LowDoc\",\n",
    "    \"FranchiseCode\",\n",
    "]\n",
    "target_col = \"MIS_Status\"\n",
    "train, test = preprosess.target_encoding(train, test, cols)"
   ],
   "metadata": {
    "collapsed": false,
    "ExecuteTime": {
     "end_time": "2024-01-27T06:12:37.636756Z",
     "start_time": "2024-01-27T06:12:37.423176Z"
    }
   }
  },
  {
   "cell_type": "markdown",
   "source": [
    "## Label encoding\n",
    "CVによるtarget encodingでは同じカテゴリカル変数に異なる値が割り当てられるのでlabel encodingを併用する"
   ],
   "metadata": {
    "collapsed": false
   }
  },
  {
   "cell_type": "code",
   "execution_count": 6,
   "outputs": [],
   "source": [
    "cols = [\"RevLineCr\", \"LowDoc\"]\n",
    "train, test = preprosess.label_encoding(train, test, cols)"
   ],
   "metadata": {
    "collapsed": false,
    "ExecuteTime": {
     "end_time": "2024-01-27T06:12:39.159933Z",
     "start_time": "2024-01-27T06:12:39.081399Z"
    }
   }
  },
  {
   "cell_type": "markdown",
   "source": [
    "# Drop columns"
   ],
   "metadata": {
    "collapsed": false
   }
  },
  {
   "cell_type": "code",
   "execution_count": 7,
   "outputs": [],
   "source": [
    "# 不要なカラムの削除\n",
    "del_cols = [\n",
    "    # 地名系\n",
    "    \"City\",\n",
    "    \"State\",\n",
    "    \"BankState\",\n",
    "    # d-b-y系\n",
    "    \"DisbursementDate\",\n",
    "    \"ApprovalDate\",\n",
    "    \"ApprovalFY\",\n",
    "    # ラベルエンコーディング済み\n",
    "    \"RevLineCr\",\n",
    "    \"LowDoc\",\n",
    "]\n",
    "train = train.drop(del_cols)\n",
    "test  = test.drop(del_cols)"
   ],
   "metadata": {
    "collapsed": false,
    "ExecuteTime": {
     "end_time": "2024-01-27T06:12:41.042804Z",
     "start_time": "2024-01-27T06:12:40.961410Z"
    }
   }
  },
  {
   "cell_type": "markdown",
   "metadata": {
    "collapsed": false
   },
   "source": [
    "# Training + Tuning"
   ]
  },
  {
   "cell_type": "code",
   "execution_count": 9,
   "outputs": [
    {
     "name": "stdout",
     "output_type": "stream",
     "text": [
      "--------------------------------------------------------------------------------\n",
      "START fold 1\n",
      "[LightGBM] [Warning] Using self-defined objective function\n",
      "[LightGBM] [Warning] Auto-choosing col-wise multi-threading, the overhead of testing was 0.008915 seconds.\n",
      "You can set `force_col_wise=true` to remove the overhead.\n",
      "[LightGBM] [Info] Total Bins 5177\n",
      "[LightGBM] [Info] Number of data points in the train set: 33845, number of used features: 35\n",
      "[LightGBM] [Warning] Using self-defined objective function\n",
      "Training until validation scores don't improve for 100 rounds\n",
      "[100]\ttraining's WCE_alpha0.01: 0.0142871\tvalid_1's WCE_alpha0.01: 0.0554026\n",
      "Did not meet early stopping. Best iteration is:\n",
      "[100]\ttraining's WCE_alpha0.01: 0.0142871\tvalid_1's WCE_alpha0.01: 0.0554026\n",
      "Time:  3.581[s]\n",
      "--------------------------------------------------------------------------------\n",
      "START fold 2\n"
     ]
    },
    {
     "name": "stderr",
     "output_type": "stream",
     "text": [
      "/Users/taichi/anaconda3/envs/kaggle/lib/python3.9/site-packages/lightgbm/basic.py:859: UserWarning: Converting data to scipy sparse matrix.\n",
      "  _log_warning('Converting data to scipy sparse matrix.')\n"
     ]
    },
    {
     "name": "stdout",
     "output_type": "stream",
     "text": [
      "[LightGBM] [Warning] Using self-defined objective function\n",
      "[LightGBM] [Warning] Auto-choosing col-wise multi-threading, the overhead of testing was 0.010691 seconds.\n",
      "You can set `force_col_wise=true` to remove the overhead.\n",
      "[LightGBM] [Info] Total Bins 5184\n",
      "[LightGBM] [Info] Number of data points in the train set: 33845, number of used features: 35\n",
      "[LightGBM] [Warning] Using self-defined objective function\n",
      "Training until validation scores don't improve for 100 rounds\n",
      "[100]\ttraining's WCE_alpha0.01: 0.0139349\tvalid_1's WCE_alpha0.01: 0.0564103\n",
      "Did not meet early stopping. Best iteration is:\n",
      "[100]\ttraining's WCE_alpha0.01: 0.0139349\tvalid_1's WCE_alpha0.01: 0.0564103\n",
      "Time:  4.324[s]\n",
      "--------------------------------------------------------------------------------\n",
      "START fold 3\n",
      "[LightGBM] [Warning] Using self-defined objective function\n",
      "[LightGBM] [Warning] Auto-choosing col-wise multi-threading, the overhead of testing was 0.011446 seconds.\n",
      "You can set `force_col_wise=true` to remove the overhead.\n",
      "[LightGBM] [Info] Total Bins 5178\n",
      "[LightGBM] [Info] Number of data points in the train set: 33846, number of used features: 35\n",
      "[LightGBM] [Warning] Using self-defined objective function\n",
      "Training until validation scores don't improve for 100 rounds\n",
      "[100]\ttraining's WCE_alpha0.01: 0.0137173\tvalid_1's WCE_alpha0.01: 0.0648208\n",
      "Did not meet early stopping. Best iteration is:\n",
      "[100]\ttraining's WCE_alpha0.01: 0.0137173\tvalid_1's WCE_alpha0.01: 0.0648208\n",
      "Time:  3.034[s]\n",
      "--------------------------------------------------------------------------------\n",
      "START fold 4\n",
      "[LightGBM] [Warning] Using self-defined objective function\n",
      "[LightGBM] [Warning] Auto-choosing col-wise multi-threading, the overhead of testing was 0.012144 seconds.\n",
      "You can set `force_col_wise=true` to remove the overhead.\n",
      "[LightGBM] [Info] Total Bins 5174\n",
      "[LightGBM] [Info] Number of data points in the train set: 33846, number of used features: 35\n",
      "[LightGBM] [Warning] Using self-defined objective function\n",
      "Training until validation scores don't improve for 100 rounds\n",
      "[100]\ttraining's WCE_alpha0.01: 0.0137021\tvalid_1's WCE_alpha0.01: 0.0621704\n",
      "Did not meet early stopping. Best iteration is:\n",
      "[100]\ttraining's WCE_alpha0.01: 0.0137021\tvalid_1's WCE_alpha0.01: 0.0621704\n",
      "Time:  3.276[s]\n",
      "--------------------------------------------------------------------------------\n",
      "START fold 5\n",
      "[LightGBM] [Warning] Using self-defined objective function\n",
      "[LightGBM] [Warning] Auto-choosing col-wise multi-threading, the overhead of testing was 0.009350 seconds.\n",
      "You can set `force_col_wise=true` to remove the overhead.\n",
      "[LightGBM] [Info] Total Bins 5177\n",
      "[LightGBM] [Info] Number of data points in the train set: 33846, number of used features: 35\n",
      "[LightGBM] [Warning] Using self-defined objective function\n",
      "Training until validation scores don't improve for 100 rounds\n",
      "[100]\ttraining's WCE_alpha0.01: 0.0137802\tvalid_1's WCE_alpha0.01: 0.0929124\n",
      "Did not meet early stopping. Best iteration is:\n",
      "[100]\ttraining's WCE_alpha0.01: 0.0137802\tvalid_1's WCE_alpha0.01: 0.0929124\n",
      "Time:  4.322[s]\n",
      "================================================================================\n",
      "FINISH!\n",
      "--------------------------------------------------------------------------------\n",
      "START fold 1\n",
      "[LightGBM] [Warning] Using self-defined objective function\n",
      "[LightGBM] [Warning] Auto-choosing col-wise multi-threading, the overhead of testing was 0.009514 seconds.\n",
      "You can set `force_col_wise=true` to remove the overhead.\n",
      "[LightGBM] [Info] Total Bins 5177\n",
      "[LightGBM] [Info] Number of data points in the train set: 33845, number of used features: 35\n",
      "[LightGBM] [Warning] Using self-defined objective function\n",
      "Training until validation scores don't improve for 100 rounds\n",
      "[100]\ttraining's WCE_alpha0.06: 0.0499481\tvalid_1's WCE_alpha0.06: 0.0953012\n",
      "Did not meet early stopping. Best iteration is:\n",
      "[100]\ttraining's WCE_alpha0.06: 0.0499481\tvalid_1's WCE_alpha0.06: 0.0953012\n",
      "Time:  2.595[s]\n",
      "--------------------------------------------------------------------------------\n",
      "START fold 2\n"
     ]
    },
    {
     "name": "stderr",
     "output_type": "stream",
     "text": [
      "/Users/taichi/anaconda3/envs/kaggle/lib/python3.9/site-packages/lightgbm/basic.py:859: UserWarning: Converting data to scipy sparse matrix.\n",
      "  _log_warning('Converting data to scipy sparse matrix.')\n"
     ]
    },
    {
     "name": "stdout",
     "output_type": "stream",
     "text": [
      "[LightGBM] [Warning] Using self-defined objective function\n",
      "[LightGBM] [Warning] Auto-choosing col-wise multi-threading, the overhead of testing was 0.008954 seconds.\n",
      "You can set `force_col_wise=true` to remove the overhead.\n",
      "[LightGBM] [Info] Total Bins 5184\n",
      "[LightGBM] [Info] Number of data points in the train set: 33845, number of used features: 35\n",
      "[LightGBM] [Warning] Using self-defined objective function\n",
      "Training until validation scores don't improve for 100 rounds\n",
      "[100]\ttraining's WCE_alpha0.06: 0.0500317\tvalid_1's WCE_alpha0.06: 0.093887\n",
      "Did not meet early stopping. Best iteration is:\n",
      "[100]\ttraining's WCE_alpha0.06: 0.0500317\tvalid_1's WCE_alpha0.06: 0.093887\n",
      "Time:  2.684[s]\n",
      "--------------------------------------------------------------------------------\n",
      "START fold 3\n",
      "[LightGBM] [Warning] Using self-defined objective function\n",
      "[LightGBM] [Warning] Auto-choosing col-wise multi-threading, the overhead of testing was 0.014432 seconds.\n",
      "You can set `force_col_wise=true` to remove the overhead.\n",
      "[LightGBM] [Info] Total Bins 5178\n",
      "[LightGBM] [Info] Number of data points in the train set: 33846, number of used features: 35\n",
      "[LightGBM] [Warning] Using self-defined objective function\n",
      "Training until validation scores don't improve for 100 rounds\n",
      "[100]\ttraining's WCE_alpha0.06: 0.0485894\tvalid_1's WCE_alpha0.06: 0.105102\n",
      "Did not meet early stopping. Best iteration is:\n",
      "[100]\ttraining's WCE_alpha0.06: 0.0485894\tvalid_1's WCE_alpha0.06: 0.105102\n",
      "Time:  2.748[s]\n",
      "--------------------------------------------------------------------------------\n",
      "START fold 4\n",
      "[LightGBM] [Warning] Using self-defined objective function\n",
      "[LightGBM] [Warning] Auto-choosing col-wise multi-threading, the overhead of testing was 0.013415 seconds.\n",
      "You can set `force_col_wise=true` to remove the overhead.\n",
      "[LightGBM] [Info] Total Bins 5174\n",
      "[LightGBM] [Info] Number of data points in the train set: 33846, number of used features: 35\n",
      "[LightGBM] [Warning] Using self-defined objective function\n",
      "Training until validation scores don't improve for 100 rounds\n",
      "[100]\ttraining's WCE_alpha0.06: 0.0496625\tvalid_1's WCE_alpha0.06: 0.0998868\n",
      "Did not meet early stopping. Best iteration is:\n",
      "[100]\ttraining's WCE_alpha0.06: 0.0496625\tvalid_1's WCE_alpha0.06: 0.0998868\n",
      "Time:  3.289[s]\n",
      "--------------------------------------------------------------------------------\n",
      "START fold 5\n",
      "[LightGBM] [Warning] Using self-defined objective function\n",
      "[LightGBM] [Warning] Auto-choosing col-wise multi-threading, the overhead of testing was 0.009887 seconds.\n",
      "You can set `force_col_wise=true` to remove the overhead.\n",
      "[LightGBM] [Info] Total Bins 5177\n",
      "[LightGBM] [Info] Number of data points in the train set: 33846, number of used features: 35\n",
      "[LightGBM] [Warning] Using self-defined objective function\n",
      "Training until validation scores don't improve for 100 rounds\n",
      "[100]\ttraining's WCE_alpha0.06: 0.0498377\tvalid_1's WCE_alpha0.06: 0.108651\n",
      "Did not meet early stopping. Best iteration is:\n",
      "[100]\ttraining's WCE_alpha0.06: 0.0498377\tvalid_1's WCE_alpha0.06: 0.108651\n",
      "Time:  2.930[s]\n",
      "================================================================================\n",
      "FINISH!\n",
      "--------------------------------------------------------------------------------\n",
      "START fold 1\n",
      "[LightGBM] [Warning] Using self-defined objective function\n",
      "[LightGBM] [Warning] Auto-choosing col-wise multi-threading, the overhead of testing was 0.010221 seconds.\n",
      "You can set `force_col_wise=true` to remove the overhead.\n",
      "[LightGBM] [Info] Total Bins 5177\n",
      "[LightGBM] [Info] Number of data points in the train set: 33845, number of used features: 35\n",
      "[LightGBM] [Warning] Using self-defined objective function\n",
      "Training until validation scores don't improve for 100 rounds\n",
      "[100]\ttraining's WCE_alpha0.11: 0.0711764\tvalid_1's WCE_alpha0.11: 0.123119\n",
      "Did not meet early stopping. Best iteration is:\n",
      "[100]\ttraining's WCE_alpha0.11: 0.0711764\tvalid_1's WCE_alpha0.11: 0.123119\n",
      "Time:  2.779[s]\n",
      "--------------------------------------------------------------------------------\n",
      "START fold 2\n"
     ]
    },
    {
     "name": "stderr",
     "output_type": "stream",
     "text": [
      "/Users/taichi/anaconda3/envs/kaggle/lib/python3.9/site-packages/lightgbm/basic.py:859: UserWarning: Converting data to scipy sparse matrix.\n",
      "  _log_warning('Converting data to scipy sparse matrix.')\n"
     ]
    },
    {
     "name": "stdout",
     "output_type": "stream",
     "text": [
      "[LightGBM] [Warning] Using self-defined objective function\n",
      "[LightGBM] [Warning] Auto-choosing row-wise multi-threading, the overhead of testing was 0.009976 seconds.\n",
      "You can set `force_row_wise=true` to remove the overhead.\n",
      "And if memory is not enough, you can set `force_col_wise=true`.\n",
      "[LightGBM] [Info] Total Bins 5184\n",
      "[LightGBM] [Info] Number of data points in the train set: 33845, number of used features: 35\n",
      "[LightGBM] [Warning] Using self-defined objective function\n",
      "Training until validation scores don't improve for 100 rounds\n",
      "[100]\ttraining's WCE_alpha0.11: 0.071518\tvalid_1's WCE_alpha0.11: 0.122835\n",
      "Did not meet early stopping. Best iteration is:\n",
      "[100]\ttraining's WCE_alpha0.11: 0.071518\tvalid_1's WCE_alpha0.11: 0.122835\n",
      "Time:  2.581[s]\n",
      "--------------------------------------------------------------------------------\n",
      "START fold 3\n",
      "[LightGBM] [Warning] Using self-defined objective function\n",
      "[LightGBM] [Warning] Auto-choosing col-wise multi-threading, the overhead of testing was 0.010432 seconds.\n",
      "You can set `force_col_wise=true` to remove the overhead.\n",
      "[LightGBM] [Info] Total Bins 5178\n",
      "[LightGBM] [Info] Number of data points in the train set: 33846, number of used features: 35\n",
      "[LightGBM] [Warning] Using self-defined objective function\n",
      "Training until validation scores don't improve for 100 rounds\n",
      "[100]\ttraining's WCE_alpha0.11: 0.0699629\tvalid_1's WCE_alpha0.11: 0.133578\n",
      "Did not meet early stopping. Best iteration is:\n",
      "[100]\ttraining's WCE_alpha0.11: 0.0699629\tvalid_1's WCE_alpha0.11: 0.133578\n",
      "Time:  2.987[s]\n",
      "--------------------------------------------------------------------------------\n",
      "START fold 4\n",
      "[LightGBM] [Warning] Using self-defined objective function\n",
      "[LightGBM] [Warning] Auto-choosing col-wise multi-threading, the overhead of testing was 0.009442 seconds.\n",
      "You can set `force_col_wise=true` to remove the overhead.\n",
      "[LightGBM] [Info] Total Bins 5174\n",
      "[LightGBM] [Info] Number of data points in the train set: 33846, number of used features: 35\n",
      "[LightGBM] [Warning] Using self-defined objective function\n",
      "Training until validation scores don't improve for 100 rounds\n",
      "[100]\ttraining's WCE_alpha0.11: 0.0706642\tvalid_1's WCE_alpha0.11: 0.125937\n",
      "Did not meet early stopping. Best iteration is:\n",
      "[100]\ttraining's WCE_alpha0.11: 0.0706642\tvalid_1's WCE_alpha0.11: 0.125937\n",
      "Time:  2.764[s]\n",
      "--------------------------------------------------------------------------------\n",
      "START fold 5\n",
      "[LightGBM] [Warning] Using self-defined objective function\n",
      "[LightGBM] [Warning] Auto-choosing col-wise multi-threading, the overhead of testing was 0.008655 seconds.\n",
      "You can set `force_col_wise=true` to remove the overhead.\n",
      "[LightGBM] [Info] Total Bins 5177\n",
      "[LightGBM] [Info] Number of data points in the train set: 33846, number of used features: 35\n",
      "[LightGBM] [Warning] Using self-defined objective function\n",
      "Training until validation scores don't improve for 100 rounds\n",
      "[100]\ttraining's WCE_alpha0.11: 0.0701774\tvalid_1's WCE_alpha0.11: 0.131668\n",
      "Did not meet early stopping. Best iteration is:\n",
      "[100]\ttraining's WCE_alpha0.11: 0.0701774\tvalid_1's WCE_alpha0.11: 0.131668\n",
      "Time:  2.709[s]\n",
      "================================================================================\n",
      "FINISH!\n",
      "--------------------------------------------------------------------------------\n",
      "START fold 1\n",
      "[LightGBM] [Warning] Using self-defined objective function\n",
      "[LightGBM] [Warning] Auto-choosing col-wise multi-threading, the overhead of testing was 0.009702 seconds.\n",
      "You can set `force_col_wise=true` to remove the overhead.\n",
      "[LightGBM] [Info] Total Bins 5177\n",
      "[LightGBM] [Info] Number of data points in the train set: 33845, number of used features: 35\n",
      "[LightGBM] [Warning] Using self-defined objective function\n",
      "Training until validation scores don't improve for 100 rounds\n",
      "[100]\ttraining's WCE_alpha0.16: 0.087858\tvalid_1's WCE_alpha0.16: 0.145069\n",
      "Did not meet early stopping. Best iteration is:\n",
      "[100]\ttraining's WCE_alpha0.16: 0.087858\tvalid_1's WCE_alpha0.16: 0.145069\n",
      "Time:  3.357[s]\n",
      "--------------------------------------------------------------------------------\n",
      "START fold 2\n"
     ]
    },
    {
     "name": "stderr",
     "output_type": "stream",
     "text": [
      "/Users/taichi/anaconda3/envs/kaggle/lib/python3.9/site-packages/lightgbm/basic.py:859: UserWarning: Converting data to scipy sparse matrix.\n",
      "  _log_warning('Converting data to scipy sparse matrix.')\n"
     ]
    },
    {
     "name": "stdout",
     "output_type": "stream",
     "text": [
      "[LightGBM] [Warning] Using self-defined objective function\n",
      "[LightGBM] [Warning] Auto-choosing col-wise multi-threading, the overhead of testing was 0.008995 seconds.\n",
      "You can set `force_col_wise=true` to remove the overhead.\n",
      "[LightGBM] [Info] Total Bins 5184\n",
      "[LightGBM] [Info] Number of data points in the train set: 33845, number of used features: 35\n",
      "[LightGBM] [Warning] Using self-defined objective function\n",
      "Training until validation scores don't improve for 100 rounds\n",
      "[100]\ttraining's WCE_alpha0.16: 0.0878009\tvalid_1's WCE_alpha0.16: 0.142916\n",
      "Did not meet early stopping. Best iteration is:\n",
      "[100]\ttraining's WCE_alpha0.16: 0.0878009\tvalid_1's WCE_alpha0.16: 0.142916\n",
      "Time:  3.277[s]\n",
      "--------------------------------------------------------------------------------\n",
      "START fold 3\n",
      "[LightGBM] [Warning] Using self-defined objective function\n",
      "[LightGBM] [Warning] Auto-choosing col-wise multi-threading, the overhead of testing was 0.009933 seconds.\n",
      "You can set `force_col_wise=true` to remove the overhead.\n",
      "[LightGBM] [Info] Total Bins 5178\n",
      "[LightGBM] [Info] Number of data points in the train set: 33846, number of used features: 35\n",
      "[LightGBM] [Warning] Using self-defined objective function\n",
      "Training until validation scores don't improve for 100 rounds\n",
      "[100]\ttraining's WCE_alpha0.16: 0.0857824\tvalid_1's WCE_alpha0.16: 0.153433\n",
      "Did not meet early stopping. Best iteration is:\n",
      "[100]\ttraining's WCE_alpha0.16: 0.0857824\tvalid_1's WCE_alpha0.16: 0.153433\n",
      "Time:  2.807[s]\n",
      "--------------------------------------------------------------------------------\n",
      "START fold 4\n",
      "[LightGBM] [Warning] Using self-defined objective function\n",
      "[LightGBM] [Warning] Auto-choosing col-wise multi-threading, the overhead of testing was 0.011158 seconds.\n",
      "You can set `force_col_wise=true` to remove the overhead.\n",
      "[LightGBM] [Info] Total Bins 5174\n",
      "[LightGBM] [Info] Number of data points in the train set: 33846, number of used features: 35\n",
      "[LightGBM] [Warning] Using self-defined objective function\n",
      "Training until validation scores don't improve for 100 rounds\n",
      "[100]\ttraining's WCE_alpha0.16: 0.0861878\tvalid_1's WCE_alpha0.16: 0.145792\n",
      "Did not meet early stopping. Best iteration is:\n",
      "[100]\ttraining's WCE_alpha0.16: 0.0861878\tvalid_1's WCE_alpha0.16: 0.145792\n",
      "Time:  3.116[s]\n",
      "--------------------------------------------------------------------------------\n",
      "START fold 5\n",
      "[LightGBM] [Warning] Using self-defined objective function\n",
      "[LightGBM] [Warning] Auto-choosing row-wise multi-threading, the overhead of testing was 0.011907 seconds.\n",
      "You can set `force_row_wise=true` to remove the overhead.\n",
      "And if memory is not enough, you can set `force_col_wise=true`.\n",
      "[LightGBM] [Info] Total Bins 5177\n",
      "[LightGBM] [Info] Number of data points in the train set: 33846, number of used features: 35\n",
      "[LightGBM] [Warning] Using self-defined objective function\n",
      "Training until validation scores don't improve for 100 rounds\n",
      "[100]\ttraining's WCE_alpha0.16: 0.0866122\tvalid_1's WCE_alpha0.16: 0.153052\n",
      "Did not meet early stopping. Best iteration is:\n",
      "[100]\ttraining's WCE_alpha0.16: 0.0866122\tvalid_1's WCE_alpha0.16: 0.153052\n",
      "Time:  3.168[s]\n",
      "================================================================================\n",
      "FINISH!\n",
      "--------------------------------------------------------------------------------\n",
      "START fold 1\n",
      "[LightGBM] [Warning] Using self-defined objective function\n",
      "[LightGBM] [Warning] Auto-choosing col-wise multi-threading, the overhead of testing was 0.008559 seconds.\n",
      "You can set `force_col_wise=true` to remove the overhead.\n",
      "[LightGBM] [Info] Total Bins 5177\n",
      "[LightGBM] [Info] Number of data points in the train set: 33845, number of used features: 35\n",
      "[LightGBM] [Warning] Using self-defined objective function\n",
      "Training until validation scores don't improve for 100 rounds\n",
      "[100]\ttraining's WCE_alpha0.21: 0.0993878\tvalid_1's WCE_alpha0.21: 0.159223\n",
      "Did not meet early stopping. Best iteration is:\n",
      "[100]\ttraining's WCE_alpha0.21: 0.0993878\tvalid_1's WCE_alpha0.21: 0.159223\n",
      "Time:  3.304[s]\n",
      "--------------------------------------------------------------------------------\n",
      "START fold 2\n"
     ]
    },
    {
     "name": "stderr",
     "output_type": "stream",
     "text": [
      "/Users/taichi/anaconda3/envs/kaggle/lib/python3.9/site-packages/lightgbm/basic.py:859: UserWarning: Converting data to scipy sparse matrix.\n",
      "  _log_warning('Converting data to scipy sparse matrix.')\n"
     ]
    },
    {
     "name": "stdout",
     "output_type": "stream",
     "text": [
      "[LightGBM] [Warning] Using self-defined objective function\n",
      "[LightGBM] [Warning] Auto-choosing col-wise multi-threading, the overhead of testing was 0.012614 seconds.\n",
      "You can set `force_col_wise=true` to remove the overhead.\n",
      "[LightGBM] [Info] Total Bins 5184\n",
      "[LightGBM] [Info] Number of data points in the train set: 33845, number of used features: 35\n",
      "[LightGBM] [Warning] Using self-defined objective function\n",
      "Training until validation scores don't improve for 100 rounds\n",
      "[100]\ttraining's WCE_alpha0.21: 0.0994415\tvalid_1's WCE_alpha0.21: 0.159048\n",
      "Did not meet early stopping. Best iteration is:\n",
      "[100]\ttraining's WCE_alpha0.21: 0.0994415\tvalid_1's WCE_alpha0.21: 0.159048\n",
      "Time:  2.719[s]\n",
      "--------------------------------------------------------------------------------\n",
      "START fold 3\n",
      "[LightGBM] [Warning] Using self-defined objective function\n",
      "[LightGBM] [Warning] Auto-choosing col-wise multi-threading, the overhead of testing was 0.008372 seconds.\n",
      "You can set `force_col_wise=true` to remove the overhead.\n",
      "[LightGBM] [Info] Total Bins 5178\n",
      "[LightGBM] [Info] Number of data points in the train set: 33846, number of used features: 35\n",
      "[LightGBM] [Warning] Using self-defined objective function\n",
      "Training until validation scores don't improve for 100 rounds\n",
      "[100]\ttraining's WCE_alpha0.21: 0.0979224\tvalid_1's WCE_alpha0.21: 0.170871\n",
      "Did not meet early stopping. Best iteration is:\n",
      "[100]\ttraining's WCE_alpha0.21: 0.0979224\tvalid_1's WCE_alpha0.21: 0.170871\n",
      "Time:  4.317[s]\n",
      "--------------------------------------------------------------------------------\n",
      "START fold 4\n",
      "[LightGBM] [Warning] Using self-defined objective function\n",
      "[LightGBM] [Warning] Auto-choosing col-wise multi-threading, the overhead of testing was 0.010920 seconds.\n",
      "You can set `force_col_wise=true` to remove the overhead.\n",
      "[LightGBM] [Info] Total Bins 5174\n",
      "[LightGBM] [Info] Number of data points in the train set: 33846, number of used features: 35\n",
      "[LightGBM] [Warning] Using self-defined objective function\n",
      "Training until validation scores don't improve for 100 rounds\n",
      "[100]\ttraining's WCE_alpha0.21: 0.0990565\tvalid_1's WCE_alpha0.21: 0.163477\n",
      "Did not meet early stopping. Best iteration is:\n",
      "[100]\ttraining's WCE_alpha0.21: 0.0990565\tvalid_1's WCE_alpha0.21: 0.163477\n",
      "Time:  2.773[s]\n",
      "--------------------------------------------------------------------------------\n",
      "START fold 5\n",
      "[LightGBM] [Warning] Using self-defined objective function\n",
      "[LightGBM] [Warning] Auto-choosing row-wise multi-threading, the overhead of testing was 0.004723 seconds.\n",
      "You can set `force_row_wise=true` to remove the overhead.\n",
      "And if memory is not enough, you can set `force_col_wise=true`.\n",
      "[LightGBM] [Info] Total Bins 5177\n",
      "[LightGBM] [Info] Number of data points in the train set: 33846, number of used features: 35\n",
      "[LightGBM] [Warning] Using self-defined objective function\n",
      "Training until validation scores don't improve for 100 rounds\n",
      "[100]\ttraining's WCE_alpha0.21: 0.0982523\tvalid_1's WCE_alpha0.21: 0.17127\n",
      "Did not meet early stopping. Best iteration is:\n",
      "[100]\ttraining's WCE_alpha0.21: 0.0982523\tvalid_1's WCE_alpha0.21: 0.17127\n",
      "Time:  2.581[s]\n",
      "================================================================================\n",
      "FINISH!\n",
      "--------------------------------------------------------------------------------\n",
      "START fold 1\n",
      "[LightGBM] [Warning] Using self-defined objective function\n",
      "[LightGBM] [Warning] Auto-choosing col-wise multi-threading, the overhead of testing was 0.010129 seconds.\n",
      "You can set `force_col_wise=true` to remove the overhead.\n",
      "[LightGBM] [Info] Total Bins 5177\n",
      "[LightGBM] [Info] Number of data points in the train set: 33845, number of used features: 35\n",
      "[LightGBM] [Warning] Using self-defined objective function\n",
      "Training until validation scores don't improve for 100 rounds\n",
      "[100]\ttraining's WCE_alpha0.26: 0.109424\tvalid_1's WCE_alpha0.26: 0.175081\n",
      "Did not meet early stopping. Best iteration is:\n",
      "[100]\ttraining's WCE_alpha0.26: 0.109424\tvalid_1's WCE_alpha0.26: 0.175081\n",
      "Time:  3.010[s]\n",
      "--------------------------------------------------------------------------------\n",
      "START fold 2\n"
     ]
    },
    {
     "name": "stderr",
     "output_type": "stream",
     "text": [
      "/Users/taichi/anaconda3/envs/kaggle/lib/python3.9/site-packages/lightgbm/basic.py:859: UserWarning: Converting data to scipy sparse matrix.\n",
      "  _log_warning('Converting data to scipy sparse matrix.')\n"
     ]
    },
    {
     "name": "stdout",
     "output_type": "stream",
     "text": [
      "[LightGBM] [Warning] Using self-defined objective function\n",
      "[LightGBM] [Warning] Auto-choosing row-wise multi-threading, the overhead of testing was 0.029594 seconds.\n",
      "You can set `force_row_wise=true` to remove the overhead.\n",
      "And if memory is not enough, you can set `force_col_wise=true`.\n",
      "[LightGBM] [Info] Total Bins 5184\n",
      "[LightGBM] [Info] Number of data points in the train set: 33845, number of used features: 35\n",
      "[LightGBM] [Warning] Using self-defined objective function\n",
      "Training until validation scores don't improve for 100 rounds\n",
      "[100]\ttraining's WCE_alpha0.26: 0.109869\tvalid_1's WCE_alpha0.26: 0.174092\n",
      "Did not meet early stopping. Best iteration is:\n",
      "[100]\ttraining's WCE_alpha0.26: 0.109869\tvalid_1's WCE_alpha0.26: 0.174092\n",
      "Time:  2.696[s]\n",
      "--------------------------------------------------------------------------------\n",
      "START fold 3\n",
      "[LightGBM] [Warning] Using self-defined objective function\n",
      "[LightGBM] [Warning] Auto-choosing col-wise multi-threading, the overhead of testing was 0.011397 seconds.\n",
      "You can set `force_col_wise=true` to remove the overhead.\n",
      "[LightGBM] [Info] Total Bins 5178\n",
      "[LightGBM] [Info] Number of data points in the train set: 33846, number of used features: 35\n",
      "[LightGBM] [Warning] Using self-defined objective function\n",
      "Training until validation scores don't improve for 100 rounds\n",
      "[100]\ttraining's WCE_alpha0.26: 0.106695\tvalid_1's WCE_alpha0.26: 0.186025\n",
      "Did not meet early stopping. Best iteration is:\n",
      "[100]\ttraining's WCE_alpha0.26: 0.106695\tvalid_1's WCE_alpha0.26: 0.186025\n",
      "Time:  2.718[s]\n",
      "--------------------------------------------------------------------------------\n",
      "START fold 4\n",
      "[LightGBM] [Warning] Using self-defined objective function\n",
      "[LightGBM] [Warning] Auto-choosing col-wise multi-threading, the overhead of testing was 0.009956 seconds.\n",
      "You can set `force_col_wise=true` to remove the overhead.\n",
      "[LightGBM] [Info] Total Bins 5174\n",
      "[LightGBM] [Info] Number of data points in the train set: 33846, number of used features: 35\n",
      "[LightGBM] [Warning] Using self-defined objective function\n",
      "Training until validation scores don't improve for 100 rounds\n",
      "[100]\ttraining's WCE_alpha0.26: 0.108129\tvalid_1's WCE_alpha0.26: 0.178406\n",
      "Did not meet early stopping. Best iteration is:\n",
      "[100]\ttraining's WCE_alpha0.26: 0.108129\tvalid_1's WCE_alpha0.26: 0.178406\n",
      "Time:  2.747[s]\n",
      "--------------------------------------------------------------------------------\n",
      "START fold 5\n",
      "[LightGBM] [Warning] Using self-defined objective function\n",
      "[LightGBM] [Warning] Auto-choosing col-wise multi-threading, the overhead of testing was 0.010402 seconds.\n",
      "You can set `force_col_wise=true` to remove the overhead.\n",
      "[LightGBM] [Info] Total Bins 5177\n",
      "[LightGBM] [Info] Number of data points in the train set: 33846, number of used features: 35\n",
      "[LightGBM] [Warning] Using self-defined objective function\n",
      "Training until validation scores don't improve for 100 rounds\n",
      "[100]\ttraining's WCE_alpha0.26: 0.108316\tvalid_1's WCE_alpha0.26: 0.186062\n",
      "Did not meet early stopping. Best iteration is:\n",
      "[100]\ttraining's WCE_alpha0.26: 0.108316\tvalid_1's WCE_alpha0.26: 0.186062\n",
      "Time:  3.679[s]\n",
      "================================================================================\n",
      "FINISH!\n",
      "--------------------------------------------------------------------------------\n",
      "START fold 1\n",
      "[LightGBM] [Warning] Using self-defined objective function\n",
      "[LightGBM] [Warning] Auto-choosing col-wise multi-threading, the overhead of testing was 0.009839 seconds.\n",
      "You can set `force_col_wise=true` to remove the overhead.\n",
      "[LightGBM] [Info] Total Bins 5177\n",
      "[LightGBM] [Info] Number of data points in the train set: 33845, number of used features: 35\n",
      "[LightGBM] [Warning] Using self-defined objective function\n",
      "Training until validation scores don't improve for 100 rounds\n",
      "[100]\ttraining's WCE_alpha0.31: 0.118697\tvalid_1's WCE_alpha0.31: 0.186434\n",
      "Did not meet early stopping. Best iteration is:\n",
      "[100]\ttraining's WCE_alpha0.31: 0.118697\tvalid_1's WCE_alpha0.31: 0.186434\n",
      "Time:  2.516[s]\n",
      "--------------------------------------------------------------------------------\n",
      "START fold 2\n"
     ]
    },
    {
     "name": "stderr",
     "output_type": "stream",
     "text": [
      "/Users/taichi/anaconda3/envs/kaggle/lib/python3.9/site-packages/lightgbm/basic.py:859: UserWarning: Converting data to scipy sparse matrix.\n",
      "  _log_warning('Converting data to scipy sparse matrix.')\n"
     ]
    },
    {
     "name": "stdout",
     "output_type": "stream",
     "text": [
      "[LightGBM] [Warning] Using self-defined objective function\n",
      "[LightGBM] [Warning] Auto-choosing col-wise multi-threading, the overhead of testing was 0.009698 seconds.\n",
      "You can set `force_col_wise=true` to remove the overhead.\n",
      "[LightGBM] [Info] Total Bins 5184\n",
      "[LightGBM] [Info] Number of data points in the train set: 33845, number of used features: 35\n",
      "[LightGBM] [Warning] Using self-defined objective function\n",
      "Training until validation scores don't improve for 100 rounds\n",
      "[100]\ttraining's WCE_alpha0.31: 0.119866\tvalid_1's WCE_alpha0.31: 0.186442\n",
      "Did not meet early stopping. Best iteration is:\n",
      "[100]\ttraining's WCE_alpha0.31: 0.119866\tvalid_1's WCE_alpha0.31: 0.186442\n",
      "Time:  2.598[s]\n",
      "--------------------------------------------------------------------------------\n",
      "START fold 3\n",
      "[LightGBM] [Warning] Using self-defined objective function\n",
      "[LightGBM] [Warning] Auto-choosing col-wise multi-threading, the overhead of testing was 0.011684 seconds.\n",
      "You can set `force_col_wise=true` to remove the overhead.\n",
      "[LightGBM] [Info] Total Bins 5178\n",
      "[LightGBM] [Info] Number of data points in the train set: 33846, number of used features: 35\n",
      "[LightGBM] [Warning] Using self-defined objective function\n",
      "Training until validation scores don't improve for 100 rounds\n",
      "[100]\ttraining's WCE_alpha0.31: 0.116458\tvalid_1's WCE_alpha0.31: 0.200155\n",
      "Did not meet early stopping. Best iteration is:\n",
      "[100]\ttraining's WCE_alpha0.31: 0.116458\tvalid_1's WCE_alpha0.31: 0.200155\n",
      "Time:  2.597[s]\n",
      "--------------------------------------------------------------------------------\n",
      "START fold 4\n",
      "[LightGBM] [Warning] Using self-defined objective function\n",
      "[LightGBM] [Warning] Auto-choosing col-wise multi-threading, the overhead of testing was 0.009198 seconds.\n",
      "You can set `force_col_wise=true` to remove the overhead.\n",
      "[LightGBM] [Info] Total Bins 5174\n",
      "[LightGBM] [Info] Number of data points in the train set: 33846, number of used features: 35\n",
      "[LightGBM] [Warning] Using self-defined objective function\n",
      "Training until validation scores don't improve for 100 rounds\n",
      "[100]\ttraining's WCE_alpha0.31: 0.118037\tvalid_1's WCE_alpha0.31: 0.193026\n",
      "Did not meet early stopping. Best iteration is:\n",
      "[100]\ttraining's WCE_alpha0.31: 0.118037\tvalid_1's WCE_alpha0.31: 0.193026\n",
      "Time:  3.344[s]\n",
      "--------------------------------------------------------------------------------\n",
      "START fold 5\n",
      "[LightGBM] [Warning] Using self-defined objective function\n",
      "[LightGBM] [Warning] Auto-choosing col-wise multi-threading, the overhead of testing was 0.011039 seconds.\n",
      "You can set `force_col_wise=true` to remove the overhead.\n",
      "[LightGBM] [Info] Total Bins 5177\n",
      "[LightGBM] [Info] Number of data points in the train set: 33846, number of used features: 35\n",
      "[LightGBM] [Warning] Using self-defined objective function\n",
      "Training until validation scores don't improve for 100 rounds\n",
      "[100]\ttraining's WCE_alpha0.31: 0.118207\tvalid_1's WCE_alpha0.31: 0.196131\n",
      "Did not meet early stopping. Best iteration is:\n",
      "[100]\ttraining's WCE_alpha0.31: 0.118207\tvalid_1's WCE_alpha0.31: 0.196131\n",
      "Time:  2.663[s]\n",
      "================================================================================\n",
      "FINISH!\n",
      "--------------------------------------------------------------------------------\n",
      "START fold 1\n",
      "[LightGBM] [Warning] Using self-defined objective function\n",
      "[LightGBM] [Warning] Auto-choosing col-wise multi-threading, the overhead of testing was 0.008891 seconds.\n",
      "You can set `force_col_wise=true` to remove the overhead.\n",
      "[LightGBM] [Info] Total Bins 5177\n",
      "[LightGBM] [Info] Number of data points in the train set: 33845, number of used features: 35\n",
      "[LightGBM] [Warning] Using self-defined objective function\n",
      "Training until validation scores don't improve for 100 rounds\n",
      "[100]\ttraining's WCE_alpha0.36: 0.126945\tvalid_1's WCE_alpha0.36: 0.199223\n",
      "Did not meet early stopping. Best iteration is:\n",
      "[100]\ttraining's WCE_alpha0.36: 0.126945\tvalid_1's WCE_alpha0.36: 0.199223\n",
      "Time:  2.578[s]\n",
      "--------------------------------------------------------------------------------\n",
      "START fold 2\n"
     ]
    },
    {
     "name": "stderr",
     "output_type": "stream",
     "text": [
      "/Users/taichi/anaconda3/envs/kaggle/lib/python3.9/site-packages/lightgbm/basic.py:859: UserWarning: Converting data to scipy sparse matrix.\n",
      "  _log_warning('Converting data to scipy sparse matrix.')\n"
     ]
    },
    {
     "name": "stdout",
     "output_type": "stream",
     "text": [
      "[LightGBM] [Warning] Using self-defined objective function\n",
      "[LightGBM] [Warning] Auto-choosing row-wise multi-threading, the overhead of testing was 0.006046 seconds.\n",
      "You can set `force_row_wise=true` to remove the overhead.\n",
      "And if memory is not enough, you can set `force_col_wise=true`.\n",
      "[LightGBM] [Info] Total Bins 5184\n",
      "[LightGBM] [Info] Number of data points in the train set: 33845, number of used features: 35\n",
      "[LightGBM] [Warning] Using self-defined objective function\n",
      "Training until validation scores don't improve for 100 rounds\n",
      "[100]\ttraining's WCE_alpha0.36: 0.126057\tvalid_1's WCE_alpha0.36: 0.197769\n",
      "Did not meet early stopping. Best iteration is:\n",
      "[100]\ttraining's WCE_alpha0.36: 0.126057\tvalid_1's WCE_alpha0.36: 0.197769\n",
      "Time:  2.317[s]\n",
      "--------------------------------------------------------------------------------\n",
      "START fold 3\n",
      "[LightGBM] [Warning] Using self-defined objective function\n",
      "[LightGBM] [Warning] Auto-choosing col-wise multi-threading, the overhead of testing was 0.009651 seconds.\n",
      "You can set `force_col_wise=true` to remove the overhead.\n",
      "[LightGBM] [Info] Total Bins 5178\n",
      "[LightGBM] [Info] Number of data points in the train set: 33846, number of used features: 35\n",
      "[LightGBM] [Warning] Using self-defined objective function\n",
      "Training until validation scores don't improve for 100 rounds\n",
      "[100]\ttraining's WCE_alpha0.36: 0.123697\tvalid_1's WCE_alpha0.36: 0.20988\n",
      "Did not meet early stopping. Best iteration is:\n",
      "[100]\ttraining's WCE_alpha0.36: 0.123697\tvalid_1's WCE_alpha0.36: 0.20988\n",
      "Time:  3.759[s]\n",
      "--------------------------------------------------------------------------------\n",
      "START fold 4\n",
      "[LightGBM] [Warning] Using self-defined objective function\n",
      "[LightGBM] [Warning] Auto-choosing col-wise multi-threading, the overhead of testing was 0.008658 seconds.\n",
      "You can set `force_col_wise=true` to remove the overhead.\n",
      "[LightGBM] [Info] Total Bins 5174\n",
      "[LightGBM] [Info] Number of data points in the train set: 33846, number of used features: 35\n",
      "[LightGBM] [Warning] Using self-defined objective function\n",
      "Training until validation scores don't improve for 100 rounds\n",
      "[100]\ttraining's WCE_alpha0.36: 0.124436\tvalid_1's WCE_alpha0.36: 0.201881\n",
      "Did not meet early stopping. Best iteration is:\n",
      "[100]\ttraining's WCE_alpha0.36: 0.124436\tvalid_1's WCE_alpha0.36: 0.201881\n",
      "Time:  2.578[s]\n",
      "--------------------------------------------------------------------------------\n",
      "START fold 5\n",
      "[LightGBM] [Warning] Using self-defined objective function\n",
      "[LightGBM] [Warning] Auto-choosing col-wise multi-threading, the overhead of testing was 0.008860 seconds.\n",
      "You can set `force_col_wise=true` to remove the overhead.\n",
      "[LightGBM] [Info] Total Bins 5177\n",
      "[LightGBM] [Info] Number of data points in the train set: 33846, number of used features: 35\n",
      "[LightGBM] [Warning] Using self-defined objective function\n",
      "Training until validation scores don't improve for 100 rounds\n",
      "[100]\ttraining's WCE_alpha0.36: 0.124787\tvalid_1's WCE_alpha0.36: 0.207258\n",
      "Did not meet early stopping. Best iteration is:\n",
      "[100]\ttraining's WCE_alpha0.36: 0.124787\tvalid_1's WCE_alpha0.36: 0.207258\n",
      "Time:  2.682[s]\n",
      "================================================================================\n",
      "FINISH!\n",
      "--------------------------------------------------------------------------------\n",
      "START fold 1\n",
      "[LightGBM] [Warning] Using self-defined objective function\n",
      "[LightGBM] [Warning] Auto-choosing col-wise multi-threading, the overhead of testing was 0.008619 seconds.\n",
      "You can set `force_col_wise=true` to remove the overhead.\n",
      "[LightGBM] [Info] Total Bins 5177\n",
      "[LightGBM] [Info] Number of data points in the train set: 33845, number of used features: 35\n",
      "[LightGBM] [Warning] Using self-defined objective function\n",
      "Training until validation scores don't improve for 100 rounds\n",
      "[100]\ttraining's WCE_alpha0.41: 0.133698\tvalid_1's WCE_alpha0.41: 0.206971\n",
      "Did not meet early stopping. Best iteration is:\n",
      "[100]\ttraining's WCE_alpha0.41: 0.133698\tvalid_1's WCE_alpha0.41: 0.206971\n",
      "Time:  2.629[s]\n",
      "--------------------------------------------------------------------------------\n",
      "START fold 2\n"
     ]
    },
    {
     "name": "stderr",
     "output_type": "stream",
     "text": [
      "/Users/taichi/anaconda3/envs/kaggle/lib/python3.9/site-packages/lightgbm/basic.py:859: UserWarning: Converting data to scipy sparse matrix.\n",
      "  _log_warning('Converting data to scipy sparse matrix.')\n"
     ]
    },
    {
     "name": "stdout",
     "output_type": "stream",
     "text": [
      "[LightGBM] [Warning] Using self-defined objective function\n",
      "[LightGBM] [Warning] Auto-choosing col-wise multi-threading, the overhead of testing was 0.009861 seconds.\n",
      "You can set `force_col_wise=true` to remove the overhead.\n",
      "[LightGBM] [Info] Total Bins 5184\n",
      "[LightGBM] [Info] Number of data points in the train set: 33845, number of used features: 35\n",
      "[LightGBM] [Warning] Using self-defined objective function\n",
      "Training until validation scores don't improve for 100 rounds\n",
      "[100]\ttraining's WCE_alpha0.41: 0.135285\tvalid_1's WCE_alpha0.41: 0.207495\n",
      "Did not meet early stopping. Best iteration is:\n",
      "[100]\ttraining's WCE_alpha0.41: 0.135285\tvalid_1's WCE_alpha0.41: 0.207495\n",
      "Time:  3.504[s]\n",
      "--------------------------------------------------------------------------------\n",
      "START fold 3\n",
      "[LightGBM] [Warning] Using self-defined objective function\n",
      "[LightGBM] [Warning] Auto-choosing col-wise multi-threading, the overhead of testing was 0.010718 seconds.\n",
      "You can set `force_col_wise=true` to remove the overhead.\n",
      "[LightGBM] [Info] Total Bins 5178\n",
      "[LightGBM] [Info] Number of data points in the train set: 33846, number of used features: 35\n",
      "[LightGBM] [Warning] Using self-defined objective function\n",
      "Training until validation scores don't improve for 100 rounds\n",
      "[100]\ttraining's WCE_alpha0.41: 0.13104\tvalid_1's WCE_alpha0.41: 0.219188\n",
      "Did not meet early stopping. Best iteration is:\n",
      "[100]\ttraining's WCE_alpha0.41: 0.13104\tvalid_1's WCE_alpha0.41: 0.219188\n",
      "Time:  2.689[s]\n",
      "--------------------------------------------------------------------------------\n",
      "START fold 4\n",
      "[LightGBM] [Warning] Using self-defined objective function\n",
      "[LightGBM] [Warning] Auto-choosing col-wise multi-threading, the overhead of testing was 0.008717 seconds.\n",
      "You can set `force_col_wise=true` to remove the overhead.\n",
      "[LightGBM] [Info] Total Bins 5174\n",
      "[LightGBM] [Info] Number of data points in the train set: 33846, number of used features: 35\n",
      "[LightGBM] [Warning] Using self-defined objective function\n",
      "Training until validation scores don't improve for 100 rounds\n",
      "[100]\ttraining's WCE_alpha0.41: 0.132487\tvalid_1's WCE_alpha0.41: 0.212791\n",
      "Did not meet early stopping. Best iteration is:\n",
      "[100]\ttraining's WCE_alpha0.41: 0.132487\tvalid_1's WCE_alpha0.41: 0.212791\n",
      "Time:  2.648[s]\n",
      "--------------------------------------------------------------------------------\n",
      "START fold 5\n",
      "[LightGBM] [Warning] Using self-defined objective function\n",
      "[LightGBM] [Warning] Auto-choosing col-wise multi-threading, the overhead of testing was 0.009283 seconds.\n",
      "You can set `force_col_wise=true` to remove the overhead.\n",
      "[LightGBM] [Info] Total Bins 5177\n",
      "[LightGBM] [Info] Number of data points in the train set: 33846, number of used features: 35\n",
      "[LightGBM] [Warning] Using self-defined objective function\n",
      "Training until validation scores don't improve for 100 rounds\n",
      "[100]\ttraining's WCE_alpha0.41: 0.130767\tvalid_1's WCE_alpha0.41: 0.214589\n",
      "Did not meet early stopping. Best iteration is:\n",
      "[100]\ttraining's WCE_alpha0.41: 0.130767\tvalid_1's WCE_alpha0.41: 0.214589\n",
      "Time:  3.395[s]\n",
      "================================================================================\n",
      "FINISH!\n",
      "--------------------------------------------------------------------------------\n",
      "START fold 1\n",
      "[LightGBM] [Warning] Using self-defined objective function\n",
      "[LightGBM] [Warning] Auto-choosing col-wise multi-threading, the overhead of testing was 0.008832 seconds.\n",
      "You can set `force_col_wise=true` to remove the overhead.\n",
      "[LightGBM] [Info] Total Bins 5177\n",
      "[LightGBM] [Info] Number of data points in the train set: 33845, number of used features: 35\n",
      "[LightGBM] [Warning] Using self-defined objective function\n",
      "Training until validation scores don't improve for 100 rounds\n",
      "[100]\ttraining's WCE_alpha0.46: 0.140345\tvalid_1's WCE_alpha0.46: 0.216675\n",
      "Did not meet early stopping. Best iteration is:\n",
      "[100]\ttraining's WCE_alpha0.46: 0.140345\tvalid_1's WCE_alpha0.46: 0.216675\n",
      "Time:  2.723[s]\n",
      "--------------------------------------------------------------------------------\n",
      "START fold 2\n"
     ]
    },
    {
     "name": "stderr",
     "output_type": "stream",
     "text": [
      "/Users/taichi/anaconda3/envs/kaggle/lib/python3.9/site-packages/lightgbm/basic.py:859: UserWarning: Converting data to scipy sparse matrix.\n",
      "  _log_warning('Converting data to scipy sparse matrix.')\n"
     ]
    },
    {
     "name": "stdout",
     "output_type": "stream",
     "text": [
      "[LightGBM] [Warning] Using self-defined objective function\n",
      "[LightGBM] [Warning] Auto-choosing col-wise multi-threading, the overhead of testing was 0.011255 seconds.\n",
      "You can set `force_col_wise=true` to remove the overhead.\n",
      "[LightGBM] [Info] Total Bins 5184\n",
      "[LightGBM] [Info] Number of data points in the train set: 33845, number of used features: 35\n",
      "[LightGBM] [Warning] Using self-defined objective function\n",
      "Training until validation scores don't improve for 100 rounds\n",
      "[100]\ttraining's WCE_alpha0.46: 0.140514\tvalid_1's WCE_alpha0.46: 0.216118\n",
      "Did not meet early stopping. Best iteration is:\n",
      "[100]\ttraining's WCE_alpha0.46: 0.140514\tvalid_1's WCE_alpha0.46: 0.216118\n",
      "Time:  2.543[s]\n",
      "--------------------------------------------------------------------------------\n",
      "START fold 3\n",
      "[LightGBM] [Warning] Using self-defined objective function\n",
      "[LightGBM] [Warning] Auto-choosing col-wise multi-threading, the overhead of testing was 0.009526 seconds.\n",
      "You can set `force_col_wise=true` to remove the overhead.\n",
      "[LightGBM] [Info] Total Bins 5178\n",
      "[LightGBM] [Info] Number of data points in the train set: 33846, number of used features: 35\n",
      "[LightGBM] [Warning] Using self-defined objective function\n",
      "Training until validation scores don't improve for 100 rounds\n",
      "[100]\ttraining's WCE_alpha0.46: 0.136889\tvalid_1's WCE_alpha0.46: 0.229394\n",
      "Did not meet early stopping. Best iteration is:\n",
      "[100]\ttraining's WCE_alpha0.46: 0.136889\tvalid_1's WCE_alpha0.46: 0.229394\n",
      "Time:  2.553[s]\n",
      "--------------------------------------------------------------------------------\n",
      "START fold 4\n",
      "[LightGBM] [Warning] Using self-defined objective function\n",
      "[LightGBM] [Warning] Auto-choosing col-wise multi-threading, the overhead of testing was 0.009485 seconds.\n",
      "You can set `force_col_wise=true` to remove the overhead.\n",
      "[LightGBM] [Info] Total Bins 5174\n",
      "[LightGBM] [Info] Number of data points in the train set: 33846, number of used features: 35\n",
      "[LightGBM] [Warning] Using self-defined objective function\n",
      "Training until validation scores don't improve for 100 rounds\n",
      "[100]\ttraining's WCE_alpha0.46: 0.138989\tvalid_1's WCE_alpha0.46: 0.220886\n",
      "Did not meet early stopping. Best iteration is:\n",
      "[100]\ttraining's WCE_alpha0.46: 0.138989\tvalid_1's WCE_alpha0.46: 0.220886\n",
      "Time:  3.335[s]\n",
      "--------------------------------------------------------------------------------\n",
      "START fold 5\n",
      "[LightGBM] [Warning] Using self-defined objective function\n",
      "[LightGBM] [Warning] Auto-choosing col-wise multi-threading, the overhead of testing was 0.012125 seconds.\n",
      "You can set `force_col_wise=true` to remove the overhead.\n",
      "[LightGBM] [Info] Total Bins 5177\n",
      "[LightGBM] [Info] Number of data points in the train set: 33846, number of used features: 35\n",
      "[LightGBM] [Warning] Using self-defined objective function\n",
      "Training until validation scores don't improve for 100 rounds\n",
      "[100]\ttraining's WCE_alpha0.46: 0.137672\tvalid_1's WCE_alpha0.46: 0.226233\n",
      "Did not meet early stopping. Best iteration is:\n",
      "[100]\ttraining's WCE_alpha0.46: 0.137672\tvalid_1's WCE_alpha0.46: 0.226233\n",
      "Time:  2.713[s]\n",
      "================================================================================\n",
      "FINISH!\n",
      "--------------------------------------------------------------------------------\n",
      "START fold 1\n",
      "[LightGBM] [Warning] Using self-defined objective function\n",
      "[LightGBM] [Warning] Auto-choosing col-wise multi-threading, the overhead of testing was 0.010277 seconds.\n",
      "You can set `force_col_wise=true` to remove the overhead.\n",
      "[LightGBM] [Info] Total Bins 5177\n",
      "[LightGBM] [Info] Number of data points in the train set: 33845, number of used features: 35\n",
      "[LightGBM] [Warning] Using self-defined objective function\n",
      "Training until validation scores don't improve for 100 rounds\n",
      "[100]\ttraining's WCE_alpha0.51: 0.146149\tvalid_1's WCE_alpha0.51: 0.225666\n",
      "Did not meet early stopping. Best iteration is:\n",
      "[100]\ttraining's WCE_alpha0.51: 0.146149\tvalid_1's WCE_alpha0.51: 0.225666\n",
      "Time:  2.930[s]\n",
      "--------------------------------------------------------------------------------\n",
      "START fold 2\n"
     ]
    },
    {
     "name": "stderr",
     "output_type": "stream",
     "text": [
      "/Users/taichi/anaconda3/envs/kaggle/lib/python3.9/site-packages/lightgbm/basic.py:859: UserWarning: Converting data to scipy sparse matrix.\n",
      "  _log_warning('Converting data to scipy sparse matrix.')\n"
     ]
    },
    {
     "name": "stdout",
     "output_type": "stream",
     "text": [
      "[LightGBM] [Warning] Using self-defined objective function\n",
      "[LightGBM] [Warning] Auto-choosing col-wise multi-threading, the overhead of testing was 0.009211 seconds.\n",
      "You can set `force_col_wise=true` to remove the overhead.\n",
      "[LightGBM] [Info] Total Bins 5184\n",
      "[LightGBM] [Info] Number of data points in the train set: 33845, number of used features: 35\n",
      "[LightGBM] [Warning] Using self-defined objective function\n",
      "Training until validation scores don't improve for 100 rounds\n",
      "[100]\ttraining's WCE_alpha0.51: 0.146527\tvalid_1's WCE_alpha0.51: 0.224551\n",
      "Did not meet early stopping. Best iteration is:\n",
      "[100]\ttraining's WCE_alpha0.51: 0.146527\tvalid_1's WCE_alpha0.51: 0.224551\n",
      "Time:  2.651[s]\n",
      "--------------------------------------------------------------------------------\n",
      "START fold 3\n",
      "[LightGBM] [Warning] Using self-defined objective function\n",
      "[LightGBM] [Warning] Auto-choosing col-wise multi-threading, the overhead of testing was 0.014726 seconds.\n",
      "You can set `force_col_wise=true` to remove the overhead.\n",
      "[LightGBM] [Info] Total Bins 5178\n",
      "[LightGBM] [Info] Number of data points in the train set: 33846, number of used features: 35\n",
      "[LightGBM] [Warning] Using self-defined objective function\n",
      "Training until validation scores don't improve for 100 rounds\n",
      "[100]\ttraining's WCE_alpha0.51: 0.141166\tvalid_1's WCE_alpha0.51: 0.238953\n",
      "Did not meet early stopping. Best iteration is:\n",
      "[100]\ttraining's WCE_alpha0.51: 0.141166\tvalid_1's WCE_alpha0.51: 0.238953\n",
      "Time:  3.895[s]\n",
      "--------------------------------------------------------------------------------\n",
      "START fold 4\n",
      "[LightGBM] [Warning] Using self-defined objective function\n",
      "[LightGBM] [Warning] Auto-choosing col-wise multi-threading, the overhead of testing was 0.008801 seconds.\n",
      "You can set `force_col_wise=true` to remove the overhead.\n",
      "[LightGBM] [Info] Total Bins 5174\n",
      "[LightGBM] [Info] Number of data points in the train set: 33846, number of used features: 35\n",
      "[LightGBM] [Warning] Using self-defined objective function\n",
      "Training until validation scores don't improve for 100 rounds\n",
      "[100]\ttraining's WCE_alpha0.51: 0.144375\tvalid_1's WCE_alpha0.51: 0.229182\n",
      "Did not meet early stopping. Best iteration is:\n",
      "[100]\ttraining's WCE_alpha0.51: 0.144375\tvalid_1's WCE_alpha0.51: 0.229182\n",
      "Time:  2.900[s]\n",
      "--------------------------------------------------------------------------------\n",
      "START fold 5\n",
      "[LightGBM] [Warning] Using self-defined objective function\n",
      "[LightGBM] [Warning] Auto-choosing col-wise multi-threading, the overhead of testing was 0.009349 seconds.\n",
      "You can set `force_col_wise=true` to remove the overhead.\n",
      "[LightGBM] [Info] Total Bins 5177\n",
      "[LightGBM] [Info] Number of data points in the train set: 33846, number of used features: 35\n",
      "[LightGBM] [Warning] Using self-defined objective function\n",
      "Training until validation scores don't improve for 100 rounds\n",
      "[100]\ttraining's WCE_alpha0.51: 0.144661\tvalid_1's WCE_alpha0.51: 0.233797\n",
      "Did not meet early stopping. Best iteration is:\n",
      "[100]\ttraining's WCE_alpha0.51: 0.144661\tvalid_1's WCE_alpha0.51: 0.233797\n",
      "Time:  2.689[s]\n",
      "================================================================================\n",
      "FINISH!\n",
      "--------------------------------------------------------------------------------\n",
      "START fold 1\n",
      "[LightGBM] [Warning] Using self-defined objective function\n",
      "[LightGBM] [Warning] Auto-choosing col-wise multi-threading, the overhead of testing was 0.013766 seconds.\n",
      "You can set `force_col_wise=true` to remove the overhead.\n",
      "[LightGBM] [Info] Total Bins 5177\n",
      "[LightGBM] [Info] Number of data points in the train set: 33845, number of used features: 35\n",
      "[LightGBM] [Warning] Using self-defined objective function\n",
      "Training until validation scores don't improve for 100 rounds\n",
      "[100]\ttraining's WCE_alpha0.56: 0.153049\tvalid_1's WCE_alpha0.56: 0.231637\n",
      "Did not meet early stopping. Best iteration is:\n",
      "[100]\ttraining's WCE_alpha0.56: 0.153049\tvalid_1's WCE_alpha0.56: 0.231637\n",
      "Time:  4.150[s]\n",
      "--------------------------------------------------------------------------------\n",
      "START fold 2\n"
     ]
    },
    {
     "name": "stderr",
     "output_type": "stream",
     "text": [
      "/Users/taichi/anaconda3/envs/kaggle/lib/python3.9/site-packages/lightgbm/basic.py:859: UserWarning: Converting data to scipy sparse matrix.\n",
      "  _log_warning('Converting data to scipy sparse matrix.')\n"
     ]
    },
    {
     "name": "stdout",
     "output_type": "stream",
     "text": [
      "[LightGBM] [Warning] Using self-defined objective function\n",
      "[LightGBM] [Warning] Auto-choosing col-wise multi-threading, the overhead of testing was 0.008384 seconds.\n",
      "You can set `force_col_wise=true` to remove the overhead.\n",
      "[LightGBM] [Info] Total Bins 5184\n",
      "[LightGBM] [Info] Number of data points in the train set: 33845, number of used features: 35\n",
      "[LightGBM] [Warning] Using self-defined objective function\n",
      "Training until validation scores don't improve for 100 rounds\n",
      "[100]\ttraining's WCE_alpha0.56: 0.152588\tvalid_1's WCE_alpha0.56: 0.233921\n",
      "Did not meet early stopping. Best iteration is:\n",
      "[100]\ttraining's WCE_alpha0.56: 0.152588\tvalid_1's WCE_alpha0.56: 0.233921\n",
      "Time:  2.752[s]\n",
      "--------------------------------------------------------------------------------\n",
      "START fold 3\n",
      "[LightGBM] [Warning] Using self-defined objective function\n",
      "[LightGBM] [Warning] Auto-choosing col-wise multi-threading, the overhead of testing was 0.008757 seconds.\n",
      "You can set `force_col_wise=true` to remove the overhead.\n",
      "[LightGBM] [Info] Total Bins 5178\n",
      "[LightGBM] [Info] Number of data points in the train set: 33846, number of used features: 35\n",
      "[LightGBM] [Warning] Using self-defined objective function\n",
      "Training until validation scores don't improve for 100 rounds\n",
      "[100]\ttraining's WCE_alpha0.56: 0.148242\tvalid_1's WCE_alpha0.56: 0.248309\n",
      "Did not meet early stopping. Best iteration is:\n",
      "[100]\ttraining's WCE_alpha0.56: 0.148242\tvalid_1's WCE_alpha0.56: 0.248309\n",
      "Time:  2.549[s]\n",
      "--------------------------------------------------------------------------------\n",
      "START fold 4\n",
      "[LightGBM] [Warning] Using self-defined objective function\n",
      "[LightGBM] [Warning] Auto-choosing col-wise multi-threading, the overhead of testing was 0.009233 seconds.\n",
      "You can set `force_col_wise=true` to remove the overhead.\n",
      "[LightGBM] [Info] Total Bins 5174\n",
      "[LightGBM] [Info] Number of data points in the train set: 33846, number of used features: 35\n",
      "[LightGBM] [Warning] Using self-defined objective function\n",
      "Training until validation scores don't improve for 100 rounds\n",
      "[100]\ttraining's WCE_alpha0.56: 0.150491\tvalid_1's WCE_alpha0.56: 0.238666\n",
      "Did not meet early stopping. Best iteration is:\n",
      "[100]\ttraining's WCE_alpha0.56: 0.150491\tvalid_1's WCE_alpha0.56: 0.238666\n",
      "Time:  2.659[s]\n",
      "--------------------------------------------------------------------------------\n",
      "START fold 5\n",
      "[LightGBM] [Warning] Using self-defined objective function\n",
      "[LightGBM] [Warning] Auto-choosing col-wise multi-threading, the overhead of testing was 0.012478 seconds.\n",
      "You can set `force_col_wise=true` to remove the overhead.\n",
      "[LightGBM] [Info] Total Bins 5177\n",
      "[LightGBM] [Info] Number of data points in the train set: 33846, number of used features: 35\n",
      "[LightGBM] [Warning] Using self-defined objective function\n",
      "Training until validation scores don't improve for 100 rounds\n",
      "[100]\ttraining's WCE_alpha0.56: 0.14949\tvalid_1's WCE_alpha0.56: 0.240277\n",
      "Did not meet early stopping. Best iteration is:\n",
      "[100]\ttraining's WCE_alpha0.56: 0.14949\tvalid_1's WCE_alpha0.56: 0.240277\n",
      "Time:  2.991[s]\n",
      "================================================================================\n",
      "FINISH!\n",
      "--------------------------------------------------------------------------------\n",
      "START fold 1\n",
      "[LightGBM] [Warning] Using self-defined objective function\n",
      "[LightGBM] [Warning] Auto-choosing col-wise multi-threading, the overhead of testing was 0.008485 seconds.\n",
      "You can set `force_col_wise=true` to remove the overhead.\n",
      "[LightGBM] [Info] Total Bins 5177\n",
      "[LightGBM] [Info] Number of data points in the train set: 33845, number of used features: 35\n",
      "[LightGBM] [Warning] Using self-defined objective function\n",
      "Training until validation scores don't improve for 100 rounds\n",
      "[100]\ttraining's WCE_alpha0.61: 0.156775\tvalid_1's WCE_alpha0.61: 0.240061\n",
      "Did not meet early stopping. Best iteration is:\n",
      "[100]\ttraining's WCE_alpha0.61: 0.156775\tvalid_1's WCE_alpha0.61: 0.240061\n",
      "Time:  2.736[s]\n",
      "--------------------------------------------------------------------------------\n",
      "START fold 2\n"
     ]
    },
    {
     "name": "stderr",
     "output_type": "stream",
     "text": [
      "/Users/taichi/anaconda3/envs/kaggle/lib/python3.9/site-packages/lightgbm/basic.py:859: UserWarning: Converting data to scipy sparse matrix.\n",
      "  _log_warning('Converting data to scipy sparse matrix.')\n"
     ]
    },
    {
     "name": "stdout",
     "output_type": "stream",
     "text": [
      "[LightGBM] [Warning] Using self-defined objective function\n",
      "[LightGBM] [Warning] Auto-choosing col-wise multi-threading, the overhead of testing was 0.010206 seconds.\n",
      "You can set `force_col_wise=true` to remove the overhead.\n",
      "[LightGBM] [Info] Total Bins 5184\n",
      "[LightGBM] [Info] Number of data points in the train set: 33845, number of used features: 35\n",
      "[LightGBM] [Warning] Using self-defined objective function\n",
      "Training until validation scores don't improve for 100 rounds\n",
      "[100]\ttraining's WCE_alpha0.61: 0.157512\tvalid_1's WCE_alpha0.61: 0.237989\n",
      "Did not meet early stopping. Best iteration is:\n",
      "[100]\ttraining's WCE_alpha0.61: 0.157512\tvalid_1's WCE_alpha0.61: 0.237989\n",
      "Time:  2.552[s]\n",
      "--------------------------------------------------------------------------------\n",
      "START fold 3\n",
      "[LightGBM] [Warning] Using self-defined objective function\n",
      "[LightGBM] [Warning] Auto-choosing col-wise multi-threading, the overhead of testing was 0.009201 seconds.\n",
      "You can set `force_col_wise=true` to remove the overhead.\n",
      "[LightGBM] [Info] Total Bins 5178\n",
      "[LightGBM] [Info] Number of data points in the train set: 33846, number of used features: 35\n",
      "[LightGBM] [Warning] Using self-defined objective function\n",
      "Training until validation scores don't improve for 100 rounds\n",
      "[100]\ttraining's WCE_alpha0.61: 0.152814\tvalid_1's WCE_alpha0.61: 0.252491\n",
      "Did not meet early stopping. Best iteration is:\n",
      "[100]\ttraining's WCE_alpha0.61: 0.152814\tvalid_1's WCE_alpha0.61: 0.252491\n",
      "Time:  3.304[s]\n",
      "--------------------------------------------------------------------------------\n",
      "START fold 4\n",
      "[LightGBM] [Warning] Using self-defined objective function\n",
      "[LightGBM] [Warning] Auto-choosing col-wise multi-threading, the overhead of testing was 0.011198 seconds.\n",
      "You can set `force_col_wise=true` to remove the overhead.\n",
      "[LightGBM] [Info] Total Bins 5174\n",
      "[LightGBM] [Info] Number of data points in the train set: 33846, number of used features: 35\n",
      "[LightGBM] [Warning] Using self-defined objective function\n",
      "Training until validation scores don't improve for 100 rounds\n",
      "[100]\ttraining's WCE_alpha0.61: 0.155947\tvalid_1's WCE_alpha0.61: 0.244349\n",
      "Did not meet early stopping. Best iteration is:\n",
      "[100]\ttraining's WCE_alpha0.61: 0.155947\tvalid_1's WCE_alpha0.61: 0.244349\n",
      "Time:  2.714[s]\n",
      "--------------------------------------------------------------------------------\n",
      "START fold 5\n",
      "[LightGBM] [Warning] Using self-defined objective function\n",
      "[LightGBM] [Warning] Auto-choosing col-wise multi-threading, the overhead of testing was 0.014206 seconds.\n",
      "You can set `force_col_wise=true` to remove the overhead.\n",
      "[LightGBM] [Info] Total Bins 5177\n",
      "[LightGBM] [Info] Number of data points in the train set: 33846, number of used features: 35\n",
      "[LightGBM] [Warning] Using self-defined objective function\n",
      "Training until validation scores don't improve for 100 rounds\n",
      "[100]\ttraining's WCE_alpha0.61: 0.153701\tvalid_1's WCE_alpha0.61: 0.24814\n",
      "Did not meet early stopping. Best iteration is:\n",
      "[100]\ttraining's WCE_alpha0.61: 0.153701\tvalid_1's WCE_alpha0.61: 0.24814\n",
      "Time:  2.697[s]\n",
      "================================================================================\n",
      "FINISH!\n",
      "--------------------------------------------------------------------------------\n",
      "START fold 1\n",
      "[LightGBM] [Warning] Using self-defined objective function\n",
      "[LightGBM] [Warning] Auto-choosing col-wise multi-threading, the overhead of testing was 0.009364 seconds.\n",
      "You can set `force_col_wise=true` to remove the overhead.\n",
      "[LightGBM] [Info] Total Bins 5177\n",
      "[LightGBM] [Info] Number of data points in the train set: 33845, number of used features: 35\n",
      "[LightGBM] [Warning] Using self-defined objective function\n",
      "Training until validation scores don't improve for 100 rounds\n",
      "[100]\ttraining's WCE_alpha0.66: 0.161457\tvalid_1's WCE_alpha0.66: 0.246057\n",
      "Did not meet early stopping. Best iteration is:\n",
      "[100]\ttraining's WCE_alpha0.66: 0.161457\tvalid_1's WCE_alpha0.66: 0.246057\n",
      "Time:  2.803[s]\n",
      "--------------------------------------------------------------------------------\n",
      "START fold 2\n"
     ]
    },
    {
     "name": "stderr",
     "output_type": "stream",
     "text": [
      "/Users/taichi/anaconda3/envs/kaggle/lib/python3.9/site-packages/lightgbm/basic.py:859: UserWarning: Converting data to scipy sparse matrix.\n",
      "  _log_warning('Converting data to scipy sparse matrix.')\n"
     ]
    },
    {
     "name": "stdout",
     "output_type": "stream",
     "text": [
      "[LightGBM] [Warning] Using self-defined objective function\n",
      "[LightGBM] [Warning] Auto-choosing col-wise multi-threading, the overhead of testing was 0.015337 seconds.\n",
      "You can set `force_col_wise=true` to remove the overhead.\n",
      "[LightGBM] [Info] Total Bins 5184\n",
      "[LightGBM] [Info] Number of data points in the train set: 33845, number of used features: 35\n",
      "[LightGBM] [Warning] Using self-defined objective function\n",
      "Training until validation scores don't improve for 100 rounds\n",
      "[100]\ttraining's WCE_alpha0.66: 0.161321\tvalid_1's WCE_alpha0.66: 0.249577\n",
      "Did not meet early stopping. Best iteration is:\n",
      "[100]\ttraining's WCE_alpha0.66: 0.161321\tvalid_1's WCE_alpha0.66: 0.249577\n",
      "Time:  3.874[s]\n",
      "--------------------------------------------------------------------------------\n",
      "START fold 3\n",
      "[LightGBM] [Warning] Using self-defined objective function\n",
      "[LightGBM] [Warning] Auto-choosing col-wise multi-threading, the overhead of testing was 0.009942 seconds.\n",
      "You can set `force_col_wise=true` to remove the overhead.\n",
      "[LightGBM] [Info] Total Bins 5178\n",
      "[LightGBM] [Info] Number of data points in the train set: 33846, number of used features: 35\n",
      "[LightGBM] [Warning] Using self-defined objective function\n",
      "Training until validation scores don't improve for 100 rounds\n",
      "[100]\ttraining's WCE_alpha0.66: 0.157533\tvalid_1's WCE_alpha0.66: 0.25958\n",
      "Did not meet early stopping. Best iteration is:\n",
      "[100]\ttraining's WCE_alpha0.66: 0.157533\tvalid_1's WCE_alpha0.66: 0.25958\n",
      "Time:  2.709[s]\n",
      "--------------------------------------------------------------------------------\n",
      "START fold 4\n",
      "[LightGBM] [Warning] Using self-defined objective function\n",
      "[LightGBM] [Warning] Auto-choosing row-wise multi-threading, the overhead of testing was 0.005019 seconds.\n",
      "You can set `force_row_wise=true` to remove the overhead.\n",
      "And if memory is not enough, you can set `force_col_wise=true`.\n",
      "[LightGBM] [Info] Total Bins 5174\n",
      "[LightGBM] [Info] Number of data points in the train set: 33846, number of used features: 35\n",
      "[LightGBM] [Warning] Using self-defined objective function\n",
      "Training until validation scores don't improve for 100 rounds\n",
      "[100]\ttraining's WCE_alpha0.66: 0.159086\tvalid_1's WCE_alpha0.66: 0.251535\n",
      "Did not meet early stopping. Best iteration is:\n",
      "[100]\ttraining's WCE_alpha0.66: 0.159086\tvalid_1's WCE_alpha0.66: 0.251535\n",
      "Time:  2.141[s]\n",
      "--------------------------------------------------------------------------------\n",
      "START fold 5\n",
      "[LightGBM] [Warning] Using self-defined objective function\n",
      "[LightGBM] [Warning] Auto-choosing col-wise multi-threading, the overhead of testing was 0.008852 seconds.\n",
      "You can set `force_col_wise=true` to remove the overhead.\n",
      "[LightGBM] [Info] Total Bins 5177\n",
      "[LightGBM] [Info] Number of data points in the train set: 33846, number of used features: 35\n",
      "[LightGBM] [Warning] Using self-defined objective function\n",
      "Training until validation scores don't improve for 100 rounds\n",
      "[100]\ttraining's WCE_alpha0.66: 0.158632\tvalid_1's WCE_alpha0.66: 0.254321\n",
      "Did not meet early stopping. Best iteration is:\n",
      "[100]\ttraining's WCE_alpha0.66: 0.158632\tvalid_1's WCE_alpha0.66: 0.254321\n",
      "Time:  2.519[s]\n",
      "================================================================================\n",
      "FINISH!\n",
      "--------------------------------------------------------------------------------\n",
      "START fold 1\n",
      "[LightGBM] [Warning] Using self-defined objective function\n",
      "[LightGBM] [Warning] Auto-choosing row-wise multi-threading, the overhead of testing was 0.008167 seconds.\n",
      "You can set `force_row_wise=true` to remove the overhead.\n",
      "And if memory is not enough, you can set `force_col_wise=true`.\n",
      "[LightGBM] [Info] Total Bins 5177\n",
      "[LightGBM] [Info] Number of data points in the train set: 33845, number of used features: 35\n",
      "[LightGBM] [Warning] Using self-defined objective function\n",
      "Training until validation scores don't improve for 100 rounds\n",
      "[100]\ttraining's WCE_alpha0.71: 0.166256\tvalid_1's WCE_alpha0.71: 0.251631\n",
      "Did not meet early stopping. Best iteration is:\n",
      "[100]\ttraining's WCE_alpha0.71: 0.166256\tvalid_1's WCE_alpha0.71: 0.251631\n",
      "Time:  2.766[s]\n",
      "--------------------------------------------------------------------------------\n",
      "START fold 2\n"
     ]
    },
    {
     "name": "stderr",
     "output_type": "stream",
     "text": [
      "/Users/taichi/anaconda3/envs/kaggle/lib/python3.9/site-packages/lightgbm/basic.py:859: UserWarning: Converting data to scipy sparse matrix.\n",
      "  _log_warning('Converting data to scipy sparse matrix.')\n"
     ]
    },
    {
     "name": "stdout",
     "output_type": "stream",
     "text": [
      "[LightGBM] [Warning] Using self-defined objective function\n",
      "[LightGBM] [Warning] Auto-choosing col-wise multi-threading, the overhead of testing was 0.012112 seconds.\n",
      "You can set `force_col_wise=true` to remove the overhead.\n",
      "[LightGBM] [Info] Total Bins 5184\n",
      "[LightGBM] [Info] Number of data points in the train set: 33845, number of used features: 35\n",
      "[LightGBM] [Warning] Using self-defined objective function\n",
      "Training until validation scores don't improve for 100 rounds\n",
      "[100]\ttraining's WCE_alpha0.71: 0.165865\tvalid_1's WCE_alpha0.71: 0.2511\n",
      "Did not meet early stopping. Best iteration is:\n",
      "[100]\ttraining's WCE_alpha0.71: 0.165865\tvalid_1's WCE_alpha0.71: 0.2511\n",
      "Time:  2.676[s]\n",
      "--------------------------------------------------------------------------------\n",
      "START fold 3\n",
      "[LightGBM] [Warning] Using self-defined objective function\n",
      "[LightGBM] [Warning] Auto-choosing col-wise multi-threading, the overhead of testing was 0.009921 seconds.\n",
      "You can set `force_col_wise=true` to remove the overhead.\n",
      "[LightGBM] [Info] Total Bins 5178\n",
      "[LightGBM] [Info] Number of data points in the train set: 33846, number of used features: 35\n",
      "[LightGBM] [Warning] Using self-defined objective function\n",
      "Training until validation scores don't improve for 100 rounds\n",
      "[100]\ttraining's WCE_alpha0.71: 0.160415\tvalid_1's WCE_alpha0.71: 0.267062\n",
      "Did not meet early stopping. Best iteration is:\n",
      "[100]\ttraining's WCE_alpha0.71: 0.160415\tvalid_1's WCE_alpha0.71: 0.267062\n",
      "Time:  2.477[s]\n",
      "--------------------------------------------------------------------------------\n",
      "START fold 4\n",
      "[LightGBM] [Warning] Using self-defined objective function\n",
      "[LightGBM] [Warning] Auto-choosing col-wise multi-threading, the overhead of testing was 0.009467 seconds.\n",
      "You can set `force_col_wise=true` to remove the overhead.\n",
      "[LightGBM] [Info] Total Bins 5174\n",
      "[LightGBM] [Info] Number of data points in the train set: 33846, number of used features: 35\n",
      "[LightGBM] [Warning] Using self-defined objective function\n",
      "Training until validation scores don't improve for 100 rounds\n",
      "[100]\ttraining's WCE_alpha0.71: 0.162764\tvalid_1's WCE_alpha0.71: 0.259473\n",
      "Did not meet early stopping. Best iteration is:\n",
      "[100]\ttraining's WCE_alpha0.71: 0.162764\tvalid_1's WCE_alpha0.71: 0.259473\n",
      "Time:  2.639[s]\n",
      "--------------------------------------------------------------------------------\n",
      "START fold 5\n",
      "[LightGBM] [Warning] Using self-defined objective function\n",
      "[LightGBM] [Warning] Auto-choosing row-wise multi-threading, the overhead of testing was 0.005439 seconds.\n",
      "You can set `force_row_wise=true` to remove the overhead.\n",
      "And if memory is not enough, you can set `force_col_wise=true`.\n",
      "[LightGBM] [Info] Total Bins 5177\n",
      "[LightGBM] [Info] Number of data points in the train set: 33846, number of used features: 35\n",
      "[LightGBM] [Warning] Using self-defined objective function\n",
      "Training until validation scores don't improve for 100 rounds\n",
      "[100]\ttraining's WCE_alpha0.71: 0.163466\tvalid_1's WCE_alpha0.71: 0.262281\n",
      "Did not meet early stopping. Best iteration is:\n",
      "[100]\ttraining's WCE_alpha0.71: 0.163466\tvalid_1's WCE_alpha0.71: 0.262281\n",
      "Time:  2.769[s]\n",
      "================================================================================\n",
      "FINISH!\n",
      "--------------------------------------------------------------------------------\n",
      "START fold 1\n",
      "[LightGBM] [Warning] Using self-defined objective function\n",
      "[LightGBM] [Warning] Auto-choosing col-wise multi-threading, the overhead of testing was 0.012245 seconds.\n",
      "You can set `force_col_wise=true` to remove the overhead.\n",
      "[LightGBM] [Info] Total Bins 5177\n",
      "[LightGBM] [Info] Number of data points in the train set: 33845, number of used features: 35\n",
      "[LightGBM] [Warning] Using self-defined objective function\n",
      "Training until validation scores don't improve for 100 rounds\n",
      "[100]\ttraining's WCE_alpha0.76: 0.169007\tvalid_1's WCE_alpha0.76: 0.259116\n",
      "Did not meet early stopping. Best iteration is:\n",
      "[100]\ttraining's WCE_alpha0.76: 0.169007\tvalid_1's WCE_alpha0.76: 0.259116\n",
      "Time:  2.556[s]\n",
      "--------------------------------------------------------------------------------\n",
      "START fold 2\n"
     ]
    },
    {
     "name": "stderr",
     "output_type": "stream",
     "text": [
      "/Users/taichi/anaconda3/envs/kaggle/lib/python3.9/site-packages/lightgbm/basic.py:859: UserWarning: Converting data to scipy sparse matrix.\n",
      "  _log_warning('Converting data to scipy sparse matrix.')\n"
     ]
    },
    {
     "name": "stdout",
     "output_type": "stream",
     "text": [
      "[LightGBM] [Warning] Using self-defined objective function\n",
      "[LightGBM] [Warning] Auto-choosing col-wise multi-threading, the overhead of testing was 0.010376 seconds.\n",
      "You can set `force_col_wise=true` to remove the overhead.\n",
      "[LightGBM] [Info] Total Bins 5184\n",
      "[LightGBM] [Info] Number of data points in the train set: 33845, number of used features: 35\n",
      "[LightGBM] [Warning] Using self-defined objective function\n",
      "Training until validation scores don't improve for 100 rounds\n",
      "[100]\ttraining's WCE_alpha0.76: 0.170205\tvalid_1's WCE_alpha0.76: 0.258531\n",
      "Did not meet early stopping. Best iteration is:\n",
      "[100]\ttraining's WCE_alpha0.76: 0.170205\tvalid_1's WCE_alpha0.76: 0.258531\n",
      "Time:  2.556[s]\n",
      "--------------------------------------------------------------------------------\n",
      "START fold 3\n",
      "[LightGBM] [Warning] Using self-defined objective function\n",
      "[LightGBM] [Warning] Auto-choosing col-wise multi-threading, the overhead of testing was 0.010896 seconds.\n",
      "You can set `force_col_wise=true` to remove the overhead.\n",
      "[LightGBM] [Info] Total Bins 5178\n",
      "[LightGBM] [Info] Number of data points in the train set: 33846, number of used features: 35\n",
      "[LightGBM] [Warning] Using self-defined objective function\n",
      "Training until validation scores don't improve for 100 rounds\n",
      "[100]\ttraining's WCE_alpha0.76: 0.165374\tvalid_1's WCE_alpha0.76: 0.274114\n",
      "Did not meet early stopping. Best iteration is:\n",
      "[100]\ttraining's WCE_alpha0.76: 0.165374\tvalid_1's WCE_alpha0.76: 0.274114\n",
      "Time:  2.781[s]\n",
      "--------------------------------------------------------------------------------\n",
      "START fold 4\n",
      "[LightGBM] [Warning] Using self-defined objective function\n",
      "[LightGBM] [Warning] Auto-choosing col-wise multi-threading, the overhead of testing was 0.010422 seconds.\n",
      "You can set `force_col_wise=true` to remove the overhead.\n",
      "[LightGBM] [Info] Total Bins 5174\n",
      "[LightGBM] [Info] Number of data points in the train set: 33846, number of used features: 35\n",
      "[LightGBM] [Warning] Using self-defined objective function\n",
      "Training until validation scores don't improve for 100 rounds\n",
      "[100]\ttraining's WCE_alpha0.76: 0.16798\tvalid_1's WCE_alpha0.76: 0.264143\n",
      "Did not meet early stopping. Best iteration is:\n",
      "[100]\ttraining's WCE_alpha0.76: 0.16798\tvalid_1's WCE_alpha0.76: 0.264143\n",
      "Time:  2.987[s]\n",
      "--------------------------------------------------------------------------------\n",
      "START fold 5\n",
      "[LightGBM] [Warning] Using self-defined objective function\n",
      "[LightGBM] [Warning] Auto-choosing col-wise multi-threading, the overhead of testing was 0.010651 seconds.\n",
      "You can set `force_col_wise=true` to remove the overhead.\n",
      "[LightGBM] [Info] Total Bins 5177\n",
      "[LightGBM] [Info] Number of data points in the train set: 33846, number of used features: 35\n",
      "[LightGBM] [Warning] Using self-defined objective function\n",
      "Training until validation scores don't improve for 100 rounds\n",
      "[100]\ttraining's WCE_alpha0.76: 0.167809\tvalid_1's WCE_alpha0.76: 0.266712\n",
      "Did not meet early stopping. Best iteration is:\n",
      "[100]\ttraining's WCE_alpha0.76: 0.167809\tvalid_1's WCE_alpha0.76: 0.266712\n",
      "Time:  2.537[s]\n",
      "================================================================================\n",
      "FINISH!\n",
      "--------------------------------------------------------------------------------\n",
      "START fold 1\n",
      "[LightGBM] [Warning] Using self-defined objective function\n",
      "[LightGBM] [Warning] Auto-choosing col-wise multi-threading, the overhead of testing was 0.008664 seconds.\n",
      "You can set `force_col_wise=true` to remove the overhead.\n",
      "[LightGBM] [Info] Total Bins 5177\n",
      "[LightGBM] [Info] Number of data points in the train set: 33845, number of used features: 35\n",
      "[LightGBM] [Warning] Using self-defined objective function\n",
      "Training until validation scores don't improve for 100 rounds\n",
      "[100]\ttraining's WCE_alpha0.81: 0.175341\tvalid_1's WCE_alpha0.81: 0.261899\n",
      "Did not meet early stopping. Best iteration is:\n",
      "[100]\ttraining's WCE_alpha0.81: 0.175341\tvalid_1's WCE_alpha0.81: 0.261899\n",
      "Time:  2.375[s]\n",
      "--------------------------------------------------------------------------------\n",
      "START fold 2\n"
     ]
    },
    {
     "name": "stderr",
     "output_type": "stream",
     "text": [
      "/Users/taichi/anaconda3/envs/kaggle/lib/python3.9/site-packages/lightgbm/basic.py:859: UserWarning: Converting data to scipy sparse matrix.\n",
      "  _log_warning('Converting data to scipy sparse matrix.')\n"
     ]
    },
    {
     "name": "stdout",
     "output_type": "stream",
     "text": [
      "[LightGBM] [Warning] Using self-defined objective function\n",
      "[LightGBM] [Warning] Auto-choosing col-wise multi-threading, the overhead of testing was 0.009352 seconds.\n",
      "You can set `force_col_wise=true` to remove the overhead.\n",
      "[LightGBM] [Info] Total Bins 5184\n",
      "[LightGBM] [Info] Number of data points in the train set: 33845, number of used features: 35\n",
      "[LightGBM] [Warning] Using self-defined objective function\n",
      "Training until validation scores don't improve for 100 rounds\n",
      "[100]\ttraining's WCE_alpha0.81: 0.172779\tvalid_1's WCE_alpha0.81: 0.264441\n",
      "Did not meet early stopping. Best iteration is:\n",
      "[100]\ttraining's WCE_alpha0.81: 0.172779\tvalid_1's WCE_alpha0.81: 0.264441\n",
      "Time:  3.774[s]\n",
      "--------------------------------------------------------------------------------\n",
      "START fold 3\n",
      "[LightGBM] [Warning] Using self-defined objective function\n",
      "[LightGBM] [Warning] Auto-choosing col-wise multi-threading, the overhead of testing was 0.010324 seconds.\n",
      "You can set `force_col_wise=true` to remove the overhead.\n",
      "[LightGBM] [Info] Total Bins 5178\n",
      "[LightGBM] [Info] Number of data points in the train set: 33846, number of used features: 35\n",
      "[LightGBM] [Warning] Using self-defined objective function\n",
      "Training until validation scores don't improve for 100 rounds\n",
      "[100]\ttraining's WCE_alpha0.81: 0.168507\tvalid_1's WCE_alpha0.81: 0.281171\n",
      "Did not meet early stopping. Best iteration is:\n",
      "[100]\ttraining's WCE_alpha0.81: 0.168507\tvalid_1's WCE_alpha0.81: 0.281171\n",
      "Time:  2.689[s]\n",
      "--------------------------------------------------------------------------------\n",
      "START fold 4\n",
      "[LightGBM] [Warning] Using self-defined objective function\n",
      "[LightGBM] [Warning] Auto-choosing row-wise multi-threading, the overhead of testing was 0.005776 seconds.\n",
      "You can set `force_row_wise=true` to remove the overhead.\n",
      "And if memory is not enough, you can set `force_col_wise=true`.\n",
      "[LightGBM] [Info] Total Bins 5174\n",
      "[LightGBM] [Info] Number of data points in the train set: 33846, number of used features: 35\n",
      "[LightGBM] [Warning] Using self-defined objective function\n",
      "Training until validation scores don't improve for 100 rounds\n",
      "[100]\ttraining's WCE_alpha0.81: 0.172976\tvalid_1's WCE_alpha0.81: 0.268854\n",
      "Did not meet early stopping. Best iteration is:\n",
      "[100]\ttraining's WCE_alpha0.81: 0.172976\tvalid_1's WCE_alpha0.81: 0.268854\n",
      "Time:  2.631[s]\n",
      "--------------------------------------------------------------------------------\n",
      "START fold 5\n",
      "[LightGBM] [Warning] Using self-defined objective function\n",
      "[LightGBM] [Warning] Auto-choosing col-wise multi-threading, the overhead of testing was 0.009444 seconds.\n",
      "You can set `force_col_wise=true` to remove the overhead.\n",
      "[LightGBM] [Info] Total Bins 5177\n",
      "[LightGBM] [Info] Number of data points in the train set: 33846, number of used features: 35\n",
      "[LightGBM] [Warning] Using self-defined objective function\n",
      "Training until validation scores don't improve for 100 rounds\n",
      "[100]\ttraining's WCE_alpha0.81: 0.168882\tvalid_1's WCE_alpha0.81: 0.273547\n",
      "Did not meet early stopping. Best iteration is:\n",
      "[100]\ttraining's WCE_alpha0.81: 0.168882\tvalid_1's WCE_alpha0.81: 0.273547\n",
      "Time:  2.946[s]\n",
      "================================================================================\n",
      "FINISH!\n",
      "--------------------------------------------------------------------------------\n",
      "START fold 1\n",
      "[LightGBM] [Warning] Using self-defined objective function\n",
      "[LightGBM] [Warning] Auto-choosing row-wise multi-threading, the overhead of testing was 0.008881 seconds.\n",
      "You can set `force_row_wise=true` to remove the overhead.\n",
      "And if memory is not enough, you can set `force_col_wise=true`.\n",
      "[LightGBM] [Info] Total Bins 5177\n",
      "[LightGBM] [Info] Number of data points in the train set: 33845, number of used features: 35\n",
      "[LightGBM] [Warning] Using self-defined objective function\n",
      "Training until validation scores don't improve for 100 rounds\n",
      "[100]\ttraining's WCE_alpha0.86: 0.178338\tvalid_1's WCE_alpha0.86: 0.268844\n",
      "Did not meet early stopping. Best iteration is:\n",
      "[100]\ttraining's WCE_alpha0.86: 0.178338\tvalid_1's WCE_alpha0.86: 0.268844\n",
      "Time:  3.241[s]\n",
      "--------------------------------------------------------------------------------\n",
      "START fold 2\n"
     ]
    },
    {
     "name": "stderr",
     "output_type": "stream",
     "text": [
      "/Users/taichi/anaconda3/envs/kaggle/lib/python3.9/site-packages/lightgbm/basic.py:859: UserWarning: Converting data to scipy sparse matrix.\n",
      "  _log_warning('Converting data to scipy sparse matrix.')\n"
     ]
    },
    {
     "name": "stdout",
     "output_type": "stream",
     "text": [
      "[LightGBM] [Warning] Using self-defined objective function\n",
      "[LightGBM] [Warning] Auto-choosing row-wise multi-threading, the overhead of testing was 0.010451 seconds.\n",
      "You can set `force_row_wise=true` to remove the overhead.\n",
      "And if memory is not enough, you can set `force_col_wise=true`.\n",
      "[LightGBM] [Info] Total Bins 5184\n",
      "[LightGBM] [Info] Number of data points in the train set: 33845, number of used features: 35\n",
      "[LightGBM] [Warning] Using self-defined objective function\n",
      "Training until validation scores don't improve for 100 rounds\n",
      "[100]\ttraining's WCE_alpha0.86: 0.177458\tvalid_1's WCE_alpha0.86: 0.267395\n",
      "Did not meet early stopping. Best iteration is:\n",
      "[100]\ttraining's WCE_alpha0.86: 0.177458\tvalid_1's WCE_alpha0.86: 0.267395\n",
      "Time:  2.675[s]\n",
      "--------------------------------------------------------------------------------\n",
      "START fold 3\n",
      "[LightGBM] [Warning] Using self-defined objective function\n",
      "[LightGBM] [Warning] Auto-choosing col-wise multi-threading, the overhead of testing was 0.009368 seconds.\n",
      "You can set `force_col_wise=true` to remove the overhead.\n",
      "[LightGBM] [Info] Total Bins 5178\n",
      "[LightGBM] [Info] Number of data points in the train set: 33846, number of used features: 35\n",
      "[LightGBM] [Warning] Using self-defined objective function\n",
      "Training until validation scores don't improve for 100 rounds\n",
      "[100]\ttraining's WCE_alpha0.86: 0.173194\tvalid_1's WCE_alpha0.86: 0.287806\n",
      "Did not meet early stopping. Best iteration is:\n",
      "[100]\ttraining's WCE_alpha0.86: 0.173194\tvalid_1's WCE_alpha0.86: 0.287806\n",
      "Time:  2.693[s]\n",
      "--------------------------------------------------------------------------------\n",
      "START fold 4\n",
      "[LightGBM] [Warning] Using self-defined objective function\n",
      "[LightGBM] [Warning] Auto-choosing col-wise multi-threading, the overhead of testing was 0.009817 seconds.\n",
      "You can set `force_col_wise=true` to remove the overhead.\n",
      "[LightGBM] [Info] Total Bins 5174\n",
      "[LightGBM] [Info] Number of data points in the train set: 33846, number of used features: 35\n",
      "[LightGBM] [Warning] Using self-defined objective function\n",
      "Training until validation scores don't improve for 100 rounds\n",
      "[100]\ttraining's WCE_alpha0.86: 0.174783\tvalid_1's WCE_alpha0.86: 0.27281\n",
      "Did not meet early stopping. Best iteration is:\n",
      "[100]\ttraining's WCE_alpha0.86: 0.174783\tvalid_1's WCE_alpha0.86: 0.27281\n",
      "Time:  3.427[s]\n",
      "--------------------------------------------------------------------------------\n",
      "START fold 5\n",
      "[LightGBM] [Warning] Using self-defined objective function\n",
      "[LightGBM] [Warning] Auto-choosing col-wise multi-threading, the overhead of testing was 0.008883 seconds.\n",
      "You can set `force_col_wise=true` to remove the overhead.\n",
      "[LightGBM] [Info] Total Bins 5177\n",
      "[LightGBM] [Info] Number of data points in the train set: 33846, number of used features: 35\n",
      "[LightGBM] [Warning] Using self-defined objective function\n",
      "Training until validation scores don't improve for 100 rounds\n",
      "[100]\ttraining's WCE_alpha0.86: 0.175003\tvalid_1's WCE_alpha0.86: 0.28051\n",
      "Did not meet early stopping. Best iteration is:\n",
      "[100]\ttraining's WCE_alpha0.86: 0.175003\tvalid_1's WCE_alpha0.86: 0.28051\n",
      "Time:  2.539[s]\n",
      "================================================================================\n",
      "FINISH!\n",
      "--------------------------------------------------------------------------------\n",
      "START fold 1\n",
      "[LightGBM] [Warning] Using self-defined objective function\n",
      "[LightGBM] [Warning] Auto-choosing col-wise multi-threading, the overhead of testing was 0.009120 seconds.\n",
      "You can set `force_col_wise=true` to remove the overhead.\n",
      "[LightGBM] [Info] Total Bins 5177\n",
      "[LightGBM] [Info] Number of data points in the train set: 33845, number of used features: 35\n",
      "[LightGBM] [Warning] Using self-defined objective function\n",
      "Training until validation scores don't improve for 100 rounds\n",
      "[100]\ttraining's WCE_alpha0.91: 0.179246\tvalid_1's WCE_alpha0.91: 0.27262\n",
      "Did not meet early stopping. Best iteration is:\n",
      "[100]\ttraining's WCE_alpha0.91: 0.179246\tvalid_1's WCE_alpha0.91: 0.27262\n",
      "Time:  3.153[s]\n",
      "--------------------------------------------------------------------------------\n",
      "START fold 2\n"
     ]
    },
    {
     "name": "stderr",
     "output_type": "stream",
     "text": [
      "/Users/taichi/anaconda3/envs/kaggle/lib/python3.9/site-packages/lightgbm/basic.py:859: UserWarning: Converting data to scipy sparse matrix.\n",
      "  _log_warning('Converting data to scipy sparse matrix.')\n"
     ]
    },
    {
     "name": "stdout",
     "output_type": "stream",
     "text": [
      "[LightGBM] [Warning] Using self-defined objective function\n",
      "[LightGBM] [Warning] Auto-choosing col-wise multi-threading, the overhead of testing was 0.010626 seconds.\n",
      "You can set `force_col_wise=true` to remove the overhead.\n",
      "[LightGBM] [Info] Total Bins 5184\n",
      "[LightGBM] [Info] Number of data points in the train set: 33845, number of used features: 35\n",
      "[LightGBM] [Warning] Using self-defined objective function\n",
      "Training until validation scores don't improve for 100 rounds\n",
      "[100]\ttraining's WCE_alpha0.91: 0.182302\tvalid_1's WCE_alpha0.91: 0.273907\n",
      "Did not meet early stopping. Best iteration is:\n",
      "[100]\ttraining's WCE_alpha0.91: 0.182302\tvalid_1's WCE_alpha0.91: 0.273907\n",
      "Time:  3.094[s]\n",
      "--------------------------------------------------------------------------------\n",
      "START fold 3\n",
      "[LightGBM] [Warning] Using self-defined objective function\n",
      "[LightGBM] [Warning] Auto-choosing col-wise multi-threading, the overhead of testing was 0.015332 seconds.\n",
      "You can set `force_col_wise=true` to remove the overhead.\n",
      "[LightGBM] [Info] Total Bins 5178\n",
      "[LightGBM] [Info] Number of data points in the train set: 33846, number of used features: 35\n",
      "[LightGBM] [Warning] Using self-defined objective function\n",
      "Training until validation scores don't improve for 100 rounds\n",
      "[100]\ttraining's WCE_alpha0.91: 0.176429\tvalid_1's WCE_alpha0.91: 0.293356\n",
      "Did not meet early stopping. Best iteration is:\n",
      "[100]\ttraining's WCE_alpha0.91: 0.176429\tvalid_1's WCE_alpha0.91: 0.293356\n",
      "Time:  3.430[s]\n",
      "--------------------------------------------------------------------------------\n",
      "START fold 4\n",
      "[LightGBM] [Warning] Using self-defined objective function\n",
      "[LightGBM] [Warning] Auto-choosing col-wise multi-threading, the overhead of testing was 0.010089 seconds.\n",
      "You can set `force_col_wise=true` to remove the overhead.\n",
      "[LightGBM] [Info] Total Bins 5174\n",
      "[LightGBM] [Info] Number of data points in the train set: 33846, number of used features: 35\n",
      "[LightGBM] [Warning] Using self-defined objective function\n",
      "Training until validation scores don't improve for 100 rounds\n",
      "[100]\ttraining's WCE_alpha0.91: 0.181162\tvalid_1's WCE_alpha0.91: 0.280079\n",
      "Did not meet early stopping. Best iteration is:\n",
      "[100]\ttraining's WCE_alpha0.91: 0.181162\tvalid_1's WCE_alpha0.91: 0.280079\n",
      "Time:  3.093[s]\n",
      "--------------------------------------------------------------------------------\n",
      "START fold 5\n",
      "[LightGBM] [Warning] Using self-defined objective function\n",
      "[LightGBM] [Warning] Auto-choosing col-wise multi-threading, the overhead of testing was 0.009564 seconds.\n",
      "You can set `force_col_wise=true` to remove the overhead.\n",
      "[LightGBM] [Info] Total Bins 5177\n",
      "[LightGBM] [Info] Number of data points in the train set: 33846, number of used features: 35\n",
      "[LightGBM] [Warning] Using self-defined objective function\n",
      "Training until validation scores don't improve for 100 rounds\n",
      "[100]\ttraining's WCE_alpha0.91: 0.177637\tvalid_1's WCE_alpha0.91: 0.282157\n",
      "Did not meet early stopping. Best iteration is:\n",
      "[100]\ttraining's WCE_alpha0.91: 0.177637\tvalid_1's WCE_alpha0.91: 0.282157\n",
      "Time:  2.555[s]\n",
      "================================================================================\n",
      "FINISH!\n",
      "--------------------------------------------------------------------------------\n",
      "START fold 1\n",
      "[LightGBM] [Warning] Using self-defined objective function\n",
      "[LightGBM] [Warning] Auto-choosing col-wise multi-threading, the overhead of testing was 0.010233 seconds.\n",
      "You can set `force_col_wise=true` to remove the overhead.\n",
      "[LightGBM] [Info] Total Bins 5177\n",
      "[LightGBM] [Info] Number of data points in the train set: 33845, number of used features: 35\n",
      "[LightGBM] [Warning] Using self-defined objective function\n",
      "Training until validation scores don't improve for 100 rounds\n",
      "[100]\ttraining's WCE_alpha0.96: 0.185786\tvalid_1's WCE_alpha0.96: 0.277872\n",
      "Did not meet early stopping. Best iteration is:\n",
      "[100]\ttraining's WCE_alpha0.96: 0.185786\tvalid_1's WCE_alpha0.96: 0.277872\n",
      "Time:  3.794[s]\n",
      "--------------------------------------------------------------------------------\n",
      "START fold 2\n"
     ]
    },
    {
     "name": "stderr",
     "output_type": "stream",
     "text": [
      "/Users/taichi/anaconda3/envs/kaggle/lib/python3.9/site-packages/lightgbm/basic.py:859: UserWarning: Converting data to scipy sparse matrix.\n",
      "  _log_warning('Converting data to scipy sparse matrix.')\n"
     ]
    },
    {
     "name": "stdout",
     "output_type": "stream",
     "text": [
      "[LightGBM] [Warning] Using self-defined objective function\n",
      "[LightGBM] [Warning] Auto-choosing row-wise multi-threading, the overhead of testing was 0.005807 seconds.\n",
      "You can set `force_row_wise=true` to remove the overhead.\n",
      "And if memory is not enough, you can set `force_col_wise=true`.\n",
      "[LightGBM] [Info] Total Bins 5184\n",
      "[LightGBM] [Info] Number of data points in the train set: 33845, number of used features: 35\n",
      "[LightGBM] [Warning] Using self-defined objective function\n",
      "Training until validation scores don't improve for 100 rounds\n",
      "[100]\ttraining's WCE_alpha0.96: 0.185781\tvalid_1's WCE_alpha0.96: 0.279757\n",
      "Did not meet early stopping. Best iteration is:\n",
      "[100]\ttraining's WCE_alpha0.96: 0.185781\tvalid_1's WCE_alpha0.96: 0.279757\n",
      "Time:  2.500[s]\n",
      "--------------------------------------------------------------------------------\n",
      "START fold 3\n",
      "[LightGBM] [Warning] Using self-defined objective function\n",
      "[LightGBM] [Warning] Auto-choosing col-wise multi-threading, the overhead of testing was 0.008735 seconds.\n",
      "You can set `force_col_wise=true` to remove the overhead.\n",
      "[LightGBM] [Info] Total Bins 5178\n",
      "[LightGBM] [Info] Number of data points in the train set: 33846, number of used features: 35\n",
      "[LightGBM] [Warning] Using self-defined objective function\n",
      "Training until validation scores don't improve for 100 rounds\n",
      "[100]\ttraining's WCE_alpha0.96: 0.178521\tvalid_1's WCE_alpha0.96: 0.295912\n",
      "Did not meet early stopping. Best iteration is:\n",
      "[100]\ttraining's WCE_alpha0.96: 0.178521\tvalid_1's WCE_alpha0.96: 0.295912\n",
      "Time:  2.655[s]\n",
      "--------------------------------------------------------------------------------\n",
      "START fold 4\n",
      "[LightGBM] [Warning] Using self-defined objective function\n",
      "[LightGBM] [Warning] Auto-choosing col-wise multi-threading, the overhead of testing was 0.008811 seconds.\n",
      "You can set `force_col_wise=true` to remove the overhead.\n",
      "[LightGBM] [Info] Total Bins 5174\n",
      "[LightGBM] [Info] Number of data points in the train set: 33846, number of used features: 35\n",
      "[LightGBM] [Warning] Using self-defined objective function\n",
      "Training until validation scores don't improve for 100 rounds\n",
      "[100]\ttraining's WCE_alpha0.96: 0.183474\tvalid_1's WCE_alpha0.96: 0.286199\n",
      "Did not meet early stopping. Best iteration is:\n",
      "[100]\ttraining's WCE_alpha0.96: 0.183474\tvalid_1's WCE_alpha0.96: 0.286199\n",
      "Time:  2.595[s]\n",
      "--------------------------------------------------------------------------------\n",
      "START fold 5\n",
      "[LightGBM] [Warning] Using self-defined objective function\n",
      "[LightGBM] [Warning] Auto-choosing row-wise multi-threading, the overhead of testing was 0.009304 seconds.\n",
      "You can set `force_row_wise=true` to remove the overhead.\n",
      "And if memory is not enough, you can set `force_col_wise=true`.\n",
      "[LightGBM] [Info] Total Bins 5177\n",
      "[LightGBM] [Info] Number of data points in the train set: 33846, number of used features: 35\n",
      "[LightGBM] [Warning] Using self-defined objective function\n",
      "Training until validation scores don't improve for 100 rounds\n",
      "[100]\ttraining's WCE_alpha0.96: 0.181626\tvalid_1's WCE_alpha0.96: 0.286683\n",
      "Did not meet early stopping. Best iteration is:\n",
      "[100]\ttraining's WCE_alpha0.96: 0.181626\tvalid_1's WCE_alpha0.96: 0.286683\n",
      "Time:  2.729[s]\n",
      "================================================================================\n",
      "FINISH!\n"
     ]
    }
   ],
   "source": [
    "lgb_params = {\n",
    "    'objective': 'binary',\n",
    "    'metric': 'custom',\n",
    "    'boosting_type': 'gbdt',\n",
    "    'seed': cfg.Params.seed,\n",
    "    'learning_rate': cfg.Params.learning_rate,\n",
    "}\n",
    "\n",
    "alpha_li = [i / 100 for i in range(1, 100, 5)]\n",
    "\n",
    "threshold = 0.5\n",
    "results_df = pl.DataFrame([\n",
    "        pl.Series(\"alpha\", [], dtype=pl.Float64),\n",
    "        pl.Series(\"score\", [], dtype=pl.Float64)\n",
    "])\n",
    "for alpha in alpha_li:\n",
    "    oof, models = training.fit_lgbm_wcel(train, lgb_params=lgb_params, alpha=alpha)\n",
    "    oof_truth = train[cfg.Cols.target].to_numpy()\n",
    "    oof_hat = predict.predict_class(oof, threshold=threshold)\n",
    "    cv_score = metrics.macro_f1_score(oof_truth, oof_hat)\n",
    "    results_df = results_df.vstack(pl.DataFrame({\"alpha\": [alpha], \"score\": [cv_score]}))"
   ],
   "metadata": {
    "collapsed": false,
    "ExecuteTime": {
     "end_time": "2024-01-27T06:20:11.349476Z",
     "start_time": "2024-01-27T06:15:11.433213Z"
    }
   }
  },
  {
   "cell_type": "code",
   "outputs": [
    {
     "data": {
      "text/plain": "shape: (20, 2)\n┌───────┬──────────┐\n│ alpha ┆ score    │\n│ ---   ┆ ---      │\n│ f64   ┆ f64      │\n╞═══════╪══════════╡\n│ 0.01  ┆ 0.448341 │\n│ 0.06  ┆ 0.562917 │\n│ 0.11  ┆ 0.621417 │\n│ 0.16  ┆ 0.649758 │\n│ …     ┆ …        │\n│ 0.81  ┆ 0.647089 │\n│ 0.86  ┆ 0.645399 │\n│ 0.91  ┆ 0.641005 │\n│ 0.96  ┆ 0.639899 │\n└───────┴──────────┘",
      "text/html": "<div><style>\n.dataframe > thead > tr,\n.dataframe > tbody > tr {\n  text-align: right;\n  white-space: pre-wrap;\n}\n</style>\n<small>shape: (20, 2)</small><table border=\"1\" class=\"dataframe\"><thead><tr><th>alpha</th><th>score</th></tr><tr><td>f64</td><td>f64</td></tr></thead><tbody><tr><td>0.01</td><td>0.448341</td></tr><tr><td>0.06</td><td>0.562917</td></tr><tr><td>0.11</td><td>0.621417</td></tr><tr><td>0.16</td><td>0.649758</td></tr><tr><td>0.21</td><td>0.666399</td></tr><tr><td>0.26</td><td>0.668416</td></tr><tr><td>0.31</td><td>0.67046</td></tr><tr><td>0.36</td><td>0.671161</td></tr><tr><td>0.41</td><td>0.670079</td></tr><tr><td>0.46</td><td>0.668194</td></tr><tr><td>0.51</td><td>0.664074</td></tr><tr><td>0.56</td><td>0.660921</td></tr><tr><td>0.61</td><td>0.659275</td></tr><tr><td>0.66</td><td>0.652441</td></tr><tr><td>0.71</td><td>0.654696</td></tr><tr><td>0.76</td><td>0.648959</td></tr><tr><td>0.81</td><td>0.647089</td></tr><tr><td>0.86</td><td>0.645399</td></tr><tr><td>0.91</td><td>0.641005</td></tr><tr><td>0.96</td><td>0.639899</td></tr></tbody></table></div>"
     },
     "execution_count": 10,
     "metadata": {},
     "output_type": "execute_result"
    }
   ],
   "source": [
    "results_df"
   ],
   "metadata": {
    "collapsed": false,
    "ExecuteTime": {
     "end_time": "2024-01-27T06:20:33.493034Z",
     "start_time": "2024-01-27T06:20:33.327472Z"
    }
   },
   "execution_count": 10
  },
  {
   "cell_type": "markdown",
   "source": [
    "alpha = 0.35"
   ],
   "metadata": {
    "collapsed": false
   }
  },
  {
   "cell_type": "code",
   "outputs": [
    {
     "name": "stdout",
     "output_type": "stream",
     "text": [
      "--------------------------------------------------------------------------------\n",
      "START fold 1\n",
      "[LightGBM] [Warning] Using self-defined objective function\n",
      "[LightGBM] [Warning] Auto-choosing col-wise multi-threading, the overhead of testing was 0.014226 seconds.\n",
      "You can set `force_col_wise=true` to remove the overhead.\n",
      "[LightGBM] [Info] Total Bins 5177\n",
      "[LightGBM] [Info] Number of data points in the train set: 33845, number of used features: 35\n",
      "[LightGBM] [Warning] Using self-defined objective function\n",
      "Training until validation scores don't improve for 100 rounds\n",
      "[100]\ttraining's WCE_alpha0.35: 0.125952\tvalid_1's WCE_alpha0.35: 0.195645\n",
      "Did not meet early stopping. Best iteration is:\n",
      "[100]\ttraining's WCE_alpha0.35: 0.125952\tvalid_1's WCE_alpha0.35: 0.195645\n",
      "Time:  4.484[s]\n",
      "--------------------------------------------------------------------------------\n",
      "START fold 2\n"
     ]
    },
    {
     "name": "stderr",
     "output_type": "stream",
     "text": [
      "/Users/taichi/anaconda3/envs/kaggle/lib/python3.9/site-packages/lightgbm/basic.py:859: UserWarning: Converting data to scipy sparse matrix.\n",
      "  _log_warning('Converting data to scipy sparse matrix.')\n"
     ]
    },
    {
     "name": "stdout",
     "output_type": "stream",
     "text": [
      "[LightGBM] [Warning] Using self-defined objective function\n",
      "[LightGBM] [Warning] Auto-choosing col-wise multi-threading, the overhead of testing was 0.014397 seconds.\n",
      "You can set `force_col_wise=true` to remove the overhead.\n",
      "[LightGBM] [Info] Total Bins 5184\n",
      "[LightGBM] [Info] Number of data points in the train set: 33845, number of used features: 35\n",
      "[LightGBM] [Warning] Using self-defined objective function\n",
      "Training until validation scores don't improve for 100 rounds\n",
      "[100]\ttraining's WCE_alpha0.35: 0.124803\tvalid_1's WCE_alpha0.35: 0.194734\n",
      "Did not meet early stopping. Best iteration is:\n",
      "[100]\ttraining's WCE_alpha0.35: 0.124803\tvalid_1's WCE_alpha0.35: 0.194734\n",
      "Time:  3.814[s]\n",
      "--------------------------------------------------------------------------------\n",
      "START fold 3\n",
      "[LightGBM] [Warning] Using self-defined objective function\n",
      "[LightGBM] [Warning] Auto-choosing col-wise multi-threading, the overhead of testing was 0.010591 seconds.\n",
      "You can set `force_col_wise=true` to remove the overhead.\n",
      "[LightGBM] [Info] Total Bins 5178\n",
      "[LightGBM] [Info] Number of data points in the train set: 33846, number of used features: 35\n",
      "[LightGBM] [Warning] Using self-defined objective function\n",
      "Training until validation scores don't improve for 100 rounds\n",
      "[100]\ttraining's WCE_alpha0.35: 0.12195\tvalid_1's WCE_alpha0.35: 0.208533\n",
      "Did not meet early stopping. Best iteration is:\n",
      "[100]\ttraining's WCE_alpha0.35: 0.12195\tvalid_1's WCE_alpha0.35: 0.208533\n",
      "Time:  5.092[s]\n",
      "--------------------------------------------------------------------------------\n",
      "START fold 4\n",
      "[LightGBM] [Warning] Using self-defined objective function\n",
      "[LightGBM] [Warning] Auto-choosing row-wise multi-threading, the overhead of testing was 0.025448 seconds.\n",
      "You can set `force_row_wise=true` to remove the overhead.\n",
      "And if memory is not enough, you can set `force_col_wise=true`.\n",
      "[LightGBM] [Info] Total Bins 5174\n",
      "[LightGBM] [Info] Number of data points in the train set: 33846, number of used features: 35\n",
      "[LightGBM] [Warning] Using self-defined objective function\n",
      "Training until validation scores don't improve for 100 rounds\n",
      "[100]\ttraining's WCE_alpha0.35: 0.124512\tvalid_1's WCE_alpha0.35: 0.201776\n",
      "Did not meet early stopping. Best iteration is:\n",
      "[100]\ttraining's WCE_alpha0.35: 0.124512\tvalid_1's WCE_alpha0.35: 0.201776\n",
      "Time:  4.508[s]\n",
      "--------------------------------------------------------------------------------\n",
      "START fold 5\n",
      "[LightGBM] [Warning] Using self-defined objective function\n",
      "[LightGBM] [Warning] Auto-choosing col-wise multi-threading, the overhead of testing was 0.011261 seconds.\n",
      "You can set `force_col_wise=true` to remove the overhead.\n",
      "[LightGBM] [Info] Total Bins 5177\n",
      "[LightGBM] [Info] Number of data points in the train set: 33846, number of used features: 35\n",
      "[LightGBM] [Warning] Using self-defined objective function\n",
      "Training until validation scores don't improve for 100 rounds\n",
      "[100]\ttraining's WCE_alpha0.35: 0.123649\tvalid_1's WCE_alpha0.35: 0.207038\n",
      "Did not meet early stopping. Best iteration is:\n",
      "[100]\ttraining's WCE_alpha0.35: 0.123649\tvalid_1's WCE_alpha0.35: 0.207038\n",
      "Time:  3.630[s]\n",
      "================================================================================\n",
      "FINISH!\n"
     ]
    }
   ],
   "source": [
    "alpha = 0.35\n",
    "oof, models = training.fit_lgbm_wcel(train, lgb_params=lgb_params, alpha=alpha)"
   ],
   "metadata": {
    "collapsed": false,
    "ExecuteTime": {
     "end_time": "2024-01-27T06:21:57.763865Z",
     "start_time": "2024-01-27T06:21:35.807394Z"
    }
   },
   "execution_count": 11
  },
  {
   "cell_type": "markdown",
   "metadata": {},
   "source": [
    "# Predict"
   ]
  },
  {
   "cell_type": "code",
   "outputs": [],
   "source": [
    "threshold = 0.5"
   ],
   "metadata": {
    "collapsed": false,
    "ExecuteTime": {
     "end_time": "2024-01-27T06:23:53.037533Z",
     "start_time": "2024-01-27T06:23:52.986290Z"
    }
   },
   "execution_count": 32
  },
  {
   "cell_type": "code",
   "outputs": [],
   "source": [
    "pred_prob = predict.predict_probability_sigmoid(models, test)\n",
    "pred_class = predict.predict_class(pred_prob, threshold=threshold)"
   ],
   "metadata": {
    "collapsed": false,
    "ExecuteTime": {
     "end_time": "2024-01-27T06:23:54.456254Z",
     "start_time": "2024-01-27T06:23:53.536619Z"
    }
   },
   "execution_count": 33
  },
  {
   "cell_type": "markdown",
   "source": [
    "## CV score"
   ],
   "metadata": {
    "collapsed": false
   }
  },
  {
   "cell_type": "code",
   "outputs": [
    {
     "name": "stdout",
     "output_type": "stream",
     "text": [
      "0.6686743140165743\n"
     ]
    }
   ],
   "source": [
    "oof_truth = train[cfg.Cols.target].to_numpy()\n",
    "oof_hat = predict.predict_class(oof, threshold=threshold)\n",
    "cv_score = metrics.macro_f1_score(oof_truth, oof_hat)\n",
    "print(cv_score)"
   ],
   "metadata": {
    "collapsed": false,
    "ExecuteTime": {
     "end_time": "2024-01-27T06:23:55.555180Z",
     "start_time": "2024-01-27T06:23:55.519150Z"
    }
   },
   "execution_count": 34
  },
  {
   "cell_type": "markdown",
   "source": [
    "## Check result"
   ],
   "metadata": {
    "collapsed": false
   }
  },
  {
   "cell_type": "markdown",
   "source": [
    "### oofとtestの予測値分布を比較してバグを確認"
   ],
   "metadata": {
    "collapsed": false
   }
  },
  {
   "cell_type": "code",
   "outputs": [
    {
     "data": {
      "text/plain": "<Figure size 640x480 with 1 Axes>",
      "image/png": "[encoded data removed]"
     },
     "metadata": {},
     "output_type": "display_data"
    }
   ],
   "source": [
    "sns.histplot(oof)\n",
    "plt.xlim(0.0, 1.0)\n",
    "plt.show()"
   ],
   "metadata": {
    "collapsed": false,
    "ExecuteTime": {
     "end_time": "2024-01-27T06:22:29.215824Z",
     "start_time": "2024-01-27T06:22:28.409657Z"
    }
   },
   "execution_count": 15
  },
  {
   "cell_type": "code",
   "outputs": [
    {
     "data": {
      "text/plain": "<Figure size 640x480 with 1 Axes>",
      "image/png": "[encoded data removed]"
     },
     "metadata": {},
     "output_type": "display_data"
    }
   ],
   "source": [
    "sns.histplot(pred_prob)\n",
    "plt.xlim(0.0, 1.0)\n",
    "plt.show()"
   ],
   "metadata": {
    "collapsed": false,
    "ExecuteTime": {
     "end_time": "2024-01-27T06:22:31.270144Z",
     "start_time": "2024-01-27T06:22:30.590094Z"
    }
   },
   "execution_count": 16
  },
  {
   "cell_type": "markdown",
   "source": [
    "### 予測値の1の割合を確認"
   ],
   "metadata": {
    "collapsed": false
   }
  },
  {
   "cell_type": "code",
   "outputs": [
    {
     "name": "stdout",
     "output_type": "stream",
     "text": [
      "0.9347641108064668\n"
     ]
    }
   ],
   "source": [
    "print(pred_class.sum() / len(pred_class))"
   ],
   "metadata": {
    "collapsed": false,
    "ExecuteTime": {
     "end_time": "2024-01-27T06:23:15.616820Z",
     "start_time": "2024-01-27T06:23:15.568974Z"
    }
   },
   "execution_count": 25
  },
  {
   "cell_type": "markdown",
   "source": [
    "### oofにおける混同行列を確認"
   ],
   "metadata": {
    "collapsed": false
   }
  },
  {
   "cell_type": "code",
   "outputs": [
    {
     "name": "stdout",
     "output_type": "stream",
     "text": [
      "True Negative Rate (0の正解率): 0.33\n",
      "True Positive Rate (1の正解率): 0.96\n"
     ]
    },
    {
     "data": {
      "text/plain": "<Figure size 640x480 with 2 Axes>",
      "image/png": "[encoded data removed]"
     },
     "metadata": {},
     "output_type": "display_data"
    }
   ],
   "source": [
    "metrics.show_confusion_matrix(oof_truth, oof_hat)"
   ],
   "metadata": {
    "collapsed": false,
    "ExecuteTime": {
     "end_time": "2024-01-27T06:24:50.061661Z",
     "start_time": "2024-01-27T06:24:49.558349Z"
    }
   },
   "execution_count": 35
  },
  {
   "cell_type": "markdown",
   "source": [
    "## Submit"
   ],
   "metadata": {
    "collapsed": false
   }
  },
  {
   "cell_type": "code",
   "execution_count": 36,
   "metadata": {
    "ExecuteTime": {
     "end_time": "2024-01-27T06:25:03.354192Z",
     "start_time": "2024-01-27T06:25:03.315646Z"
    }
   },
   "outputs": [],
   "source": [
    "submit = submit.with_columns([pl.Series(cfg.Cols.sub_pred, pred_class)])\n",
    "utils.make_submission(submit, exp, cv_score)"
   ]
  },
  {
   "cell_type": "code",
   "outputs": [],
   "source": [],
   "metadata": {
    "collapsed": false,
    "ExecuteTime": {
     "end_time": "2024-01-27T05:34:32.592278Z",
     "start_time": "2024-01-27T05:34:32.580483Z"
    }
   },
   "execution_count": 17
  }
 ],
 "metadata": {
  "kernelspec": {
   "display_name": "kaggle",
   "language": "python",
   "name": "kaggle"
  },
  "language_info": {
   "codemirror_mode": {
    "name": "ipython",
    "version": 3
   },
   "file_extension": ".py",
   "mimetype": "text/x-python",
   "name": "python",
   "nbconvert_exporter": "python",
   "pygments_lexer": "ipython3",
   "version": "3.9.18"
  }
 },
 "nbformat": 4,
 "nbformat_minor": 4
}
